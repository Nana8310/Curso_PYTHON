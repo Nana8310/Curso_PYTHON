{
 "cells": [
  {
   "cell_type": "code",
   "execution_count": 9,
   "metadata": {},
   "outputs": [
    {
     "ename": "NameError",
     "evalue": "name 'Funciones' is not defined",
     "output_type": "error",
     "traceback": [
      "\u001b[1;31m---------------------------------------------------------------------------\u001b[0m",
      "\u001b[1;31mNameError\u001b[0m                                 Traceback (most recent call last)",
      "Cell \u001b[1;32mIn[9], line 1\u001b[0m\n\u001b[1;32m----> 1\u001b[0m Funciones\n",
      "\u001b[1;31mNameError\u001b[0m: name 'Funciones' is not defined"
     ]
    }
   ],
   "source": [
    "Funciones"
   ]
  },
  {
   "cell_type": "markdown",
   "metadata": {},
   "source": [
    "La función de Python es un bloque de código que realiza una tarea específica y bien \n",
    "definida. "
   ]
  },
  {
   "cell_type": "markdown",
   "metadata": {},
   "source": [
    "Las dos ventajas principales de las funciones son:\n",
    " (a) Nos ayudan a dividir nuestro programa en múltiples tareas. Para cada tarea \n",
    "podemos definir una función. Esto hace que el código sea modular.\n",
    " (b) Las funciones proporcionan un mecanismo de reutilización. La misma función se \n",
    "puede llamar cualquier número de veces"
   ]
  },
  {
   "cell_type": "markdown",
   "metadata": {},
   "source": [
    "Hay dos tipos de funciones de Python:\n",
    " (a) Funciones integradas - Ej. len( ), sorted( ), min( ), max( ), entre otros.\n",
    " (b) Funciones definidas por el usuario\n",
    " A continuación, se muestra un ejemplo de función definida por el usuario"
   ]
  },
  {
   "cell_type": "code",
   "execution_count": null,
   "metadata": {},
   "outputs": [],
   "source": [
    "# Definición, de una función \n",
    "def func():\n",
    "    print('Mis opiniones podrían cambiar')\n",
    "    print('Mis opiniones no cambian')\n"
   ]
  },
  {
   "cell_type": "code",
   "execution_count": null,
   "metadata": {},
   "outputs": [
    {
     "name": "stdout",
     "output_type": "stream",
     "text": [
      "Mis opiniones podrían cambiar\n",
      "Mis opiniones no cambian\n"
     ]
    }
   ],
   "source": [
    "func() #Primera llamada"
   ]
  },
  {
   "cell_type": "markdown",
   "metadata": {},
   "source": [
    "Convención de Python para nombres de funciones:\n",
    " • Utilice siempre caracteres en minúsculas\n",
    " • Conecte varias palabras usando ‘_’ Ejemplo: cal_si(), split_data(), etc.\n",
    " • Una función se puede redefinir. Al llamar a la función, se llamará a su última \n",
    "definición.\n",
    " • Las definiciones de funciones se pueden anidar. Cuando lo hacemos, la función \n",
    "interna puede acceder a las variables de la función "
   ]
  },
  {
   "cell_type": "code",
   "execution_count": null,
   "metadata": {},
   "outputs": [],
   "source": [
    "def fun1() :\n",
    "    print('Entre a la función 1')\n",
    "    def fun2(): # función anidada\n",
    "        print('Entre a las egunda función')\n",
    "    print('Sigo dentro de la función 1')\n",
    "    fun2()    "
   ]
  },
  {
   "cell_type": "code",
   "execution_count": null,
   "metadata": {},
   "outputs": [
    {
     "name": "stdout",
     "output_type": "stream",
     "text": [
      "Entre a la función 1\n",
      "Sigo dentro de la función 1\n",
      "Entre a las egunda función\n"
     ]
    }
   ],
   "source": [
    "fun1()"
   ]
  },
  {
   "cell_type": "markdown",
   "metadata": {},
   "source": [
    "fun2 se ejecuta siempre y cuando se ‘invoque’ "
   ]
  },
  {
   "cell_type": "code",
   "execution_count": 15,
   "metadata": {},
   "outputs": [],
   "source": [
    "def fun1() :\n",
    "    print('Entre a la función 1')\n",
    "    def fun2(): # función anidada\n",
    "        print('Entre a las egunda función')\n",
    "    print('Sigo dentro de la función 1')\n",
    "    #fun2()   "
   ]
  },
  {
   "cell_type": "code",
   "execution_count": 16,
   "metadata": {},
   "outputs": [
    {
     "name": "stdout",
     "output_type": "stream",
     "text": [
      "Entre a la función 1\n",
      "Sigo dentro de la función 1\n"
     ]
    }
   ],
   "source": [
    "fun1()"
   ]
  },
  {
   "cell_type": "code",
   "execution_count": 17,
   "metadata": {},
   "outputs": [
    {
     "name": "stdout",
     "output_type": "stream",
     "text": [
      "Entre a la función 1\n",
      "Sigo dentro de la función 1\n"
     ]
    },
    {
     "ename": "NameError",
     "evalue": "name 'fun2' is not defined",
     "output_type": "error",
     "traceback": [
      "\u001b[1;31m---------------------------------------------------------------------------\u001b[0m",
      "\u001b[1;31mNameError\u001b[0m                                 Traceback (most recent call last)",
      "Cell \u001b[1;32mIn[17], line 2\u001b[0m\n\u001b[0;32m      1\u001b[0m fun1()\n\u001b[1;32m----> 2\u001b[0m fun2()\n",
      "\u001b[1;31mNameError\u001b[0m: name 'fun2' is not defined"
     ]
    }
   ],
   "source": [
    "fun1()\n",
    "fun2() # No se puede invocar funciones 'interiores' desde aquí\n"
   ]
  },
  {
   "cell_type": "code",
   "execution_count": 18,
   "metadata": {},
   "outputs": [
    {
     "name": "stdout",
     "output_type": "stream",
     "text": [
      "<class 'function'>\n"
     ]
    }
   ],
   "source": [
    "print(type(fun1))"
   ]
  },
  {
   "cell_type": "markdown",
   "metadata": {},
   "source": [
    "Comunicación con Funciones:\n",
    " La comunicación con las funciones se realiza utilizando parámetros/argumentos que se le \n",
    "pasan y los valores que esta devuelve. La forma de pasar valores a una función y devolver el \n",
    "valor de ella se muestra a continuación"
   ]
  },
  {
   "cell_type": "code",
   "execution_count": 23,
   "metadata": {},
   "outputs": [
    {
     "name": "stdout",
     "output_type": "stream",
     "text": [
      "60\n"
     ]
    }
   ],
   "source": [
    "def calcular_suma(x, y, z):\n",
    "    return x + y + z\n",
    "# pasar 10, 20, 30 a calcular_suma(); luego recopilar el valor devuelto por él s1 = calcular_suma(10, 20, 30)\n",
    "s1 = calcular_suma(10, 20, 30)\n",
    "print(s1)"
   ]
  },
  {
   "cell_type": "code",
   "execution_count": 24,
   "metadata": {},
   "outputs": [
    {
     "name": "stdout",
     "output_type": "stream",
     "text": [
      "6\n"
     ]
    }
   ],
   "source": [
    "def calcular_suma(x, y, z):\n",
    "    return x + y + z\n",
    "# pasar a, b, c a calcular_suma(); recopilar el valor devuelto por él:\n",
    "a, b, c = 1, 2, 3\n",
    "s2 = calcular_suma(a, b, c)\n",
    "print(s2)"
   ]
  },
  {
   "cell_type": "markdown",
   "metadata": {},
   "source": [
    "No olvidar escribir return:"
   ]
  },
  {
   "cell_type": "code",
   "execution_count": 25,
   "metadata": {},
   "outputs": [
    {
     "name": "stdout",
     "output_type": "stream",
     "text": [
      "None\n"
     ]
    }
   ],
   "source": [
    "def calcular_suma(x, y, z):\n",
    "     x + y + z\n",
    "# pasar a, b, c a calcular_suma(); recopilar el valor devuelto por él:\n",
    "a, b, c = 1, 2, 3\n",
    "s2 = calcular_suma(a, b, c)\n",
    "print(s2)"
   ]
  },
  {
   "cell_type": "code",
   "execution_count": 26,
   "metadata": {},
   "outputs": [
    {
     "name": "stdout",
     "output_type": "stream",
     "text": [
      "None\n"
     ]
    },
    {
     "ename": "NameError",
     "evalue": "name 'w' is not defined",
     "output_type": "error",
     "traceback": [
      "\u001b[1;31m---------------------------------------------------------------------------\u001b[0m",
      "\u001b[1;31mNameError\u001b[0m                                 Traceback (most recent call last)",
      "Cell \u001b[1;32mIn[26], line 7\u001b[0m\n\u001b[0;32m      5\u001b[0m s2 \u001b[38;5;241m=\u001b[39m calcular_suma(a, b, c)\n\u001b[0;32m      6\u001b[0m \u001b[38;5;28mprint\u001b[39m(s2)\n\u001b[1;32m----> 7\u001b[0m \u001b[38;5;28mprint\u001b[39m(w)\n",
      "\u001b[1;31mNameError\u001b[0m: name 'w' is not defined"
     ]
    }
   ],
   "source": [
    "def calcular_suma(x, y, z):\n",
    "     x + y + z\n",
    "# pasar 10, 20, 30 a calcular_suma(); recopilar el valor devuelto por él:\n",
    "a, b, c = 1, 2, 3\n",
    "s2 = calcular_suma(a, b, c)\n",
    "print(s2)\n",
    "print(w)"
   ]
  },
  {
   "cell_type": "markdown",
   "metadata": {},
   "source": [
    "La declaración de retorno (return) devuelve el control y el valor de una función. \n",
    "Declarar return sin una expresión devuelve None"
   ]
  },
  {
   "cell_type": "code",
   "execution_count": 27,
   "metadata": {},
   "outputs": [
    {
     "name": "stdout",
     "output_type": "stream",
     "text": [
      "None\n"
     ]
    }
   ],
   "source": [
    "def calcular_suma(x, y, z):\n",
    "    w = x + y + z\n",
    "    return\n",
    "s3 = calcular_suma(10, 20, 30)\n",
    "print(s3)"
   ]
  },
  {
   "cell_type": "code",
   "execution_count": 28,
   "metadata": {},
   "outputs": [
    {
     "name": "stdout",
     "output_type": "stream",
     "text": [
      "60\n"
     ]
    }
   ],
   "source": [
    "def calcular_suma(x, y, z):\n",
    "    w = x + y + z\n",
    "    return w\n",
    "s3 = calcular_suma(10, 20, 30)\n",
    "print(s3)"
   ]
  },
  {
   "cell_type": "markdown",
   "metadata": {},
   "source": [
    "Para devolver múltiples valores de una función, podemos ponerlos en una \n",
    "lista/tupla/diccionario y luego devolverlo. "
   ]
  },
  {
   "cell_type": "code",
   "execution_count": 29,
   "metadata": {},
   "outputs": [
    {
     "name": "stdout",
     "output_type": "stream",
     "text": [
      "[1, 2, 3, 4, 5, 6, 7, 8, 9, 10]\n"
     ]
    }
   ],
   "source": [
    "def diez_numeros():\n",
    "    numeros = []\n",
    "    for i in range(1, 11):\n",
    "        numeros.append(i)\n",
    "    return numeros\n",
    "\n",
    "print(diez_numeros())    \n",
    "        "
   ]
  },
  {
   "cell_type": "markdown",
   "metadata": {},
   "source": [
    "Aquí hay otro ejemplo. Esta vez pasamos varios argumentos cuando llamamos a la \n",
    "función"
   ]
  },
  {
   "cell_type": "code",
   "execution_count": 30,
   "metadata": {},
   "outputs": [
    {
     "name": "stdout",
     "output_type": "stream",
     "text": [
      "[25, 30, 28, 40]\n"
     ]
    }
   ],
   "source": [
    "def millas_recorridas(sem_1, sem_2, sem_3, sem_4):\n",
    "    return [sem_1, sem_2, sem_3, sem_4]\n",
    "\n",
    "total_mensual = millas_recorridas(25, 30, 28, 40)\n",
    "print(total_mensual) "
   ]
  },
  {
   "cell_type": "markdown",
   "metadata": {},
   "source": [
    "Con tuplas:"
   ]
  },
  {
   "cell_type": "code",
   "execution_count": 31,
   "metadata": {},
   "outputs": [
    {
     "name": "stdout",
     "output_type": "stream",
     "text": [
      "('henry', 5)\n"
     ]
    }
   ],
   "source": [
    "def persona(nombre, edad):\n",
    "    return nombre, edad\n",
    "print(persona(\"henry\", 5))"
   ]
  },
  {
   "cell_type": "code",
   "execution_count": 32,
   "metadata": {},
   "outputs": [
    {
     "name": "stdout",
     "output_type": "stream",
     "text": [
      "('henry', 5)\n"
     ]
    }
   ],
   "source": [
    "def persona(nombre, edad):\n",
    "    return (nombre, edad)\n",
    "print(persona(\"henry\", 5))"
   ]
  },
  {
   "cell_type": "markdown",
   "metadata": {},
   "source": [
    "Con diccionarios:"
   ]
  },
  {
   "cell_type": "code",
   "execution_count": 33,
   "metadata": {},
   "outputs": [
    {
     "name": "stdout",
     "output_type": "stream",
     "text": [
      "{'Boston': 'Estados Unidos'}\n"
     ]
    }
   ],
   "source": [
    "def ciudad_pais(ciudad, pais) :\n",
    "    ubicacion = {}\n",
    "    ubicacion[ciudad] = pais\n",
    "    return ubicacion\n",
    "\n",
    "ubicacion_favorita = ciudad_pais(\"Boston\", \"Estados Unidos\")\n",
    "print(ubicacion_favorita)"
   ]
  },
  {
   "cell_type": "markdown",
   "metadata": {},
   "source": [
    "Tipos de Argumentos:\n",
    "(a) Argumentos posicionales\n",
    " (b) Argumentos por palabras clave (keyword)\n",
    " (c) Argumentos posicionales de longitud variable\n",
    " (d) Argumentos de palabras clave y longitud variable\n"
   ]
  },
  {
   "cell_type": "code",
   "execution_count": 10,
   "metadata": {},
   "outputs": [
    {
     "name": "stdout",
     "output_type": "stream",
     "text": [
      "13.14\n",
      "RIGMAROLE\n"
     ]
    }
   ],
   "source": [
    "def func(i, j, k):\n",
    "    print(i + j)\n",
    "    print(k.upper())\n",
    "    \n",
    "func(10, 3.14, 'Rigmarole')# Llamada correcta   \n",
    "        "
   ]
  },
  {
   "cell_type": "code",
   "execution_count": 11,
   "metadata": {},
   "outputs": [
    {
     "ename": "TypeError",
     "evalue": "can only concatenate str (not \"float\") to str",
     "output_type": "error",
     "traceback": [
      "\u001b[1;31m---------------------------------------------------------------------------\u001b[0m",
      "\u001b[1;31mTypeError\u001b[0m                                 Traceback (most recent call last)",
      "Cell \u001b[1;32mIn[11], line 5\u001b[0m\n\u001b[0;32m      2\u001b[0m     \u001b[38;5;28mprint\u001b[39m(i \u001b[38;5;241m+\u001b[39m j)\n\u001b[0;32m      3\u001b[0m     \u001b[38;5;28mprint\u001b[39m(k\u001b[38;5;241m.\u001b[39mupper())\n\u001b[1;32m----> 5\u001b[0m fun(\u001b[38;5;124m'\u001b[39m\u001b[38;5;124mRigmarole\u001b[39m\u001b[38;5;124m'\u001b[39m, \u001b[38;5;241m3.14\u001b[39m, \u001b[38;5;241m10\u001b[39m)\n",
      "Cell \u001b[1;32mIn[11], line 2\u001b[0m, in \u001b[0;36mfun\u001b[1;34m(i, j, k)\u001b[0m\n\u001b[0;32m      1\u001b[0m \u001b[38;5;28;01mdef\u001b[39;00m \u001b[38;5;21mfun\u001b[39m(i, j, k):\n\u001b[1;32m----> 2\u001b[0m     \u001b[38;5;28mprint\u001b[39m(i \u001b[38;5;241m+\u001b[39m j)\n\u001b[0;32m      3\u001b[0m     \u001b[38;5;28mprint\u001b[39m(k\u001b[38;5;241m.\u001b[39mupper())\n",
      "\u001b[1;31mTypeError\u001b[0m: can only concatenate str (not \"float\") to str"
     ]
    }
   ],
   "source": [
    "def fun(i, j, k):\n",
    "    print(i + j)\n",
    "    print(k.upper())\n",
    "\n",
    "fun('Rigmarole', 3.14, 10) # Orden Incorrectp    \n",
    "    "
   ]
  },
  {
   "cell_type": "markdown",
   "metadata": {},
   "source": [
    " Al pasar argumentos posicionales, el número de argumentos pasados debe \n",
    "coincidir con el número de argumentos recibidos"
   ]
  },
  {
   "cell_type": "code",
   "execution_count": 12,
   "metadata": {},
   "outputs": [
    {
     "ename": "TypeError",
     "evalue": "fun() missing 1 required positional argument: 'k'",
     "output_type": "error",
     "traceback": [
      "\u001b[1;31m---------------------------------------------------------------------------\u001b[0m",
      "\u001b[1;31mTypeError\u001b[0m                                 Traceback (most recent call last)",
      "Cell \u001b[1;32mIn[12], line 5\u001b[0m\n\u001b[0;32m      2\u001b[0m     \u001b[38;5;28mprint\u001b[39m(i \u001b[38;5;241m+\u001b[39m j)\n\u001b[0;32m      3\u001b[0m     \u001b[38;5;28mprint\u001b[39m(k\u001b[38;5;241m.\u001b[39mupper())\n\u001b[1;32m----> 5\u001b[0m fun(\u001b[38;5;241m3.14\u001b[39m, \u001b[38;5;241m10\u001b[39m)\n",
      "\u001b[1;31mTypeError\u001b[0m: fun() missing 1 required positional argument: 'k'"
     ]
    }
   ],
   "source": [
    "def fun(i, j, k):\n",
    "    print(i + j)\n",
    "    print(k.upper())\n",
    "    \n",
    "fun(3.14, 10) # falta un argumento    "
   ]
  },
  {
   "cell_type": "markdown",
   "metadata": {},
   "source": [
    "Los argumentos de palabras clave se pueden pasar fuera de orden. El intérprete de \n",
    "Python utiliza palabras clave (nombres de variables) para hacer coincidir los \n",
    "valores pasados con los argumentos utilizados en la definición de la función.\n"
   ]
  },
  {
   "cell_type": "code",
   "execution_count": null,
   "metadata": {},
   "outputs": [
    {
     "name": "stdout",
     "output_type": "stream",
     "text": [
      "10 3.14 Sicilian\n"
     ]
    }
   ],
   "source": [
    "def imprimelo(i, a, str):\n",
    "    print(i,a,str)\n",
    "imprimelo(a =3.14, i=10, str='Sicilian')  # keyword, ok"
   ]
  },
  {
   "cell_type": "code",
   "execution_count": 14,
   "metadata": {},
   "outputs": [
    {
     "name": "stdout",
     "output_type": "stream",
     "text": [
      "10 3.14 Sicilian\n"
     ]
    }
   ],
   "source": [
    "def imprimelo(i, a, str):\n",
    "    print(i,a,str)\n",
    "imprimelo(str='Sicilian', a =3.14, i=10, )  # keyword, ok"
   ]
  },
  {
   "cell_type": "code",
   "execution_count": 15,
   "metadata": {},
   "outputs": [
    {
     "ename": "TypeError",
     "evalue": "imprimelo() got an unexpected keyword argument 's'",
     "output_type": "error",
     "traceback": [
      "\u001b[1;31m---------------------------------------------------------------------------\u001b[0m",
      "\u001b[1;31mTypeError\u001b[0m                                 Traceback (most recent call last)",
      "Cell \u001b[1;32mIn[15], line 3\u001b[0m\n\u001b[0;32m      1\u001b[0m \u001b[38;5;28;01mdef\u001b[39;00m \u001b[38;5;21mimprimelo\u001b[39m(i , a , \u001b[38;5;28mstr\u001b[39m):\n\u001b[0;32m      2\u001b[0m     \u001b[38;5;28mprint\u001b[39m(i, a, \u001b[38;5;28mstr\u001b[39m)\n\u001b[1;32m----> 3\u001b[0m imprimelo(s\u001b[38;5;241m=\u001b[39m \u001b[38;5;124m'\u001b[39m\u001b[38;5;124mScilian\u001b[39m\u001b[38;5;124m'\u001b[39m, j\u001b[38;5;241m=\u001b[39m \u001b[38;5;241m10\u001b[39m, a\u001b[38;5;241m=\u001b[39m\u001b[38;5;241m3.14\u001b[39m)\n",
      "\u001b[1;31mTypeError\u001b[0m: imprimelo() got an unexpected keyword argument 's'"
     ]
    }
   ],
   "source": [
    "def imprimelo(i , a , str):\n",
    "    print(i, a, str)\n",
    "imprimelo(s= 'Scilian', j= 10, a=3.14) # error de keyword_name   "
   ]
  },
  {
   "cell_type": "markdown",
   "metadata": {},
   "source": [
    "Se informa un error en la última llamada porque los nombres de las variables en la \n",
    "llamada y la definición no coinciden"
   ]
  }
 ],
 "metadata": {
  "kernelspec": {
   "display_name": "Curso_Python",
   "language": "python",
   "name": "python3"
  },
  "language_info": {
   "codemirror_mode": {
    "name": "ipython",
    "version": 3
   },
   "file_extension": ".py",
   "mimetype": "text/x-python",
   "name": "python",
   "nbconvert_exporter": "python",
   "pygments_lexer": "ipython3",
   "version": "3.11.9"
  }
 },
 "nbformat": 4,
 "nbformat_minor": 2
}

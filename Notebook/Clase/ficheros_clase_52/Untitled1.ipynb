{
 "cells": [
  {
   "cell_type": "code",
   "execution_count": 3,
   "id": "ceabec39-329e-4302-aa67-ece720644b27",
   "metadata": {},
   "outputs": [],
   "source": [
    "f = open('poesia.txt','r')"
   ]
  },
  {
   "cell_type": "code",
   "execution_count": 2,
   "id": "f4bbe584-71aa-47ab-a1cf-ff179e47c3e7",
   "metadata": {},
   "outputs": [
    {
     "name": "stdout",
     "output_type": "stream",
     "text": [
      "Tu eres el huracan y yo la alta\n",
      "\n",
      "torre que desafia su poder:\n",
      "\n",
      "Â¡tenias que estrelarte o que abatirme!\n",
      "\n",
      "Â¡No podia ser!\n",
      "\n",
      "TÃº eras el oceano y yo la enhiesta\n",
      "\n",
      "roca que firme aguarda su vaiven:\n",
      "\n",
      "Â¡tenias que romperte o que arrancarme !\n",
      "\n",
      "Â¡No podia ser!\n",
      "\n",
      "Hermosa tu, yo altivo: acostumbrados\n",
      "\n",
      "uno a arrollar, el otro a no ceder:\n",
      "\n",
      "la senda estrecha, inevitable el choque...\n",
      "\n",
      "Â¡No podia ser! \n"
     ]
    }
   ],
   "source": [
    "for linea in f:\n",
    "    print(linea)"
   ]
  },
  {
   "cell_type": "code",
   "execution_count": 5,
   "id": "5afd549f-4933-446d-bd42-81f31ce38746",
   "metadata": {},
   "outputs": [
    {
     "data": {
      "text/plain": [
       "'Tu eres el huracan y yo la alta\\ntorre que desafia su poder:\\nÂ¡tenias que estrelarte o que abatirme!\\nÂ¡No podia ser!\\nTÃº eras el oceano y yo la enhiesta\\nroca que firme aguarda su vaiven:\\nÂ¡tenias que romperte o que arrancarme !\\nÂ¡No podia ser!\\nHermosa tu, yo altivo: acostumbrados\\nuno a arrollar, el otro a no ceder:\\nla senda estrecha, inevitable el choque...\\nÂ¡No podia ser! '"
      ]
     },
     "execution_count": 5,
     "metadata": {},
     "output_type": "execute_result"
    }
   ],
   "source": [
    "f = open('poesia.txt','r')\n",
    "f.read()"
   ]
  },
  {
   "cell_type": "code",
   "execution_count": 6,
   "id": "0ea8aa72-319b-483d-aea0-29b33fefe2ab",
   "metadata": {},
   "outputs": [
    {
     "data": {
      "text/plain": [
       "['Tu eres el huracan y yo la alta\\n',\n",
       " 'torre que desafia su poder:\\n',\n",
       " 'Â¡tenias que estrelarte o que abatirme!\\n',\n",
       " 'Â¡No podia ser!\\n',\n",
       " 'TÃº eras el oceano y yo la enhiesta\\n',\n",
       " 'roca que firme aguarda su vaiven:\\n',\n",
       " 'Â¡tenias que romperte o que arrancarme !\\n',\n",
       " 'Â¡No podia ser!\\n',\n",
       " 'Hermosa tu, yo altivo: acostumbrados\\n',\n",
       " 'uno a arrollar, el otro a no ceder:\\n',\n",
       " 'la senda estrecha, inevitable el choque...\\n',\n",
       " 'Â¡No podia ser! ']"
      ]
     },
     "execution_count": 6,
     "metadata": {},
     "output_type": "execute_result"
    }
   ],
   "source": [
    "f = open('poesia.txt','r')\n",
    "f.readlines()"
   ]
  },
  {
   "cell_type": "code",
   "execution_count": 8,
   "id": "05188561-5a7a-4c06-b5e7-c78ee1e1d2be",
   "metadata": {},
   "outputs": [
    {
     "data": {
      "text/plain": [
       "['Tu eres el huracan y yo la alta\\n',\n",
       " 'torre que desafia su poder:\\n',\n",
       " 'Â¡tenias que estrelarte o que abatirme!\\n',\n",
       " 'Â¡No podia ser!\\n',\n",
       " 'TÃº eras el oceano y yo la enhiesta\\n',\n",
       " 'roca que firme aguarda su vaiven:\\n',\n",
       " 'Â¡tenias que romperte o que arrancarme !\\n',\n",
       " 'Â¡No podia ser!\\n',\n",
       " 'Hermosa tu, yo altivo: acostumbrados\\n',\n",
       " 'uno a arrollar, el otro a no ceder:\\n',\n",
       " 'la senda estrecha, inevitable el choque...\\n',\n",
       " 'Â¡No podia ser! ']"
      ]
     },
     "execution_count": 8,
     "metadata": {},
     "output_type": "execute_result"
    }
   ],
   "source": [
    "f = open('poesia.txt','r')\n",
    "lineas = f.readlines()\n",
    "lineas"
   ]
  },
  {
   "cell_type": "code",
   "execution_count": 12,
   "id": "5cce2279-00b9-4910-bc46-147d42e4f6b5",
   "metadata": {},
   "outputs": [
    {
     "ename": "NameError",
     "evalue": "name 'linea' is not defined",
     "output_type": "error",
     "traceback": [
      "\u001b[1;31m---------------------------------------------------------------------------\u001b[0m",
      "\u001b[1;31mNameError\u001b[0m                                 Traceback (most recent call last)",
      "Cell \u001b[1;32mIn[12], line 1\u001b[0m\n\u001b[1;32m----> 1\u001b[0m linea[\u001b[38;5;241m0\u001b[39m]\u001b[38;5;241m.\u001b[39mrstrip()\n",
      "\u001b[1;31mNameError\u001b[0m: name 'linea' is not defined"
     ]
    }
   ],
   "source": [
    "linea[0].rstrip()"
   ]
  },
  {
   "cell_type": "code",
   "execution_count": null,
   "id": "e9d531c8-2818-4c87-b3d8-09de2cc828cf",
   "metadata": {},
   "outputs": [],
   "source": []
  },
  {
   "cell_type": "code",
   "execution_count": null,
   "id": "d8a5b25a-a153-49cf-bdf2-1f6bdeaff49e",
   "metadata": {},
   "outputs": [],
   "source": []
  },
  {
   "cell_type": "code",
   "execution_count": null,
   "id": "5face31f-4092-4099-a5a3-3ab69f169f18",
   "metadata": {},
   "outputs": [],
   "source": []
  }
 ],
 "metadata": {
  "kernelspec": {
   "display_name": "Python 3 (ipykernel)",
   "language": "python",
   "name": "python3"
  },
  "language_info": {
   "codemirror_mode": {
    "name": "ipython",
    "version": 3
   },
   "file_extension": ".py",
   "mimetype": "text/x-python",
   "name": "python",
   "nbconvert_exporter": "python",
   "pygments_lexer": "ipython3",
   "version": "3.11.9"
  }
 },
 "nbformat": 4,
 "nbformat_minor": 5
}

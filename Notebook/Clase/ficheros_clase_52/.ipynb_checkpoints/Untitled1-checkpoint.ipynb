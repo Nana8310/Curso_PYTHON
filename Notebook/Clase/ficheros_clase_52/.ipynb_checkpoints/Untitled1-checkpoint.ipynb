{
 "cells": [
  {
   "cell_type": "code",
   "execution_count": 1,
   "id": "15fafbb8-3c11-4444-b0fb-647e8c38cfba",
   "metadata": {},
   "outputs": [],
   "source": [
    "f = open('poesia.txt','r')"
   ]
  },
  {
   "cell_type": "code",
   "execution_count": 2,
   "id": "f4bbe584-71aa-47ab-a1cf-ff179e47c3e7",
   "metadata": {},
   "outputs": [
    {
     "name": "stdout",
     "output_type": "stream",
     "text": [
      "Tu eres el huracan y yo la alta\n",
      "\n",
      "torre que desafia su poder:\n",
      "\n",
      "Â¡tenias que estrelarte o que abatirme!\n",
      "\n",
      "Â¡No podia ser!\n",
      "\n",
      "TÃº eras el oceano y yo la enhiesta\n",
      "\n",
      "roca que firme aguarda su vaiven:\n",
      "\n",
      "Â¡tenias que romperte o que arrancarme !\n",
      "\n",
      "Â¡No podia ser!\n",
      "\n",
      "Hermosa tu, yo altivo: acostumbrados\n",
      "\n",
      "uno a arrollar, el otro a no ceder:\n",
      "\n",
      "la senda estrecha, inevitable el choque...\n",
      "\n",
      "Â¡No podia ser! \n"
     ]
    }
   ],
   "source": [
    "for linea in f:\n",
    "    print(linea)"
   ]
  }
 ],
 "metadata": {
  "kernelspec": {
   "display_name": "Python 3 (ipykernel)",
   "language": "python",
   "name": "python3"
  },
  "language_info": {
   "codemirror_mode": {
    "name": "ipython",
    "version": 3
   },
   "file_extension": ".py",
   "mimetype": "text/x-python",
   "name": "python",
   "nbconvert_exporter": "python",
   "pygments_lexer": "ipython3",
   "version": "3.11.9"
  }
 },
 "nbformat": 4,
 "nbformat_minor": 5
}

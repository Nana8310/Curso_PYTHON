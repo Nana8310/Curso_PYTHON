{
 "cells": [
  {
   "cell_type": "code",
   "execution_count": 3,
   "id": "ceabec39-329e-4302-aa67-ece720644b27",
   "metadata": {},
   "outputs": [],
   "source": [
    "f = open('poesia.txt','r')"
   ]
  },
  {
   "cell_type": "code",
   "execution_count": 2,
   "id": "f4bbe584-71aa-47ab-a1cf-ff179e47c3e7",
   "metadata": {},
   "outputs": [
    {
     "name": "stdout",
     "output_type": "stream",
     "text": [
      "Tu eres el huracan y yo la alta\n",
      "\n",
      "torre que desafia su poder:\n",
      "\n",
      "Â¡tenias que estrelarte o que abatirme!\n",
      "\n",
      "Â¡No podia ser!\n",
      "\n",
      "TÃº eras el oceano y yo la enhiesta\n",
      "\n",
      "roca que firme aguarda su vaiven:\n",
      "\n",
      "Â¡tenias que romperte o que arrancarme !\n",
      "\n",
      "Â¡No podia ser!\n",
      "\n",
      "Hermosa tu, yo altivo: acostumbrados\n",
      "\n",
      "uno a arrollar, el otro a no ceder:\n",
      "\n",
      "la senda estrecha, inevitable el choque...\n",
      "\n",
      "Â¡No podia ser! \n"
     ]
    }
   ],
   "source": [
    "for linea in f:\n",
    "    print(linea)"
   ]
  },
  {
   "cell_type": "code",
   "execution_count": 5,
   "id": "5afd549f-4933-446d-bd42-81f31ce38746",
   "metadata": {},
   "outputs": [
    {
     "data": {
      "text/plain": [
       "'Tu eres el huracan y yo la alta\\ntorre que desafia su poder:\\nÂ¡tenias que estrelarte o que abatirme!\\nÂ¡No podia ser!\\nTÃº eras el oceano y yo la enhiesta\\nroca que firme aguarda su vaiven:\\nÂ¡tenias que romperte o que arrancarme !\\nÂ¡No podia ser!\\nHermosa tu, yo altivo: acostumbrados\\nuno a arrollar, el otro a no ceder:\\nla senda estrecha, inevitable el choque...\\nÂ¡No podia ser! '"
      ]
     },
     "execution_count": 5,
     "metadata": {},
     "output_type": "execute_result"
    }
   ],
   "source": [
    "f = open('poesia.txt','r')\n",
    "f.read()"
   ]
  },
  {
   "cell_type": "code",
   "execution_count": 6,
   "id": "0ea8aa72-319b-483d-aea0-29b33fefe2ab",
   "metadata": {},
   "outputs": [
    {
     "data": {
      "text/plain": [
       "['Tu eres el huracan y yo la alta\\n',\n",
       " 'torre que desafia su poder:\\n',\n",
       " 'Â¡tenias que estrelarte o que abatirme!\\n',\n",
       " 'Â¡No podia ser!\\n',\n",
       " 'TÃº eras el oceano y yo la enhiesta\\n',\n",
       " 'roca que firme aguarda su vaiven:\\n',\n",
       " 'Â¡tenias que romperte o que arrancarme !\\n',\n",
       " 'Â¡No podia ser!\\n',\n",
       " 'Hermosa tu, yo altivo: acostumbrados\\n',\n",
       " 'uno a arrollar, el otro a no ceder:\\n',\n",
       " 'la senda estrecha, inevitable el choque...\\n',\n",
       " 'Â¡No podia ser! ']"
      ]
     },
     "execution_count": 6,
     "metadata": {},
     "output_type": "execute_result"
    }
   ],
   "source": [
    "f = open('poesia.txt','r')\n",
    "f.readlines()"
   ]
  },
  {
   "cell_type": "code",
   "execution_count": 8,
   "id": "05188561-5a7a-4c06-b5e7-c78ee1e1d2be",
   "metadata": {},
   "outputs": [
    {
     "data": {
      "text/plain": [
       "['Tu eres el huracan y yo la alta\\n',\n",
       " 'torre que desafia su poder:\\n',\n",
       " 'Â¡tenias que estrelarte o que abatirme!\\n',\n",
       " 'Â¡No podia ser!\\n',\n",
       " 'TÃº eras el oceano y yo la enhiesta\\n',\n",
       " 'roca que firme aguarda su vaiven:\\n',\n",
       " 'Â¡tenias que romperte o que arrancarme !\\n',\n",
       " 'Â¡No podia ser!\\n',\n",
       " 'Hermosa tu, yo altivo: acostumbrados\\n',\n",
       " 'uno a arrollar, el otro a no ceder:\\n',\n",
       " 'la senda estrecha, inevitable el choque...\\n',\n",
       " 'Â¡No podia ser! ']"
      ]
     },
     "execution_count": 8,
     "metadata": {},
     "output_type": "execute_result"
    }
   ],
   "source": [
    "f = open('poesia.txt','r')\n",
    "lineas = f.readlines()\n",
    "lineas"
   ]
  },
  {
   "cell_type": "code",
   "execution_count": 14,
   "id": "ee75d739-d64c-477f-a510-cdece8cf2e19",
   "metadata": {},
   "outputs": [
    {
     "data": {
      "text/plain": [
       "'Tu eres el huracan y yo la alta'"
      ]
     },
     "execution_count": 14,
     "metadata": {},
     "output_type": "execute_result"
    }
   ],
   "source": [
    "lineas[0].rstrip()"
   ]
  },
  {
   "cell_type": "code",
   "execution_count": 1,
   "id": "1297f52e-0524-4321-a27d-f5719c9ef550",
   "metadata": {},
   "outputs": [],
   "source": [
    "f = open('texto.txt','r')"
   ]
  },
  {
   "cell_type": "code",
   "execution_count": 4,
   "id": "ea1a97de-743e-4bbb-9a65-ecb2fe748165",
   "metadata": {},
   "outputs": [
    {
     "data": {
      "text/plain": [
       "'Lorem ipsum dolor sit amet, consectetur adipiscing elit, sed do eiusmod tempor incididunt ut labore et dolore magna aliqua. Ut enim ad minim veniam, quis nostrud exercitation ullamco laboris nisi ut aliquip ex ea commodo consequat. Duis aute irure dolor in reprehenderit in voluptate velit esse cillum dolore eu fugiat nulla pariatur. Excepteur sint occaecat cupidatat non proident, sunt in culpa qui officia deserunt mollit anim id est laborum.'"
      ]
     },
     "execution_count": 4,
     "metadata": {},
     "output_type": "execute_result"
    }
   ],
   "source": [
    "f = open('texto.txt','r')\n",
    "f.read()\n"
   ]
  },
  {
   "cell_type": "code",
   "execution_count": 6,
   "id": "5f35c341-882a-4007-aaca-7fe808cfffc2",
   "metadata": {},
   "outputs": [],
   "source": [
    "f.close()"
   ]
  },
  {
   "cell_type": "code",
   "execution_count": 9,
   "id": "5face31f-4092-4099-a5a3-3ab69f169f18",
   "metadata": {},
   "outputs": [],
   "source": [
    "h = open('texto.txt', 'w')"
   ]
  },
  {
   "cell_type": "markdown",
   "id": "4940efec",
   "metadata": {},
   "source": [
    "h = open('texto.txt', 'r')\n",
    "h.read()"
   ]
  },
  {
   "cell_type": "markdown",
   "id": "582d9358",
   "metadata": {},
   "source": [
    "Para no borrar se hace lo siguiente:"
   ]
  },
  {
   "cell_type": "code",
   "execution_count": 15,
   "id": "81ca2b8f",
   "metadata": {},
   "outputs": [],
   "source": [
    "f = open('poesia.txt','r')\n",
    "lineas = f.readlines()\n",
    "nuevo_fichero = open('nuevo.txt','w')\n",
    "for i, linea in enumerate(lineas):\n",
    "    if i % 2 == 0:\n",
    "        nuevo_fichero.write(str(i) + ' ' + linea)\n",
    "    else:\n",
    "            pass"
   ]
  },
  {
   "cell_type": "code",
   "execution_count": 16,
   "id": "4959b76d",
   "metadata": {},
   "outputs": [],
   "source": [
    "nuevo_fichero.close()"
   ]
  },
  {
   "cell_type": "code",
   "execution_count": 17,
   "id": "bb1a4bc9",
   "metadata": {},
   "outputs": [
    {
     "data": {
      "text/plain": [
       "['0 Tu eres el huracan y yo la alta\\n',\n",
       " '2 Â¡tenias que estrelarte o que abatirme!\\n',\n",
       " '4 TÃº eras el oceano y yo la enhiesta\\n',\n",
       " '6 Â¡tenias que romperte o que arrancarme !\\n',\n",
       " '8 Hermosa tu, yo altivo: acostumbrados\\n',\n",
       " '10 la senda estrecha, inevitable el choque...\\n']"
      ]
     },
     "execution_count": 17,
     "metadata": {},
     "output_type": "execute_result"
    }
   ],
   "source": [
    "open('nuevo.txt').readlines()"
   ]
  },
  {
   "cell_type": "markdown",
   "id": "b8bb3f8d",
   "metadata": {},
   "source": [
    "Apertura en modo escritura posicionándose al final del mismo ‘a’ .\n",
    " Este modo de apertura se diferencia del anterior en que, si el fichero no está vacío, entonces el nuevo se \n",
    "almacena al final del fichero conservando el contenido previo. Para abrir un fichero en este modo, se \n",
    "ejecuta la función open() usando como segundo argumento el valor a. En caso de no existir el fichero, \n",
    "se crea uno nuevo. "
   ]
  },
  {
   "cell_type": "markdown",
   "id": "c5bf2bcf",
   "metadata": {},
   "source": [
    "open('nuevo.txt','a').write('\\nEste es el final')"
   ]
  },
  {
   "cell_type": "code",
   "execution_count": 19,
   "id": "5dad98f0",
   "metadata": {},
   "outputs": [
    {
     "data": {
      "text/plain": [
       "['0 Tu eres el huracan y yo la alta\\n',\n",
       " '2 Â¡tenias que estrelarte o que abatirme!\\n',\n",
       " '4 TÃº eras el oceano y yo la enhiesta\\n',\n",
       " '6 Â¡tenias que romperte o que arrancarme !\\n',\n",
       " '8 Hermosa tu, yo altivo: acostumbrados\\n',\n",
       " '10 la senda estrecha, inevitable el choque...\\n',\n",
       " '\\n',\n",
       " 'Este es el final']"
      ]
     },
     "execution_count": 19,
     "metadata": {},
     "output_type": "execute_result"
    }
   ],
   "source": [
    "open('nuevo.txt').readlines()"
   ]
  },
  {
   "cell_type": "markdown",
   "id": "b37644e1",
   "metadata": {},
   "source": [
    "Escribir (write). Para la escritura de ficheros de texto se utilizan los métodos write() y writelines()."
   ]
  },
  {
   "cell_type": "markdown",
   "id": "ed1b3b78",
   "metadata": {},
   "source": [
    "Vamos a crear un fichero con los veinte primeros números enteros en una única línea"
   ]
  },
  {
   "cell_type": "code",
   "execution_count": 29,
   "id": "6265e5e5",
   "metadata": {},
   "outputs": [],
   "source": [
    "num_par = open('pares.txt', 'w', encoding='utf-8')\n",
    "# números pares de los veinte primeros enteros\n",
    "for i in [j for j in range(20) if j % 2 == 0]:\n",
    "    num_par.write(str(i) + ' ') # número seguido de espacio\n",
    "num_par.close()"
   ]
  },
  {
   "cell_type": "code",
   "execution_count": 30,
   "id": "507e25ed",
   "metadata": {},
   "outputs": [
    {
     "data": {
      "text/plain": [
       "'0 2 4 6 8 10 12 14 16 18 '"
      ]
     },
     "execution_count": 30,
     "metadata": {},
     "output_type": "execute_result"
    }
   ],
   "source": [
    "open('pares.txt').read()"
   ]
  },
  {
   "cell_type": "markdown",
   "id": "59dc7fd8",
   "metadata": {},
   "source": [
    "En el ejemplo anterior hacemos uso del método write(). Ahora vamos a emplear el método \n",
    "writelines(), pasando una lista, escribiendo cada elemento en una línea, para lo que hemos añadido un \n",
    "carácter de nueva línea tras cada número"
   ]
  },
  {
   "cell_type": "code",
   "execution_count": 35,
   "id": "21896c9c",
   "metadata": {
    "scrolled": true
   },
   "outputs": [],
   "source": [
    "with open('pares1.txt','w', encoding='utf-8') as n_pares:\n",
    "    n_pares.writelines([str(i) + '\\n' for i in range(20) if i % 2 == 0])\n",
    "    "
   ]
  },
  {
   "cell_type": "code",
   "execution_count": 38,
   "id": "42788b48",
   "metadata": {},
   "outputs": [
    {
     "data": {
      "text/plain": [
       "'0\\n2\\n4\\n6\\n8\\n10\\n12\\n14\\n16\\n18\\n'"
      ]
     },
     "execution_count": 38,
     "metadata": {},
     "output_type": "execute_result"
    }
   ],
   "source": [
    "open('pares1.txt').read()"
   ]
  },
  {
   "cell_type": "markdown",
   "id": "6fc2b347",
   "metadata": {},
   "source": [
    "(read)\n",
    " Una vez creado un fichero parece lógico que queramos leerlo, y lo primero que debemos hacer es abrir el \n",
    "fichero en modo lectura. Para la lectura de ficheros se utilizan los métodos read(), readline() y readlines()"
   ]
  },
  {
   "cell_type": "code",
   "execution_count": 40,
   "id": "361fcd58",
   "metadata": {},
   "outputs": [
    {
     "name": "stdout",
     "output_type": "stream",
     "text": [
      "0 2 4 6 8 \n",
      "10 12 14 1\n",
      "6 18 \n"
     ]
    }
   ],
   "source": [
    "with open('pares.txt','r', encoding = 'utf-8') as fobj:\n",
    "    cadena = fobj.read(10)\n",
    "    while cadena:\n",
    "        print(cadena.replace('\\n',' '))\n",
    "        cadena = fobj.read(10)"
   ]
  },
  {
   "cell_type": "markdown",
   "id": "4feefa29",
   "metadata": {},
   "source": [
    "Encoding"
   ]
  },
  {
   "cell_type": "code",
   "execution_count": 44,
   "id": "edac2d9f",
   "metadata": {},
   "outputs": [
    {
     "ename": "UnicodeDecodeError",
     "evalue": "'charmap' codec can't decode byte 0x81 in position 5: character maps to <undefined>",
     "output_type": "error",
     "traceback": [
      "\u001b[1;31m---------------------------------------------------------------------------\u001b[0m",
      "\u001b[1;31mUnicodeDecodeError\u001b[0m                        Traceback (most recent call last)",
      "Cell \u001b[1;32mIn[44], line 2\u001b[0m\n\u001b[0;32m      1\u001b[0m \u001b[38;5;28;01mwith\u001b[39;00m \u001b[38;5;28mopen\u001b[39m(\u001b[38;5;124m'\u001b[39m\u001b[38;5;124mnew.txt\u001b[39m\u001b[38;5;124m'\u001b[39m) \u001b[38;5;28;01mas\u001b[39;00m f:\n\u001b[1;32m----> 2\u001b[0m     linea \u001b[38;5;241m=\u001b[39m f\u001b[38;5;241m.\u001b[39mreadline()\n\u001b[0;32m      3\u001b[0m     \u001b[38;5;28;01mwhile\u001b[39;00m linea:\n\u001b[0;32m      4\u001b[0m         \u001b[38;5;28mprint\u001b[39m(linea)\n",
      "File \u001b[1;32m~\\anaconda3\\Lib\\encodings\\cp1252.py:23\u001b[0m, in \u001b[0;36mIncrementalDecoder.decode\u001b[1;34m(self, input, final)\u001b[0m\n\u001b[0;32m     22\u001b[0m \u001b[38;5;28;01mdef\u001b[39;00m \u001b[38;5;21mdecode\u001b[39m(\u001b[38;5;28mself\u001b[39m, \u001b[38;5;28minput\u001b[39m, final\u001b[38;5;241m=\u001b[39m\u001b[38;5;28;01mFalse\u001b[39;00m):\n\u001b[1;32m---> 23\u001b[0m     \u001b[38;5;28;01mreturn\u001b[39;00m codecs\u001b[38;5;241m.\u001b[39mcharmap_decode(\u001b[38;5;28minput\u001b[39m,\u001b[38;5;28mself\u001b[39m\u001b[38;5;241m.\u001b[39merrors,decoding_table)[\u001b[38;5;241m0\u001b[39m]\n",
      "\u001b[1;31mUnicodeDecodeError\u001b[0m: 'charmap' codec can't decode byte 0x81 in position 5: character maps to <undefined>"
     ]
    }
   ],
   "source": [
    "with open('new.txt') as f:\n",
    "    linea = f.readline()\n",
    "    while linea:\n",
    "        print(linea)\n",
    "        linea = f.readline()\n",
    "\n",
    "\n",
    "  "
   ]
  },
  {
   "cell_type": "code",
   "execution_count": 45,
   "id": "30310137",
   "metadata": {},
   "outputs": [
    {
     "name": "stdout",
     "output_type": "stream",
     "text": [
      " ñ Á É Ó Í Ú á é í ó ú\n",
      "\n",
      " I j k % $ & ^```+´´¨´\n",
      "\n",
      "abdefgtojkññññññññññññ\n"
     ]
    }
   ],
   "source": [
    "with open('new.txt', encoding = 'utf-8') as f:\n",
    "    linea = f.readline()\n",
    "    while linea:\n",
    "        print(linea)\n",
    "        linea = f.readline()"
   ]
  },
  {
   "cell_type": "code",
   "execution_count": 49,
   "id": "d9e1a49a",
   "metadata": {},
   "outputs": [],
   "source": [
    "with open('fichero.txt') as origen:\n",
    "    with open('copia.txt','w') as destino:\n",
    "        linea = origen.readline()\n",
    "        while linea:\n",
    "              destino.write(linea)\n",
    "              linea = origen.readline()"
   ]
  },
  {
   "cell_type": "markdown",
   "id": "7c3faa58",
   "metadata": {},
   "source": [
    "CSV:El formato CSV requiere que cada elemento de nuestro conjunto se presente en una línea. Dentro de esa \n",
    "línea, cada uno de los atributos del elemento debe estar separado por un único separador, que \n",
    "habitualmente es una coma, y seguir siempre el mismo orden. Además, la primera línea del fichero, a la que \n",
    "llamaremos cabecera, no contiene datos de ningún elemento, sino información de los atributos. Por ejemplo, \n",
    "un profesor de instituto podría guardar las notas de sus alumnos en formato CSV como sigue"
   ]
  },
  {
   "cell_type": "code",
   "execution_count": null,
   "id": "aa40b91a",
   "metadata": {},
   "outputs": [],
   "source": []
  },
  {
   "cell_type": "code",
   "execution_count": null,
   "id": "1b681c5c",
   "metadata": {},
   "outputs": [],
   "source": []
  }
 ],
 "metadata": {
  "kernelspec": {
   "display_name": "Python 3 (ipykernel)",
   "language": "python",
   "name": "python3"
  },
  "language_info": {
   "codemirror_mode": {
    "name": "ipython",
    "version": 3
   },
   "file_extension": ".py",
   "mimetype": "text/x-python",
   "name": "python",
   "nbconvert_exporter": "python",
   "pygments_lexer": "ipython3",
   "version": "3.11.7"
  }
 },
 "nbformat": 4,
 "nbformat_minor": 5
}

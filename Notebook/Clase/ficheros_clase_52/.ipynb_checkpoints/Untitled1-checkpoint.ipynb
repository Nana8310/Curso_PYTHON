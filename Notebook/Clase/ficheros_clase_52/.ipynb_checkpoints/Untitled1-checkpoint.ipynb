{
 "cells": [
  {
   "cell_type": "code",
   "execution_count": 3,
   "id": "ceabec39-329e-4302-aa67-ece720644b27",
   "metadata": {},
   "outputs": [],
   "source": [
    "f = open('poesia.txt','r')"
   ]
  },
  {
   "cell_type": "code",
   "execution_count": 2,
   "id": "f4bbe584-71aa-47ab-a1cf-ff179e47c3e7",
   "metadata": {},
   "outputs": [
    {
     "name": "stdout",
     "output_type": "stream",
     "text": [
      "Tu eres el huracan y yo la alta\n",
      "\n",
      "torre que desafia su poder:\n",
      "\n",
      "Â¡tenias que estrelarte o que abatirme!\n",
      "\n",
      "Â¡No podia ser!\n",
      "\n",
      "TÃº eras el oceano y yo la enhiesta\n",
      "\n",
      "roca que firme aguarda su vaiven:\n",
      "\n",
      "Â¡tenias que romperte o que arrancarme !\n",
      "\n",
      "Â¡No podia ser!\n",
      "\n",
      "Hermosa tu, yo altivo: acostumbrados\n",
      "\n",
      "uno a arrollar, el otro a no ceder:\n",
      "\n",
      "la senda estrecha, inevitable el choque...\n",
      "\n",
      "Â¡No podia ser! \n"
     ]
    }
   ],
   "source": [
    "for linea in f:\n",
    "    print(linea)"
   ]
  },
  {
   "cell_type": "code",
   "execution_count": 5,
   "id": "5afd549f-4933-446d-bd42-81f31ce38746",
   "metadata": {},
   "outputs": [
    {
     "data": {
      "text/plain": [
       "'Tu eres el huracan y yo la alta\\ntorre que desafia su poder:\\nÂ¡tenias que estrelarte o que abatirme!\\nÂ¡No podia ser!\\nTÃº eras el oceano y yo la enhiesta\\nroca que firme aguarda su vaiven:\\nÂ¡tenias que romperte o que arrancarme !\\nÂ¡No podia ser!\\nHermosa tu, yo altivo: acostumbrados\\nuno a arrollar, el otro a no ceder:\\nla senda estrecha, inevitable el choque...\\nÂ¡No podia ser! '"
      ]
     },
     "execution_count": 5,
     "metadata": {},
     "output_type": "execute_result"
    }
   ],
   "source": [
    "f = open('poesia.txt','r')\n",
    "f.read()"
   ]
  },
  {
   "cell_type": "code",
   "execution_count": 6,
   "id": "0ea8aa72-319b-483d-aea0-29b33fefe2ab",
   "metadata": {},
   "outputs": [
    {
     "data": {
      "text/plain": [
       "['Tu eres el huracan y yo la alta\\n',\n",
       " 'torre que desafia su poder:\\n',\n",
       " 'Â¡tenias que estrelarte o que abatirme!\\n',\n",
       " 'Â¡No podia ser!\\n',\n",
       " 'TÃº eras el oceano y yo la enhiesta\\n',\n",
       " 'roca que firme aguarda su vaiven:\\n',\n",
       " 'Â¡tenias que romperte o que arrancarme !\\n',\n",
       " 'Â¡No podia ser!\\n',\n",
       " 'Hermosa tu, yo altivo: acostumbrados\\n',\n",
       " 'uno a arrollar, el otro a no ceder:\\n',\n",
       " 'la senda estrecha, inevitable el choque...\\n',\n",
       " 'Â¡No podia ser! ']"
      ]
     },
     "execution_count": 6,
     "metadata": {},
     "output_type": "execute_result"
    }
   ],
   "source": [
    "f = open('poesia.txt','r')\n",
    "f.readlines()"
   ]
  },
  {
   "cell_type": "code",
   "execution_count": 8,
   "id": "05188561-5a7a-4c06-b5e7-c78ee1e1d2be",
   "metadata": {},
   "outputs": [
    {
     "data": {
      "text/plain": [
       "['Tu eres el huracan y yo la alta\\n',\n",
       " 'torre que desafia su poder:\\n',\n",
       " 'Â¡tenias que estrelarte o que abatirme!\\n',\n",
       " 'Â¡No podia ser!\\n',\n",
       " 'TÃº eras el oceano y yo la enhiesta\\n',\n",
       " 'roca que firme aguarda su vaiven:\\n',\n",
       " 'Â¡tenias que romperte o que arrancarme !\\n',\n",
       " 'Â¡No podia ser!\\n',\n",
       " 'Hermosa tu, yo altivo: acostumbrados\\n',\n",
       " 'uno a arrollar, el otro a no ceder:\\n',\n",
       " 'la senda estrecha, inevitable el choque...\\n',\n",
       " 'Â¡No podia ser! ']"
      ]
     },
     "execution_count": 8,
     "metadata": {},
     "output_type": "execute_result"
    }
   ],
   "source": [
    "f = open('poesia.txt','r')\n",
    "lineas = f.readlines()\n",
    "lineas"
   ]
  },
  {
   "cell_type": "code",
   "execution_count": 14,
   "id": "ee75d739-d64c-477f-a510-cdece8cf2e19",
   "metadata": {},
   "outputs": [
    {
     "data": {
      "text/plain": [
       "'Tu eres el huracan y yo la alta'"
      ]
     },
     "execution_count": 14,
     "metadata": {},
     "output_type": "execute_result"
    }
   ],
   "source": [
    "lineas[0].rstrip()"
   ]
  },
  {
   "cell_type": "code",
   "execution_count": 1,
   "id": "1297f52e-0524-4321-a27d-f5719c9ef550",
   "metadata": {},
   "outputs": [],
   "source": [
    "f = open('texto.txt','r')"
   ]
  },
  {
   "cell_type": "code",
   "execution_count": 2,
   "id": "ea1a97de-743e-4bbb-9a65-ecb2fe748165",
   "metadata": {},
   "outputs": [
    {
     "data": {
      "text/plain": [
       "'Lorem ipsum dolor sit amet, consectetur adipiscing elit, sed do eiusmod tempor incididunt ut labore et dolore magna aliqua. Ut enim ad minim veniam, quis nostrud exercitation ullamco laboris nisi ut aliquip ex ea commodo consequat. Duis aute irure dolor in reprehenderit in voluptate velit esse cillum dolore eu fugiat nulla pariatur. Excepteur sint occaecat cupidatat non proident, sunt in culpa qui officia deserunt mollit anim id est laborum.'"
      ]
     },
     "execution_count": 2,
     "metadata": {},
     "output_type": "execute_result"
    }
   ],
   "source": [
    "f = open('texto.txt','r')\n",
    "f.read()"
   ]
  },
  {
   "cell_type": "code",
   "execution_count": null,
   "id": "5f35c341-882a-4007-aaca-7fe808cfffc2",
   "metadata": {},
   "outputs": [],
   "source": []
  },
  {
   "cell_type": "code",
   "execution_count": null,
   "id": "5face31f-4092-4099-a5a3-3ab69f169f18",
   "metadata": {},
   "outputs": [],
   "source": []
  }
 ],
 "metadata": {
  "kernelspec": {
   "display_name": "Python 3 (ipykernel)",
   "language": "python",
   "name": "python3"
  },
  "language_info": {
   "codemirror_mode": {
    "name": "ipython",
    "version": 3
   },
   "file_extension": ".py",
   "mimetype": "text/x-python",
   "name": "python",
   "nbconvert_exporter": "python",
   "pygments_lexer": "ipython3",
   "version": "3.11.9"
  }
 },
 "nbformat": 4,
 "nbformat_minor": 5
}

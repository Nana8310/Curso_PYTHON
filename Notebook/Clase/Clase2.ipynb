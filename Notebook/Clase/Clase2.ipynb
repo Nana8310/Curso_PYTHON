{
 "cells": [
  {
   "cell_type": "markdown",
   "id": "e3819816",
   "metadata": {},
   "source": [
    "Conocer el tipo de una variable"
   ]
  },
  {
   "cell_type": "code",
   "execution_count": 1,
   "id": "8521166e",
   "metadata": {},
   "outputs": [
    {
     "data": {
      "text/plain": [
       "int"
      ]
     },
     "execution_count": 1,
     "metadata": {},
     "output_type": "execute_result"
    }
   ],
   "source": [
    "type(9)"
   ]
  },
  {
   "cell_type": "code",
   "execution_count": 2,
   "id": "e67e9311",
   "metadata": {},
   "outputs": [
    {
     "data": {
      "text/plain": [
       "float"
      ]
     },
     "execution_count": 2,
     "metadata": {},
     "output_type": "execute_result"
    }
   ],
   "source": [
    "type(1.2)"
   ]
  },
  {
   "cell_type": "code",
   "execution_count": 3,
   "id": "6529069e",
   "metadata": {},
   "outputs": [],
   "source": [
    "height = 3718"
   ]
  },
  {
   "cell_type": "code",
   "execution_count": 4,
   "id": "3b2382bd",
   "metadata": {},
   "outputs": [
    {
     "data": {
      "text/plain": [
       "int"
      ]
     },
     "execution_count": 4,
     "metadata": {},
     "output_type": "execute_result"
    }
   ],
   "source": [
    "type(height) "
   ]
  },
  {
   "cell_type": "code",
   "execution_count": 5,
   "id": "73febd33",
   "metadata": {},
   "outputs": [],
   "source": [
    "sound_speed = 343.2"
   ]
  },
  {
   "cell_type": "code",
   "execution_count": 6,
   "id": "52463ef6",
   "metadata": {},
   "outputs": [
    {
     "data": {
      "text/plain": [
       "float"
      ]
     },
     "execution_count": 6,
     "metadata": {},
     "output_type": "execute_result"
    }
   ],
   "source": [
    "type(sound_speed)"
   ]
  },
  {
   "cell_type": "markdown",
   "id": "646b2de4",
   "metadata": {},
   "source": [
    "ACTIVIDAD PAG 63"
   ]
  },
  {
   "cell_type": "code",
   "execution_count": 8,
   "id": "530a1590",
   "metadata": {},
   "outputs": [],
   "source": [
    "space_odyssey = 2001\n"
   ]
  },
  {
   "cell_type": "code",
   "execution_count": 9,
   "id": "87da52c9",
   "metadata": {},
   "outputs": [
    {
     "data": {
      "text/plain": [
       "int"
      ]
     },
     "execution_count": 9,
     "metadata": {},
     "output_type": "execute_result"
    }
   ],
   "source": [
    "type(space_odyssey)"
   ]
  },
  {
   "cell_type": "code",
   "execution_count": 10,
   "id": "bb45e593",
   "metadata": {},
   "outputs": [
    {
     "data": {
      "text/plain": [
       "str"
      ]
     },
     "execution_count": 10,
     "metadata": {},
     "output_type": "execute_result"
    }
   ],
   "source": [
    "type('Good night & Good luck')"
   ]
  },
  {
   "cell_type": "code",
   "execution_count": 11,
   "id": "14a4842d",
   "metadata": {},
   "outputs": [
    {
     "data": {
      "text/plain": [
       "bool"
      ]
     },
     "execution_count": 11,
     "metadata": {},
     "output_type": "execute_result"
    }
   ],
   "source": [
    "type(True)"
   ]
  },
  {
   "cell_type": "code",
   "execution_count": 12,
   "id": "879f28fe",
   "metadata": {},
   "outputs": [
    {
     "data": {
      "text/plain": [
       "float"
      ]
     },
     "execution_count": 12,
     "metadata": {},
     "output_type": "execute_result"
    }
   ],
   "source": [
    "type(10*3.0)"
   ]
  },
  {
   "cell_type": "code",
   "execution_count": 15,
   "id": "06312aae",
   "metadata": {},
   "outputs": [
    {
     "name": "stdout",
     "output_type": "stream",
     "text": [
      "El area del circulo con diametro = 25 es igual a 19.63\n"
     ]
    }
   ],
   "source": [
    "import math as mt\n",
    "# calculando el area de un circulo\n",
    "diametro = 25\n",
    "area = mt.pi*diametro/2**2\n",
    "print(\"El area del circulo con diametro = {} es igual a {:.2f}\".format(diametro,area))"
   ]
  },
  {
   "cell_type": "markdown",
   "id": "406248d9",
   "metadata": {},
   "source": [
    "Operando con una variable númerica"
   ]
  },
  {
   "cell_type": "code",
   "execution_count": 16,
   "id": "c8830a24",
   "metadata": {},
   "outputs": [
    {
     "data": {
      "text/plain": [
       "4"
      ]
     },
     "execution_count": 16,
     "metadata": {},
     "output_type": "execute_result"
    }
   ],
   "source": [
    "x = 3\n",
    "x + 1\n"
   ]
  },
  {
   "cell_type": "code",
   "execution_count": 17,
   "id": "3a366024",
   "metadata": {},
   "outputs": [
    {
     "data": {
      "text/plain": [
       "4"
      ]
     },
     "execution_count": 17,
     "metadata": {},
     "output_type": "execute_result"
    }
   ],
   "source": [
    "y = x + 1\n",
    "y"
   ]
  },
  {
   "cell_type": "code",
   "execution_count": 18,
   "id": "e4af5068",
   "metadata": {},
   "outputs": [
    {
     "data": {
      "text/plain": [
       "4"
      ]
     },
     "execution_count": 18,
     "metadata": {},
     "output_type": "execute_result"
    }
   ],
   "source": [
    "x = x + 1\n",
    "x"
   ]
  },
  {
   "cell_type": "code",
   "execution_count": 19,
   "id": "dfb25937",
   "metadata": {},
   "outputs": [
    {
     "data": {
      "text/plain": [
       "7"
      ]
     },
     "execution_count": 19,
     "metadata": {},
     "output_type": "execute_result"
    }
   ],
   "source": [
    "x = 7\n",
    "x"
   ]
  },
  {
   "cell_type": "code",
   "execution_count": 20,
   "id": "059b4692",
   "metadata": {},
   "outputs": [
    {
     "data": {
      "text/plain": [
       "9"
      ]
     },
     "execution_count": 20,
     "metadata": {},
     "output_type": "execute_result"
    }
   ],
   "source": [
    "x += 2\n",
    "x"
   ]
  },
  {
   "cell_type": "code",
   "execution_count": 22,
   "id": "d24bcbf1",
   "metadata": {},
   "outputs": [
    {
     "data": {
      "text/plain": [
       "'Hola'"
      ]
     },
     "execution_count": 22,
     "metadata": {},
     "output_type": "execute_result"
    }
   ],
   "source": [
    "saludo = 'Hola'\n",
    "saludo"
   ]
  },
  {
   "cell_type": "markdown",
   "id": "08aea53c",
   "metadata": {},
   "source": [
    "String"
   ]
  },
  {
   "cell_type": "code",
   "execution_count": 1,
   "id": "b8cb57ad",
   "metadata": {},
   "outputs": [
    {
     "name": "stdout",
     "output_type": "stream",
     "text": [
      "Esto es un string\n"
     ]
    }
   ],
   "source": [
    "a = 'Esto es un string'\n",
    "b = a\n",
    "print(b)"
   ]
  },
  {
   "cell_type": "code",
   "execution_count": 3,
   "id": "23f0fc2f",
   "metadata": {},
   "outputs": [],
   "source": [
    "comillas_simples = 'Esto es un string'\n",
    "comillas_dobles = \"Esto tambien es un string\""
   ]
  },
  {
   "cell_type": "code",
   "execution_count": 4,
   "id": "38c5d04e",
   "metadata": {},
   "outputs": [
    {
     "name": "stdout",
     "output_type": "stream",
     "text": [
      "hola\n",
      "a\n",
      "todos\n"
     ]
    }
   ],
   "source": [
    "#Este caracter es n\\\n",
    "saltos = \"hola\\na\\ntodos\"\n",
    "print(saltos)"
   ]
  },
  {
   "cell_type": "code",
   "execution_count": 6,
   "id": "90ff2fce",
   "metadata": {},
   "outputs": [
    {
     "name": "stdout",
     "output_type": "stream",
     "text": [
      "Hello\n",
      "World\n"
     ]
    }
   ],
   "source": [
    "# \\n - new line character\n",
    "print(\"Hello\\nWorld\")"
   ]
  },
  {
   "cell_type": "code",
   "execution_count": 7,
   "id": "3eff8a36",
   "metadata": {},
   "outputs": [
    {
     "name": "stdout",
     "output_type": "stream",
     "text": [
      "Hello\tWorld\n"
     ]
    }
   ],
   "source": [
    "# \\t - new line character\n",
    "print(\"Hello\\tWorld\")"
   ]
  },
  {
   "cell_type": "code",
   "execution_count": null,
   "id": "9649ca2a",
   "metadata": {},
   "outputs": [],
   "source": [
    "name \n",
    "    college \n",
    "           city"
   ]
  },
  {
   "cell_type": "code",
   "execution_count": 8,
   "id": "2328c9c7",
   "metadata": {},
   "outputs": [
    {
     "name": "stdout",
     "output_type": "stream",
     "text": [
      "Himanshu\n",
      "\tDAVV\n",
      "\t\tIndore\n"
     ]
    }
   ],
   "source": [
    "print('Himanshu\\n\\tDAVV\\n\\t\\tIndore')"
   ]
  },
  {
   "cell_type": "code",
   "execution_count": null,
   "id": "5f10ba5c",
   "metadata": {},
   "outputs": [],
   "source": [
    "*\n",
    "**\n",
    "***"
   ]
  },
  {
   "cell_type": "code",
   "execution_count": 9,
   "id": "d934d3d5",
   "metadata": {},
   "outputs": [
    {
     "name": "stdout",
     "output_type": "stream",
     "text": [
      "*\n",
      "**\n",
      "***\n"
     ]
    }
   ],
   "source": [
    "print(\"*\\n**\\n***\")"
   ]
  },
  {
   "cell_type": "code",
   "execution_count": null,
   "id": "b1a8fb6f",
   "metadata": {},
   "outputs": [],
   "source": [
    "   *\n",
    "*     *\n",
    "   *"
   ]
  },
  {
   "cell_type": "code",
   "execution_count": 13,
   "id": "20f7fdf6",
   "metadata": {},
   "outputs": [
    {
     "name": "stdout",
     "output_type": "stream",
     "text": [
      "    *\n",
      "*\t*\n",
      "    *\n"
     ]
    }
   ],
   "source": [
    "print(\"    *\\n*\\t*\\n    *\")"
   ]
  },
  {
   "cell_type": "markdown",
   "id": "c56dddee",
   "metadata": {},
   "source": [
    "Constantes"
   ]
  },
  {
   "cell_type": "code",
   "execution_count": null,
   "id": "035bacfc",
   "metadata": {},
   "outputs": [],
   "source": [
    "IVA = 1.8\n",
    "NUMERO_PI = 3.14"
   ]
  },
  {
   "cell_type": "markdown",
   "id": "dbe66b6d",
   "metadata": {},
   "source": [
    "Algunos ejemplos de asignaciones a constantes:"
   ]
  },
  {
   "cell_type": "code",
   "execution_count": null,
   "id": "dedbbd29",
   "metadata": {},
   "outputs": [],
   "source": [
    "SOUND_SPEED = 343.2\n",
    "WATER_DENSITY = 997\n",
    "EARTH_NAME = 'La tierra'"
   ]
  },
  {
   "cell_type": "markdown",
   "id": "1a10a2d1",
   "metadata": {},
   "source": [
    "String y métodos al \"sumar\" dos Strings"
   ]
  },
  {
   "cell_type": "code",
   "execution_count": 16,
   "id": "3e2eb102",
   "metadata": {},
   "outputs": [
    {
     "name": "stdout",
     "output_type": "stream",
     "text": [
      "HOLA MUNDO\n"
     ]
    }
   ],
   "source": [
    "a = 'HOLA'\n",
    "b = ' MUNDO'\n",
    "print(a + b)"
   ]
  },
  {
   "cell_type": "code",
   "execution_count": 17,
   "id": "abf5bd78",
   "metadata": {},
   "outputs": [
    {
     "name": "stdout",
     "output_type": "stream",
     "text": [
      "73\n"
     ]
    }
   ],
   "source": [
    "a = '7'\n",
    "b = '3'\n",
    "print(a + b)"
   ]
  },
  {
   "cell_type": "code",
   "execution_count": 18,
   "id": "1ef77801",
   "metadata": {},
   "outputs": [
    {
     "name": "stdout",
     "output_type": "stream",
     "text": [
      "Mi nombre es Carlos Santana\n"
     ]
    }
   ],
   "source": [
    "nombre = 'Carlos'\n",
    "apellido = 'Santana'\n",
    "# Concatenación\n",
    "print(\"Mi nombre es \" + nombre + \" \" + apellido)"
   ]
  },
  {
   "cell_type": "code",
   "execution_count": 19,
   "id": "c8e6ff17",
   "metadata": {},
   "outputs": [
    {
     "name": "stdout",
     "output_type": "stream",
     "text": [
      "Mi nombre es Carlos Santana\n"
     ]
    }
   ],
   "source": [
    "nombre = 'Carlos'\n",
    "apellido = 'Santana'\n",
    "# Interpolacion \n",
    "print(\"Mi nombre es {} {}\".format(nombre, apellido)) "
   ]
  },
  {
   "cell_type": "markdown",
   "id": "772997e3",
   "metadata": {},
   "source": [
    "COUNT"
   ]
  },
  {
   "cell_type": "code",
   "execution_count": 20,
   "id": "cab17412",
   "metadata": {},
   "outputs": [
    {
     "name": "stdout",
     "output_type": "stream",
     "text": [
      "1\n"
     ]
    }
   ],
   "source": [
    "print(nombre.count(\"a\")) la letra a aparece una sola vez"
   ]
  },
  {
   "cell_type": "markdown",
   "id": "2541c442",
   "metadata": {},
   "source": [
    "Len :Entrega la cantidad de letras o el \"largo\" de texto."
   ]
  },
  {
   "cell_type": "code",
   "execution_count": 21,
   "id": "adf805b4",
   "metadata": {},
   "outputs": [
    {
     "name": "stdout",
     "output_type": "stream",
     "text": [
      "7\n"
     ]
    }
   ],
   "source": [
    "print(len(apellido)) es la cantidad de letras de santana"
   ]
  },
  {
   "cell_type": "markdown",
   "id": "c9bf0ccd",
   "metadata": {},
   "source": [
    "Upper"
   ]
  },
  {
   "cell_type": "code",
   "execution_count": 22,
   "id": "6a50a050",
   "metadata": {},
   "outputs": [
    {
     "name": "stdout",
     "output_type": "stream",
     "text": [
      "SANTANA\n"
     ]
    }
   ],
   "source": [
    "print(apellido.upper())"
   ]
  },
  {
   "cell_type": "markdown",
   "id": "4f21ca7b",
   "metadata": {},
   "source": [
    "La función import"
   ]
  },
  {
   "cell_type": "code",
   "execution_count": 23,
   "id": "c46f426b",
   "metadata": {},
   "outputs": [],
   "source": [
    "import math"
   ]
  },
  {
   "cell_type": "code",
   "execution_count": 24,
   "id": "81a63c00",
   "metadata": {},
   "outputs": [],
   "source": [
    "import math as mt"
   ]
  },
  {
   "cell_type": "code",
   "execution_count": null,
   "id": "a3df9112",
   "metadata": {},
   "outputs": [],
   "source": [
    "from math  import pi"
   ]
  },
  {
   "cell_type": "code",
   "execution_count": null,
   "id": "dd6a3107",
   "metadata": {},
   "outputs": [],
   "source": []
  },
  {
   "cell_type": "code",
   "execution_count": null,
   "id": "7a71f396",
   "metadata": {},
   "outputs": [],
   "source": []
  },
  {
   "cell_type": "code",
   "execution_count": null,
   "id": "6059b214",
   "metadata": {},
   "outputs": [],
   "source": []
  },
  {
   "cell_type": "code",
   "execution_count": null,
   "id": "fe30dd13",
   "metadata": {},
   "outputs": [],
   "source": []
  }
 ],
 "metadata": {
  "kernelspec": {
   "display_name": "Python 3 (ipykernel)",
   "language": "python",
   "name": "python3"
  },
  "language_info": {
   "codemirror_mode": {
    "name": "ipython",
    "version": 3
   },
   "file_extension": ".py",
   "mimetype": "text/x-python",
   "name": "python",
   "nbconvert_exporter": "python",
   "pygments_lexer": "ipython3",
   "version": "3.11.7"
  }
 },
 "nbformat": 4,
 "nbformat_minor": 5
}

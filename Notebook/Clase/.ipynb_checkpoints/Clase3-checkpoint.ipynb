{
 "cells": [
  {
   "cell_type": "markdown",
   "id": "08847f93",
   "metadata": {},
   "source": [
    "Actividad 3"
   ]
  },
  {
   "cell_type": "code",
   "execution_count": 2,
   "id": "7809a5fe",
   "metadata": {},
   "outputs": [
    {
     "name": "stdout",
     "output_type": "stream",
     "text": [
      "Introduce el primer número real: 20\n",
      "Introduce el segundo número real: 10\n",
      "Suma: 30.0\n",
      "Resta: 10.0\n",
      "Multiplicación: 200.0\n",
      "División (float): 2.0\n",
      "División (entera): 2.0\n",
      "Módulo: 0.0\n",
      "Potencia: 10240000000000.0\n"
     ]
    }
   ],
   "source": [
    "# Leer los números reales como entrada\n",
    "a = float(input('Introduce el primer número real: '))\n",
    "b = float(input('Introduce el segundo número real: '))\n",
    "\n",
    "# Realizar operaciones\n",
    "suma = a + b\n",
    "resta = a - b\n",
    "multiplicacion = a * b\n",
    "division_float = a / b\n",
    "division_entera = a // b\n",
    "modulo = a % b\n",
    "potencia = a ** b\n",
    "\n",
    "# Imprimir los resultados\n",
    "print(\"Suma:\", suma)\n",
    "print(\"Resta:\", resta)\n",
    "print(\"Multiplicación:\", multiplicacion)\n",
    "print(\"División (float):\", division_float)\n",
    "print(\"División (entera):\", division_entera)\n",
    "print(\"Módulo:\", modulo)\n",
    "print(\"Potencia:\", potencia)"
   ]
  },
  {
   "cell_type": "markdown",
   "id": "d7b6b00f",
   "metadata": {},
   "source": [
    "Actividad 4"
   ]
  },
  {
   "cell_type": "code",
   "execution_count": 3,
   "id": "f79440ae",
   "metadata": {},
   "outputs": [
    {
     "name": "stdout",
     "output_type": "stream",
     "text": [
      "Introduce tu peso en kilogramos: 61\n",
      "Introduce tu altura en metros: 1.55\n",
      "Tu IMC es: 25.39\n"
     ]
    }
   ],
   "source": [
    "# Solicitar al usuario que ingrese el peso y la altura\n",
    "peso = float(input(\"Introduce tu peso en kilogramos: \"))\n",
    "altura = float(input(\"Introduce tu altura en metros: \"))\n",
    "\n",
    "# Calcular el IMC\n",
    "imc = peso / (altura ** 2)\n",
    "\n",
    "# Mostrar el resultado\n",
    "print(f\"Tu IMC es: {imc:.2f}\")"
   ]
  },
  {
   "cell_type": "code",
   "execution_count": null,
   "id": "0c294745",
   "metadata": {},
   "outputs": [],
   "source": []
  },
  {
   "cell_type": "code",
   "execution_count": null,
   "id": "704a2e0b",
   "metadata": {},
   "outputs": [],
   "source": []
  }
 ],
 "metadata": {
  "kernelspec": {
   "display_name": "Python 3 (ipykernel)",
   "language": "python",
   "name": "python3"
  },
  "language_info": {
   "codemirror_mode": {
    "name": "ipython",
    "version": 3
   },
   "file_extension": ".py",
   "mimetype": "text/x-python",
   "name": "python",
   "nbconvert_exporter": "python",
   "pygments_lexer": "ipython3",
   "version": "3.11.7"
  }
 },
 "nbformat": 4,
 "nbformat_minor": 5
}

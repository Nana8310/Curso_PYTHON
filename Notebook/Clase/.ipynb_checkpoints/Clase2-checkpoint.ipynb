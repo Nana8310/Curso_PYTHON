{
 "cells": [
  {
   "cell_type": "markdown",
   "id": "e3819816",
   "metadata": {},
   "source": [
    "Conocer el tipo de una variable"
   ]
  },
  {
   "cell_type": "code",
   "execution_count": 1,
   "id": "8521166e",
   "metadata": {},
   "outputs": [
    {
     "data": {
      "text/plain": [
       "int"
      ]
     },
     "execution_count": 1,
     "metadata": {},
     "output_type": "execute_result"
    }
   ],
   "source": [
    "type(9)"
   ]
  },
  {
   "cell_type": "code",
   "execution_count": 2,
   "id": "e67e9311",
   "metadata": {},
   "outputs": [
    {
     "data": {
      "text/plain": [
       "float"
      ]
     },
     "execution_count": 2,
     "metadata": {},
     "output_type": "execute_result"
    }
   ],
   "source": [
    "type(1.2)"
   ]
  },
  {
   "cell_type": "code",
   "execution_count": 3,
   "id": "6529069e",
   "metadata": {},
   "outputs": [],
   "source": [
    "height = 3718"
   ]
  },
  {
   "cell_type": "code",
   "execution_count": 4,
   "id": "3b2382bd",
   "metadata": {},
   "outputs": [
    {
     "data": {
      "text/plain": [
       "int"
      ]
     },
     "execution_count": 4,
     "metadata": {},
     "output_type": "execute_result"
    }
   ],
   "source": [
    "type(height) "
   ]
  },
  {
   "cell_type": "code",
   "execution_count": 5,
   "id": "73febd33",
   "metadata": {},
   "outputs": [],
   "source": [
    "sound_speed = 343.2"
   ]
  },
  {
   "cell_type": "code",
   "execution_count": 6,
   "id": "52463ef6",
   "metadata": {},
   "outputs": [
    {
     "data": {
      "text/plain": [
       "float"
      ]
     },
     "execution_count": 6,
     "metadata": {},
     "output_type": "execute_result"
    }
   ],
   "source": [
    "type(sound_speed)"
   ]
  },
  {
   "cell_type": "markdown",
   "id": "646b2de4",
   "metadata": {},
   "source": [
    "ACTIVIDAD PAG 63"
   ]
  },
  {
   "cell_type": "code",
   "execution_count": 8,
   "id": "530a1590",
   "metadata": {},
   "outputs": [],
   "source": [
    "space_odyssey = 2001\n"
   ]
  },
  {
   "cell_type": "code",
   "execution_count": 9,
   "id": "87da52c9",
   "metadata": {},
   "outputs": [
    {
     "data": {
      "text/plain": [
       "int"
      ]
     },
     "execution_count": 9,
     "metadata": {},
     "output_type": "execute_result"
    }
   ],
   "source": [
    "type(space_odyssey)"
   ]
  },
  {
   "cell_type": "code",
   "execution_count": 10,
   "id": "bb45e593",
   "metadata": {},
   "outputs": [
    {
     "data": {
      "text/plain": [
       "str"
      ]
     },
     "execution_count": 10,
     "metadata": {},
     "output_type": "execute_result"
    }
   ],
   "source": [
    "type('Good night & Good luck')"
   ]
  },
  {
   "cell_type": "code",
   "execution_count": 11,
   "id": "14a4842d",
   "metadata": {},
   "outputs": [
    {
     "data": {
      "text/plain": [
       "bool"
      ]
     },
     "execution_count": 11,
     "metadata": {},
     "output_type": "execute_result"
    }
   ],
   "source": [
    "type(True)"
   ]
  },
  {
   "cell_type": "code",
   "execution_count": 12,
   "id": "879f28fe",
   "metadata": {},
   "outputs": [
    {
     "data": {
      "text/plain": [
       "float"
      ]
     },
     "execution_count": 12,
     "metadata": {},
     "output_type": "execute_result"
    }
   ],
   "source": [
    "type(10*3.0)"
   ]
  },
  {
   "cell_type": "code",
   "execution_count": 15,
   "id": "06312aae",
   "metadata": {},
   "outputs": [
    {
     "name": "stdout",
     "output_type": "stream",
     "text": [
      "El area del circulo con diametro = 25 es igual a 19.63\n"
     ]
    }
   ],
   "source": [
    "import math as mt\n",
    "# calculando el area de un circulo\n",
    "diametro = 25\n",
    "area = mt.pi*diametro/2**2\n",
    "print(\"El area del circulo con diametro = {} es igual a {:.2f}\".format(diametro,area))"
   ]
  },
  {
   "cell_type": "markdown",
   "id": "406248d9",
   "metadata": {},
   "source": [
    "Operando con una variable númerica"
   ]
  },
  {
   "cell_type": "code",
   "execution_count": 16,
   "id": "c8830a24",
   "metadata": {},
   "outputs": [
    {
     "data": {
      "text/plain": [
       "4"
      ]
     },
     "execution_count": 16,
     "metadata": {},
     "output_type": "execute_result"
    }
   ],
   "source": [
    "x = 3\n",
    "x + 1\n"
   ]
  },
  {
   "cell_type": "code",
   "execution_count": 17,
   "id": "3a366024",
   "metadata": {},
   "outputs": [
    {
     "data": {
      "text/plain": [
       "4"
      ]
     },
     "execution_count": 17,
     "metadata": {},
     "output_type": "execute_result"
    }
   ],
   "source": [
    "y = x + 1\n",
    "y"
   ]
  },
  {
   "cell_type": "code",
   "execution_count": 18,
   "id": "e4af5068",
   "metadata": {},
   "outputs": [
    {
     "data": {
      "text/plain": [
       "4"
      ]
     },
     "execution_count": 18,
     "metadata": {},
     "output_type": "execute_result"
    }
   ],
   "source": [
    "x = x + 1\n",
    "x"
   ]
  },
  {
   "cell_type": "code",
   "execution_count": 19,
   "id": "dfb25937",
   "metadata": {},
   "outputs": [
    {
     "data": {
      "text/plain": [
       "7"
      ]
     },
     "execution_count": 19,
     "metadata": {},
     "output_type": "execute_result"
    }
   ],
   "source": [
    "x = 7\n",
    "x"
   ]
  },
  {
   "cell_type": "code",
   "execution_count": 20,
   "id": "059b4692",
   "metadata": {},
   "outputs": [
    {
     "data": {
      "text/plain": [
       "9"
      ]
     },
     "execution_count": 20,
     "metadata": {},
     "output_type": "execute_result"
    }
   ],
   "source": [
    "x += 2\n",
    "x"
   ]
  },
  {
   "cell_type": "code",
   "execution_count": 22,
   "id": "d24bcbf1",
   "metadata": {},
   "outputs": [
    {
     "data": {
      "text/plain": [
       "'Hola'"
      ]
     },
     "execution_count": 22,
     "metadata": {},
     "output_type": "execute_result"
    }
   ],
   "source": [
    "saludo = 'Hola'\n",
    "saludo"
   ]
  },
  {
   "cell_type": "markdown",
   "id": "08aea53c",
   "metadata": {},
   "source": [
    "String"
   ]
  },
  {
   "cell_type": "code",
   "execution_count": 1,
   "id": "b8cb57ad",
   "metadata": {},
   "outputs": [
    {
     "name": "stdout",
     "output_type": "stream",
     "text": [
      "Esto es un string\n"
     ]
    }
   ],
   "source": [
    "a = 'Esto es un string'\n",
    "b = a\n",
    "print(b)"
   ]
  },
  {
   "cell_type": "code",
   "execution_count": 3,
   "id": "23f0fc2f",
   "metadata": {},
   "outputs": [],
   "source": [
    "comillas_simples = 'Esto es un string'\n",
    "comillas_dobles = \"Esto tambien es un string\""
   ]
  },
  {
   "cell_type": "code",
   "execution_count": 4,
   "id": "38c5d04e",
   "metadata": {},
   "outputs": [
    {
     "name": "stdout",
     "output_type": "stream",
     "text": [
      "hola\n",
      "a\n",
      "todos\n"
     ]
    }
   ],
   "source": [
    "#Este caracter es n\\\n",
    "saltos = \"hola\\na\\ntodos\"\n",
    "print(saltos)"
   ]
  },
  {
   "cell_type": "code",
   "execution_count": 6,
   "id": "90ff2fce",
   "metadata": {},
   "outputs": [
    {
     "name": "stdout",
     "output_type": "stream",
     "text": [
      "Hello\n",
      "World\n"
     ]
    }
   ],
   "source": [
    "# \\n - new line character\n",
    "print(\"Hello\\nWorld\")"
   ]
  },
  {
   "cell_type": "code",
   "execution_count": 7,
   "id": "3eff8a36",
   "metadata": {},
   "outputs": [
    {
     "name": "stdout",
     "output_type": "stream",
     "text": [
      "Hello\tWorld\n"
     ]
    }
   ],
   "source": [
    "# \\t - new line character\n",
    "print(\"Hello\\tWorld\")"
   ]
  },
  {
   "cell_type": "code",
   "execution_count": null,
   "id": "9649ca2a",
   "metadata": {},
   "outputs": [],
   "source": [
    "name \n",
    "    college \n",
    "           city"
   ]
  },
  {
   "cell_type": "code",
   "execution_count": 8,
   "id": "2328c9c7",
   "metadata": {},
   "outputs": [
    {
     "name": "stdout",
     "output_type": "stream",
     "text": [
      "Himanshu\n",
      "\tDAVV\n",
      "\t\tIndore\n"
     ]
    }
   ],
   "source": [
    "print('Himanshu\\n\\tDAVV\\n\\t\\tIndore')"
   ]
  },
  {
   "cell_type": "code",
   "execution_count": null,
   "id": "5f10ba5c",
   "metadata": {},
   "outputs": [],
   "source": [
    "*\n",
    "**\n",
    "***"
   ]
  },
  {
   "cell_type": "code",
   "execution_count": 9,
   "id": "d934d3d5",
   "metadata": {},
   "outputs": [
    {
     "name": "stdout",
     "output_type": "stream",
     "text": [
      "*\n",
      "**\n",
      "***\n"
     ]
    }
   ],
   "source": [
    "print(\"*\\n**\\n***\")"
   ]
  },
  {
   "cell_type": "code",
   "execution_count": null,
   "id": "b1a8fb6f",
   "metadata": {},
   "outputs": [],
   "source": [
    "   *\n",
    "*     *\n",
    "   *"
   ]
  },
  {
   "cell_type": "code",
   "execution_count": 13,
   "id": "20f7fdf6",
   "metadata": {},
   "outputs": [
    {
     "name": "stdout",
     "output_type": "stream",
     "text": [
      "    *\n",
      "*\t*\n",
      "    *\n"
     ]
    }
   ],
   "source": [
    "print(\"    *\\n*\\t*\\n    *\")"
   ]
  },
  {
   "cell_type": "markdown",
   "id": "c56dddee",
   "metadata": {},
   "source": [
    "Constantes"
   ]
  },
  {
   "cell_type": "code",
   "execution_count": null,
   "id": "035bacfc",
   "metadata": {},
   "outputs": [],
   "source": [
    "IVA = 1.8\n",
    "NUMERO_PI = 3.14"
   ]
  },
  {
   "cell_type": "markdown",
   "id": "dbe66b6d",
   "metadata": {},
   "source": [
    "Algunos ejemplos de asignaciones a constantes:"
   ]
  },
  {
   "cell_type": "code",
   "execution_count": null,
   "id": "dedbbd29",
   "metadata": {},
   "outputs": [],
   "source": [
    "SOUND_SPEED = 343.2\n",
    "WATER_DENSITY = 997\n",
    "EARTH_NAME = 'La tierra'"
   ]
  },
  {
   "cell_type": "markdown",
   "id": "1a10a2d1",
   "metadata": {},
   "source": [
    "String y métodos al \"sumar\" dos Strings"
   ]
  },
  {
   "cell_type": "code",
   "execution_count": 16,
   "id": "3e2eb102",
   "metadata": {},
   "outputs": [
    {
     "name": "stdout",
     "output_type": "stream",
     "text": [
      "HOLA MUNDO\n"
     ]
    }
   ],
   "source": [
    "a = 'HOLA'\n",
    "b = ' MUNDO'\n",
    "print(a + b)"
   ]
  },
  {
   "cell_type": "code",
   "execution_count": 17,
   "id": "abf5bd78",
   "metadata": {},
   "outputs": [
    {
     "name": "stdout",
     "output_type": "stream",
     "text": [
      "73\n"
     ]
    }
   ],
   "source": [
    "a = '7'\n",
    "b = '3'\n",
    "print(a + b)"
   ]
  },
  {
   "cell_type": "code",
   "execution_count": 18,
   "id": "1ef77801",
   "metadata": {},
   "outputs": [
    {
     "name": "stdout",
     "output_type": "stream",
     "text": [
      "Mi nombre es Carlos Santana\n"
     ]
    }
   ],
   "source": [
    "nombre = 'Carlos'\n",
    "apellido = 'Santana'\n",
    "# Concatenación\n",
    "print(\"Mi nombre es \" + nombre + \" \" + apellido)"
   ]
  },
  {
   "cell_type": "code",
   "execution_count": 19,
   "id": "c8e6ff17",
   "metadata": {},
   "outputs": [
    {
     "name": "stdout",
     "output_type": "stream",
     "text": [
      "Mi nombre es Carlos Santana\n"
     ]
    }
   ],
   "source": [
    "nombre = 'Carlos'\n",
    "apellido = 'Santana'\n",
    "# Interpolacion \n",
    "print(\"Mi nombre es {} {}\".format(nombre, apellido)) "
   ]
  },
  {
   "cell_type": "markdown",
   "id": "772997e3",
   "metadata": {},
   "source": [
    "COUNT"
   ]
  },
  {
   "cell_type": "code",
   "execution_count": 20,
   "id": "cab17412",
   "metadata": {},
   "outputs": [
    {
     "name": "stdout",
     "output_type": "stream",
     "text": [
      "1\n"
     ]
    }
   ],
   "source": [
    "print(nombre.count(\"a\")) la letra a aparece una sola vez"
   ]
  },
  {
   "cell_type": "markdown",
   "id": "2541c442",
   "metadata": {},
   "source": [
    "Len :Entrega la cantidad de letras o el \"largo\" de texto."
   ]
  },
  {
   "cell_type": "code",
   "execution_count": 21,
   "id": "adf805b4",
   "metadata": {},
   "outputs": [
    {
     "name": "stdout",
     "output_type": "stream",
     "text": [
      "7\n"
     ]
    }
   ],
   "source": [
    "print(len(apellido)) es la cantidad de letras de santana"
   ]
  },
  {
   "cell_type": "markdown",
   "id": "c9bf0ccd",
   "metadata": {},
   "source": [
    "Upper"
   ]
  },
  {
   "cell_type": "code",
   "execution_count": 22,
   "id": "6a50a050",
   "metadata": {},
   "outputs": [
    {
     "name": "stdout",
     "output_type": "stream",
     "text": [
      "SANTANA\n"
     ]
    }
   ],
   "source": [
    "print(apellido.upper())"
   ]
  },
  {
   "cell_type": "markdown",
   "id": "4f21ca7b",
   "metadata": {},
   "source": [
    "La función import"
   ]
  },
  {
   "cell_type": "code",
   "execution_count": 23,
   "id": "c46f426b",
   "metadata": {},
   "outputs": [],
   "source": [
    "import math"
   ]
  },
  {
   "cell_type": "code",
   "execution_count": 24,
   "id": "81a63c00",
   "metadata": {},
   "outputs": [],
   "source": [
    "import math as mt"
   ]
  },
  {
   "cell_type": "code",
   "execution_count": null,
   "id": "a3df9112",
   "metadata": {},
   "outputs": [],
   "source": [
    "from math  import pi"
   ]
  },
  {
   "cell_type": "code",
   "execution_count": null,
   "id": "dd6a3107",
   "metadata": {},
   "outputs": [],
   "source": [
    "from math  import pi as numero_pi"
   ]
  },
  {
   "cell_type": "code",
   "execution_count": null,
   "id": "7a71f396",
   "metadata": {},
   "outputs": [],
   "source": [
    "from math import pi as numero_pi"
   ]
  },
  {
   "cell_type": "code",
   "execution_count": null,
   "id": "6059b214",
   "metadata": {},
   "outputs": [],
   "source": [
    "from math import pi, log, exp\n"
   ]
  },
  {
   "cell_type": "markdown",
   "id": "c24d7b65",
   "metadata": {},
   "source": [
    "Números en Python\n",
    "int:Número entero\n",
    "float:Número en coma flotante.. para saber el tipod e dato se utiliza Type"
   ]
  },
  {
   "cell_type": "code",
   "execution_count": 1,
   "id": "1addbd41",
   "metadata": {},
   "outputs": [
    {
     "data": {
      "text/plain": [
       "int"
      ]
     },
     "execution_count": 1,
     "metadata": {},
     "output_type": "execute_result"
    }
   ],
   "source": [
    "type(5)"
   ]
  },
  {
   "cell_type": "code",
   "execution_count": 2,
   "id": "37adbf4c",
   "metadata": {},
   "outputs": [
    {
     "data": {
      "text/plain": [
       "float"
      ]
     },
     "execution_count": 2,
     "metadata": {},
     "output_type": "execute_result"
    }
   ],
   "source": [
    "type(5.0)"
   ]
  },
  {
   "cell_type": "code",
   "execution_count": 3,
   "id": "c2fcd0a0",
   "metadata": {},
   "outputs": [
    {
     "data": {
      "text/plain": [
       "float"
      ]
     },
     "execution_count": 3,
     "metadata": {},
     "output_type": "execute_result"
    }
   ],
   "source": [
    "type(3.0)"
   ]
  },
  {
   "cell_type": "code",
   "execution_count": 4,
   "id": "1c661a6a",
   "metadata": {},
   "outputs": [
    {
     "data": {
      "text/plain": [
       "float"
      ]
     },
     "execution_count": 4,
     "metadata": {},
     "output_type": "execute_result"
    }
   ],
   "source": [
    "type(3.)"
   ]
  },
  {
   "cell_type": "markdown",
   "id": "63b211a1",
   "metadata": {},
   "source": [
    "Podemos indicar el tipo de número\n"
   ]
  },
  {
   "cell_type": "code",
   "execution_count": 5,
   "id": "fe8be373",
   "metadata": {},
   "outputs": [
    {
     "data": {
      "text/plain": [
       "int"
      ]
     },
     "execution_count": 5,
     "metadata": {},
     "output_type": "execute_result"
    }
   ],
   "source": [
    "type(int(7.0))"
   ]
  },
  {
   "cell_type": "code",
   "execution_count": 6,
   "id": "4a38d3f8",
   "metadata": {},
   "outputs": [
    {
     "data": {
      "text/plain": [
       "int"
      ]
     },
     "execution_count": 6,
     "metadata": {},
     "output_type": "execute_result"
    }
   ],
   "source": [
    "type(int(9.))"
   ]
  },
  {
   "cell_type": "code",
   "execution_count": 7,
   "id": "ebf32e23",
   "metadata": {},
   "outputs": [
    {
     "data": {
      "text/plain": [
       "float"
      ]
     },
     "execution_count": 7,
     "metadata": {},
     "output_type": "execute_result"
    }
   ],
   "source": [
    "type(float(3))"
   ]
  },
  {
   "cell_type": "markdown",
   "id": "2a4b270d",
   "metadata": {},
   "source": [
    "No siempre podemos pasar de números en coma flotante a números enteros."
   ]
  },
  {
   "cell_type": "code",
   "execution_count": 8,
   "id": "d0ad4a5f",
   "metadata": {},
   "outputs": [
    {
     "data": {
      "text/plain": [
       "3"
      ]
     },
     "execution_count": 8,
     "metadata": {},
     "output_type": "execute_result"
    }
   ],
   "source": [
    "int(3.5)"
   ]
  },
  {
   "cell_type": "markdown",
   "id": "8a4c28c9",
   "metadata": {},
   "source": [
    "para capturar datos utilizamos input "
   ]
  },
  {
   "cell_type": "code",
   "execution_count": 1,
   "id": "fa0f3067",
   "metadata": {},
   "outputs": [
    {
     "name": "stdout",
     "output_type": "stream",
     "text": [
      "10\n"
     ]
    }
   ],
   "source": [
    "x = input()"
   ]
  },
  {
   "cell_type": "code",
   "execution_count": 2,
   "id": "0f13d101",
   "metadata": {},
   "outputs": [
    {
     "name": "stdout",
     "output_type": "stream",
     "text": [
      "10\n"
     ]
    }
   ],
   "source": [
    "print(x)"
   ]
  },
  {
   "cell_type": "code",
   "execution_count": 1,
   "id": "888e2e00",
   "metadata": {},
   "outputs": [
    {
     "name": "stdout",
     "output_type": "stream",
     "text": [
      "Enter Your Name: Himanshu\n"
     ]
    }
   ],
   "source": [
    "z = input(\"Enter Your Name: \")"
   ]
  },
  {
   "cell_type": "code",
   "execution_count": 3,
   "id": "ec7a49eb",
   "metadata": {},
   "outputs": [
    {
     "name": "stdout",
     "output_type": "stream",
     "text": [
      "Himanshu\n"
     ]
    }
   ],
   "source": [
    "print(z)"
   ]
  },
  {
   "cell_type": "code",
   "execution_count": null,
   "id": "273fb01b",
   "metadata": {},
   "outputs": [],
   "source": [
    "Número Booleanos"
   ]
  },
  {
   "cell_type": "code",
   "execution_count": 2,
   "id": "58828887",
   "metadata": {},
   "outputs": [
    {
     "data": {
      "text/plain": [
       "True"
      ]
     },
     "execution_count": 2,
     "metadata": {},
     "output_type": "execute_result"
    }
   ],
   "source": [
    "is_opened = True\n",
    "is_opened"
   ]
  },
  {
   "cell_type": "code",
   "execution_count": 3,
   "id": "b76364e9",
   "metadata": {},
   "outputs": [
    {
     "data": {
      "text/plain": [
       "False"
      ]
     },
     "execution_count": 3,
     "metadata": {},
     "output_type": "execute_result"
    }
   ],
   "source": [
    "has_sugar = False\n",
    "has_sugar"
   ]
  },
  {
   "cell_type": "markdown",
   "id": "3ad3de7c",
   "metadata": {},
   "source": [
    "Enteros"
   ]
  },
  {
   "cell_type": "code",
   "execution_count": 5,
   "id": "b092358a",
   "metadata": {},
   "outputs": [
    {
     "data": {
      "text/plain": [
       "8"
      ]
     },
     "execution_count": 5,
     "metadata": {},
     "output_type": "execute_result"
    }
   ],
   "source": [
    "8\n"
   ]
  },
  {
   "cell_type": "code",
   "execution_count": 6,
   "id": "b30a7e50",
   "metadata": {},
   "outputs": [
    {
     "data": {
      "text/plain": [
       "0"
      ]
     },
     "execution_count": 6,
     "metadata": {},
     "output_type": "execute_result"
    }
   ],
   "source": [
    "0"
   ]
  },
  {
   "cell_type": "code",
   "execution_count": 8,
   "id": "8346ac86",
   "metadata": {},
   "outputs": [
    {
     "data": {
      "text/plain": [
       "99"
      ]
     },
     "execution_count": 8,
     "metadata": {},
     "output_type": "execute_result"
    }
   ],
   "source": [
    "99"
   ]
  },
  {
   "cell_type": "code",
   "execution_count": 9,
   "id": "1c3ca3c6",
   "metadata": {},
   "outputs": [
    {
     "data": {
      "text/plain": [
       "99"
      ]
     },
     "execution_count": 9,
     "metadata": {},
     "output_type": "execute_result"
    }
   ],
   "source": [
    "+99"
   ]
  },
  {
   "cell_type": "code",
   "execution_count": 10,
   "id": "ca9770c7",
   "metadata": {},
   "outputs": [
    {
     "data": {
      "text/plain": [
       "-99"
      ]
     },
     "execution_count": 10,
     "metadata": {},
     "output_type": "execute_result"
    }
   ],
   "source": [
    "-99"
   ]
  },
  {
   "cell_type": "code",
   "execution_count": 11,
   "id": "d8d82d7f",
   "metadata": {},
   "outputs": [
    {
     "data": {
      "text/plain": [
       "3000000"
      ]
     },
     "execution_count": 11,
     "metadata": {},
     "output_type": "execute_result"
    }
   ],
   "source": [
    "3000000"
   ]
  },
  {
   "cell_type": "code",
   "execution_count": 12,
   "id": "b730bd35",
   "metadata": {},
   "outputs": [
    {
     "data": {
      "text/plain": [
       "3000000"
      ]
     },
     "execution_count": 12,
     "metadata": {},
     "output_type": "execute_result"
    }
   ],
   "source": [
    "3_000_000"
   ]
  },
  {
   "cell_type": "code",
   "execution_count": null,
   "id": "74649953",
   "metadata": {},
   "outputs": [],
   "source": [
    "Operaciones "
   ]
  },
  {
   "cell_type": "code",
   "execution_count": 13,
   "id": "cb38bdc5",
   "metadata": {},
   "outputs": [
    {
     "data": {
      "text/plain": [
       "14"
      ]
     },
     "execution_count": 13,
     "metadata": {},
     "output_type": "execute_result"
    }
   ],
   "source": [
    "2 + 8 + 4"
   ]
  },
  {
   "cell_type": "code",
   "execution_count": 14,
   "id": "d34767f2",
   "metadata": {},
   "outputs": [
    {
     "data": {
      "text/plain": [
       "256"
      ]
     },
     "execution_count": 14,
     "metadata": {},
     "output_type": "execute_result"
    }
   ],
   "source": [
    "4 ** 4"
   ]
  },
  {
   "cell_type": "code",
   "execution_count": 15,
   "id": "26463277",
   "metadata": {},
   "outputs": [
    {
     "data": {
      "text/plain": [
       "2.3333333333333335"
      ]
     },
     "execution_count": 15,
     "metadata": {},
     "output_type": "execute_result"
    }
   ],
   "source": [
    "7 / 3"
   ]
  },
  {
   "cell_type": "code",
   "execution_count": 16,
   "id": "15f492c1",
   "metadata": {},
   "outputs": [
    {
     "data": {
      "text/plain": [
       "2"
      ]
     },
     "execution_count": 16,
     "metadata": {},
     "output_type": "execute_result"
    }
   ],
   "source": [
    "7 // 3"
   ]
  },
  {
   "cell_type": "code",
   "execution_count": 17,
   "id": "5ae42e0c",
   "metadata": {},
   "outputs": [
    {
     "ename": "ZeroDivisionError",
     "evalue": "division by zero",
     "output_type": "error",
     "traceback": [
      "\u001b[1;31m---------------------------------------------------------------------------\u001b[0m",
      "\u001b[1;31mZeroDivisionError\u001b[0m                         Traceback (most recent call last)",
      "Cell \u001b[1;32mIn[17], line 1\u001b[0m\n\u001b[1;32m----> 1\u001b[0m \u001b[38;5;241m6\u001b[39m \u001b[38;5;241m/\u001b[39m \u001b[38;5;241m0\u001b[39m\n",
      "\u001b[1;31mZeroDivisionError\u001b[0m: division by zero"
     ]
    }
   ],
   "source": [
    "6 / 0"
   ]
  },
  {
   "cell_type": "markdown",
   "id": "b0bd4d5a",
   "metadata": {},
   "source": [
    "Orden operaciones aritméticas: primero parentesis. potencia,productos y divisiones,final sumas y restas"
   ]
  },
  {
   "cell_type": "code",
   "execution_count": 18,
   "id": "e9b73013",
   "metadata": {},
   "outputs": [
    {
     "data": {
      "text/plain": [
       "6.0"
      ]
     },
     "execution_count": 18,
     "metadata": {},
     "output_type": "execute_result"
    }
   ],
   "source": [
    "2 ** 2 + 4 / 2"
   ]
  },
  {
   "cell_type": "code",
   "execution_count": 20,
   "id": "2aaba77f",
   "metadata": {},
   "outputs": [
    {
     "data": {
      "text/plain": [
       "32.0"
      ]
     },
     "execution_count": 20,
     "metadata": {},
     "output_type": "execute_result"
    }
   ],
   "source": [
    "2 ** (2 + 4) / 2"
   ]
  },
  {
   "cell_type": "code",
   "execution_count": 21,
   "id": "a1aad0be",
   "metadata": {},
   "outputs": [
    {
     "data": {
      "text/plain": [
       "16.0"
      ]
     },
     "execution_count": 21,
     "metadata": {},
     "output_type": "execute_result"
    }
   ],
   "source": [
    " 2 ** (2+4/2)"
   ]
  },
  {
   "cell_type": "markdown",
   "id": "5e56b383",
   "metadata": {},
   "source": [
    "suma"
   ]
  },
  {
   "cell_type": "code",
   "execution_count": 22,
   "id": "332141dd",
   "metadata": {},
   "outputs": [
    {
     "data": {
      "text/plain": [
       "3"
      ]
     },
     "execution_count": 22,
     "metadata": {},
     "output_type": "execute_result"
    }
   ],
   "source": [
    "2 + 1"
   ]
  },
  {
   "cell_type": "code",
   "execution_count": 23,
   "id": "a2722585",
   "metadata": {},
   "outputs": [
    {
     "data": {
      "text/plain": [
       "3.0"
      ]
     },
     "execution_count": 23,
     "metadata": {},
     "output_type": "execute_result"
    }
   ],
   "source": [
    "2.0 + 1"
   ]
  },
  {
   "cell_type": "code",
   "execution_count": 24,
   "id": "afdbe65d",
   "metadata": {},
   "outputs": [
    {
     "data": {
      "text/plain": [
       "3.0"
      ]
     },
     "execution_count": 24,
     "metadata": {},
     "output_type": "execute_result"
    }
   ],
   "source": [
    "2 + 1.0"
   ]
  },
  {
   "cell_type": "markdown",
   "id": "38e2294e",
   "metadata": {},
   "source": [
    "Resta"
   ]
  },
  {
   "cell_type": "code",
   "execution_count": 25,
   "id": "597327a3",
   "metadata": {},
   "outputs": [
    {
     "data": {
      "text/plain": [
       "4"
      ]
     },
     "execution_count": 25,
     "metadata": {},
     "output_type": "execute_result"
    }
   ],
   "source": [
    "7 - 3"
   ]
  },
  {
   "cell_type": "code",
   "execution_count": 27,
   "id": "8a5404de",
   "metadata": {},
   "outputs": [
    {
     "data": {
      "text/plain": [
       "4.0"
      ]
     },
     "execution_count": 27,
     "metadata": {},
     "output_type": "execute_result"
    }
   ],
   "source": [
    "7.0 - 3"
   ]
  },
  {
   "cell_type": "code",
   "execution_count": 28,
   "id": "40c94166",
   "metadata": {},
   "outputs": [
    {
     "data": {
      "text/plain": [
       "4.0"
      ]
     },
     "execution_count": 28,
     "metadata": {},
     "output_type": "execute_result"
    }
   ],
   "source": [
    "7 - 3.0"
   ]
  },
  {
   "cell_type": "markdown",
   "id": "ea9e1bde",
   "metadata": {},
   "source": [
    "Multiplicación"
   ]
  },
  {
   "cell_type": "code",
   "execution_count": 29,
   "id": "67c9f4e4",
   "metadata": {},
   "outputs": [
    {
     "data": {
      "text/plain": [
       "48"
      ]
     },
     "execution_count": 29,
     "metadata": {},
     "output_type": "execute_result"
    }
   ],
   "source": [
    "8 * 6"
   ]
  },
  {
   "cell_type": "code",
   "execution_count": 30,
   "id": "bb798f83",
   "metadata": {},
   "outputs": [
    {
     "data": {
      "text/plain": [
       "48.0"
      ]
     },
     "execution_count": 30,
     "metadata": {},
     "output_type": "execute_result"
    }
   ],
   "source": [
    "8. * 6"
   ]
  },
  {
   "cell_type": "code",
   "execution_count": 31,
   "id": "45ab76ae",
   "metadata": {},
   "outputs": [
    {
     "data": {
      "text/plain": [
       "48.0"
      ]
     },
     "execution_count": 31,
     "metadata": {},
     "output_type": "execute_result"
    }
   ],
   "source": [
    "8.0 * 6"
   ]
  },
  {
   "cell_type": "markdown",
   "id": "869124f1",
   "metadata": {},
   "source": [
    "División"
   ]
  },
  {
   "cell_type": "code",
   "execution_count": 32,
   "id": "af52b506",
   "metadata": {},
   "outputs": [
    {
     "data": {
      "text/plain": [
       "1.2"
      ]
     },
     "execution_count": 32,
     "metadata": {},
     "output_type": "execute_result"
    }
   ],
   "source": [
    "6 / 5"
   ]
  },
  {
   "cell_type": "code",
   "execution_count": 33,
   "id": "249f3fbf",
   "metadata": {},
   "outputs": [
    {
     "data": {
      "text/plain": [
       "1.2"
      ]
     },
     "execution_count": 33,
     "metadata": {},
     "output_type": "execute_result"
    }
   ],
   "source": [
    "6. / 5.0"
   ]
  },
  {
   "cell_type": "code",
   "execution_count": 34,
   "id": "c128749e",
   "metadata": {},
   "outputs": [
    {
     "data": {
      "text/plain": [
       "1.2"
      ]
     },
     "execution_count": 34,
     "metadata": {},
     "output_type": "execute_result"
    }
   ],
   "source": [
    "6 / 5.0"
   ]
  },
  {
   "cell_type": "markdown",
   "id": "1c8dcea5",
   "metadata": {},
   "source": [
    "División entera o Euclidea"
   ]
  },
  {
   "cell_type": "code",
   "execution_count": 35,
   "id": "20753fe8",
   "metadata": {},
   "outputs": [
    {
     "data": {
      "text/plain": [
       "3"
      ]
     },
     "execution_count": 35,
     "metadata": {},
     "output_type": "execute_result"
    }
   ],
   "source": [
    "10 // 3"
   ]
  },
  {
   "cell_type": "markdown",
   "id": "579c9a7d",
   "metadata": {},
   "source": [
    "Para obtener el restod e la división entera se utiliza %"
   ]
  },
  {
   "cell_type": "code",
   "execution_count": 36,
   "id": "9bae87ee",
   "metadata": {},
   "outputs": [
    {
     "data": {
      "text/plain": [
       "1"
      ]
     },
     "execution_count": 36,
     "metadata": {},
     "output_type": "execute_result"
    }
   ],
   "source": [
    "10 % 3"
   ]
  },
  {
   "cell_type": "markdown",
   "id": "fe762fb6",
   "metadata": {},
   "source": [
    "Potencia"
   ]
  },
  {
   "cell_type": "code",
   "execution_count": 37,
   "id": "8ef2ea5b",
   "metadata": {},
   "outputs": [
    {
     "data": {
      "text/plain": [
       "125"
      ]
     },
     "execution_count": 37,
     "metadata": {},
     "output_type": "execute_result"
    }
   ],
   "source": [
    "5 ** 3"
   ]
  },
  {
   "cell_type": "code",
   "execution_count": 38,
   "id": "c9b4d944",
   "metadata": {},
   "outputs": [
    {
     "data": {
      "text/plain": [
       "125.0"
      ]
     },
     "execution_count": 38,
     "metadata": {},
     "output_type": "execute_result"
    }
   ],
   "source": [
    "5.0 ** 3.0 "
   ]
  },
  {
   "cell_type": "code",
   "execution_count": 39,
   "id": "56d784f7",
   "metadata": {},
   "outputs": [
    {
     "data": {
      "text/plain": [
       "125.0"
      ]
     },
     "execution_count": 39,
     "metadata": {},
     "output_type": "execute_result"
    }
   ],
   "source": [
    "5.0 ** 3"
   ]
  },
  {
   "cell_type": "markdown",
   "id": "e331275e",
   "metadata": {},
   "source": [
    "Para cálcular la potencia n-esima tambien se puede utilizar pow()"
   ]
  },
  {
   "cell_type": "code",
   "execution_count": 40,
   "id": "16bc1dfc",
   "metadata": {},
   "outputs": [
    {
     "data": {
      "text/plain": [
       "125"
      ]
     },
     "execution_count": 40,
     "metadata": {},
     "output_type": "execute_result"
    }
   ],
   "source": [
    "pow(5, 3)"
   ]
  },
  {
   "cell_type": "code",
   "execution_count": 41,
   "id": "b2ac66e9",
   "metadata": {},
   "outputs": [
    {
     "data": {
      "text/plain": [
       "125.0"
      ]
     },
     "execution_count": 41,
     "metadata": {},
     "output_type": "execute_result"
    }
   ],
   "source": [
    "pow(5., 3.0)"
   ]
  },
  {
   "cell_type": "code",
   "execution_count": 43,
   "id": "68e311f0",
   "metadata": {},
   "outputs": [
    {
     "data": {
      "text/plain": [
       "125.0"
      ]
     },
     "execution_count": 43,
     "metadata": {},
     "output_type": "execute_result"
    }
   ],
   "source": [
    "pow(5, 3.)"
   ]
  },
  {
   "cell_type": "markdown",
   "id": "15590bb5",
   "metadata": {},
   "source": [
    "Orden de las operaciones aritmeticas"
   ]
  },
  {
   "cell_type": "code",
   "execution_count": 44,
   "id": "87cf3e9a",
   "metadata": {},
   "outputs": [
    {
     "data": {
      "text/plain": [
       "2.0"
      ]
     },
     "execution_count": 44,
     "metadata": {},
     "output_type": "execute_result"
    }
   ],
   "source": [
    "6 + 2 * 8 / 4 - 2 ** 3"
   ]
  },
  {
   "cell_type": "code",
   "execution_count": 45,
   "id": "03447f07",
   "metadata": {},
   "outputs": [
    {
     "data": {
      "text/plain": [
       "512.0"
      ]
     },
     "execution_count": 45,
     "metadata": {},
     "output_type": "execute_result"
    }
   ],
   "source": [
    "(6 + 2) * (8 / (4 - 2)) ** 3"
   ]
  },
  {
   "cell_type": "code",
   "execution_count": 47,
   "id": "536fccdc",
   "metadata": {},
   "outputs": [
    {
     "data": {
      "text/plain": [
       "512.0"
      ]
     },
     "execution_count": 47,
     "metadata": {},
     "output_type": "execute_result"
    }
   ],
   "source": [
    "(6 + 2 ) * (8 / (4 - 2)) ** 3"
   ]
  },
  {
   "cell_type": "code",
   "execution_count": 48,
   "id": "4a9be618",
   "metadata": {},
   "outputs": [
    {
     "data": {
      "text/plain": [
       "8.0"
      ]
     },
     "execution_count": 48,
     "metadata": {},
     "output_type": "execute_result"
    }
   ],
   "source": [
    "(6 + 2 ) * 8 / (4 - 2) ** 3"
   ]
  },
  {
   "cell_type": "markdown",
   "id": "f39d7bf5",
   "metadata": {},
   "source": [
    "Asignacion Aumentada\n",
    "a = a + 10\n",
    "a += 10"
   ]
  },
  {
   "cell_type": "code",
   "execution_count": 2,
   "id": "3ee7f51e",
   "metadata": {},
   "outputs": [
    {
     "data": {
      "text/plain": [
       "80"
      ]
     },
     "execution_count": 2,
     "metadata": {},
     "output_type": "execute_result"
    }
   ],
   "source": [
    "total_cars = 100\n",
    "sold_cars = 20\n",
    "total_cars = total_cars - sold_cars\n",
    "total_cars"
   ]
  },
  {
   "cell_type": "code",
   "execution_count": 3,
   "id": "662db1cc",
   "metadata": {},
   "outputs": [
    {
     "data": {
      "text/plain": [
       "80"
      ]
     },
     "execution_count": 3,
     "metadata": {},
     "output_type": "execute_result"
    }
   ],
   "source": [
    "total_cars = 100\n",
    "sold_cars = 20\n",
    "total_cars -= sold_cars\n",
    "total_cars\n"
   ]
  },
  {
   "cell_type": "code",
   "execution_count": 4,
   "id": "5e2094e8",
   "metadata": {},
   "outputs": [
    {
     "data": {
      "text/plain": [
       "20"
      ]
     },
     "execution_count": 4,
     "metadata": {},
     "output_type": "execute_result"
    }
   ],
   "source": [
    "ramdon_number = 15\n",
    "ramdon_number += 5\n",
    "ramdon_number"
   ]
  },
  {
   "cell_type": "code",
   "execution_count": null,
   "id": "39838110",
   "metadata": {},
   "outputs": [],
   "source": []
  }
 ],
 "metadata": {
  "kernelspec": {
   "display_name": "Python 3 (ipykernel)",
   "language": "python",
   "name": "python3"
  },
  "language_info": {
   "codemirror_mode": {
    "name": "ipython",
    "version": 3
   },
   "file_extension": ".py",
   "mimetype": "text/x-python",
   "name": "python",
   "nbconvert_exporter": "python",
   "pygments_lexer": "ipython3",
   "version": "3.11.7"
  }
 },
 "nbformat": 4,
 "nbformat_minor": 5
}

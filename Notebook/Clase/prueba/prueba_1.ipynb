{
 "cells": [
  {
   "cell_type": "code",
   "execution_count": 5,
   "id": "8d99a608-3dcd-426d-918a-b6ae1190cc35",
   "metadata": {},
   "outputs": [
    {
     "name": "stdout",
     "output_type": "stream",
     "text": [
      "4\n"
     ]
    }
   ],
   "source": [
    "# Esta Línea es un comentario\n",
    "# Los comentarios son ignorados\n",
    "# Pueden ser una línea nueva\n",
    "print(2 + 2) # O puede acompañar una linea de código existente \n",
    "# print 2 + 3 Si comentamos al principio todo la línea será ignorada"
   ]
  },
  {
   "cell_type": "code",
   "execution_count": 6,
   "id": "901d021a-aca4-466d-9b83-b83cfa598665",
   "metadata": {},
   "outputs": [
    {
     "name": "stdout",
     "output_type": "stream",
     "text": [
      "hola\n"
     ]
    }
   ],
   "source": [
    "\"\"\"\n",
    "Comentario multilínea:\n",
    "Python\n",
    "lo\n",
    "ignorará\n",
    "\"\"\"\n",
    "\n",
    "print(\"hola\")"
   ]
  },
  {
   "cell_type": "code",
   "execution_count": 7,
   "id": "80411730-809e-4725-871f-4af4426f011f",
   "metadata": {
    "scrolled": true
   },
   "outputs": [
    {
     "data": {
      "text/plain": [
       "1"
      ]
     },
     "execution_count": 7,
     "metadata": {},
     "output_type": "execute_result"
    }
   ],
   "source": [
    "# Vamos a definir  la variable x y asignarle el valor 1\n",
    "x = 1 # Aquí está nuestra variable x\n",
    "# Esto es otro comentario \n",
    "# Y ninguno de los comentarios se ejecutará\n",
    "x"
   ]
  },
  {
   "cell_type": "code",
   "execution_count": 1,
   "id": "c40e1f37-80c8-4506-9c17-7849e0a0258b",
   "metadata": {},
   "outputs": [
    {
     "data": {
      "text/plain": [
       "'hola'"
      ]
     },
     "execution_count": 1,
     "metadata": {},
     "output_type": "execute_result"
    }
   ],
   "source": [
    "y = \"hola\"\n",
    "y"
   ]
  },
  {
   "cell_type": "code",
   "execution_count": 2,
   "id": "55026c4d",
   "metadata": {},
   "outputs": [
    {
     "data": {
      "text/plain": [
       "1"
      ]
     },
     "execution_count": 2,
     "metadata": {},
     "output_type": "execute_result"
    }
   ],
   "source": [
    "x = 1\n",
    "x"
   ]
  },
  {
   "cell_type": "code",
   "execution_count": 18,
   "id": "ef35d241",
   "metadata": {},
   "outputs": [
    {
     "data": {
      "text/plain": [
       "'anaPu'"
      ]
     },
     "execution_count": 18,
     "metadata": {},
     "output_type": "execute_result"
    }
   ],
   "source": [
    "nombreMascota = \"anaPu\"\n",
    "nombreMascota"
   ]
  },
  {
   "cell_type": "code",
   "execution_count": 21,
   "id": "3cd223e2",
   "metadata": {},
   "outputs": [
    {
     "data": {
      "text/plain": [
       "'TedyT'"
      ]
     },
     "execution_count": 21,
     "metadata": {},
     "output_type": "execute_result"
    }
   ],
   "source": [
    "NombreMascota = \"TedyT\"\n",
    "NombreMascota"
   ]
  },
  {
   "cell_type": "code",
   "execution_count": 22,
   "id": "2089362a",
   "metadata": {},
   "outputs": [
    {
     "data": {
      "text/plain": [
       "'pepe_p'"
      ]
     },
     "execution_count": 22,
     "metadata": {},
     "output_type": "execute_result"
    }
   ],
   "source": [
    "nombre_mascota = \"pepe_p\"\n",
    "nombre_mascota"
   ]
  },
  {
   "cell_type": "code",
   "execution_count": 24,
   "id": "7e2d2fce",
   "metadata": {},
   "outputs": [
    {
     "ename": "SyntaxError",
     "evalue": "cannot assign to expression here. Maybe you meant '==' instead of '='? (2247783122.py, line 1)",
     "output_type": "error",
     "traceback": [
      "\u001b[1;36m  Cell \u001b[1;32mIn[24], line 1\u001b[1;36m\u001b[0m\n\u001b[1;33m    nombre-mascota = \"tete-t\"\u001b[0m\n\u001b[1;37m    ^\u001b[0m\n\u001b[1;31mSyntaxError\u001b[0m\u001b[1;31m:\u001b[0m cannot assign to expression here. Maybe you meant '==' instead of '='?\n"
     ]
    }
   ],
   "source": [
    "nombre-mascota = \"tete-t\"\n",
    "nombre-mascota"
   ]
  },
  {
   "cell_type": "code",
   "execution_count": 26,
   "id": "671a8488",
   "metadata": {},
   "outputs": [
    {
     "data": {
      "text/plain": [
       "['False',\n",
       " 'None',\n",
       " 'True',\n",
       " 'and',\n",
       " 'as',\n",
       " 'assert',\n",
       " 'async',\n",
       " 'await',\n",
       " 'break',\n",
       " 'class',\n",
       " 'continue',\n",
       " 'def',\n",
       " 'del',\n",
       " 'elif',\n",
       " 'else',\n",
       " 'except',\n",
       " 'finally',\n",
       " 'for',\n",
       " 'from',\n",
       " 'global',\n",
       " 'if',\n",
       " 'import',\n",
       " 'in',\n",
       " 'is',\n",
       " 'lambda',\n",
       " 'nonlocal',\n",
       " 'not',\n",
       " 'or',\n",
       " 'pass',\n",
       " 'raise',\n",
       " 'return',\n",
       " 'try',\n",
       " 'while',\n",
       " 'with',\n",
       " 'yield']"
      ]
     },
     "execution_count": 26,
     "metadata": {},
     "output_type": "execute_result"
    }
   ],
   "source": [
    "import keyword\n",
    "keyword.kwlist\n"
   ]
  },
  {
   "cell_type": "markdown",
   "id": "02f13b28",
   "metadata": {},
   "source": [
    "Declarando múltiples variables en una sola línea"
   ]
  },
  {
   "cell_type": "code",
   "execution_count": 1,
   "id": "3108d279",
   "metadata": {},
   "outputs": [],
   "source": [
    "age, name = 22, \"Maria\""
   ]
  },
  {
   "cell_type": "code",
   "execution_count": 2,
   "id": "8b3c98c3",
   "metadata": {},
   "outputs": [
    {
     "data": {
      "text/plain": [
       "22"
      ]
     },
     "execution_count": 2,
     "metadata": {},
     "output_type": "execute_result"
    }
   ],
   "source": [
    "age"
   ]
  },
  {
   "cell_type": "code",
   "execution_count": 3,
   "id": "0505f1b3",
   "metadata": {},
   "outputs": [
    {
     "data": {
      "text/plain": [
       "'Maria'"
      ]
     },
     "execution_count": 3,
     "metadata": {},
     "output_type": "execute_result"
    }
   ],
   "source": [
    "name"
   ]
  },
  {
   "cell_type": "markdown",
   "id": "2e756262",
   "metadata": {},
   "source": [
    "Asignación Multiple"
   ]
  },
  {
   "cell_type": "code",
   "execution_count": 6,
   "id": "92f14620",
   "metadata": {},
   "outputs": [],
   "source": [
    "tres = theree = drei = 3"
   ]
  },
  {
   "cell_type": "code",
   "execution_count": 7,
   "id": "f53dc902",
   "metadata": {},
   "outputs": [
    {
     "data": {
      "text/plain": [
       "3"
      ]
     },
     "execution_count": 7,
     "metadata": {},
     "output_type": "execute_result"
    }
   ],
   "source": [
    "drei"
   ]
  },
  {
   "cell_type": "markdown",
   "id": "f004f049",
   "metadata": {},
   "source": [
    "Asignando una variable a otra variable "
   ]
  },
  {
   "cell_type": "code",
   "execution_count": 11,
   "id": "9983d1e8",
   "metadata": {},
   "outputs": [],
   "source": [
    "people  = 157503"
   ]
  },
  {
   "cell_type": "code",
   "execution_count": 12,
   "id": "91fff991",
   "metadata": {},
   "outputs": [],
   "source": [
    "total_population = people"
   ]
  },
  {
   "cell_type": "code",
   "execution_count": 13,
   "id": "bdaf59f3",
   "metadata": {},
   "outputs": [
    {
     "data": {
      "text/plain": [
       "157503"
      ]
     },
     "execution_count": 13,
     "metadata": {},
     "output_type": "execute_result"
    }
   ],
   "source": [
    "total_population"
   ]
  },
  {
   "cell_type": "markdown",
   "id": "7f9873b4",
   "metadata": {},
   "source": [
    "Conocer el valor de una variable "
   ]
  },
  {
   "cell_type": "code",
   "execution_count": 16,
   "id": "31a7ad83",
   "metadata": {},
   "outputs": [],
   "source": [
    "final_stock = 38934\n"
   ]
  },
  {
   "cell_type": "code",
   "execution_count": 18,
   "id": "cae78dca",
   "metadata": {},
   "outputs": [
    {
     "data": {
      "text/plain": [
       "38934"
      ]
     },
     "execution_count": 18,
     "metadata": {},
     "output_type": "execute_result"
    }
   ],
   "source": [
    "final_stock"
   ]
  },
  {
   "cell_type": "code",
   "execution_count": 19,
   "id": "3b45c135",
   "metadata": {},
   "outputs": [
    {
     "name": "stdout",
     "output_type": "stream",
     "text": [
      "38934\n"
     ]
    }
   ],
   "source": [
    "final_stock = 38934\n",
    "print(final_stock) "
   ]
  },
  {
   "cell_type": "markdown",
   "id": "ca35f180",
   "metadata": {},
   "source": [
    "Print sirve cuando estamos en una sesion interactiva de Python (shell)"
   ]
  },
  {
   "cell_type": "code",
   "execution_count": null,
   "id": "37a166ea",
   "metadata": {},
   "outputs": [],
   "source": []
  },
  {
   "cell_type": "code",
   "execution_count": null,
   "id": "af74586a",
   "metadata": {},
   "outputs": [],
   "source": []
  }
 ],
 "metadata": {
  "kernelspec": {
   "display_name": "Python 3 (ipykernel)",
   "language": "python",
   "name": "python3"
  },
  "language_info": {
   "codemirror_mode": {
    "name": "ipython",
    "version": 3
   },
   "file_extension": ".py",
   "mimetype": "text/x-python",
   "name": "python",
   "nbconvert_exporter": "python",
   "pygments_lexer": "ipython3",
   "version": "3.11.7"
  }
 },
 "nbformat": 4,
 "nbformat_minor": 5
}

{
 "cells": [
  {
   "cell_type": "markdown",
   "metadata": {},
   "source": [
    "# Programación Orientada a Objetos\n",
    "\n",
    "Ejemplos programáticos de clases de y objetos:\n",
    "\n",
    "a = 3.14                       # a es un ojeto de la clase float\n",
    "s = 'Marge'                    # s es un objeto de la clase str\n",
    "lst = [10, 20, 30]             # lst es un objeto de la clase  list\n",
    "tpl = ('a', 'b', 'c')          # tpl es un objeto de la clase tuple\n",
    "\n",
    "\n",
    "# Diferentes objetos de un tipo particular pueden contener diferentes datos, pero los mismos métodos\n",
    "\n",
    "s1 = 'Sonia' # s1 es un objeto tipo str\n",
    "s2 = 'Greta' # s2 es un objeto tipo str"
   ]
  },
  {
   "cell_type": "markdown",
   "metadata": {},
   "source": [
    "Definamos una clase definida por el usuario que llamaremos Empleado:"
   ]
  },
  {
   "cell_type": "code",
   "execution_count": 3,
   "metadata": {},
   "outputs": [
    {
     "name": "stdout",
     "output_type": "stream",
     "text": [
      "Julian 23 25000\n",
      "Thomas 25 30000\n"
     ]
    }
   ],
   "source": [
    "class Empleado:\n",
    "   def set_data(self, n, e, s):    # Self realiza acciones especificas construye el objeto con los valores\n",
    "        self.nombre = n\n",
    "        self.edad = e\n",
    "        self.salario = s\n",
    "      \n",
    "   def display_data(self):\n",
    "        print(self.nombre, self.edad, self.salario)\n",
    "  \n",
    "e1 = Empleado()\n",
    "e1.set_data('Julian', 23, 25000)   # set_data se utiliza para actualizar los datos de un objeto\n",
    "e1.display_data()                  # Se utiliza para imprimir los datos\n",
    "\n",
    "e2 = Empleado()\n",
    "e2.set_data('Thomas', 25, 30000)   # set_data se utiliza para actualizar los datos de un objeto\n",
    "e2.display_data()                  # Se utiliza para imprimir los datos"
   ]
  },
  {
   "cell_type": "markdown",
   "metadata": {},
   "source": [
    "Manera para iniciar un objeto:\n",
    "Método 1 : Usando métodos como get_data()/ set_data(). \n",
    "Método 2 : Usando el método especial __init__()- get_data() puede recibir datos del teclado en variables de datos de instancia. \n",
    "set_data() puede establecer datos de instancia con los valores que recibe. El \n",
    "beneficio de este método es que los datos permanecen protegidos de la \n",
    "manipulación desde fuera de la clase.- El beneficio de inicializar un objeto usando el método especial __init__() es que \n",
    "garantiza la inicialización, ya que __init__() siempre se llama cuando se crea un \n",
    "objeto\n",
    "\n",
    "Se ilustra ambos métodos"
   ]
  },
  {
   "cell_type": "code",
   "execution_count": 1,
   "metadata": {},
   "outputs": [
    {
     "name": "stdout",
     "output_type": "stream",
     "text": [
      "Julian 23 25000\n",
      "Thomas 25 30000\n",
      "Borrado Objeto<__main__.Empleado object at 0x000002250FAA9250>\n",
      "Borrado Objeto<__main__.Empleado object at 0x000002250FA58E50>\n"
     ]
    }
   ],
   "source": [
    "class Empleado:\n",
    "   def set_data(self, n, e, s):    \n",
    "        self.__nombre = n\n",
    "        self.__edad = e\n",
    "        self.__salario = s\n",
    "      \n",
    "   def display_data(self):\n",
    "        print(self.__nombre, self.__edad, self.__salario)\n",
    "        \n",
    "   def __init__(self, n = '', e = 0, s = 0.0):\n",
    "       self.__name =n     \n",
    "       self.__edad =e\n",
    "       self.__salario =s\n",
    "       \n",
    "   def __del__(self):\n",
    "       print('Borrado Objeto' + str(self))   \n",
    "       \n",
    "e1 = Empleado()\n",
    "e1.set_data('Julian', 23, 25000)   # set_data se utiliza para actualizar los datos de un objeto\n",
    "e1.display_data()                  # Se utiliza para imprimir los datos\n",
    "\n",
    "e2 = Empleado()\n",
    "e2.set_data('Thomas', 25, 30000)   # set_data se utiliza para actualizar los datos de un objeto\n",
    "e2.display_data()                  # Se utiliza para imprimir los datos\n",
    "\n",
    "e1 = None\n",
    "e2 = None"
   ]
  },
  {
   "cell_type": "markdown",
   "metadata": {},
   "source": [
    "Funciones vars( ) y dir( )\n",
    "\n",
    "Existen dos útiles funciones integradas (built-in) vars( ) y dir( ). De ellas, vars( ) devuelve \n",
    "un diccionario de atributos y sus valores, mientras que dir( ) devuelve una lista de \n",
    "atributos.\n",
    " Ejemplo:"
   ]
  },
  {
   "cell_type": "code",
   "execution_count": 4,
   "metadata": {},
   "outputs": [
    {
     "name": "stdout",
     "output_type": "stream",
     "text": [
      "{'__name__': '__main__', '__doc__': 'Automatically created module for IPython interactive environment', '__package__': None, '__loader__': None, '__spec__': None, '__builtin__': <module 'builtins' (built-in)>, '__builtins__': <module 'builtins' (built-in)>, '_ih': ['', \"class Empleado:\\n   def set_data(self, n, e, s):    \\n        self.__nombre = n\\n        self.__edad = e\\n        self.__salario = s\\n      \\n   def display_data(self):\\n        print(self.__nombre, self.__edad, self.__salario)\\n        \\n   def __init__(self, n = '', e = 0, s = 0.0):\\n       self.__name =n     \\n       self.__edad =e\\n       self.__salario =s\\n       \\n   def __del__(self):\\n       print('Borrado Objeto' + str(self))   \\n       \\ne1 = Empleado()\\ne1.set_data('Julian', 23, 25000)   # set_data se utiliza para actualizar los datos de un objeto\\ne1.display_data()                  # Se utiliza para imprimir los datos\\n\\ne2 = Empleado()\\ne2.set_data('Thomas', 25, 30000)   # set_data se utiliza para actualizar los datos de un objeto\\ne2.display_data()                  # Se utiliza para imprimir los datos\\n\\ne1 = None\\ne2 = None\", 'class Empleado:\\n    def __init__(self, n, e, s):\\n        self.__nombre = n\\n        self.__edad = e\\n        self.__salario = s\\n\\n    def set_data(self, n, e, s):\\n        self.__nombre = n\\n        self.__edad = e\\n        self.__salario = s\\n\\n    def display_data(self):\\n        print(self.__nombre, self.__edad, self.__salario)', \"class Empleado:\\n    def __init__(self, n='', e=0, s=0.0):\\n        self.__nombre = n\\n        self.__edad = e\\n        self.__salario = s\\n\\n    def set_data(self, n, e, s):\\n        self.__nombre = n\\n        self.__edad = e\\n        self.__salario = s\\n\\n    def display_data(self):\\n        print(self.__nombre, self.__edad, self.__salario)\\n\\n    def __del__(self):\\n        print('Borrado Objeto ' + str(self))\\n\\n# Creación y uso de los objetos empleado\\ne1 = Empleado()\\ne1.set_data('Julian', 23, 25000)\\ne1.display_data()\\n\\ne2 = Empleado()\\ne2.set_data('Thomas', 25, 30000)\\ne2.display_data()\\n\\n# Los objetos se eliminarán automáticamente cuando ya no estén en uso\\n# o puedes eliminarlos manualmente asignando None\\ne1 = None\\ne2 = None\", \"import math\\na = 125\\ns = 'Cadena'\\n\\nprint(vars(), end='\\\\n') # imprime un diccionario de atributos en el módulo actual\\nprint(vars(math))       # imprimi dict de atributos en el módulo math\\nprint(dir())            # imprime una lista de atributos del modulo actual.\\nprint(dir(math))\"], '_oh': {}, '_dh': [WindowsPath('c:/Users/nanaw/Documents/Estudio Angelica/Tajamar/Data science/MODULO 5/Curso_PYTHON/Notebook/Clase')], 'In': ['', \"class Empleado:\\n   def set_data(self, n, e, s):    \\n        self.__nombre = n\\n        self.__edad = e\\n        self.__salario = s\\n      \\n   def display_data(self):\\n        print(self.__nombre, self.__edad, self.__salario)\\n        \\n   def __init__(self, n = '', e = 0, s = 0.0):\\n       self.__name =n     \\n       self.__edad =e\\n       self.__salario =s\\n       \\n   def __del__(self):\\n       print('Borrado Objeto' + str(self))   \\n       \\ne1 = Empleado()\\ne1.set_data('Julian', 23, 25000)   # set_data se utiliza para actualizar los datos de un objeto\\ne1.display_data()                  # Se utiliza para imprimir los datos\\n\\ne2 = Empleado()\\ne2.set_data('Thomas', 25, 30000)   # set_data se utiliza para actualizar los datos de un objeto\\ne2.display_data()                  # Se utiliza para imprimir los datos\\n\\ne1 = None\\ne2 = None\", 'class Empleado:\\n    def __init__(self, n, e, s):\\n        self.__nombre = n\\n        self.__edad = e\\n        self.__salario = s\\n\\n    def set_data(self, n, e, s):\\n        self.__nombre = n\\n        self.__edad = e\\n        self.__salario = s\\n\\n    def display_data(self):\\n        print(self.__nombre, self.__edad, self.__salario)', \"class Empleado:\\n    def __init__(self, n='', e=0, s=0.0):\\n        self.__nombre = n\\n        self.__edad = e\\n        self.__salario = s\\n\\n    def set_data(self, n, e, s):\\n        self.__nombre = n\\n        self.__edad = e\\n        self.__salario = s\\n\\n    def display_data(self):\\n        print(self.__nombre, self.__edad, self.__salario)\\n\\n    def __del__(self):\\n        print('Borrado Objeto ' + str(self))\\n\\n# Creación y uso de los objetos empleado\\ne1 = Empleado()\\ne1.set_data('Julian', 23, 25000)\\ne1.display_data()\\n\\ne2 = Empleado()\\ne2.set_data('Thomas', 25, 30000)\\ne2.display_data()\\n\\n# Los objetos se eliminarán automáticamente cuando ya no estén en uso\\n# o puedes eliminarlos manualmente asignando None\\ne1 = None\\ne2 = None\", \"import math\\na = 125\\ns = 'Cadena'\\n\\nprint(vars(), end='\\\\n') # imprime un diccionario de atributos en el módulo actual\\nprint(vars(math))       # imprimi dict de atributos en el módulo math\\nprint(dir())            # imprime una lista de atributos del modulo actual.\\nprint(dir(math))\"], 'Out': {}, 'get_ipython': <bound method InteractiveShell.get_ipython of <ipykernel.zmqshell.ZMQInteractiveShell object at 0x000002250FA68B90>>, 'exit': <IPython.core.autocall.ZMQExitAutocall object at 0x000002250FA81310>, 'quit': <IPython.core.autocall.ZMQExitAutocall object at 0x000002250FA81310>, 'open': <function open at 0x000002250DA5EDE0>, '_': '', '__': '', '___': '', '__vsc_ipynb_file__': 'c:\\\\Users\\\\nanaw\\\\Documents\\\\Estudio Angelica\\\\Tajamar\\\\Data science\\\\MODULO 5\\\\Curso_PYTHON\\\\Notebook\\\\Clase\\\\Clase-Objetos.ipynb', '_i': \"class Empleado:\\n    def __init__(self, n='', e=0, s=0.0):\\n        self.__nombre = n\\n        self.__edad = e\\n        self.__salario = s\\n\\n    def set_data(self, n, e, s):\\n        self.__nombre = n\\n        self.__edad = e\\n        self.__salario = s\\n\\n    def display_data(self):\\n        print(self.__nombre, self.__edad, self.__salario)\\n\\n    def __del__(self):\\n        print('Borrado Objeto ' + str(self))\\n\\n# Creación y uso de los objetos empleado\\ne1 = Empleado()\\ne1.set_data('Julian', 23, 25000)\\ne1.display_data()\\n\\ne2 = Empleado()\\ne2.set_data('Thomas', 25, 30000)\\ne2.display_data()\\n\\n# Los objetos se eliminarán automáticamente cuando ya no estén en uso\\n# o puedes eliminarlos manualmente asignando None\\ne1 = None\\ne2 = None\", '_ii': 'class Empleado:\\n    def __init__(self, n, e, s):\\n        self.__nombre = n\\n        self.__edad = e\\n        self.__salario = s\\n\\n    def set_data(self, n, e, s):\\n        self.__nombre = n\\n        self.__edad = e\\n        self.__salario = s\\n\\n    def display_data(self):\\n        print(self.__nombre, self.__edad, self.__salario)', '_iii': \"class Empleado:\\n   def set_data(self, n, e, s):    \\n        self.__nombre = n\\n        self.__edad = e\\n        self.__salario = s\\n      \\n   def display_data(self):\\n        print(self.__nombre, self.__edad, self.__salario)\\n        \\n   def __init__(self, n = '', e = 0, s = 0.0):\\n       self.__name =n     \\n       self.__edad =e\\n       self.__salario =s\\n       \\n   def __del__(self):\\n       print('Borrado Objeto' + str(self))   \\n       \\ne1 = Empleado()\\ne1.set_data('Julian', 23, 25000)   # set_data se utiliza para actualizar los datos de un objeto\\ne1.display_data()                  # Se utiliza para imprimir los datos\\n\\ne2 = Empleado()\\ne2.set_data('Thomas', 25, 30000)   # set_data se utiliza para actualizar los datos de un objeto\\ne2.display_data()                  # Se utiliza para imprimir los datos\\n\\ne1 = None\\ne2 = None\", '_i1': \"class Empleado:\\n   def set_data(self, n, e, s):    \\n        self.__nombre = n\\n        self.__edad = e\\n        self.__salario = s\\n      \\n   def display_data(self):\\n        print(self.__nombre, self.__edad, self.__salario)\\n        \\n   def __init__(self, n = '', e = 0, s = 0.0):\\n       self.__name =n     \\n       self.__edad =e\\n       self.__salario =s\\n       \\n   def __del__(self):\\n       print('Borrado Objeto' + str(self))   \\n       \\ne1 = Empleado()\\ne1.set_data('Julian', 23, 25000)   # set_data se utiliza para actualizar los datos de un objeto\\ne1.display_data()                  # Se utiliza para imprimir los datos\\n\\ne2 = Empleado()\\ne2.set_data('Thomas', 25, 30000)   # set_data se utiliza para actualizar los datos de un objeto\\ne2.display_data()                  # Se utiliza para imprimir los datos\\n\\ne1 = None\\ne2 = None\", 'Empleado': <class '__main__.Empleado'>, 'e1': None, 'e2': None, '_i2': 'class Empleado:\\n    def __init__(self, n, e, s):\\n        self.__nombre = n\\n        self.__edad = e\\n        self.__salario = s\\n\\n    def set_data(self, n, e, s):\\n        self.__nombre = n\\n        self.__edad = e\\n        self.__salario = s\\n\\n    def display_data(self):\\n        print(self.__nombre, self.__edad, self.__salario)', '_i3': \"class Empleado:\\n    def __init__(self, n='', e=0, s=0.0):\\n        self.__nombre = n\\n        self.__edad = e\\n        self.__salario = s\\n\\n    def set_data(self, n, e, s):\\n        self.__nombre = n\\n        self.__edad = e\\n        self.__salario = s\\n\\n    def display_data(self):\\n        print(self.__nombre, self.__edad, self.__salario)\\n\\n    def __del__(self):\\n        print('Borrado Objeto ' + str(self))\\n\\n# Creación y uso de los objetos empleado\\ne1 = Empleado()\\ne1.set_data('Julian', 23, 25000)\\ne1.display_data()\\n\\ne2 = Empleado()\\ne2.set_data('Thomas', 25, 30000)\\ne2.display_data()\\n\\n# Los objetos se eliminarán automáticamente cuando ya no estén en uso\\n# o puedes eliminarlos manualmente asignando None\\ne1 = None\\ne2 = None\", '_i4': \"import math\\na = 125\\ns = 'Cadena'\\n\\nprint(vars(), end='\\\\n') # imprime un diccionario de atributos en el módulo actual\\nprint(vars(math))       # imprimi dict de atributos en el módulo math\\nprint(dir())            # imprime una lista de atributos del modulo actual.\\nprint(dir(math))\", 'math': <module 'math' (built-in)>, 'a': 125, 's': 'Cadena'}\n",
      "{'__name__': 'math', '__doc__': 'This module provides access to the mathematical functions\\ndefined by the C standard.', '__package__': '', '__loader__': <class '_frozen_importlib.BuiltinImporter'>, '__spec__': ModuleSpec(name='math', loader=<class '_frozen_importlib.BuiltinImporter'>, origin='built-in'), 'acos': <built-in function acos>, 'acosh': <built-in function acosh>, 'asin': <built-in function asin>, 'asinh': <built-in function asinh>, 'atan': <built-in function atan>, 'atan2': <built-in function atan2>, 'atanh': <built-in function atanh>, 'cbrt': <built-in function cbrt>, 'ceil': <built-in function ceil>, 'copysign': <built-in function copysign>, 'cos': <built-in function cos>, 'cosh': <built-in function cosh>, 'degrees': <built-in function degrees>, 'dist': <built-in function dist>, 'erf': <built-in function erf>, 'erfc': <built-in function erfc>, 'exp': <built-in function exp>, 'exp2': <built-in function exp2>, 'expm1': <built-in function expm1>, 'fabs': <built-in function fabs>, 'factorial': <built-in function factorial>, 'floor': <built-in function floor>, 'fmod': <built-in function fmod>, 'frexp': <built-in function frexp>, 'fsum': <built-in function fsum>, 'gamma': <built-in function gamma>, 'gcd': <built-in function gcd>, 'hypot': <built-in function hypot>, 'isclose': <built-in function isclose>, 'isfinite': <built-in function isfinite>, 'isinf': <built-in function isinf>, 'isnan': <built-in function isnan>, 'isqrt': <built-in function isqrt>, 'lcm': <built-in function lcm>, 'ldexp': <built-in function ldexp>, 'lgamma': <built-in function lgamma>, 'log': <built-in function log>, 'log1p': <built-in function log1p>, 'log10': <built-in function log10>, 'log2': <built-in function log2>, 'modf': <built-in function modf>, 'pow': <built-in function pow>, 'radians': <built-in function radians>, 'remainder': <built-in function remainder>, 'sin': <built-in function sin>, 'sinh': <built-in function sinh>, 'sqrt': <built-in function sqrt>, 'tan': <built-in function tan>, 'tanh': <built-in function tanh>, 'trunc': <built-in function trunc>, 'prod': <built-in function prod>, 'perm': <built-in function perm>, 'comb': <built-in function comb>, 'nextafter': <built-in function nextafter>, 'ulp': <built-in function ulp>, 'pi': 3.141592653589793, 'e': 2.718281828459045, 'tau': 6.283185307179586, 'inf': inf, 'nan': nan}\n",
      "['Empleado', 'In', 'Out', '_', '__', '___', '__builtin__', '__builtins__', '__doc__', '__loader__', '__name__', '__package__', '__spec__', '__vsc_ipynb_file__', '_dh', '_i', '_i1', '_i2', '_i3', '_i4', '_ih', '_ii', '_iii', '_oh', 'a', 'e1', 'e2', 'exit', 'get_ipython', 'math', 'open', 'quit', 's']\n",
      "['__doc__', '__loader__', '__name__', '__package__', '__spec__', 'acos', 'acosh', 'asin', 'asinh', 'atan', 'atan2', 'atanh', 'cbrt', 'ceil', 'comb', 'copysign', 'cos', 'cosh', 'degrees', 'dist', 'e', 'erf', 'erfc', 'exp', 'exp2', 'expm1', 'fabs', 'factorial', 'floor', 'fmod', 'frexp', 'fsum', 'gamma', 'gcd', 'hypot', 'inf', 'isclose', 'isfinite', 'isinf', 'isnan', 'isqrt', 'lcm', 'ldexp', 'lgamma', 'log', 'log10', 'log1p', 'log2', 'modf', 'nan', 'nextafter', 'perm', 'pi', 'pow', 'prod', 'radians', 'remainder', 'sin', 'sinh', 'sqrt', 'tan', 'tanh', 'tau', 'trunc', 'ulp']\n"
     ]
    }
   ],
   "source": [
    "import math\n",
    "a = 125\n",
    "s = 'Cadena'\n",
    "\n",
    "print(vars(), end='\\n') # imprime un diccionario de atributos en el módulo actual\n",
    "print(vars(math))       # imprimi dict de atributos en el módulo math\n",
    "print(dir())            # imprime una lista de atributos del modulo actual.\n",
    "print(dir(math))\n"
   ]
  },
  {
   "cell_type": "code",
   "execution_count": 6,
   "metadata": {},
   "outputs": [
    {
     "name": "stdout",
     "output_type": "stream",
     "text": [
      "{'__module__': '__main__', 'count': 1, '__init__': <function Fruta.__init__ at 0x00000225104D34C0>, 'display': <function Fruta.display at 0x00000225104D32E0>, '__dict__': <attribute '__dict__' of 'Fruta' objects>, '__weakref__': <attribute '__weakref__' of 'Fruta' objects>, '__doc__': None}\n",
      "['__class__', '__delattr__', '__dict__', '__dir__', '__doc__', '__eq__', '__format__', '__ge__', '__getattribute__', '__getstate__', '__gt__', '__hash__', '__init__', '__init_subclass__', '__le__', '__lt__', '__module__', '__ne__', '__new__', '__reduce__', '__reduce_ex__', '__repr__', '__setattr__', '__sizeof__', '__str__', '__subclasshook__', '__weakref__', 'count', 'display']\n",
      "{'_Fruta__nombre': 'Banana', '_Fruta__tamaño': 5, '_Fruta__color': 'Amarillo'}\n",
      "['_Fruta__color', '_Fruta__nombre', '_Fruta__tamaño', '__class__', '__delattr__', '__dict__', '__dir__', '__doc__', '__eq__', '__format__', '__ge__', '__getattribute__', '__getstate__', '__gt__', '__hash__', '__init__', '__init_subclass__', '__le__', '__lt__', '__module__', '__ne__', '__new__', '__reduce__', '__reduce_ex__', '__repr__', '__setattr__', '__sizeof__', '__str__', '__subclasshook__', '__weakref__', 'count', 'display']\n"
     ]
    }
   ],
   "source": [
    "class Fruta:\n",
    "    count = 0\n",
    "    \n",
    "    def __init__(self, nombre = '', tamaño = 0, color = ''):\n",
    "        self.__nombre = nombre\n",
    "        self.__tamaño = tamaño\n",
    "        self.__color = color\n",
    "        Fruta.count += 1\n",
    "        \n",
    "    def display():\n",
    "        print(Fruta.count)\n",
    "        \n",
    "f1 = Fruta('Banana', 5, 'Amarillo')\n",
    "print(vars(Fruta))\n",
    "print(dir(Fruta))\n",
    "print(vars(f1))\n",
    "print(dir(f1))                "
   ]
  },
  {
   "cell_type": "markdown",
   "metadata": {},
   "source": [
    "Funciones vars( ) y dir( )\n",
    "- Cuando se utiliza con class, vars( ) devuelve un diccionario de los atributos de la clase y \n",
    "sus valores.- Por otro lado, la función dir( ) simplemente devuelve una lista de sus atributos.- - \n",
    "Cuando se utiliza con object, vars( ) devuelve un diccionario de los atributos del objeto \n",
    "y sus valores. Además, también devuelve los atributos de la clase del objeto, y \n",
    "recursivamente los atributos de las clases base de su clase.\n",
    " Cuando se utiliza con object, dir( ) devuelve una lista de los atributos del objeto, los \n",
    "atributos de la clase del objeto y, recursivamente, los atributos de las clases base de su \n",
    "clase.\n"
   ]
  },
  {
   "cell_type": "code",
   "execution_count": null,
   "metadata": {},
   "outputs": [],
   "source": []
  },
  {
   "cell_type": "markdown",
   "metadata": {},
   "source": []
  }
 ],
 "metadata": {
  "kernelspec": {
   "display_name": "Curso_Python",
   "language": "python",
   "name": "python3"
  },
  "language_info": {
   "codemirror_mode": {
    "name": "ipython",
    "version": 3
   },
   "file_extension": ".py",
   "mimetype": "text/x-python",
   "name": "python",
   "nbconvert_exporter": "python",
   "pygments_lexer": "ipython3",
   "version": "3.11.9"
  }
 },
 "nbformat": 4,
 "nbformat_minor": 2
}

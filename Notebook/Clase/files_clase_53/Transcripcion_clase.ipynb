{
 "cells": [
  {
   "cell_type": "markdown",
   "id": "0bbea514",
   "metadata": {},
   "source": [
    "json "
   ]
  },
  {
   "cell_type": "code",
   "execution_count": 5,
   "id": "9219e392",
   "metadata": {},
   "outputs": [],
   "source": [
    "import json"
   ]
  },
  {
   "cell_type": "code",
   "execution_count": 8,
   "id": "bc4041d2",
   "metadata": {},
   "outputs": [],
   "source": [
    "contactos =[\n",
    "    (\"Manuel\",\"Desarrolador Web\",\"manuel@ejemplo.com\"),\n",
    "    (\"Lorena\",\"Gestora de proyectos\",\"lorena@ejemplo.com\"),\n",
    "    (\"Javier\",\"Analista de datos\",\"javier@ejemplo.com\"),\n",
    "    (\"Marta\",\"Experta en Python\",\"marta@ejemplo.com\")\n",
    "]\n",
    "\n",
    "datos = []\n",
    "\n",
    "for nombre, empleo, email in contactos:\n",
    "    datos.append({\"nombre\":nombre, \"empleo\":empleo, \"email\":email})"
   ]
  },
  {
   "cell_type": "code",
   "execution_count": 9,
   "id": "0a6dbd63",
   "metadata": {},
   "outputs": [
    {
     "data": {
      "text/plain": [
       "[{'nombre': 'Manuel',\n",
       "  'empleo': 'Desarrolador Web',\n",
       "  'email': 'manuel@ejemplo.com'},\n",
       " {'nombre': 'Lorena',\n",
       "  'empleo': 'Gestora de proyectos',\n",
       "  'email': 'lorena@ejemplo.com'},\n",
       " {'nombre': 'Javier',\n",
       "  'empleo': 'Analista de datos',\n",
       "  'email': 'javier@ejemplo.com'},\n",
       " {'nombre': 'Marta',\n",
       "  'empleo': 'Experta en Python',\n",
       "  'email': 'marta@ejemplo.com'}]"
      ]
     },
     "execution_count": 9,
     "metadata": {},
     "output_type": "execute_result"
    }
   ],
   "source": [
    "datos"
   ]
  },
  {
   "cell_type": "markdown",
   "id": "1779fa73",
   "metadata": {},
   "source": [
    "Volcamos la lista a un nuevo fichero en formato json:"
   ]
  },
  {
   "cell_type": "code",
   "execution_count": 10,
   "id": "f3f80572",
   "metadata": {},
   "outputs": [],
   "source": [
    "with open(\"contactos.json\", \"w\")as jsonfile:\n",
    "    json.dump(datos, jsonfile)"
   ]
  },
  {
   "cell_type": "code",
   "execution_count": 11,
   "id": "dcafef1e",
   "metadata": {},
   "outputs": [
    {
     "data": {
      "text/plain": [
       "[{'nombre': 'Manuel',\n",
       "  'empleo': 'Desarrolador Web',\n",
       "  'email': 'manuel@ejemplo.com'},\n",
       " {'nombre': 'Lorena',\n",
       "  'empleo': 'Gestora de proyectos',\n",
       "  'email': 'lorena@ejemplo.com'},\n",
       " {'nombre': 'Javier',\n",
       "  'empleo': 'Analista de datos',\n",
       "  'email': 'javier@ejemplo.com'},\n",
       " {'nombre': 'Marta',\n",
       "  'empleo': 'Experta en Python',\n",
       "  'email': 'marta@ejemplo.com'}]"
      ]
     },
     "execution_count": 11,
     "metadata": {},
     "output_type": "execute_result"
    }
   ],
   "source": [
    "datos"
   ]
  },
  {
   "cell_type": "code",
   "execution_count": null,
   "id": "833dad23",
   "metadata": {},
   "outputs": [],
   "source": []
  },
  {
   "cell_type": "code",
   "execution_count": null,
   "id": "53aec209",
   "metadata": {},
   "outputs": [],
   "source": []
  },
  {
   "cell_type": "code",
   "execution_count": null,
   "id": "2b609298",
   "metadata": {},
   "outputs": [],
   "source": []
  }
 ],
 "metadata": {
  "kernelspec": {
   "display_name": "Python 3 (ipykernel)",
   "language": "python",
   "name": "python3"
  },
  "language_info": {
   "codemirror_mode": {
    "name": "ipython",
    "version": 3
   },
   "file_extension": ".py",
   "mimetype": "text/x-python",
   "name": "python",
   "nbconvert_exporter": "python",
   "pygments_lexer": "ipython3",
   "version": "3.11.7"
  }
 },
 "nbformat": 4,
 "nbformat_minor": 5
}

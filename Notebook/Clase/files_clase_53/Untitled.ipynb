{
 "cells": [
  {
   "cell_type": "markdown",
   "id": "ae78ac56",
   "metadata": {},
   "source": [
    "Creación y escritura    io"
   ]
  },
  {
   "cell_type": "code",
   "execution_count": 4,
   "id": "5c9a937e",
   "metadata": {},
   "outputs": [],
   "source": [
    "from io import open # Desde Jupyter notebook no es necesario importar open \n",
    "texto = \"Una línea con texto\\nOtra línea con texto\"\n",
    "\n",
    "# Ruta donde crearemos el fichero, w indica la escritura (puntero al principio)\n",
    "fichero = open('fichero.txt','w')\n",
    "\n",
    "# Escribimos el texto \n",
    "fichero.write(texto)    \n",
    "\n",
    "# Cerramos el fichero\n",
    "fichero.close()"
   ]
  },
  {
   "cell_type": "markdown",
   "id": "5fecb18c",
   "metadata": {},
   "source": [
    "Lectura"
   ]
  },
  {
   "cell_type": "code",
   "execution_count": 5,
   "id": "f2d0227b",
   "metadata": {},
   "outputs": [
    {
     "name": "stdout",
     "output_type": "stream",
     "text": [
      "Una línea con texto\n",
      "Otra línea con texto\n"
     ]
    }
   ],
   "source": [
    "from io import open \n",
    "\n",
    "# ruta donde leeremos el fichero , r indica léctura (por defectoya es r)\n",
    "fichero = open('fichero.txt','r')\n",
    "\n",
    "# Lectura completa\n",
    "texto = fichero.read()\n",
    "\n",
    "# Cerramos el fichero\n",
    "fichero.close()\n",
    "\n",
    "print(texto)\n"
   ]
  },
  {
   "cell_type": "markdown",
   "id": "afabd817",
   "metadata": {},
   "source": [
    "Podemos usar el método readlines() del fichero para general una lista con líneas:"
   ]
  },
  {
   "cell_type": "code",
   "execution_count": 7,
   "id": "bb8274d8",
   "metadata": {},
   "outputs": [
    {
     "name": "stdout",
     "output_type": "stream",
     "text": [
      "['Una línea con texto\\n', 'Otra línea con texto']\n"
     ]
    }
   ],
   "source": [
    "from io  import open \n",
    "fichero = open('fichero.txt', 'r')\n",
    "\n",
    "#Leemos creando una lista de líneas\n",
    "texto = fichero.readlines()\n",
    "\n",
    "fichero.close()\n",
    "print(texto)\n",
    "                "
   ]
  },
  {
   "cell_type": "markdown",
   "id": "a8214261",
   "metadata": {},
   "source": [
    "También se puede leer un fichero utilizando la instrucción estándar with de la siguiente forma:"
   ]
  },
  {
   "cell_type": "code",
   "execution_count": 8,
   "id": "a663d90f",
   "metadata": {},
   "outputs": [
    {
     "name": "stdout",
     "output_type": "stream",
     "text": [
      "Una línea con texto\n",
      "\n",
      "Otra línea con texto\n"
     ]
    }
   ],
   "source": [
    "with open('fichero.txt', 'r') as fichero:\n",
    "    for linea in fichero:\n",
    "        print(linea)\n",
    "\n"
   ]
  },
  {
   "cell_type": "markdown",
   "id": "bddf2978",
   "metadata": {},
   "source": [
    "Extensión : este modo nos permite añadir datos al final de un fichero:"
   ]
  },
  {
   "cell_type": "code",
   "execution_count": 12,
   "id": "80e9a7ce",
   "metadata": {},
   "outputs": [],
   "source": [
    "from io import open\n",
    "\n",
    "# ruta donde leeremos el fichero, a indicar extensión(puntero al final) \n",
    "fichero = open('fichero.txt', 'a')\n",
    "fichero.write('\\nOtra línea más abajo del todo')\n",
    "fichero.close()"
   ]
  },
  {
   "cell_type": "markdown",
   "id": "84c22157",
   "metadata": {},
   "source": [
    "la variante 'a+' nos permite crear el fichero si no existe:"
   ]
  },
  {
   "cell_type": "code",
   "execution_count": 10,
   "id": "740f71af",
   "metadata": {},
   "outputs": [],
   "source": [
    "fichero = open('fichero_inventario.txt','a+') "
   ]
  },
  {
   "cell_type": "markdown",
   "id": "cbdea1fd",
   "metadata": {},
   "source": [
    "Manejando el puntero: es posible posicionar el puntero en el fichero manualmente usando el método seek e indicado el número de caracteres para luego leer una cantidad de caracteres con el método read: "
   ]
  },
  {
   "cell_type": "code",
   "execution_count": 13,
   "id": "812970ef",
   "metadata": {},
   "outputs": [
    {
     "data": {
      "text/plain": [
       "'Una línea '"
      ]
     },
     "execution_count": 13,
     "metadata": {},
     "output_type": "execute_result"
    }
   ],
   "source": [
    "fichero = open('fichero.txt','r')\n",
    "fichero.seek(0) # Puntero al principio\n",
    "fichero.read(10) # Leemos 10 carácteres\n",
    "\n"
   ]
  },
  {
   "cell_type": "code",
   "execution_count": 14,
   "id": "20c2a54d",
   "metadata": {},
   "outputs": [
    {
     "data": {
      "text/plain": [
       "'\\nOtra línea con texto\\nOtra línea más abajo del todo'"
      ]
     },
     "execution_count": 14,
     "metadata": {},
     "output_type": "execute_result"
    }
   ],
   "source": [
    "fichero = open('fichero.txt', 'r')\n",
    "fichero.seek(0)\n",
    "\n",
    "#Leemos la primera línea y situamos el puntero al principio de la segunda\n",
    "fichero.seek(len(fichero.readline()))\n",
    "\n",
    "# Leemos todo lo que queda del puntero  hasta el final\n",
    "fichero.read()  "
   ]
  },
  {
   "cell_type": "markdown",
   "id": "593ac665",
   "metadata": {},
   "source": [
    "Lectura con escritura : \n",
    "Se puede abrir un fichero en modo lectura con escritura, pero éste debe existir préviamente. Además por defecto el puntero estará al principio y si escribimos algo sobreescribiremos el contenido actual, así que prestad atención a los saltos de línea y caracteres especiales:"
   ]
  },
  {
   "cell_type": "code",
   "execution_count": 3,
   "id": "b1910589",
   "metadata": {},
   "outputs": [],
   "source": [
    "# Creamos un fichero de prueba con 4 líneas\n",
    "fichero = open('fichero2.txt','w')\n",
    "texto = \"Línea 1\\nLínea 2\\nLínea 3\\nLínea 4\"\n",
    "fichero.write(texto)\n",
    "fichero.close()\n",
    "\n",
    "# Lo abrimos con lectura con escritura y escribimos algo\n",
    "fichero = open('fichero2.txt','r+')\n",
    "fichero.write(\"0123456\")\n",
    "\n",
    "# Volvemoa a poner el puntero  al inicio y leemos  hasta el final\n",
    "fichero.seek(0)\n",
    "fichero.read() \n",
    "fichero.close()  "
   ]
  },
  {
   "cell_type": "markdown",
   "id": "ded9e178",
   "metadata": {},
   "source": [
    "Modificar una línea :Para lograr este fin lo mejor es leer todas las líneas de una lista, posicionar el puntero al principio y escribir denuevo todas las líneas:"
   ]
  },
  {
   "cell_type": "code",
   "execution_count": 4,
   "id": "4d50a99a",
   "metadata": {},
   "outputs": [
    {
     "name": "stdout",
     "output_type": "stream",
     "text": [
      "01234561\n",
      "Línea 2\n",
      "Esta es la línea 3 modificada\n",
      "Línea 4\n"
     ]
    }
   ],
   "source": [
    "fichero = open('fichero2.txt','r+')\n",
    "texto = fichero.readlines()\n",
    "\n",
    "# Modificamos la línea que queramos a partir de índice\n",
    "texto[2] = \"Esta es la línea 3 modificada\\n\"\n",
    "\n",
    "# Volvemos a ponter el puntero al inicio y reescribimos\n",
    "fichero.seek(0)\n",
    "fichero.writelines(texto)\n",
    "fichero.close()\n",
    "\n",
    "# Leemos el fichero de nuevo\n",
    "with open(\"fichero2.txt\",\"r\")as fichero:\n",
    "    print(fichero.read())\n"
   ]
  },
  {
   "cell_type": "markdown",
   "id": "694c3a57",
   "metadata": {},
   "source": [
    "Module pickle : Este módulo nos permite almacenar fácilmente colecciones y objetos en ficheros binarios abstrayendo toda la parte de escritura y lectura binaria.\n",
    "Escritura de colecciones"
   ]
  },
  {
   "cell_type": "code",
   "execution_count": 5,
   "id": "6246a9d6",
   "metadata": {},
   "outputs": [],
   "source": [
    "import pickle\n",
    "\n",
    "# Podemos guardar lo que queremos, listas,diccionarios,tuplas...\n",
    "lista = [1,2,3,4,5]\n",
    "\n",
    "# Escritura en modo binario, vacía el fichero si existe\n",
    "fichero = open('lista.pckl','wb')\n",
    "\n",
    "# Escribe la colección en el fichero\n",
    "pickle.dump(lista,fichero)\n",
    "\n",
    "fichero.close()"
   ]
  },
  {
   "cell_type": "markdown",
   "id": "3af43275",
   "metadata": {},
   "source": [
    "Lectura de colecciones "
   ]
  },
  {
   "cell_type": "code",
   "execution_count": 6,
   "id": "5ce0d4a4",
   "metadata": {},
   "outputs": [],
   "source": [
    "# Lectura en modo binario\n",
    "fichero = open('lista.pckl','rb')"
   ]
  },
  {
   "cell_type": "code",
   "execution_count": 7,
   "id": "3a20f2e4",
   "metadata": {},
   "outputs": [
    {
     "name": "stdout",
     "output_type": "stream",
     "text": [
      "[1, 2, 3, 4, 5]\n"
     ]
    }
   ],
   "source": [
    "# Cargamos los datos del fichero \n",
    "lista_fichero = pickle.load(fichero)\n",
    "print(lista_fichero)\n",
    "\n",
    "fichero.close()"
   ]
  },
  {
   "cell_type": "code",
   "execution_count": null,
   "id": "3d4f15ab",
   "metadata": {},
   "outputs": [],
   "source": []
  }
 ],
 "metadata": {
  "kernelspec": {
   "display_name": "Python 3 (ipykernel)",
   "language": "python",
   "name": "python3"
  },
  "language_info": {
   "codemirror_mode": {
    "name": "ipython",
    "version": 3
   },
   "file_extension": ".py",
   "mimetype": "text/x-python",
   "name": "python",
   "nbconvert_exporter": "python",
   "pygments_lexer": "ipython3",
   "version": "3.11.9"
  }
 },
 "nbformat": 4,
 "nbformat_minor": 5
}

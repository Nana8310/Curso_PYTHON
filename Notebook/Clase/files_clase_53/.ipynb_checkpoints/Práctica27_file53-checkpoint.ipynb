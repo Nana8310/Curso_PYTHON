{
 "cells": [
  {
   "cell_type": "markdown",
   "id": "ae78ac56",
   "metadata": {},
   "source": [
    "# Trabajo parte 1 práctica 27 file_clase_53:\n",
    "1. Transcripción de texto file_clase_53\n",
    "2. Al final de transcripción se realiza un ejemplo con todo el tema.\n",
    "3. Se realiza la segunda parte la cual era la explicación de los códigos y ejemplos similares."
   ]
  },
  {
   "cell_type": "markdown",
   "id": "035d395b",
   "metadata": {},
   "source": [
    "Creación y escritura    io"
   ]
  },
  {
   "cell_type": "code",
   "execution_count": 4,
   "id": "5c9a937e",
   "metadata": {},
   "outputs": [],
   "source": [
    "from io import open # Desde Jupyter notebook no es necesario importar open \n",
    "texto = \"Una línea con texto\\nOtra línea con texto\"\n",
    "\n",
    "# Ruta donde crearemos el fichero, w indica la escritura (puntero al principio)\n",
    "fichero = open('fichero.txt','w')\n",
    "\n",
    "# Escribimos el texto \n",
    "fichero.write(texto)    \n",
    "\n",
    "# Cerramos el fichero\n",
    "fichero.close()"
   ]
  },
  {
   "cell_type": "markdown",
   "id": "5fecb18c",
   "metadata": {},
   "source": [
    "Lectura"
   ]
  },
  {
   "cell_type": "code",
   "execution_count": 5,
   "id": "f2d0227b",
   "metadata": {},
   "outputs": [
    {
     "name": "stdout",
     "output_type": "stream",
     "text": [
      "Una línea con texto\n",
      "Otra línea con texto\n"
     ]
    }
   ],
   "source": [
    "from io import open \n",
    "\n",
    "# ruta donde leeremos el fichero , r indica léctura (por defectoya es r)\n",
    "fichero = open('fichero.txt','r')\n",
    "\n",
    "# Lectura completa\n",
    "texto = fichero.read()\n",
    "\n",
    "# Cerramos el fichero\n",
    "fichero.close()\n",
    "\n",
    "print(texto)\n"
   ]
  },
  {
   "cell_type": "markdown",
   "id": "afabd817",
   "metadata": {},
   "source": [
    "Podemos usar el método readlines() del fichero para general una lista con líneas:"
   ]
  },
  {
   "cell_type": "code",
   "execution_count": 7,
   "id": "bb8274d8",
   "metadata": {},
   "outputs": [
    {
     "name": "stdout",
     "output_type": "stream",
     "text": [
      "['Una línea con texto\\n', 'Otra línea con texto']\n"
     ]
    }
   ],
   "source": [
    "from io  import open \n",
    "fichero = open('fichero.txt', 'r')\n",
    "\n",
    "#Leemos creando una lista de líneas\n",
    "texto = fichero.readlines()\n",
    "\n",
    "fichero.close()\n",
    "print(texto)\n",
    "                "
   ]
  },
  {
   "cell_type": "markdown",
   "id": "a8214261",
   "metadata": {},
   "source": [
    "También se puede leer un fichero utilizando la instrucción estándar with de la siguiente forma:"
   ]
  },
  {
   "cell_type": "code",
   "execution_count": 8,
   "id": "a663d90f",
   "metadata": {},
   "outputs": [
    {
     "name": "stdout",
     "output_type": "stream",
     "text": [
      "Una línea con texto\n",
      "\n",
      "Otra línea con texto\n"
     ]
    }
   ],
   "source": [
    "with open('fichero.txt', 'r') as fichero:\n",
    "    for linea in fichero:\n",
    "        print(linea)\n",
    "\n"
   ]
  },
  {
   "cell_type": "markdown",
   "id": "bddf2978",
   "metadata": {},
   "source": [
    "Extensión : este modo nos permite añadir datos al final de un fichero:"
   ]
  },
  {
   "cell_type": "code",
   "execution_count": 12,
   "id": "80e9a7ce",
   "metadata": {},
   "outputs": [],
   "source": [
    "from io import open\n",
    "\n",
    "# ruta donde leeremos el fichero, a indicar extensión(puntero al final) \n",
    "fichero = open('fichero.txt', 'a')\n",
    "fichero.write('\\nOtra línea más abajo del todo')\n",
    "fichero.close()"
   ]
  },
  {
   "cell_type": "markdown",
   "id": "84c22157",
   "metadata": {},
   "source": [
    "la variante 'a+' nos permite crear el fichero si no existe:"
   ]
  },
  {
   "cell_type": "code",
   "execution_count": 10,
   "id": "740f71af",
   "metadata": {},
   "outputs": [],
   "source": [
    "fichero = open('fichero_inventario.txt','a+') "
   ]
  },
  {
   "cell_type": "markdown",
   "id": "cbdea1fd",
   "metadata": {},
   "source": [
    "Manejando el puntero: es posible posicionar el puntero en el fichero manualmente usando el método seek e indicado el número de caracteres para luego leer una cantidad de caracteres con el método read: "
   ]
  },
  {
   "cell_type": "code",
   "execution_count": 13,
   "id": "812970ef",
   "metadata": {},
   "outputs": [
    {
     "data": {
      "text/plain": [
       "'Una línea '"
      ]
     },
     "execution_count": 13,
     "metadata": {},
     "output_type": "execute_result"
    }
   ],
   "source": [
    "fichero = open('fichero.txt','r')\n",
    "fichero.seek(0) # Puntero al principio\n",
    "fichero.read(10) # Leemos 10 carácteres\n",
    "\n"
   ]
  },
  {
   "cell_type": "code",
   "execution_count": 14,
   "id": "20c2a54d",
   "metadata": {},
   "outputs": [
    {
     "data": {
      "text/plain": [
       "'\\nOtra línea con texto\\nOtra línea más abajo del todo'"
      ]
     },
     "execution_count": 14,
     "metadata": {},
     "output_type": "execute_result"
    }
   ],
   "source": [
    "fichero = open('fichero.txt', 'r')\n",
    "fichero.seek(0)\n",
    "\n",
    "#Leemos la primera línea y situamos el puntero al principio de la segunda\n",
    "fichero.seek(len(fichero.readline()))\n",
    "\n",
    "# Leemos todo lo que queda del puntero  hasta el final\n",
    "fichero.read()  "
   ]
  },
  {
   "cell_type": "markdown",
   "id": "593ac665",
   "metadata": {},
   "source": [
    "Lectura con escritura : \n",
    "Se puede abrir un fichero en modo lectura con escritura, pero éste debe existir préviamente. Además por defecto el puntero estará al principio y si escribimos algo sobreescribiremos el contenido actual, así que prestad atención a los saltos de línea y caracteres especiales:"
   ]
  },
  {
   "cell_type": "code",
   "execution_count": 3,
   "id": "b1910589",
   "metadata": {},
   "outputs": [],
   "source": [
    "# Creamos un fichero de prueba con 4 líneas\n",
    "fichero = open('fichero2.txt','w')\n",
    "texto = \"Línea 1\\nLínea 2\\nLínea 3\\nLínea 4\"\n",
    "fichero.write(texto)\n",
    "fichero.close()\n",
    "\n",
    "# Lo abrimos con lectura con escritura y escribimos algo\n",
    "fichero = open('fichero2.txt','r+')\n",
    "fichero.write(\"0123456\")\n",
    "\n",
    "# Volvemoa a poner el puntero  al inicio y leemos  hasta el final\n",
    "fichero.seek(0)\n",
    "fichero.read() \n",
    "fichero.close()  "
   ]
  },
  {
   "cell_type": "markdown",
   "id": "ded9e178",
   "metadata": {},
   "source": [
    "Modificar una línea :Para lograr este fin lo mejor es leer todas las líneas de una lista, posicionar el puntero al principio y escribir denuevo todas las líneas:"
   ]
  },
  {
   "cell_type": "code",
   "execution_count": 4,
   "id": "4d50a99a",
   "metadata": {},
   "outputs": [
    {
     "name": "stdout",
     "output_type": "stream",
     "text": [
      "01234561\n",
      "Línea 2\n",
      "Esta es la línea 3 modificada\n",
      "Línea 4\n"
     ]
    }
   ],
   "source": [
    "fichero = open('fichero2.txt','r+')\n",
    "texto = fichero.readlines()\n",
    "\n",
    "# Modificamos la línea que queramos a partir de índice\n",
    "texto[2] = \"Esta es la línea 3 modificada\\n\"\n",
    "\n",
    "# Volvemos a ponter el puntero al inicio y reescribimos\n",
    "fichero.seek(0)\n",
    "fichero.writelines(texto)\n",
    "fichero.close()\n",
    "\n",
    "# Leemos el fichero de nuevo\n",
    "with open(\"fichero2.txt\",\"r\")as fichero:\n",
    "    print(fichero.read())\n"
   ]
  },
  {
   "cell_type": "markdown",
   "id": "694c3a57",
   "metadata": {},
   "source": [
    "Module pickle : Este módulo nos permite almacenar fácilmente colecciones y objetos en ficheros binarios abstrayendo toda la parte de escritura y lectura binaria.\n",
    "Escritura de colecciones"
   ]
  },
  {
   "cell_type": "code",
   "execution_count": 5,
   "id": "6246a9d6",
   "metadata": {},
   "outputs": [],
   "source": [
    "import pickle\n",
    "\n",
    "# Podemos guardar lo que queremos, listas,diccionarios,tuplas...\n",
    "lista = [1,2,3,4,5]\n",
    "\n",
    "# Escritura en modo binario, vacía el fichero si existe\n",
    "fichero = open('lista.pckl','wb')\n",
    "\n",
    "# Escribe la colección en el fichero\n",
    "pickle.dump(lista,fichero)\n",
    "\n",
    "fichero.close()"
   ]
  },
  {
   "cell_type": "markdown",
   "id": "3af43275",
   "metadata": {},
   "source": [
    "Lectura de colecciones "
   ]
  },
  {
   "cell_type": "code",
   "execution_count": 6,
   "id": "5ce0d4a4",
   "metadata": {},
   "outputs": [],
   "source": [
    "# Lectura en modo binario\n",
    "fichero = open('lista.pckl','rb')"
   ]
  },
  {
   "cell_type": "code",
   "execution_count": 7,
   "id": "3a20f2e4",
   "metadata": {},
   "outputs": [
    {
     "name": "stdout",
     "output_type": "stream",
     "text": [
      "[1, 2, 3, 4, 5]\n"
     ]
    }
   ],
   "source": [
    "# Cargamos los datos del fichero \n",
    "lista_fichero = pickle.load(fichero)\n",
    "print(lista_fichero)\n",
    "\n",
    "fichero.close()"
   ]
  },
  {
   "cell_type": "markdown",
   "id": "0b0fd9f2",
   "metadata": {},
   "source": [
    "PARTE 1 = Se realiza en un ejemplo todo lo visto anteriormente "
   ]
  },
  {
   "cell_type": "code",
   "execution_count": 5,
   "id": "4a406087",
   "metadata": {},
   "outputs": [],
   "source": [
    "from io import open \n",
    "\n",
    "# Creación y escritura en el archivo 'datos.txt' (modo 'w')\n",
    "texto_para_escribir = \"Primera línea de ejemplo\\nSegunda línea de ejemplo \"\n",
    "fichero = open('datos.txt','w')\n",
    "fichero.write(texto_para_escribir)\n",
    "fichero.close()"
   ]
  },
  {
   "cell_type": "code",
   "execution_count": 6,
   "id": "9d700cf4",
   "metadata": {},
   "outputs": [
    {
     "name": "stdout",
     "output_type": "stream",
     "text": [
      "Contenido del fichero 'datos.txt':\n",
      "Primera línea de ejemplo\n",
      "Segunda línea de ejemplo \n"
     ]
    }
   ],
   "source": [
    "# Lectura del archivo 'datos.txt' (modo 'r')\n",
    "fichero = open('datos.txt','r')\n",
    "texto_leido = fichero.read()\n",
    "fichero.close()\n",
    "print(\"Contenido del fichero 'datos.txt':\")\n",
    "print(texto_leido)"
   ]
  },
  {
   "cell_type": "code",
   "execution_count": 7,
   "id": "8c30de5d",
   "metadata": {},
   "outputs": [
    {
     "name": "stdout",
     "output_type": "stream",
     "text": [
      "\n",
      "Lista de líneas del fichero 'datos.txt':\n",
      "['Primera línea de ejemplo\\n', 'Segunda línea de ejemplo ']\n"
     ]
    }
   ],
   "source": [
    "# método readlines\n",
    "fichero = open('datos.txt','r')\n",
    "lineas_del_fichero = fichero.readlines()\n",
    "fichero.close()\n",
    "print(\"\\nLista de líneas del fichero 'datos.txt':\")\n",
    "print(lineas_del_fichero) "
   ]
  },
  {
   "cell_type": "code",
   "execution_count": 8,
   "id": "0d93affc",
   "metadata": {},
   "outputs": [
    {
     "name": "stdout",
     "output_type": "stream",
     "text": [
      "\n",
      "Lectura del fichero 'datos.txt' con 'with': \n",
      "Primera línea de ejemplo\n",
      "Segunda línea de ejemplo "
     ]
    }
   ],
   "source": [
    "# Lectura del archivo 'datos.txt' con la instrucción 'with' (modo 'r')\n",
    "print(\"\\nLectura del fichero 'datos.txt' con 'with': \")\n",
    "with open('datos.txt', 'r') as fichero:\n",
    "    for linea in fichero:\n",
    "        print(linea,end='')\n"
   ]
  },
  {
   "cell_type": "code",
   "execution_count": 9,
   "id": "f2aee08d",
   "metadata": {},
   "outputs": [],
   "source": [
    "# Extensión del archivo\n",
    "from io import open\n",
    "\n",
    "# Añadir datos al final del archivo 'datos.txt' (modo 'a')\n",
    "fichero = open('datos.txt', 'a')\n",
    "fichero.write('\\nTercera línea añadida al final')\n",
    "fichero.close()"
   ]
  },
  {
   "cell_type": "code",
   "execution_count": 15,
   "id": "84ea5928",
   "metadata": {},
   "outputs": [],
   "source": [
    "# Extensión del archivo\n",
    "from io import open\n",
    "\n",
    "# Añadir datos al final del archivo 'datos.txt' (modo 'a')\n",
    "fichero = open('datos.txt', 'a')\n",
    "fichero.write('\\nCuarta línea añadida al final')\n",
    "fichero.close()"
   ]
  },
  {
   "cell_type": "code",
   "execution_count": 17,
   "id": "15075baa",
   "metadata": {},
   "outputs": [
    {
     "name": "stdout",
     "output_type": "stream",
     "text": [
      "\n",
      "Verificación del contenido extendido del fichero 'datos.txt':\n",
      "Primera línea de ejemplo\n",
      "Segunda línea de ejemplo \n",
      "Tercera línea añadida al final\n",
      "Cuarta línea añadida al final"
     ]
    }
   ],
   "source": [
    "# Verificación de la extensión del archivo 'datos.txt' (modo 'r')\n",
    "print(\"\\nVerificación del contenido extendido del fichero 'datos.txt':\")\n",
    "with open('datos.txt', 'r') as fichero:\n",
    "    for linea in fichero:\n",
    "        print(linea, end='')"
   ]
  },
  {
   "cell_type": "code",
   "execution_count": 11,
   "id": "d0c2020c",
   "metadata": {},
   "outputs": [],
   "source": [
    "# Manejando el puntero\n",
    "# Abrir el archivo en modo lectura ('r')\n",
    "fichero = open('datos.txt', 'r')"
   ]
  },
  {
   "cell_type": "code",
   "execution_count": 12,
   "id": "f6ef62d0",
   "metadata": {},
   "outputs": [
    {
     "name": "stdout",
     "output_type": "stream",
     "text": [
      "Primeros 15 caracteres del archivo:\n",
      "Primera línea d\n"
     ]
    }
   ],
   "source": [
    "# Posicionar el puntero al principio y leer los primeros 10 caracteres\n",
    "fichero.seek(0)\n",
    "print(\"Primeros 15 caracteres del archivo:\")\n",
    "print(fichero.read(15))"
   ]
  },
  {
   "cell_type": "code",
   "execution_count": 13,
   "id": "99bf7527",
   "metadata": {},
   "outputs": [
    {
     "data": {
      "text/plain": [
       "'rimera línea de'"
      ]
     },
     "execution_count": 13,
     "metadata": {},
     "output_type": "execute_result"
    }
   ],
   "source": [
    "# Abrir el archivo en modo lectura ('r')\n",
    "fichero = open('datos.txt', 'r')\n",
    "fichero.seek(1)   # Puntero en la segunda línea\n",
    "fichero.read(15)  # Leemos 15 carácteres"
   ]
  },
  {
   "cell_type": "code",
   "execution_count": 16,
   "id": "0354c613",
   "metadata": {},
   "outputs": [
    {
     "data": {
      "text/plain": [
       "'\\nSegunda línea de ejemplo \\nTercera línea añadida al final\\nCuarta línea añadida al final'"
      ]
     },
     "execution_count": 16,
     "metadata": {},
     "output_type": "execute_result"
    }
   ],
   "source": [
    "fichero = open('datos.txt','r')\n",
    "fichero.seek(0)\n",
    "\n",
    "# Leemos la primera línea y situamos el puntero al principio de la segunda\n",
    "fichero.seek( len(fichero.readline()) )\n",
    "\n",
    "# Leemos todo lo que queda del puntero hasta el final\n",
    "fichero.read()"
   ]
  },
  {
   "cell_type": "code",
   "execution_count": 19,
   "id": "150369be",
   "metadata": {},
   "outputs": [
    {
     "name": "stdout",
     "output_type": "stream",
     "text": [
      "Contenido del archivo después de escribir '0123456':\n",
      "0123456 línea de ejemplo\n",
      "Segunda línea de ejemplo \n",
      "Tercera línea añadida al final\n",
      "Cuarta línea añadida al final\n"
     ]
    }
   ],
   "source": [
    "from io import open\n",
    "\n",
    "# Abrir el archivo 'datos.txt' en modo lectura con escritura ('r+')\n",
    "fichero = open('datos.txt', 'r+')\n",
    "\n",
    "# Escribir algo en el archivo (esto sobrescribirá parte del contenido existente)\n",
    "fichero.write(\"0123456\")\n",
    "\n",
    "# Volver a poner el puntero al inicio y leer hasta el final\n",
    "fichero.seek(0)\n",
    "contenido = fichero.read()\n",
    "print(\"Contenido del archivo después de escribir '0123456':\")\n",
    "print(contenido)\n",
    "\n",
    "# Cerrar el fichero\n",
    "fichero.close()"
   ]
  },
  {
   "cell_type": "code",
   "execution_count": 21,
   "id": "0ab6ea42",
   "metadata": {},
   "outputs": [
    {
     "name": "stdout",
     "output_type": "stream",
     "text": [
      "0123456 línea de ejemplo\n",
      "Segunda línea de ejemplo \n",
      "Tercera linea de ejemplo modicicada\n",
      "Cuarta línea añadida al final\n"
     ]
    }
   ],
   "source": [
    "fichero = open('datos.txt','r+')\n",
    "texto = fichero.readlines()\n",
    "\n",
    "# Modificamos la línea que queramos a partir del índice\n",
    "texto[2] = \"Tercera linea de ejemplo modicicada\\n\"\n",
    "\n",
    "# Volvemos a ponter el puntero al inicio y reescribimos\n",
    "fichero.seek(0)\n",
    "fichero.writelines(texto)\n",
    "fichero.close()\n",
    "\n",
    "# Leemos el fichero de nuevo\n",
    "with open(\"datos.txt\", \"r\") as fichero:\n",
    "    print(fichero.read())"
   ]
  },
  {
   "cell_type": "markdown",
   "id": "aeff4498",
   "metadata": {},
   "source": [
    "Se realiza el ejemplo de todo lo visto anterior mente con pickle"
   ]
  },
  {
   "cell_type": "markdown",
   "id": "26707b9c",
   "metadata": {},
   "source": [
    "# pickle \n",
    "*Escritura de colecciones"
   ]
  },
  {
   "cell_type": "code",
   "execution_count": 22,
   "id": "f271bdb8",
   "metadata": {},
   "outputs": [],
   "source": [
    "import pickle\n",
    "\n",
    "# Escritura del diccionario en un fichero binario (esto se mantiene igual)\n",
    "diccionario = {'clave1': 'valor1', 'clave2': 'valor2', 'clave3': 'valor3'}\n",
    "fichero = open('diccionario.pckl', 'wb')\n",
    "pickle.dump(diccionario, fichero)\n",
    "fichero.close()"
   ]
  },
  {
   "cell_type": "code",
   "execution_count": 23,
   "id": "2ac4f9ef",
   "metadata": {},
   "outputs": [
    {
     "name": "stdout",
     "output_type": "stream",
     "text": [
      "{'clave1': 'valor1', 'clave2': 'valor2', 'clave3': 'valor3'}\n"
     ]
    }
   ],
   "source": [
    "# Lectura del diccionario desde el fichero binario \n",
    "fichero = open('diccionario.pckl', 'rb')\n",
    "\n",
    "# Cargamos los datos del fichero\n",
    "diccionario_cargado = pickle.load(fichero)\n",
    "print(diccionario_cargado)\n",
    "fichero.close()"
   ]
  },
  {
   "cell_type": "markdown",
   "id": "ef7b0f61",
   "metadata": {},
   "source": [
    "# PARTE 2 = Ejercicios resueltos:\n",
    "\n",
    "Para el siguiente par ejercicios debes explicar los códigos línea por línea y plantear otro problema similar que deberás resolver por tí mismo.\n",
    "1- En este ejercicio deberás crear un script llamado personas.py que lea los datos de un fichero de texto, que transforme cada fila del fichero de texto en un diccionario y lo añada a una lista de diccionarios llamado personas. Luego recorre las personas de la lista y para cada una muestra de forma amigable todos sus campos\n",
    "\n",
    "El fichero de texto se denominará personas.txt y tendrá el siguiente contenido en texto plano (créalo previamente):\n",
    "\n",
    "1;Carlos;Pérez;05/01/1989\n",
    "2;Manuel;Heredia;26/12/1973\n",
    "3;Rosa;Campos;12/06/1961\n",
    "4;David;García;25/07/2006\n",
    "\n",
    "Los campos del diccionario serán por orden: id, nombre, apellido y nacimiento.\n",
    "open(..., encoding=\"utf8\")\n",
    "La solución del ejercicio se encuentra en los ficheros personas.txt y personas.py. Explique en el propio fichero personas.py o en una celda de este notebook el código linea mediante comentarios o celdas de texto"
   ]
  },
  {
   "cell_type": "markdown",
   "id": "a4680047",
   "metadata": {},
   "source": [
    "# Explicación del código:\n",
    "\n",
    "\n",
    "from io import open                                        # Importa la función open del módulo io, que se utiliza para abrir archivos.\n",
    "\n",
    "fichero = open(\"personas.txt\", \"r\",  encoding='utf-8')     # Abre el archivo personas.txt en modo de solo lectura (\"r\") y con codificación 'utf-8'.\n",
    "lineas = fichero.readlines()                               # Lee todas las líneas del archivo y las almacena en la lista lineas.\n",
    "fichero.close()                                            # Cierra el archivo para liberar recursos.\n",
    "\n",
    "\n",
    "personas = []                                              # Crea una lista vacía llamada personas.    \n",
    "\n",
    "for linea in lineas:                                       # Inicia un bucle que recorre cada línea en la lista lineas.              \n",
    "    campos = linea.replace(\"\\n\", \"\").split(\";\")  # Elimina el salto de línea al final de cada línea y divide la línea en campos separados por \";\".          \n",
    "                                                           \n",
    "    persona = {'id': campos[0], 'nombre': campos[1], 'apellido': campos[2], 'nacimiento': campos[3]} # Crea un diccionario persona con los campos obtenidos.\n",
    "                                                                    \n",
    "    personas.append(persona)                               #  Añade el diccionario persona a la lista personas.  \n",
    "\n",
    "for p in personas:                                         #  Inicia otro bucle que recorre cada elemento en la lista personas.          \n",
    "    \n",
    "    print(f\"(id={p['id']}) {p['nombre']} {p['apellido']} => {p['nacimiento']}\")  Imprime la información de cada persona en un formato específico.\n",
    "\n",
    "\n"
   ]
  },
  {
   "cell_type": "markdown",
   "id": "bc58d800",
   "metadata": {},
   "source": [
    "# EJERCICIO PROPUESTO 1ER PUNTO\n",
    "\n",
    "El ejercico consiste en escribir un script en Python que procese información de empleados almacenada en un archivo de texto.Cada empleado tiene su información distribuida en una sola línea del archivo, y cada dato esta separado por comas. Los datos son: ID,Nombre,Departamento y Fecha de inicio.\n",
    "El scrip debe realizar las siguientes tareas:\n",
    "1. Abrir el archivo de empleados.txt para lectura.\n",
    "2. Leer todas las líneas del archivo y almacenarlas en una lista.\n",
    "3. Cerrar el archivo par no consumir recursos innecesarios.\n",
    "4. Crear una lista vacía para guardar los datos de los empleados.\n",
    "5. Recorrer cada línea de la lista de líneas del archivo.\n",
    "6. Limpiar y separar los datos que cada línea para eliminar el salto de línea y dividir la información  por comas.\n",
    "7. Crear un diccionario para cada empleado  con su ID,Nombre,Departamento y fecha de inicio.\n",
    "8. Añadir cada diccionario a la lista de empleados.\n",
    "9. Imprimir la información  de cada empleado en un formato legible.\n",
    " \n",
    "\n"
   ]
  },
  {
   "cell_type": "code",
   "execution_count": 3,
   "id": "29fa2adc",
   "metadata": {},
   "outputs": [],
   "source": [
    "from io import open \n",
    "\n",
    "#Definimos el nombre del archivo\n",
    "nombre_archivo = \"empleados.txt\"\n",
    "\n",
    "# Creamos el archivo con datos de ejemplo\n",
    "fichero = open(nombre_archivo, \"w\", encoding='utf-8')\n",
    "fichero.write(\"1,Juan Pérez,Contabilidad,2019-03-15\\n\")  \n",
    "fichero.write(\"2,Ana Gómez,Marketing,2020-06-11\\n\")\n",
    "fichero.close()\n"
   ]
  },
  {
   "cell_type": "code",
   "execution_count": 8,
   "id": "c657b786",
   "metadata": {},
   "outputs": [
    {
     "name": "stdout",
     "output_type": "stream",
     "text": [
      "ID: 1 - Nombre: Juan Pérez, Departamento: Contabilidad, Fecha de Inicio: 2019-03-15\n",
      "ID: 2 - Nombre: Ana Gómez, Departamento: Marketing, Fecha de Inicio: 2020-06-11\n"
     ]
    }
   ],
   "source": [
    "# Abrimos el archivo para lectura \n",
    "fichero = open(nombre_archivo, \"r\", encoding='utf-8')\n",
    "lineas = fichero.readlines()\n",
    "fichero.close()\n",
    "\n",
    "# Creamos una lista vacía para almacenar la información  de los empleados \n",
    "empleados = []\n",
    "\n",
    "for linea in lineas:\n",
    "    # eliminamos el salto de línea y separamos por coma\n",
    "    campos = linea.replace(\"\\n\",\"\").split(\",\")\n",
    "    # Creamos un diccionario con la información del empleado\n",
    "    empleado ={'id': campos[0], 'nombre': campos[1],'departamento': campos[2],'fecha_inicio':campos[3]}\n",
    "    # Añadimos el diccionario a la lista de empleados\n",
    "    empleados.append(empleado)\n",
    "    \n",
    "# Imprimos la información de cada empleado\n",
    "for e in empleados:\n",
    "    print(f\"ID: {e['id']} - Nombre: {e['nombre']}, Departamento: {e['departamento']}, Fecha de Inicio: {e['fecha_inicio']}\")  \n",
    "\n"
   ]
  },
  {
   "cell_type": "markdown",
   "id": "32377c60",
   "metadata": {},
   "source": [
    "2 - Escribir una función que pida un número entero entre 1 y 10 y guarde en un fichero con el nombre tabla-n.txt la tabla de multiplicar de ese número, donde n es el número introducido.\n",
    "\n",
    "'''\n",
    "n = int(input('Introduce un número entero entre 1 y 10: '))\n",
    "nombre_fichero = 'tabla-' + str(n) + '.txt'\n",
    "f = open(nombre_fichero, 'w')\n",
    "for i in range(1, 11):\n",
    "    f.write(str(n) + ' x ' + str(i) + ' = ' + str(n * i) + '\\n')\n",
    "f.close()\n",
    "'''\n",
    "\n",
    "\n",
    "Explicación del código\n",
    "\n",
    "1. Solicitar al usuario un número:\n",
    "\n",
    "n = int(input('Introduce un número entero entre 1 y 10: '))  \n",
    "\n",
    "#El programa pide al usuario que introduzca un número entero entre 1 y 10. La función input() muestra el mensaje y espera que el usuario escriba algo y presione Enter. Lo que el usuario escribe se convierte en un número entero con int().\n",
    "\n",
    "\n",
    "2. Crear el nombre del archivo:\n",
    "\n",
    "nombre_fichero = 'tabla-' + str(n) + '.txt'\n",
    "\n",
    "#Esta línea crea una cadena de texto que será el nombre del archivo. Por ejemplo, si el usuario introduce el número 3, el nombre del archivo será tabla-3.txt.\n",
    "\n",
    "\n",
    "3. Abrir el archivo para escribir\n",
    "\n",
    "f = open(nombre_fichero, 'w')\n",
    "\n",
    "#La función open() abre el archivo con el nombre que acabamos de crear. El modo 'w' significa “escritura”, y si el archivo no existe, se creará.\n",
    "\n",
    "4. Escribir la tabla de multiplicar en el archivo\n",
    "\n",
    "for i in range(1, 11):\n",
    "    f.write(str(n) + ' x ' + str(i) + ' = ' + str(n * i) + '\\n')\n",
    "\n",
    "#Este bucle for se ejecuta 10 veces, con i tomando valores de 1 a 10. En cada iteración, se escribe una línea en el archivo con una operación de la tabla de multiplicar del número n. Por ejemplo, si n es 3, una de las líneas sería 3 x 4 = 12.\n",
    "\n",
    "5. Cerrar el archivo:\n",
    "\n",
    "f.close()\n",
    "\n",
    "#Finalmente, después de escribir todas las líneas, el archivo se cierra con f.close()"
   ]
  },
  {
   "cell_type": "markdown",
   "id": "2a759756",
   "metadata": {},
   "source": [
    "EJERCICIO PROPUESTO SEGUNDO PUNTO\n",
    "\n",
    "Escribir un script que pida al usuario un número entero positivo y luego calcule y guarde el factorial de ese número en un archivo, todo esto sin definir una función:"
   ]
  },
  {
   "cell_type": "code",
   "execution_count": 4,
   "id": "7fd24d24",
   "metadata": {},
   "outputs": [
    {
     "name": "stdout",
     "output_type": "stream",
     "text": [
      "Contenido del archivo: El factorial de 4 es: 24\n"
     ]
    }
   ],
   "source": [
    "# Pide al usuario que introduzca un número entero positivo\n",
    "n = int(input('Introduce un número entero positivo: '))\n",
    "\n",
    "# Inicializa la variable para calcular el factorial\n",
    "factorial = 1\n",
    "\n",
    "# Calcula el factorial del número introducido\n",
    "for i in range(1, n + 1):\n",
    "    factorial *= i\n",
    "\n",
    "# Define el nombre del fichero como 'factorial.txt'\n",
    "nombre_fichero = 'factorial.txt'\n",
    "\n",
    "# Abre el fichero en modo escritura y escribe el factorial\n",
    "with open(nombre_fichero, 'w') as f:\n",
    "    f.write('El factorial de ' + str(n) + ' es: ' + str(factorial))\n",
    "    \n",
    "# Ahora, abre el fichero en modo lectura y muestra su contenido\n",
    "with open(nombre_fichero, 'r') as f:\n",
    "    contenido = f.read()\n",
    "    print('Contenido del archivo:', contenido)    \n"
   ]
  }
 ],
 "metadata": {
  "kernelspec": {
   "display_name": "Python 3 (ipykernel)",
   "language": "python",
   "name": "python3"
  },
  "language_info": {
   "codemirror_mode": {
    "name": "ipython",
    "version": 3
   },
   "file_extension": ".py",
   "mimetype": "text/x-python",
   "name": "python",
   "nbconvert_exporter": "python",
   "pygments_lexer": "ipython3",
   "version": "3.11.7"
  }
 },
 "nbformat": 4,
 "nbformat_minor": 5
}

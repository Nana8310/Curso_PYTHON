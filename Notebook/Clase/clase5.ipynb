{
 "cells": [
  {
   "cell_type": "code",
   "execution_count": 4,
   "metadata": {},
   "outputs": [],
   "source": [
    "lista_vacia = []\n",
    "#\n",
    "lenguajes  = ['Python', 'Java', 'Scala']\n",
    "#\n",
    "sucesion = [0, 1, 1, 2, 3, 5, 8, 13]\n",
    "# \n",
    "data = ['Tenerife', {'cielo': 'limpio', 'temp' : 24  }, 3718, (28.2933947, -16.5226597)]"
   ]
  },
  {
   "cell_type": "markdown",
   "metadata": {},
   "source": [
    "CONVERSION Para convertir otros tipos de datos en una lista podemos usar la función list()"
   ]
  },
  {
   "cell_type": "code",
   "execution_count": 1,
   "metadata": {},
   "outputs": [
    {
     "data": {
      "text/plain": [
       "['P', 'y', 't', 'h', 'o', 'n']"
      ]
     },
     "execution_count": 1,
     "metadata": {},
     "output_type": "execute_result"
    }
   ],
   "source": [
    "# conversòn desde una cadena de texto\n",
    "list('Python')\n",
    "['P','y','t','h','o','n']"
   ]
  },
  {
   "cell_type": "code",
   "execution_count": 6,
   "metadata": {},
   "outputs": [
    {
     "data": {
      "text/plain": [
       "[0, 1, 2, 3, 4, 5, 6, 7, 8, 9]"
      ]
     },
     "execution_count": 6,
     "metadata": {},
     "output_type": "execute_result"
    }
   ],
   "source": [
    "list(range(10))"
   ]
  },
  {
   "cell_type": "markdown",
   "metadata": {},
   "source": [
    "LISTA VACIA:Existe una manera particular de usar list() y es no pasarle ningún argumento. En este \n",
    "caso estaremos queriendo convertir el «vacío» en una lista, con lo que obtendremos una \n",
    "lista vacía:\n"
   ]
  },
  {
   "cell_type": "code",
   "execution_count": 7,
   "metadata": {},
   "outputs": [
    {
     "data": {
      "text/plain": [
       "[]"
      ]
     },
     "execution_count": 7,
     "metadata": {},
     "output_type": "execute_result"
    }
   ],
   "source": [
    "list()"
   ]
  },
  {
   "cell_type": "code",
   "execution_count": 8,
   "metadata": {},
   "outputs": [
    {
     "data": {
      "text/plain": [
       "[]"
      ]
     },
     "execution_count": 8,
     "metadata": {},
     "output_type": "execute_result"
    }
   ],
   "source": [
    "[]"
   ]
  },
  {
   "cell_type": "markdown",
   "metadata": {},
   "source": [
    "Operaciones con listas"
   ]
  },
  {
   "cell_type": "code",
   "execution_count": 9,
   "metadata": {},
   "outputs": [
    {
     "data": {
      "text/plain": [
       "'Agua'"
      ]
     },
     "execution_count": 9,
     "metadata": {},
     "output_type": "execute_result"
    }
   ],
   "source": [
    "compra = ['Agua', 'Huevo', 'Aceite']\n",
    "compra[0]"
   ]
  },
  {
   "cell_type": "code",
   "execution_count": 10,
   "metadata": {},
   "outputs": [
    {
     "data": {
      "text/plain": [
       "'Huevo'"
      ]
     },
     "execution_count": 10,
     "metadata": {},
     "output_type": "execute_result"
    }
   ],
   "source": [
    "compra[1]"
   ]
  },
  {
   "cell_type": "code",
   "execution_count": 11,
   "metadata": {},
   "outputs": [
    {
     "data": {
      "text/plain": [
       "'Aceite'"
      ]
     },
     "execution_count": 11,
     "metadata": {},
     "output_type": "execute_result"
    }
   ],
   "source": [
    "compra[2]"
   ]
  },
  {
   "cell_type": "code",
   "execution_count": 12,
   "metadata": {},
   "outputs": [
    {
     "data": {
      "text/plain": [
       "'Aceite'"
      ]
     },
     "execution_count": 12,
     "metadata": {},
     "output_type": "execute_result"
    }
   ],
   "source": [
    "compra[-1] #acceso de indice negativo "
   ]
  },
  {
   "cell_type": "markdown",
   "metadata": {},
   "source": [
    "El índice que usemos para acceder a los elementos de una lista tiene que estar \n",
    "comprendido entre los límites de la misma. Si usamos un índice antes del comienzo o \n",
    "después del final obtendremos un error (excepción"
   ]
  },
  {
   "cell_type": "markdown",
   "metadata": {},
   "source": [
    "Trocear una lista"
   ]
  },
  {
   "cell_type": "code",
   "execution_count": 13,
   "metadata": {},
   "outputs": [
    {
     "data": {
      "text/plain": [
       "['Agua', 'Huevos', 'Aceite']"
      ]
     },
     "execution_count": 13,
     "metadata": {},
     "output_type": "execute_result"
    }
   ],
   "source": [
    "compra = ['Agua', 'Huevos', 'Aceite', 'Sal', 'Limón']\n",
    "compra[0:3]"
   ]
  },
  {
   "cell_type": "code",
   "execution_count": 19,
   "metadata": {},
   "outputs": [
    {
     "data": {
      "text/plain": [
       "['Agua', 'Huevos', 'Aceite']"
      ]
     },
     "execution_count": 19,
     "metadata": {},
     "output_type": "execute_result"
    }
   ],
   "source": [
    "compra = ['Agua', 'Huevos', 'Aceite', 'Sal', 'Limón']\n",
    "compra [:3]"
   ]
  },
  {
   "cell_type": "code",
   "execution_count": 24,
   "metadata": {},
   "outputs": [
    {
     "data": {
      "text/plain": [
       "['Aceite', 'Sal']"
      ]
     },
     "execution_count": 24,
     "metadata": {},
     "output_type": "execute_result"
    }
   ],
   "source": [
    "compra = ['Agua', 'Huevos', 'Aceite', 'Sal', 'Limón']\n",
    "compra [2:4]"
   ]
  },
  {
   "cell_type": "code",
   "execution_count": 23,
   "metadata": {},
   "outputs": [
    {
     "data": {
      "text/plain": [
       "['Limón', 'Sal', 'Aceite']"
      ]
     },
     "execution_count": 23,
     "metadata": {},
     "output_type": "execute_result"
    }
   ],
   "source": [
    "compra = ['Agua', 'Huevos', 'Aceite', 'Sal', 'Limón']\n",
    "compra [-1:-4:-1]"
   ]
  },
  {
   "cell_type": "code",
   "execution_count": 26,
   "metadata": {},
   "outputs": [
    {
     "data": {
      "text/plain": [
       "['Limón', 'Sal', 'Aceite', 'Huevos', 'Agua']"
      ]
     },
     "execution_count": 26,
     "metadata": {},
     "output_type": "execute_result"
    }
   ],
   "source": [
    "compra = ['Agua', 'Huevos', 'Aceite', 'Sal', 'Limón']\n",
    "compra [::-1]"
   ]
  },
  {
   "cell_type": "code",
   "execution_count": 27,
   "metadata": {},
   "outputs": [
    {
     "data": {
      "text/plain": [
       "['Agua', 'Huevos', 'Aceite', 'Sal', 'Limón']"
      ]
     },
     "execution_count": 27,
     "metadata": {},
     "output_type": "execute_result"
    }
   ],
   "source": [
    "compra"
   ]
  },
  {
   "cell_type": "code",
   "execution_count": 29,
   "metadata": {},
   "outputs": [
    {
     "data": {
      "text/plain": [
       "[]"
      ]
     },
     "execution_count": 29,
     "metadata": {},
     "output_type": "execute_result"
    }
   ],
   "source": [
    "compra[10:]"
   ]
  },
  {
   "cell_type": "code",
   "execution_count": 30,
   "metadata": {},
   "outputs": [
    {
     "data": {
      "text/plain": [
       "['Agua', 'Huevos', 'Aceite', 'Sal']"
      ]
     },
     "execution_count": 30,
     "metadata": {},
     "output_type": "execute_result"
    }
   ],
   "source": [
    "compra = ['Agua', 'Huevos', 'Aceite', 'Sal', 'Limón']\n",
    "compra [-700:4]"
   ]
  },
  {
   "cell_type": "code",
   "execution_count": 31,
   "metadata": {},
   "outputs": [
    {
     "data": {
      "text/plain": [
       "['Aceite', 'Sal', 'Limón']"
      ]
     },
     "execution_count": 31,
     "metadata": {},
     "output_type": "execute_result"
    }
   ],
   "source": [
    "compra = ['Agua', 'Huevos', 'Aceite', 'Sal', 'Limón']\n",
    "compra [2:100]"
   ]
  },
  {
   "cell_type": "markdown",
   "metadata": {},
   "source": [
    "Invertir una lista"
   ]
  },
  {
   "cell_type": "code",
   "execution_count": null,
   "metadata": {},
   "outputs": [],
   "source": [
    "compra \n",
    "['Agua', 'Huevos', 'Aceite', 'Sal', 'Limón']"
   ]
  },
  {
   "cell_type": "code",
   "execution_count": 32,
   "metadata": {},
   "outputs": [
    {
     "data": {
      "text/plain": [
       "['Limón', 'Sal', 'Aceite', 'Huevos', 'Agua']"
      ]
     },
     "execution_count": 32,
     "metadata": {},
     "output_type": "execute_result"
    }
   ],
   "source": [
    "compra[::-1] \n"
   ]
  },
  {
   "cell_type": "markdown",
   "metadata": {},
   "source": [
    "Opción 2: Mediante la función reversed():"
   ]
  },
  {
   "cell_type": "code",
   "execution_count": 33,
   "metadata": {},
   "outputs": [
    {
     "data": {
      "text/plain": [
       "['Agua', 'Huevos', 'Aceite', 'Sal', 'Limón']"
      ]
     },
     "execution_count": 33,
     "metadata": {},
     "output_type": "execute_result"
    }
   ],
   "source": [
    "compra"
   ]
  },
  {
   "cell_type": "code",
   "execution_count": 34,
   "metadata": {},
   "outputs": [
    {
     "data": {
      "text/plain": [
       "['Limón', 'Sal', 'Aceite', 'Huevos', 'Agua']"
      ]
     },
     "execution_count": 34,
     "metadata": {},
     "output_type": "execute_result"
    }
   ],
   "source": [
    "list(reversed(compra))"
   ]
  },
  {
   "cell_type": "markdown",
   "metadata": {},
   "source": [
    "Opción 3: Modificando la lista original. Utilizando la función .reverse() (sin ‘d’ al final)  "
   ]
  },
  {
   "cell_type": "code",
   "execution_count": 35,
   "metadata": {},
   "outputs": [
    {
     "data": {
      "text/plain": [
       "['Agua', 'Huevos', 'Aceite', 'Sal', 'Limón']"
      ]
     },
     "execution_count": 35,
     "metadata": {},
     "output_type": "execute_result"
    }
   ],
   "source": [
    "compra"
   ]
  },
  {
   "cell_type": "code",
   "execution_count": 38,
   "metadata": {},
   "outputs": [
    {
     "data": {
      "text/plain": [
       "['Agua', 'Huevos', 'Aceite', 'Sal', 'Limón']"
      ]
     },
     "execution_count": 38,
     "metadata": {},
     "output_type": "execute_result"
    }
   ],
   "source": [
    "compra.reverse()\n",
    "compra"
   ]
  },
  {
   "cell_type": "markdown",
   "metadata": {},
   "source": [
    "Añadir elementos al final de la lista :Una de las operaciones más utilizadas en listas es añadir elementos al final de las mismas. \n",
    "Para ello Python nos ofrece la función append(). Se trata de un método «destructivo» que \n",
    "modifica la lista original"
   ]
  },
  {
   "cell_type": "code",
   "execution_count": 42,
   "metadata": {},
   "outputs": [
    {
     "data": {
      "text/plain": [
       "['Agua', 'Huevos', 'Aceite', 'Atún']"
      ]
     },
     "execution_count": 42,
     "metadata": {},
     "output_type": "execute_result"
    }
   ],
   "source": [
    "compra = ['Agua', 'Huevos', 'Aceite']\n",
    "compra.append('Atún')\n",
    "compra"
   ]
  },
  {
   "cell_type": "markdown",
   "metadata": {},
   "source": [
    "Creando listas desde otra lista vacía"
   ]
  },
  {
   "cell_type": "code",
   "execution_count": 43,
   "metadata": {},
   "outputs": [
    {
     "data": {
      "text/plain": [
       "[0, 2, 4, 6, 8, 10, 12, 14, 16, 18]"
      ]
     },
     "execution_count": 43,
     "metadata": {},
     "output_type": "execute_result"
    }
   ],
   "source": [
    "números_pares = []\n",
    "for i in range(20):\n",
    "    if i % 2 == 0:\n",
    "        números_pares.append(i)\n",
    "números_pares        "
   ]
  },
  {
   "cell_type": "markdown",
   "metadata": {},
   "source": [
    "Añadir en cualquier posición de una lista: Ya hemos visto cómo añadir elementos al final de una lista. Sin embargo, Python ofrece \n",
    "una función insert() que vendría a ser una generalización de la anterior, para \n",
    "incorporar elementos en cualquier posición. Simplemente debemos especificar el \n",
    "índice de inserción y el elemento en cuestión. También se trata de una función \n",
    "“destructiva”"
   ]
  },
  {
   "cell_type": "code",
   "execution_count": 44,
   "metadata": {},
   "outputs": [
    {
     "data": {
      "text/plain": [
       "['Agua', 'Jamón', 'Huevos', 'Aceite']"
      ]
     },
     "execution_count": 44,
     "metadata": {},
     "output_type": "execute_result"
    }
   ],
   "source": [
    "compra = ['Agua', 'Huevos', 'Aceite']\n",
    "compra.insert(1, 'Jamón') \n",
    "compra"
   ]
  },
  {
   "cell_type": "code",
   "execution_count": 46,
   "metadata": {},
   "outputs": [
    {
     "data": {
      "text/plain": [
       "['Agua', 'Jamón', 'Huevos', 'Queso', 'Aceite']"
      ]
     },
     "execution_count": 46,
     "metadata": {},
     "output_type": "execute_result"
    }
   ],
   "source": [
    "compra\n",
    "compra = ['Agua', 'Jamón', 'Huevos', 'Aceite']\n",
    "compra.insert(3, 'Queso') \n",
    "compra"
   ]
  },
  {
   "cell_type": "code",
   "execution_count": 51,
   "metadata": {},
   "outputs": [
    {
     "data": {
      "text/plain": [
       "['Agua', 'Jamón', 'Huevos', 'Queso', 'Aceite', 'Mermelada']"
      ]
     },
     "execution_count": 51,
     "metadata": {},
     "output_type": "execute_result"
    }
   ],
   "source": [
    "compra\n",
    "compra = ['Agua', 'Jamón', 'Huevos', 'Queso', 'Aceite']\n",
    "compra.insert(100, 'Mermelada') \n",
    "compra"
   ]
  },
  {
   "cell_type": "code",
   "execution_count": 50,
   "metadata": {},
   "outputs": [
    {
     "data": {
      "text/plain": [
       "['Arroz', 'Agua', 'Jamón', 'Huevos', 'Queso', 'Aceite', 'Mermelada']"
      ]
     },
     "execution_count": 50,
     "metadata": {},
     "output_type": "execute_result"
    }
   ],
   "source": [
    "compra\n",
    "compra = ['Agua', 'Jamón', 'Huevos', 'Queso', 'Aceite', 'Mermelada']\n",
    "compra.insert(-100, 'Arroz') \n",
    "compra"
   ]
  },
  {
   "cell_type": "markdown",
   "metadata": {},
   "source": [
    "Repetir elementos"
   ]
  },
  {
   "cell_type": "code",
   "execution_count": 52,
   "metadata": {},
   "outputs": [
    {
     "data": {
      "text/plain": [
       "['Agua',\n",
       " 'Huevos',\n",
       " 'Aceite',\n",
       " 'Agua',\n",
       " 'Huevos',\n",
       " 'Aceite',\n",
       " 'Agua',\n",
       " 'Huevos',\n",
       " 'Aceite']"
      ]
     },
     "execution_count": 52,
     "metadata": {},
     "output_type": "execute_result"
    }
   ],
   "source": [
    "compra = ['Agua', 'Huevos', 'Aceite']\n",
    "compra\n",
    "['Agua', 'Huevos', 'Aceite']\n",
    "compra * 3"
   ]
  },
  {
   "cell_type": "markdown",
   "metadata": {},
   "source": [
    "Combinar listas"
   ]
  },
  {
   "cell_type": "code",
   "execution_count": 61,
   "metadata": {},
   "outputs": [
    {
     "data": {
      "text/plain": [
       "['Agua', 'Huevos', 'Aceite', 'Naranja', 'Manzana', 'Piña']"
      ]
     },
     "execution_count": 61,
     "metadata": {},
     "output_type": "execute_result"
    }
   ],
   "source": [
    "compra = ['Agua', 'Huevos', 'Aceite']\n",
    "fruteria = ['Naranja', 'Manzana', 'Piña']\n",
    "compra.extend(fruteria)\n",
    "compra"
   ]
  },
  {
   "cell_type": "markdown",
   "metadata": {},
   "source": [
    "tener en cuenta que extend() funciona adecuadamente si pasamos una lista \n",
    "como argumento. En otro caso, quizás los resultados no sean los esperados. Veamos un \n",
    "ejemplo"
   ]
  },
  {
   "cell_type": "code",
   "execution_count": 62,
   "metadata": {},
   "outputs": [
    {
     "data": {
      "text/plain": [
       "['Agua', 'Huevos', 'Aceite', 'L', 'i', 'm', 'ó', 'n']"
      ]
     },
     "execution_count": 62,
     "metadata": {},
     "output_type": "execute_result"
    }
   ],
   "source": [
    "compra = ['Agua', 'Huevos', 'Aceite']\n",
    "compra.extend('Limón')\n",
    "compra"
   ]
  },
  {
   "cell_type": "code",
   "execution_count": 66,
   "metadata": {},
   "outputs": [
    {
     "data": {
      "text/plain": [
       "['Agua', 'Huevos', 'Aceite', ['Naranja', 'Manzana', 'Piña']]"
      ]
     },
     "execution_count": 66,
     "metadata": {},
     "output_type": "execute_result"
    }
   ],
   "source": [
    "compra = ['Agua', 'Huevos', 'Aceite']\n",
    "fruteria = ['Naranja', 'Manzana', 'Piña']\n",
    "compra.append(fruteria)\n",
    "compra"
   ]
  },
  {
   "cell_type": "code",
   "execution_count": 67,
   "metadata": {},
   "outputs": [
    {
     "data": {
      "text/plain": [
       "['Àgua', 'Huevos', 'Aceite']"
      ]
     },
     "execution_count": 67,
     "metadata": {},
     "output_type": "execute_result"
    }
   ],
   "source": [
    "compras =  ['Àgua', 'Huevos', 'Aceite']\n",
    "compras[0]\n",
    "compras"
   ]
  },
  {
   "cell_type": "code",
   "execution_count": 68,
   "metadata": {},
   "outputs": [
    {
     "data": {
      "text/plain": [
       "['Agua', 'Atún', 'Pasta', 'Limón']"
      ]
     },
     "execution_count": 68,
     "metadata": {},
     "output_type": "execute_result"
    }
   ],
   "source": [
    "compras = ['Agua', 'Huevos', 'Aceite', 'sal', 'Limón']\n",
    "compras[1:4]\n",
    "['Huevos', 'Aceite', 'Sal']\n",
    "compras[1:4] = ['Atún', 'Pasta']\n",
    "compras"
   ]
  },
  {
   "cell_type": "markdown",
   "metadata": {},
   "source": [
    "Borrar elementos."
   ]
  },
  {
   "cell_type": "markdown",
   "metadata": {},
   "source": [
    "a) Por su índice: Mediante la sentencia del"
   ]
  },
  {
   "cell_type": "code",
   "execution_count": 69,
   "metadata": {},
   "outputs": [
    {
     "data": {
      "text/plain": [
       "['Agua', 'Huevos', 'Aceite', 'Limón']"
      ]
     },
     "execution_count": 69,
     "metadata": {},
     "output_type": "execute_result"
    }
   ],
   "source": [
    "compras = ['Agua', 'Huevos', 'Aceite', 'sal', 'Limón']\n",
    "del compras[3]\n",
    "compras"
   ]
  },
  {
   "cell_type": "code",
   "execution_count": null,
   "metadata": {},
   "outputs": [],
   "source": [
    "b) Por su valor: mediante la función remove()"
   ]
  },
  {
   "cell_type": "code",
   "execution_count": 71,
   "metadata": {},
   "outputs": [
    {
     "data": {
      "text/plain": [
       "['Agua', 'Huevos', 'Aceite', 'Limón']"
      ]
     },
     "execution_count": 71,
     "metadata": {},
     "output_type": "execute_result"
    }
   ],
   "source": [
    "compras = ['Agua', 'Huevos', 'Aceite', 'Sal', 'Limón']\n",
    "compras.remove('Sal')\n",
    "compras\n",
    "\n"
   ]
  },
  {
   "cell_type": "markdown",
   "metadata": {},
   "source": [
    "c) Por su índice (con extracción)"
   ]
  },
  {
   "cell_type": "code",
   "execution_count": 72,
   "metadata": {},
   "outputs": [
    {
     "data": {
      "text/plain": [
       "['Agua', 'Huevos', 'Aceite', 'Sal']"
      ]
     },
     "execution_count": 72,
     "metadata": {},
     "output_type": "execute_result"
    }
   ],
   "source": [
    "compras = ['Agua', 'Huevos', 'Aceite', 'Sal', 'Limón']\n",
    "producto = compras.pop() # shopping.pop(-1)\n",
    "producto\n",
    "'Limón'\n",
    "compras\n"
   ]
  },
  {
   "cell_type": "markdown",
   "metadata": {},
   "source": [
    "d) Por su rango: Mediante troceado de listas."
   ]
  },
  {
   "cell_type": "code",
   "execution_count": 73,
   "metadata": {},
   "outputs": [
    {
     "data": {
      "text/plain": [
       "['Agua', 'Limón']"
      ]
     },
     "execution_count": 73,
     "metadata": {},
     "output_type": "execute_result"
    }
   ],
   "source": [
    "shopping = ['Agua', 'Huevos', 'Aceite', 'Sal', 'Limón']\n",
    "shopping[1:4] = []\n",
    "shopping"
   ]
  },
  {
   "cell_type": "markdown",
   "metadata": {},
   "source": [
    "Borrado completo de lista: se utiliza la funcion clear"
   ]
  },
  {
   "cell_type": "code",
   "execution_count": 74,
   "metadata": {},
   "outputs": [
    {
     "data": {
      "text/plain": [
       "[]"
      ]
     },
     "execution_count": 74,
     "metadata": {},
     "output_type": "execute_result"
    }
   ],
   "source": [
    "shopping = ['Agua', 'Huevos', 'Aceite', 'Sal', 'Limón']\n",
    "shopping.clear() # Borrado in - situ\n",
    "shopping"
   ]
  },
  {
   "cell_type": "markdown",
   "metadata": {},
   "source": [
    "Reiniciando la lista a vacio con []"
   ]
  },
  {
   "cell_type": "code",
   "execution_count": 75,
   "metadata": {},
   "outputs": [
    {
     "data": {
      "text/plain": [
       "[]"
      ]
     },
     "execution_count": 75,
     "metadata": {},
     "output_type": "execute_result"
    }
   ],
   "source": [
    "shopping = ['Agua', 'Huevos', 'Aceite', 'Sal', 'Limón']\n",
    "shopping = [] # Nueva zona de memoria\n",
    "shopping"
   ]
  },
  {
   "cell_type": "markdown",
   "metadata": {},
   "source": [
    "Encontrar un elemento: index : Si el elemento no esta en la lista se vera un error en la salida"
   ]
  },
  {
   "cell_type": "code",
   "execution_count": 76,
   "metadata": {},
   "outputs": [
    {
     "data": {
      "text/plain": [
       "1"
      ]
     },
     "execution_count": 76,
     "metadata": {},
     "output_type": "execute_result"
    }
   ],
   "source": [
    "shopping = ['Agua', 'Huevos', 'Aceite', 'Sal', 'Limón']\n",
    "shopping.index('Huevos')"
   ]
  },
  {
   "cell_type": "markdown",
   "metadata": {},
   "source": [
    "Pertenencia de  un elemento: si queremos la existencia de un determinado elemento en una lista.se podría busca con la forma pitónica de hacerlo es utilizar la función in:"
   ]
  },
  {
   "cell_type": "code",
   "execution_count": 82,
   "metadata": {},
   "outputs": [
    {
     "data": {
      "text/plain": [
       "True"
      ]
     },
     "execution_count": 82,
     "metadata": {},
     "output_type": "execute_result"
    }
   ],
   "source": [
    "shopping = ['Agua', 'Huevos', 'Aceite', 'Sal', 'Limón']\n",
    "'Aceite' in shopping\n"
   ]
  },
  {
   "cell_type": "code",
   "execution_count": 80,
   "metadata": {},
   "outputs": [
    {
     "data": {
      "text/plain": [
       "False"
      ]
     },
     "execution_count": 80,
     "metadata": {},
     "output_type": "execute_result"
    }
   ],
   "source": [
    "shopping = ['Agua', 'Huevos', 'Aceite', 'Sal', 'Limón']\n",
    "'Pollo' in shopping"
   ]
  },
  {
   "cell_type": "markdown",
   "metadata": {},
   "source": [
    "Nuemero de ocurrencias: para contar cuantas veces aparece un determinado valor dentro de un alista podemos usar la función count(:)"
   ]
  },
  {
   "cell_type": "code",
   "execution_count": 83,
   "metadata": {},
   "outputs": [
    {
     "data": {
      "text/plain": [
       "0"
      ]
     },
     "execution_count": 83,
     "metadata": {},
     "output_type": "execute_result"
    }
   ],
   "source": [
    "Sheldon_greeting = ['Penny', 'Penny', 'Penny']\n",
    "Sheldon_greeting.count('Howard')"
   ]
  },
  {
   "cell_type": "code",
   "execution_count": 84,
   "metadata": {},
   "outputs": [
    {
     "data": {
      "text/plain": [
       "3"
      ]
     },
     "execution_count": 84,
     "metadata": {},
     "output_type": "execute_result"
    }
   ],
   "source": [
    "Sheldon_greeting = ['Penny', 'Penny', 'Penny']\n",
    "Sheldon_greeting.count('Penny')"
   ]
  },
  {
   "cell_type": "markdown",
   "metadata": {},
   "source": [
    "Covertir una lista a cadena de texto : esto se hace uniendo todos los elementos mediante algun separador. Para ello hacemos uso de la función join() con la sgte estructura \n",
    "'='.join(mylist)\n",
    "separdor  lista\n",
    "\n",
    "Solo funciona si todos sus elementos son cadena de texto"
   ]
  },
  {
   "cell_type": "code",
   "execution_count": 85,
   "metadata": {},
   "outputs": [
    {
     "data": {
      "text/plain": [
       "'Agua,Huevos,Aceite,Sal,Limón'"
      ]
     },
     "execution_count": 85,
     "metadata": {},
     "output_type": "execute_result"
    }
   ],
   "source": [
    "shopping = ['Agua', 'Huevos', 'Aceite', 'Sal', 'Limón']\n",
    "','.join(shopping)\n"
   ]
  },
  {
   "cell_type": "code",
   "execution_count": 87,
   "metadata": {},
   "outputs": [
    {
     "data": {
      "text/plain": [
       "'Agua Huevos Aceite Sal Limón'"
      ]
     },
     "execution_count": 87,
     "metadata": {},
     "output_type": "execute_result"
    }
   ],
   "source": [
    "' '.join(shopping)"
   ]
  },
  {
   "cell_type": "code",
   "execution_count": 88,
   "metadata": {},
   "outputs": [
    {
     "data": {
      "text/plain": [
       "'Agua | Huevos | Aceite | Sal | Limón'"
      ]
     },
     "execution_count": 88,
     "metadata": {},
     "output_type": "execute_result"
    }
   ],
   "source": [
    "' | '.join(shopping)"
   ]
  },
  {
   "cell_type": "markdown",
   "metadata": {},
   "source": [
    "Ordenar una lista: Se puede utilizar la funcion sorted() que devuelve una nueva lista\n",
    "ordenada - Conservanco la lista original"
   ]
  },
  {
   "cell_type": "code",
   "execution_count": 89,
   "metadata": {},
   "outputs": [
    {
     "data": {
      "text/plain": [
       "['Aceite', 'Agua', 'Huevos', 'Limón', 'Sal']"
      ]
     },
     "execution_count": 89,
     "metadata": {},
     "output_type": "execute_result"
    }
   ],
   "source": [
    "shopping = ['Agua', 'Huevos', 'Aceite', 'Sal', 'Limón']\n",
    "sorted(shopping)"
   ]
  },
  {
   "cell_type": "markdown",
   "metadata": {},
   "source": [
    "Mediante sort"
   ]
  },
  {
   "cell_type": "code",
   "execution_count": 92,
   "metadata": {},
   "outputs": [
    {
     "data": {
      "text/plain": [
       "['Aceite', 'Agua', 'Huevos', 'Limón', 'Sal']"
      ]
     },
     "execution_count": 92,
     "metadata": {},
     "output_type": "execute_result"
    }
   ],
   "source": [
    "shopping = ['Agua', 'Huevos', 'Aceite', 'Sal', 'Limón']\n",
    "shopping.sort()\n",
    "shopping"
   ]
  },
  {
   "cell_type": "code",
   "execution_count": null,
   "metadata": {},
   "outputs": [],
   "source": [
    "Ambos admiten parametro booleano"
   ]
  },
  {
   "cell_type": "code",
   "execution_count": 93,
   "metadata": {},
   "outputs": [
    {
     "data": {
      "text/plain": [
       "['Sal', 'Limón', 'Huevos', 'Agua', 'Aceite']"
      ]
     },
     "execution_count": 93,
     "metadata": {},
     "output_type": "execute_result"
    }
   ],
   "source": [
    "shopping = ['Agua', 'Huevos', 'Aceite', 'Sal', 'Limón']\n",
    "sorted(shopping, reverse=True)"
   ]
  },
  {
   "cell_type": "markdown",
   "metadata": {},
   "source": [
    "Longitud de una lista"
   ]
  },
  {
   "cell_type": "code",
   "execution_count": 95,
   "metadata": {},
   "outputs": [
    {
     "name": "stdout",
     "output_type": "stream",
     "text": [
      "Agua\n",
      "Huevos\n",
      "Aceite\n",
      "Sal\n",
      "Limón\n"
     ]
    }
   ],
   "source": [
    "shopping = ['Agua', 'Huevos', 'Aceite', 'Sal', 'Limón']\n",
    "for product in shopping: \n",
    "    print(product)"
   ]
  },
  {
   "cell_type": "markdown",
   "metadata": {},
   "source": [
    "Iteral utilizando enumeracioón"
   ]
  },
  {
   "cell_type": "code",
   "execution_count": 96,
   "metadata": {},
   "outputs": [
    {
     "name": "stdout",
     "output_type": "stream",
     "text": [
      "0 Agua\n",
      "1 Huevos\n",
      "2 Aceite\n",
      "3 Sal\n",
      "4 Limón\n"
     ]
    }
   ],
   "source": [
    "shopping = ['Agua', 'Huevos', 'Aceite', 'Sal', 'Limón']\n",
    "for i, product in enumerate(shopping):\n",
    "     print(i,product)    \n"
   ]
  },
  {
   "cell_type": "markdown",
   "metadata": {},
   "source": [
    "Iteral sobre múltiples listas: Es la posibiliadd de iteral multiplex listas en paralelo utilizando función  zip()"
   ]
  },
  {
   "cell_type": "code",
   "execution_count": 98,
   "metadata": {},
   "outputs": [
    {
     "name": "stdout",
     "output_type": "stream",
     "text": [
      "Agua mineral natural\n",
      "Aceite de oliva virgen\n",
      "Arroz basmati\n"
     ]
    }
   ],
   "source": [
    "compras =  ['Agua', 'Aceite', 'Arroz']\n",
    "detalles = ['mineral natural','de oliva virgen', 'basmati']\n",
    "for producto, tipo in zip(compras,detalles):\n",
    "    print(producto,tipo)"
   ]
  },
  {
   "cell_type": "code",
   "execution_count": 99,
   "metadata": {},
   "outputs": [
    {
     "data": {
      "text/plain": [
       "[('Agua', 'mineral natural'),\n",
       " ('Aceite', 'de oliva virgen'),\n",
       " ('Arroz', 'basmati')]"
      ]
     },
     "execution_count": 99,
     "metadata": {},
     "output_type": "execute_result"
    }
   ],
   "source": [
    "shopping = ['Agua', 'Aceite', 'Arroz']\n",
    "details = ['mineral natural','de oliva virgen','bastami']\n",
    "list(zip('shopping','details'))\n",
    "[('Agua','mineral natural'),\n",
    " ('Aceite', 'de oliva virgen'),\n",
    " ('Arroz', 'basmati')]"
   ]
  },
  {
   "cell_type": "markdown",
   "metadata": {},
   "source": [
    "Comparra listas"
   ]
  },
  {
   "cell_type": "code",
   "execution_count": 100,
   "metadata": {},
   "outputs": [
    {
     "data": {
      "text/plain": [
       "True"
      ]
     },
     "execution_count": 100,
     "metadata": {},
     "output_type": "execute_result"
    }
   ],
   "source": [
    "[1, 2, 3] < [1, 2, 4]"
   ]
  },
  {
   "cell_type": "code",
   "execution_count": 101,
   "metadata": {},
   "outputs": [
    {
     "data": {
      "text/plain": [
       "False"
      ]
     },
     "execution_count": 101,
     "metadata": {},
     "output_type": "execute_result"
    }
   ],
   "source": [
    "[1, 2, 3] < [1, 2, 3]"
   ]
  },
  {
   "cell_type": "code",
   "execution_count": 102,
   "metadata": {},
   "outputs": [
    {
     "data": {
      "text/plain": [
       "True"
      ]
     },
     "execution_count": 102,
     "metadata": {},
     "output_type": "execute_result"
    }
   ],
   "source": [
    "[1, 2, 3] < [5, 3, 1]"
   ]
  }
 ],
 "metadata": {
  "kernelspec": {
   "display_name": "Curso_Python",
   "language": "python",
   "name": "python3"
  },
  "language_info": {
   "codemirror_mode": {
    "name": "ipython",
    "version": 3
   },
   "file_extension": ".py",
   "mimetype": "text/x-python",
   "name": "python",
   "nbconvert_exporter": "python",
   "pygments_lexer": "ipython3",
   "version": "3.11.9"
  }
 },
 "nbformat": 4,
 "nbformat_minor": 2
}

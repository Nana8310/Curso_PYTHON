{
 "cells": [
  {
   "cell_type": "markdown",
   "metadata": {},
   "source": [
    "Práctica 20 . Introducción a Listas"
   ]
  },
  {
   "cell_type": "markdown",
   "metadata": {},
   "source": [
    "# 1 - Escribir un programa que almacene las asignaturas de un curso (por \n",
    "ejemplo, Matemáticas, Física, Química, Historia y Lengua) en una lista y la \n",
    "muestre por pantalla."
   ]
  },
  {
   "cell_type": "code",
   "execution_count": 1,
   "metadata": {},
   "outputs": [
    {
     "data": {
      "text/plain": [
       "['Matemática', 'Física', 'Química', 'Historia', 'Lengua']"
      ]
     },
     "execution_count": 1,
     "metadata": {},
     "output_type": "execute_result"
    }
   ],
   "source": [
    "asignatura = ['Matemática' , 'Física', 'Química', 'Historia' , 'Lengua']\n",
    "asignatura"
   ]
  },
  {
   "cell_type": "markdown",
   "metadata": {},
   "source": [
    "# 2 - Escribir un programa que almacene las asignaturas de un curso (por \n",
    "ejemplo, Matemáticas, Física, Química, Historia y Lengua) en una lista y  \n",
    "muestre por pantalla el mensaje Yo estudio <asignatura>, donde \n",
    "<asignatura> es cada una de las asignaturas de la lista\n",
    "Yo estudio Matemáticas\n",
    "Yo estudio Física\n",
    "Yo estudio Química\n",
    "Yo estudio Historia\n",
    "Yo estudio Lengua"
   ]
  },
  {
   "cell_type": "code",
   "execution_count": 4,
   "metadata": {},
   "outputs": [
    {
     "name": "stdout",
     "output_type": "stream",
     "text": [
      "Yo estudio Matemática \n",
      "Yo estudio Física \n",
      "Yo estudio Química \n",
      "Yo estudio Historia \n",
      "Yo estudio Lengua \n"
     ]
    }
   ],
   "source": [
    "asignatura = ['Matemática' , 'Física', 'Química', 'Historia' , 'Lengua'] # Lista de asignaturas\n",
    "for asignatura in asignatura:     # Bucle para imprimir las asignaturas\n",
    "    print(f'Yo estudio {asignatura} ')  "
   ]
  },
  {
   "cell_type": "markdown",
   "metadata": {},
   "source": [
    "# 3 - Escribir un programa que almacene las asignaturas de un curso (por \n",
    "ejemplo, Matemáticas, Física, Química, Historia y Lengua) en una lista, \n",
    "pregunte al usuario la nota que ha sacado en cada asignatura, y después las \n",
    "muestre por pantalla con el mensaje En <asignatura> has sacado <nota> \n",
    "donde <asignatura> es cada una de las asignaturas de la lista y <nota> cada \n",
    "una de las correspondientes notas introducidas por el usuario\n",
    "¿Qué nota has sacado en Matemáticas?6\n",
    "¿Qué nota has sacado en Física?7\n",
    "¿Qué nota has sacado en Química?4\n",
    "¿Qué nota has sacado en Historia?6\n",
    "¿Qué nota has sacado en Lengua?5\n",
    "En Matemáticas has sacado 6\n",
    "En Física has sacado 7\n",
    "En Química has sacado 4\n",
    "En Historia has sacado 6\n",
    "En Lengua has sacado 5\n"
   ]
  },
  {
   "cell_type": "code",
   "execution_count": 13,
   "metadata": {},
   "outputs": [
    {
     "name": "stdout",
     "output_type": "stream",
     "text": [
      " En Matemática, has sacado 5\n",
      " En Física, has sacado 5\n",
      " En Química, has sacado 5\n",
      " En Historia, has sacado 5\n",
      " En Lengua, has sacado 5\n"
     ]
    }
   ],
   "source": [
    "asignaturas = ['Matemática' , 'Física', 'Química', 'Historia' , 'Lengua'] # Lista de asignaturas\n",
    "notas = [ ]\n",
    "\n",
    "for asignatura in asignaturas:\n",
    "    interrogante = input(f'Qué nota has sacado en {asignatura}') \n",
    "    notas.append(nota)\n",
    "    \n",
    "for asignatura, nota in zip (asignaturas, notas):\n",
    "    print(f' En {asignatura}, has sacado {nota}')\n",
    "  \n",
    "    "
   ]
  },
  {
   "cell_type": "markdown",
   "metadata": {},
   "source": [
    "# 4 - Escribir un programa que almacene en una lista los números del 1 al 10 \n",
    "y los muestre por pantalla en orden inverso separados por comas."
   ]
  },
  {
   "cell_type": "code",
   "execution_count": 14,
   "metadata": {},
   "outputs": [
    {
     "data": {
      "text/plain": [
       "['10', '9', '8', '7', '6', '5', '4', '3', '2', '1']"
      ]
     },
     "execution_count": 14,
     "metadata": {},
     "output_type": "execute_result"
    }
   ],
   "source": [
    "lista =  ['1','2','3','4','5','6','7','8','9','10']\n",
    "lista.reverse()\n",
    "lista"
   ]
  },
  {
   "cell_type": "markdown",
   "metadata": {},
   "source": [
    "# 5 - Escribir un programa que almacene las asignaturas de un curso (por \n",
    "ejemplo, Matemáticas, Física, Química, Historia y Lengua) en una lista, \n",
    "pregunte al usuario la nota que ha sacado en cada asignatura y elimine de la \n",
    "lista las asignaturas aprobadas. Al final el programa debe mostrar por \n",
    "pantalla las asignaturas que el usuario tiene que repetir.\n",
    "salida esperada\n",
    "¿Qué nota has sacado en Matemáticas?6\n",
    "¿Qué nota has sacado en Física?7\n",
    "¿Qué nota has sacado en Química?4\n",
    "¿Qué nota has sacado en Historia?6\n",
    "¿Qué nota has sacado en Lengua?5\n",
    "tienes que repetir [F´sisica', 'Lengua']"
   ]
  },
  {
   "cell_type": "code",
   "execution_count": 20,
   "metadata": {},
   "outputs": [
    {
     "name": "stdout",
     "output_type": "stream",
     "text": [
      "Tienes que repetir :\n",
      "Física\n",
      "Lengua\n"
     ]
    }
   ],
   "source": [
    "# Lista de asignaturas\n",
    "asignaturas = ['Matemáticas', 'Física', 'Química', 'Historia', 'Lengua']\n",
    "asignaturas_pendientes = []\n",
    "\n",
    "# Pedir al usuario la nota de cada asignatura y determinar si está aprobada\n",
    "for asignatura in asignaturas:\n",
    "    nota = float(input(f'¿Qué nota has sacado en {asignatura}? '))\n",
    "    if nota < 5:\n",
    "        asignaturas_pendientes.append(asignatura)\n",
    "\n",
    "# Mostrar las asignaturas que el usuario tiene que repetir\n",
    "print('Tienes que repetir :')\n",
    "for asignatura in asignaturas_pendientes:\n",
    "    print(asignatura)"
   ]
  }
 ],
 "metadata": {
  "kernelspec": {
   "display_name": "Curso_Python",
   "language": "python",
   "name": "python3"
  },
  "language_info": {
   "codemirror_mode": {
    "name": "ipython",
    "version": 3
   },
   "file_extension": ".py",
   "mimetype": "text/x-python",
   "name": "python",
   "nbconvert_exporter": "python",
   "pygments_lexer": "ipython3",
   "version": "3.11.9"
  }
 },
 "nbformat": 4,
 "nbformat_minor": 2
}

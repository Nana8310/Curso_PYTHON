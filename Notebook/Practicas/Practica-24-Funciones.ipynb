{
 "cells": [
  {
   "cell_type": "markdown",
   "id": "b8b3820c",
   "metadata": {},
   "source": [
    "# Practica 24 - Funciones. 15 ejercicios para resolver solo 10."
   ]
  },
  {
   "cell_type": "markdown",
   "id": "51fd8a94",
   "metadata": {},
   "source": [
    "1 - Escribe un programa que defina una función crear_lista( ) para crear y devolver una lista que sea la combinación de dos listas que se le pasen."
   ]
  },
  {
   "cell_type": "code",
   "execution_count": 2,
   "id": "411e44c4",
   "metadata": {},
   "outputs": [
    {
     "name": "stdout",
     "output_type": "stream",
     "text": [
      "[1, 2, 3, 4, 5, 6]\n"
     ]
    }
   ],
   "source": [
    "def crear_lista(lista1, lista2):\n",
    "    \n",
    "# Combinar las dos listas \n",
    "    lista_combinada = lista1 + lista2\n",
    "    return lista_combinada    \n",
    "    \n",
    "# Uso de la función\n",
    "lista_1 = [1, 2, 3]\n",
    "lista_2 = [4, 5, 6]\n",
    "lista_nueva = crear_lista(lista_1, lista_2)  \n",
    "print(lista_nueva)"
   ]
  },
  {
   "cell_type": "markdown",
   "id": "1aa4b8b7",
   "metadata": {},
   "source": [
    "2- Escribe una programa que defina una funcion que haga conversiones de precios de moneda. Se le pide al usuario que introduzca la cantidad en euros y que introduzca la divisa a la que quiere convertir. Use por lo menos dos divisas mas: Dolár y Francos por ejemplo. Imprima los resultados."
   ]
  },
  {
   "cell_type": "code",
   "execution_count": null,
   "id": "cfa89752",
   "metadata": {},
   "outputs": [],
   "source": [
    " \n",
    "    "
   ]
  },
  {
   "cell_type": "markdown",
   "id": "e8e0284d",
   "metadata": {},
   "source": [
    "3- Escribe un programa que defina una función llamada limpiar_lista( ) para eliminar todas las entradas duplicadas de la lista que recibe."
   ]
  },
  {
   "cell_type": "code",
   "execution_count": 3,
   "id": "33b4c69b",
   "metadata": {},
   "outputs": [
    {
     "name": "stdout",
     "output_type": "stream",
     "text": [
      "[1, 2, 3, 4, 5]\n"
     ]
    }
   ],
   "source": [
    "def limpiar_lista(lista):\n",
    "\n",
    "    # Esta función toma una lista y devuelve una nueva lista sin duplicados.\n",
    "    mi_lista_limpia = []\n",
    "    for elemento in mi_lista:\n",
    "        if elemento not in mi_lista_limpia:       # Si el elemento no está ya en lista_limpia, lo añade.\n",
    "            mi_lista_limpia.append(elemento)\n",
    "    return mi_lista_limpia\n",
    "\n",
    "# Ejemplo de uso de la función\n",
    "mi_lista = [1, 2, 2, 3, 3, 3, 4, 5, 5]\n",
    "mi_lista_limpia = limpiar_lista(mi_lista) # Llamamos a la función con mi_lista como argumento.\n",
    "\n",
    "print(mi_lista_limpia) # Imprime la lista limpia, que será [1, 2, 3, 4, 5]"
   ]
  },
  {
   "cell_type": "markdown",
   "id": "0a28448d",
   "metadata": {},
   "source": [
    "4- ¿Cuál de las llamadas a la función imprímelo( ) en el siguiente programa informará de errores?"
   ]
  },
  {
   "cell_type": "code",
   "execution_count": 9,
   "id": "78571ae1",
   "metadata": {},
   "outputs": [
    {
     "name": "stdout",
     "output_type": "stream",
     "text": [
      "\n",
      "20 6.28 Hi\n",
      "30 6.28 Hello\n",
      "40 2.35 NagMum10"
     ]
    }
   ],
   "source": [
    "def imprimelo(i, a, s, *args) : \n",
    "    print( )\n",
    "    print(i, a, s, end = '') \n",
    "    for var in args:\n",
    "        print(var, end = '')\n",
    "        \n",
    "#imprimelo(10, 3.14)        salida es: error ya que debe tener 3 argumentos posicionales(i,a,s,*args)  y no dos \n",
    "imprimelo(20, s = 'Hi', a = 6.28)      # salida es: 20 6.28 Hi\n",
    "imprimelo(a = 6.28, s = 'Hello', i = 30)   #salida es: 30  6.28  Hello\n",
    "imprimelo(40, 2.35, 'Nag', 'Mum', 10)  # salida es: 40  2.35  NagMum10"
   ]
  },
  {
   "cell_type": "markdown",
   "id": "90072e0e",
   "metadata": {},
   "source": [
    "¿Cuál de las llamadas a funciona( ) en el siguiente programa informará de errores?"
   ]
  },
  {
   "cell_type": "code",
   "execution_count": 13,
   "id": "dec47066",
   "metadata": {},
   "outputs": [
    {
     "name": "stdout",
     "output_type": "stream",
     "text": [
      "10 !\n",
      "10 !\n",
      "20 !\n",
      "10 !\n",
      "20 !\n",
      "30 !\n",
      "10 +\n",
      "20 +\n",
      "30 +\n",
      "40 +\n"
     ]
    }
   ],
   "source": [
    "def funciona(a, *args, s = '!') :\n",
    "    print(a, s)\n",
    "    for i in args :\n",
    "        print(i, s)\n",
    "        \n",
    "funciona(10)     \n",
    "funciona(10, 20)\n",
    "funciona(10, 20, 30)\n",
    "funciona(10, 20, 30, 40, s = '+')\n",
    "\n",
    "# No, presenta error en ninguna"
   ]
  },
  {
   "cell_type": "markdown",
   "id": "88393dc3",
   "metadata": {},
   "source": [
    "6 - ¿Cuál de las siguientes es una declaración de retorno válida?"
   ]
  },
  {
   "cell_type": "code",
   "execution_count": null,
   "id": "9c9000d1",
   "metadata": {},
   "outputs": [],
   "source": [
    "return (a, b, c) # Esto devuelve una tupla que contiene los valores de a, b y c.\n",
    "return a + b + c # Esto devuelve la suma de a, b y c. Si a, b y c son números, obtendrás su suma numérica. Si son cadenas, obtendrás su concatenación.\n",
    "return a, b, c     #Esta sintaxis devuelve una tupla que contiene los valores de las variables a, b y c.\n",
    "\n",
    "# todas son válidas"
   ]
  },
  {
   "cell_type": "markdown",
   "id": "eec1a252",
   "metadata": {},
   "source": [
    "7 - ¿Cuál de las siguientes es una declaración de retorno válida?"
   ]
  },
  {
   "cell_type": "code",
   "execution_count": 28,
   "id": "51b2233a",
   "metadata": {},
   "outputs": [
    {
     "name": "stdout",
     "output_type": "stream",
     "text": [
      "First avatar\n"
     ]
    }
   ],
   "source": [
    "def fun( ) :\n",
    "    print('First avatar')  #Esta tiene retorno valido\n",
    "fun( )\n",
    "\n",
    "#################################\n",
    "\n",
    "def fun( ) : \n",
    "    print('New avatar') \n",
    "# fun( )"
   ]
  },
  {
   "cell_type": "markdown",
   "id": "e30f2b75",
   "metadata": {},
   "source": [
    "8 (Opcional) - ¿Cómo definirías una función que contenga tres sentencias return, cada una de las cuales devuelve un tipo de valor diferente?"
   ]
  },
  {
   "cell_type": "code",
   "execution_count": null,
   "id": "a6e88b02",
   "metadata": {},
   "outputs": [],
   "source": []
  },
  {
   "cell_type": "markdown",
   "id": "4d539a86",
   "metadata": {},
   "source": [
    "9 (Opcional) - ¿Cómo llamarías a imprimelo( ) para que imprima los elementos de una tupla?"
   ]
  },
  {
   "cell_type": "code",
   "execution_count": 36,
   "id": "65a3ff18",
   "metadata": {},
   "outputs": [
    {
     "name": "stdout",
     "output_type": "stream",
     "text": [
      "1\n",
      "a\n",
      "3.14\n"
     ]
    }
   ],
   "source": [
    "# Definición de la función imprimelo\n",
    "def imprimelo(tupla):\n",
    "    for elemento in tupla:\n",
    "        print(elemento)\n",
    "\n",
    "# Ejemplo de tupla\n",
    "tupla = (1, 'a', 3.14)\n",
    "\n",
    "# Llamada a la función imprimelo para imprimir los elementos de la tupla\n",
    "imprimelo(tupla)"
   ]
  },
  {
   "cell_type": "markdown",
   "id": "a8ac9fe9",
   "metadata": {},
   "source": [
    "10 - ¿Cuál será la salida de los siguientes programas?. Explique también con sus propias palabras lo que el programa está haciendo. Puede hacerlo en un bloque aparte o en el mismo bloque del codigo usando comentarios"
   ]
  },
  {
   "cell_type": "markdown",
   "id": "9f9b6b87",
   "metadata": {},
   "source": [
    "a)"
   ]
  },
  {
   "cell_type": "code",
   "execution_count": 30,
   "id": "3af9f912",
   "metadata": {},
   "outputs": [
    {
     "name": "stdout",
     "output_type": "stream",
     "text": [
      "48\n"
     ]
    }
   ],
   "source": [
    "def fun(x, y) :\n",
    "    if x == 0 :\n",
    "        return y\n",
    "    else :\n",
    "        return fun(x - 1, x * y) \n",
    "\n",
    "print(fun(4, 2))"
   ]
  },
  {
   "cell_type": "markdown",
   "id": "6f8299d0",
   "metadata": {},
   "source": [
    "b)"
   ]
  },
  {
   "cell_type": "code",
   "execution_count": 29,
   "id": "f46c2ba5",
   "metadata": {},
   "outputs": [
    {
     "name": "stdout",
     "output_type": "stream",
     "text": [
      "91\n"
     ]
    }
   ],
   "source": [
    "def fun(num) : \n",
    "    if num > 100 : \n",
    "        return num - 10\n",
    "    return fun(fun(num + 11)) \n",
    "print(fun(75))"
   ]
  },
  {
   "cell_type": "markdown",
   "id": "b91e6a9c",
   "metadata": {},
   "source": [
    "c)"
   ]
  },
  {
   "cell_type": "code",
   "execution_count": null,
   "id": "40f50f6c",
   "metadata": {},
   "outputs": [],
   "source": [
    "def fun_(num) :\n",
    "    if num == 0 :\n",
    "        print(\"False\")\n",
    "    elif num == 1 :\n",
    "        print(\"True\")\n",
    "    elif num % 2 == 0 :\n",
    "        fun_(num / 2)\n",
    "fun_(256)"
   ]
  },
  {
   "cell_type": "markdown",
   "id": "3e2f061f",
   "metadata": {},
   "source": [
    "11 - Considere la siguiente lista: lst = [1.25, 3.22, 4.68, 10.95, 32.55, 12.54]. Los números en la lista representan radios de circulos. Escriba un programa donde se obtenga una lista de las areas de esos circulos."
   ]
  },
  {
   "cell_type": "markdown",
   "id": "44b90292",
   "metadata": {},
   "source": [
    "- Area del circulo: A ---------------> A = (pi) * r**2"
   ]
  },
  {
   "cell_type": "code",
   "execution_count": 31,
   "id": "fc8d0d68",
   "metadata": {},
   "outputs": [
    {
     "name": "stdout",
     "output_type": "stream",
     "text": [
      "[4.908738521234052, 32.57328926948041, 68.80841893598507, 376.68481314705014, 3328.5252704600193, 494.02047132524063]\n"
     ]
    }
   ],
   "source": [
    "import math\n",
    "\n",
    "# Lista de radios\n",
    "lst = [1.25, 3.22, 4.68, 10.95, 32.55, 12.54]\n",
    "\n",
    "# Calcula las áreas y las almacena en una nueva lista\n",
    "areas = [math.pi * r**2 for r in lst]\n",
    "\n",
    "# Imprime la lista de áreas\n",
    "print(areas)"
   ]
  },
  {
   "cell_type": "markdown",
   "id": "32444ae6",
   "metadata": {},
   "source": [
    "12 - Considere la siguiente lista: lista = ['Thor', 'Iron Man', 'Cap America', 'Hulk', 'Hawkeye']. Escribe un programa para obtener una lista en la que todos los nombres se conviertan a mayúsculas."
   ]
  },
  {
   "cell_type": "code",
   "execution_count": 32,
   "id": "4bd49275",
   "metadata": {},
   "outputs": [
    {
     "name": "stdout",
     "output_type": "stream",
     "text": [
      "['THOR', 'IRON MAN', 'CAP AMERICA', 'HULK', 'HAWKEYE']\n"
     ]
    }
   ],
   "source": [
    "# Lista de nombres\n",
    "lista = ['Thor', 'Iron Man', 'Cap America', 'Hulk', 'Hawkeye']\n",
    "\n",
    "# Convierte los nombres a mayúsculas y los almacena en una nueva lista\n",
    "lista_mayusculas = [nombre.upper() for nombre in lista]\n",
    "\n",
    "# Imprime la lista de nombres en mayúsculas\n",
    "print(lista_mayusculas)"
   ]
  },
  {
   "cell_type": "markdown",
   "id": "e68715cf",
   "metadata": {},
   "source": [
    "13 - Considere la siguiente lista: lista_1 = ['Yo hago Yoga Hoy', 'Acaso hubo búhos acá', 'Ana, la tacaña catalana.', 'Julio está dando caña'] . Escribe un programa que imprima las cadenas que son palíndromos."
   ]
  },
  {
   "cell_type": "code",
   "execution_count": null,
   "id": "7859f9dd",
   "metadata": {},
   "outputs": [],
   "source": []
  },
  {
   "cell_type": "markdown",
   "id": "84f77ceb",
   "metadata": {},
   "source": [
    "14 - Supongamos que un diccionario contiene los nombres de los alumnos y las notas que han obtenido en un examen (Rango de notas de 0 - 100). Escribe un programa para obtener una lista de los alumnos que han obtenido más de 40 puntos en el examen."
   ]
  },
  {
   "cell_type": "code",
   "execution_count": 33,
   "id": "83a20444",
   "metadata": {},
   "outputs": [
    {
     "name": "stdout",
     "output_type": "stream",
     "text": [
      "['Elena', 'Marcos', 'Laura']\n"
     ]
    }
   ],
   "source": [
    "# Diccionario con los nombres de los alumnos y sus notas\n",
    "notas_alumnos = {\n",
    "    'Juan': 35,\n",
    "    'Elena': 82,\n",
    "    'Marcos': 65,\n",
    "    'Laura': 50,\n",
    "    'Carlos': 28\n",
    "}\n",
    "\n",
    "# Lista de alumnos con notas mayores a 40\n",
    "alumnos_aprobados = [nombre for nombre, nota in notas_alumnos.items() if nota > 40]\n",
    "\n",
    "# Imprime la lista de alumnos aprobados\n",
    "print(alumnos_aprobados)"
   ]
  },
  {
   "cell_type": "markdown",
   "id": "cc191c04",
   "metadata": {},
   "source": [
    "15 - Considere las siguientes listas:"
   ]
  },
  {
   "cell_type": "code",
   "execution_count": null,
   "id": "f2164659",
   "metadata": {},
   "outputs": [],
   "source": [
    "nums = [10, 20, 30, 40, 50, 60, 70, 80]\n",
    "strs = ['A', 'B', 'C', 'D', 'E', 'F', 'G', 'H']"
   ]
  },
  {
   "cell_type": "markdown",
   "id": "0ec7ca4d",
   "metadata": {},
   "source": [
    "Escribe un programa para obtener una lista de tuplas, donde cada tupla contenga un número de una lista y una cadena de otra, en el mismo orden en que aparecen en las listas originales"
   ]
  },
  {
   "cell_type": "code",
   "execution_count": 34,
   "id": "a4e64fd8",
   "metadata": {},
   "outputs": [
    {
     "name": "stdout",
     "output_type": "stream",
     "text": [
      "[(10, 'A'), (20, 'B'), (30, 'C'), (40, 'D'), (50, 'E'), (60, 'F'), (70, 'G'), (80, 'H')]\n"
     ]
    }
   ],
   "source": [
    "# Listas dadas\n",
    "nums = [10, 20, 30, 40, 50, 60, 70, 80]\n",
    "strs = ['A', 'B', 'C', 'D', 'E', 'F', 'G', 'H']\n",
    "\n",
    "# Crea una lista de tuplas combinando los elementos de ambas listas\n",
    "lista_tuplas = list(zip(nums, strs)) #la función zip para combinar los elementos de las listas nums y strs en tuplas\n",
    "\n",
    "# Imprime la lista de tuplas\n",
    "print(lista_tuplas)"
   ]
  }
 ],
 "metadata": {
  "kernelspec": {
   "display_name": "Python 3 (ipykernel)",
   "language": "python",
   "name": "python3"
  },
  "language_info": {
   "codemirror_mode": {
    "name": "ipython",
    "version": 3
   },
   "file_extension": ".py",
   "mimetype": "text/x-python",
   "name": "python",
   "nbconvert_exporter": "python",
   "pygments_lexer": "ipython3",
   "version": "3.11.9"
  }
 },
 "nbformat": 4,
 "nbformat_minor": 5
}

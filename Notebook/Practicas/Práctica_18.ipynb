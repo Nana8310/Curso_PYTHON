{
 "cells": [
  {
   "cell_type": "markdown",
   "metadata": {},
   "source": [
    "Práctica 20 . Introducción a Listas"
   ]
  },
  {
   "cell_type": "markdown",
   "metadata": {},
   "source": [
    "# 1 - Escribir un programa que almacene las asignaturas de un curso (por \n",
    "ejemplo, Matemáticas, Física, Química, Historia y Lengua) en una lista y la \n",
    "muestre por pantalla."
   ]
  },
  {
   "cell_type": "code",
   "execution_count": 1,
   "metadata": {},
   "outputs": [
    {
     "data": {
      "text/plain": [
       "['Matemática', 'Física', 'Química', 'Historia', 'Lengua']"
      ]
     },
     "execution_count": 1,
     "metadata": {},
     "output_type": "execute_result"
    }
   ],
   "source": [
    "asignatura = ['Matemática' , 'Física', 'Química', 'Historia' , 'Lengua']\n",
    "asignatura"
   ]
  },
  {
   "cell_type": "markdown",
   "metadata": {},
   "source": [
    "# 2 - Escribir un programa que almacene las asignaturas de un curso (por \n",
    "ejemplo, Matemáticas, Física, Química, Historia y Lengua) en una lista y  \n",
    "muestre por pantalla el mensaje Yo estudio <asignatura>, donde \n",
    "<asignatura> es cada una de las asignaturas de la lista\n",
    "Yo estudio Matemáticas\n",
    "Yo estudio Física\n",
    "Yo estudio Química\n",
    "Yo estudio Historia\n",
    "Yo estudio Lengua"
   ]
  },
  {
   "cell_type": "code",
   "execution_count": null,
   "metadata": {},
   "outputs": [],
   "source": [
    "asignatura = ['Matemática' , 'Física', 'Química', 'Historia' , 'Lengua']\n",
    "detalle = "
   ]
  }
 ],
 "metadata": {
  "kernelspec": {
   "display_name": "Curso_Python",
   "language": "python",
   "name": "python3"
  },
  "language_info": {
   "codemirror_mode": {
    "name": "ipython",
    "version": 3
   },
   "file_extension": ".py",
   "mimetype": "text/x-python",
   "name": "python",
   "nbconvert_exporter": "python",
   "pygments_lexer": "ipython3",
   "version": "3.11.9"
  }
 },
 "nbformat": 4,
 "nbformat_minor": 2
}

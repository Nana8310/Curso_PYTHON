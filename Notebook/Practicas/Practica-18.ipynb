{
 "cells": [
  {
   "cell_type": "markdown",
   "metadata": {},
   "source": [
    "Practica # 18. Bucle while"
   ]
  },
  {
   "cell_type": "markdown",
   "metadata": {},
   "source": [
    "1. Escriba un programa que pregunte una y otra vez si desea continuar con el programa, \n",
    "siempre que se conteste exactamente sí (en minúsculas y con tilde)."
   ]
  },
  {
   "cell_type": "code",
   "execution_count": 20,
   "metadata": {},
   "outputs": [
    {
     "name": "stdout",
     "output_type": "stream",
     "text": [
      "¿Desea continuar con el programa? sí\n",
      "¿Desea continuar con el programa? sí\n",
      "¿Desea continuar con el programa? si\n",
      "Programa finalizado.\n"
     ]
    }
   ],
   "source": [
    "# Programa que pregunta repetidamente si se desea continuar\n",
    "\n",
    "respuesta = 'sí'  # Inicializamos la variable respuesta con 'Sí' para entrar al bucle\n",
    "\n",
    "while True:                                                          # El bucle se ejecuta mientras la respuesta sea 'sí'\n",
    "    respuesta_usuario = input('¿Desea continuar con el programa? ')      # Guarda la respuesta del usuario en una variable\n",
    "    print(f'¿Desea continuar con el programa? {respuesta_usuario}')  # Imprime la pregunta y la respuesta del usuario\n",
    "    if respuesta_usuario != 'sí':                                    # Verifica si la respuesta es 'No' para terminar el programa\n",
    "        print('Programa finalizado.')\n",
    "        break"
   ]
  },
  {
   "cell_type": "markdown",
   "metadata": {},
   "source": [
    "2. Escriba un programa que pregunte una y otra vez si desea terminar el programa, siempre \n",
    "que se conteste exactamente N (en mayúsculas)."
   ]
  },
  {
   "cell_type": "markdown",
   "metadata": {},
   "source": [
    "3. Escriba un programa que pregunte una y otra vez si desea continuar con el programa, \n",
    "siempre que se conteste S o s (en mayúsculas o en minúsculas)"
   ]
  },
  {
   "cell_type": "markdown",
   "metadata": {},
   "source": [
    "4. Escriba un programa que solicite una contraseña (el texto de la contraseña no es importante) \n",
    "y la vuelva a solicitar hasta que las dos contraseñas coincidan"
   ]
  },
  {
   "cell_type": "markdown",
   "metadata": {},
   "source": [
    "5. Escriba un programa que simule una hucha. El programa solicitará primero una cantidad, que será \n",
    "la cantidad de dinero que queremos ahorrar. A continuación, el programa solicitará una y otra vez las \n",
    "cantidades que se irán ahorrando, hasta que el total ahorrado iguale o supere al objetivo. El \n",
    "programa no comprobará que las cantidades sean positivas."
   ]
  },
  {
   "cell_type": "markdown",
   "metadata": {},
   "source": [
    "6. Escriba un programa que mejore la simulación de la hucha del ejercicio anterior, no permitiendo \n",
    "que se escriban cantidades negativas."
   ]
  },
  {
   "cell_type": "markdown",
   "metadata": {},
   "source": [
    "7. Escriba un programa que solicite una contraseña (el texto de la contraseña no es importante) y la \n",
    "vuelva a solicitar hasta que las dos contraseñas coincidan, con un límite de tres peticiones"
   ]
  },
  {
   "cell_type": "markdown",
   "metadata": {},
   "source": [
    "8. Escriba un programa que lea los números enteros desde teclado, hasta que el usuario ingrese el 0. \n",
    "Finalmente, mostrar la sumatoria de todos los números ingresados"
   ]
  },
  {
   "cell_type": "markdown",
   "metadata": {},
   "source": [
    "9. Escriba un programa que lea los números enteros desde teclado, hasta que el usuario ingrese el 0. \n",
    "Finalmente, mostrar la cantidad de todos los números positivos ingresados."
   ]
  },
  {
   "cell_type": "markdown",
   "metadata": {},
   "source": [
    "10. Escriba un programa que lea los números enteros positivos de teclado, hasta que el usuario \n",
    "ingrese el 0. Informar cuál fue el mayor número ingresado"
   ]
  },
  {
   "cell_type": "markdown",
   "metadata": {},
   "source": []
  },
  {
   "cell_type": "markdown",
   "metadata": {},
   "source": []
  }
 ],
 "metadata": {
  "kernelspec": {
   "display_name": "Curso_Python",
   "language": "python",
   "name": "python3"
  },
  "language_info": {
   "codemirror_mode": {
    "name": "ipython",
    "version": 3
   },
   "file_extension": ".py",
   "mimetype": "text/x-python",
   "name": "python",
   "nbconvert_exporter": "python",
   "pygments_lexer": "ipython3",
   "version": "3.11.9"
  }
 },
 "nbformat": 4,
 "nbformat_minor": 2
}

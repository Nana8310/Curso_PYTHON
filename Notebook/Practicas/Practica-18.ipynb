{
 "cells": [
  {
   "cell_type": "markdown",
   "metadata": {},
   "source": [
    "Practica # 18. Bucle while"
   ]
  },
  {
   "cell_type": "markdown",
   "metadata": {},
   "source": [
    "1. Escriba un programa que pregunte una y otra vez si desea continuar con el programa, \n",
    "siempre que se conteste exactamente sí (en minúsculas y con tilde)."
   ]
  },
  {
   "cell_type": "code",
   "execution_count": 20,
   "metadata": {},
   "outputs": [
    {
     "name": "stdout",
     "output_type": "stream",
     "text": [
      "¿Desea continuar con el programa? sí\n",
      "¿Desea continuar con el programa? sí\n",
      "¿Desea continuar con el programa? si\n",
      "Programa finalizado.\n"
     ]
    }
   ],
   "source": [
    "# Programa que pregunta repetidamente si se desea continuar\n",
    "\n",
    "respuesta = 'sí'  # Inicializamos la variable respuesta con 'Sí' para entrar al bucle\n",
    "\n",
    "while True:                                                          # El bucle se ejecuta mientras la respuesta sea 'sí'\n",
    "    respuesta_usuario = input('¿Desea continuar con el programa? ')      # Guarda la respuesta del usuario en una variable\n",
    "    print(f'¿Desea continuar con el programa? {respuesta_usuario}')  # Imprime la pregunta y la respuesta del usuario\n",
    "    if respuesta_usuario != 'sí':                                    # Verifica si la respuesta es 'No' para terminar el programa\n",
    "        print('Programa finalizado.')\n",
    "        break"
   ]
  },
  {
   "cell_type": "markdown",
   "metadata": {},
   "source": [
    "2. Escriba un programa que pregunte una y otra vez si desea terminar el programa, siempre \n",
    "que se conteste exactamente N (en mayúsculas)."
   ]
  },
  {
   "cell_type": "code",
   "execution_count": 1,
   "metadata": {},
   "outputs": [
    {
     "name": "stdout",
     "output_type": "stream",
     "text": [
      "¿Desea terminar el programa? N\n",
      "¿Desea terminar el programa? N\n",
      "¿Desea terminar el programa? N\n",
      "¿Desea terminar el programa? N\n",
      "¿Desea terminar el programa? S\n",
      "Programa terminado\n"
     ]
    }
   ],
   "source": [
    "# Programa que pregunta al usuario si desea terminar el programa\n",
    "respuesta = 'N'  # Se inicia la variable respuesta con 'N'\n",
    "\n",
    "# Bucle while que se ejecuta mientras la respuesta sea 'N'\n",
    "while respuesta == 'N':\n",
    "    respuesta = input('¿Desea terminar el programa? (N para no terminar): ').upper()\n",
    "    # Asegúrate de que 'print' no se haya redefinido en ninguna parte del código\n",
    "    print(f'¿Desea terminar el programa? {respuesta}')\n",
    "    if respuesta != 'N':\n",
    "        print('Programa terminado')\n",
    "        break"
   ]
  },
  {
   "cell_type": "markdown",
   "metadata": {},
   "source": [
    "3. Escriba un programa que pregunte una y otra vez si desea continuar con el programa, \n",
    "siempre que se conteste S o s (en mayúsculas o en minúsculas)"
   ]
  },
  {
   "cell_type": "code",
   "execution_count": 11,
   "metadata": {},
   "outputs": [
    {
     "name": "stdout",
     "output_type": "stream",
     "text": [
      "Pregunta: ¿Desea continuar con el programa? Respuesta: s\n",
      "Pregunta: ¿Desea continuar con el programa? Respuesta: s\n",
      "Pregunta: ¿Desea continuar con el programa? Respuesta: S\n",
      "Pregunta: ¿Desea continuar con el programa? Respuesta: N\n",
      "El programa ha terminado.\n"
     ]
    }
   ],
   "source": [
    "# Programa que pregunta al usuario si desea continuar con el programa\n",
    "respuesta = 'S'  # Inicializamos la variable respuesta con 'S' para entrar al bucle\n",
    "\n",
    "# Bucle while que se ejecuta mientras la respuesta sea 'S' o 's'\n",
    "while respuesta.upper() == 'S':\n",
    "    respuesta = input('¿Desea continuar con el programa? (S para continuar): ')\n",
    "    print(f'Pregunta: ¿Desea continuar con el programa? Respuesta: {respuesta}')\n",
    "\n",
    "print('El programa ha terminado.')"
   ]
  },
  {
   "cell_type": "markdown",
   "metadata": {},
   "source": [
    "4. Escriba un programa que solicite una contraseña (el texto de la contraseña no es importante) \n",
    "y la vuelva a solicitar hasta que las dos contraseñas coincidan"
   ]
  },
  {
   "cell_type": "code",
   "execution_count": 26,
   "metadata": {},
   "outputs": [
    {
     "name": "stdout",
     "output_type": "stream",
     "text": [
      "Contraseña introducida: 4141\n",
      "Contraseña incorrecta\n",
      "Contraseña introducida: 4141\n",
      "Contraseña incorrecta\n",
      "Contraseña introducida: 1234\n",
      "Contraseña correcta\n"
     ]
    }
   ],
   "source": [
    "# Programa que solicita al usuario ingresar una contraseña hasta que sea correcta\n",
    "while True:\n",
    "    contraseña = int(input('Introduzca contraseña: '))\n",
    "    print(f'Contraseña introducida: {contraseña}')  # Imprime la contraseña introducida\n",
    "    if contraseña == 1234:\n",
    "        print('Contraseña correcta')\n",
    "        break\n",
    "    else:\n",
    "        print('Contraseña incorrecta')    "
   ]
  },
  {
   "cell_type": "code",
   "execution_count": 24,
   "metadata": {},
   "outputs": [
    {
     "name": "stdout",
     "output_type": "stream",
     "text": [
      "Las contraseñas no coinciden. Inténtelo de nuevo.\n",
      "Las contraseñas no coinciden. Inténtelo de nuevo.\n",
      "La confirmación de contraseña es exitosa.\n"
     ]
    }
   ],
   "source": [
    "# Programa que solicita al usuario ingresar una contraseña y confirmarla\n",
    "contraseña = input('Por favor, ingrese una nueva contraseña: ')\n",
    "confirmación = input('Por favor, confirme su contraseña: ')\n",
    "\n",
    "# Bucle while que se ejecuta hasta que las contraseñas coincidan\n",
    "while contraseña != confirmación:\n",
    "    print('Las contraseñas no coinciden. Inténtelo de nuevo.')\n",
    "    contraseña = input('Por favor, ingrese una nueva contraseña: ')\n",
    "    confirmación = input('Por favor, confirme su contraseña: ')\n",
    "\n",
    "print('La confirmación de contraseña es exitosa.')"
   ]
  },
  {
   "cell_type": "markdown",
   "metadata": {},
   "source": [
    "5. Escriba un programa que simule una hucha. El programa solicitará primero una cantidad, que será \n",
    "la cantidad de dinero que queremos ahorrar. A continuación, el programa solicitará una y otra vez las \n",
    "cantidades que se irán ahorrando, hasta que el total ahorrado iguale o supere al objetivo. El \n",
    "programa no comprobará que las cantidades sean positivas."
   ]
  },
  {
   "cell_type": "code",
   "execution_count": 4,
   "metadata": {},
   "outputs": [
    {
     "name": "stdout",
     "output_type": "stream",
     "text": [
      "Total ahorrado hasta ahora: 200.0€\n",
      "Total ahorrado hasta ahora: 2000.0€\n",
      "Total ahorrado hasta ahora: 2900.0€\n",
      "Total ahorrado hasta ahora: 2800.0€\n",
      "Total ahorrado hasta ahora: 3000.0€\n",
      "¡Lograste la meta! Ha ahorrado 3000.0€, cumpliendo su meta de 3000.0€.\n"
     ]
    }
   ],
   "source": [
    "\n",
    "# Solicitar la cantidad objetivo a ahorrar\n",
    "meta = float(input('Por favor ingrese el monto de ahorro: '))\n",
    "\n",
    "# Inicializar el total ahorrado\n",
    "total_ahorrado = 0.0\n",
    "\n",
    "# Bucle que se ejecuta ha50\n",
    "# sta que el total ahorrado sea igual o superior a la meta\n",
    "while total_ahorrado < meta:\n",
    "    # Solicitar la cantidad que va a colocar para el ahorro\n",
    "    ahorro = float(input('¿Cuánto dinero va a colocar en la hucha? '))\n",
    "    # Sumar la cantidad al total ahorrado\n",
    "    total_ahorrado += ahorro\n",
    "    print(f'Total ahorrado hasta ahora: {total_ahorrado}€')\n",
    "\n",
    "# Mensaje final cuando se alcanza o supera el objetivo\n",
    "print(f'¡Lograste la meta! Ha ahorrado {total_ahorrado}€, cumpliendo su meta de {meta}€.')\n",
    "\n",
    "\n"
   ]
  },
  {
   "cell_type": "markdown",
   "metadata": {},
   "source": [
    "6. Escriba un programa que mejore la simulación de la hucha del ejercicio anterior, no permitiendo \n",
    "que se escriban cantidades negativas."
   ]
  },
  {
   "cell_type": "code",
   "execution_count": 7,
   "metadata": {},
   "outputs": [
    {
     "name": "stdout",
     "output_type": "stream",
     "text": [
      "Total ahorrado hasta ahora: 500.0€\n",
      "Total ahorrado hasta ahora: 1500.0€\n",
      "Total ahorrado hasta ahora: 2000.0€\n",
      "Total ahorrado hasta ahora: 2500.0€\n",
      "Total ahorrado hasta ahora: 2600.0€\n",
      "Total ahorrado hasta ahora: 4600.0€\n",
      "Total ahorrado hasta ahora: 5300.0€\n",
      "¡Lograste la meta! Ha ahorrado 5300.0€, cumpliendo su meta de 5000.0€.\n"
     ]
    }
   ],
   "source": [
    "# Solicitar la cantidad objetivo a ahorrar\n",
    "meta = float(input('Por favor ingrese el monto de ahorro: '))\n",
    "\n",
    "# Inicializar el total ahorrado\n",
    "total_ahorrado = 0.0\n",
    "\n",
    "# Bucle que se ejecuta hasta que el total ahorrado sea igual o superior a la meta\n",
    "while total_ahorrado < meta:\n",
    "    # Solicitar la cantidad que va a colocar para el ahorro\n",
    "    ahorro = float(input('¿Cuánto dinero va a colocar en la hucha? '))\n",
    "\n",
    "    # Verificar si la cantidad es negativa\n",
    "    if ahorro < 0:\n",
    "        print('No se puede ahorrar una cantidad negativa. Por favor, intenta de nuevo.')\n",
    "    else:\n",
    "        # Sumar la cantidad al total ahorrado si es positiva\n",
    "        total_ahorrado += ahorro\n",
    "        print(f'Total ahorrado hasta ahora: {total_ahorrado}€')\n",
    "# Mensaje final cuando se alcanza o supera el objetivo\n",
    "print(f'¡Lograste la meta! Ha ahorrado {total_ahorrado}€, cumpliendo su meta de {meta}€.')"
   ]
  },
  {
   "cell_type": "markdown",
   "metadata": {},
   "source": [
    "7. Escriba un programa que solicite una contraseña (el texto de la contraseña no es importante) y la \n",
    "vuelva a solicitar hasta que las dos contraseñas coincidan, con un límite de tres peticiones"
   ]
  },
  {
   "cell_type": "code",
   "execution_count": 18,
   "metadata": {},
   "outputs": [
    {
     "name": "stdout",
     "output_type": "stream",
     "text": [
      "¡Hola! Por favor, introduce tu contraseña.\n",
      "Las contraseñas no coinciden. Inténtelo de nuevo.\n",
      "Las contraseñas no coinciden. Inténtelo de nuevo.\n",
      "¡Las contraseñas coinciden!\n",
      "Contraseña exitosa.\n"
     ]
    }
   ],
   "source": [
    "MAX_INTENTOS = 3\n",
    "intentos_realizados = 0\n",
    "\n",
    "print(\"¡Hola! Por favor, introduce tu contraseña.\")\n",
    "\n",
    "contraseña_ingresada = input(\"Contraseña: \")\n",
    "\n",
    "while intentos_realizados < MAX_INTENTOS:\n",
    "    confirmacion_contraseña = input(\"Confirma tu contraseña: \")\n",
    "    \n",
    "    if contraseña_ingresada == confirmacion_contraseña:\n",
    "        print(\"¡Las contraseñas coinciden!\")\n",
    "        break\n",
    "    else:\n",
    "        intentos_realizados += 1\n",
    "        if intentos_realizados < MAX_INTENTOS:\n",
    "            print(\"Las contraseñas no coinciden. Inténtelo de nuevo.\")\n",
    "\n",
    "if intentos_realizados == MAX_INTENTOS:\n",
    "    print(\"Número máximo de intentos alcanzado.\")\n",
    "else:\n",
    "    print(\"Contraseña exitosa.\")"
   ]
  },
  {
   "cell_type": "markdown",
   "metadata": {},
   "source": [
    "8. Escriba un programa que lea los números enteros desde teclado, hasta que el usuario ingrese el 0. \n",
    "Finalmente, mostrar la sumatoria de todos los números ingresados"
   ]
  },
  {
   "cell_type": "code",
   "execution_count": 3,
   "metadata": {},
   "outputs": [
    {
     "name": "stdout",
     "output_type": "stream",
     "text": [
      "Introduce un número entero, para terminar presione 0. \n",
      "El total es: 37\n"
     ]
    }
   ],
   "source": [
    "suma = 0\n",
    "print('Introduce un número entero, para terminar presione 0. ')\n",
    "\n",
    "while True:\n",
    "    numero = int(input(\"ingresa un número: \"))\n",
    "    if numero == 0:\n",
    "       break\n",
    "    suma+=numero\n",
    "print(\"El total es:\", suma)    \n"
   ]
  },
  {
   "cell_type": "markdown",
   "metadata": {},
   "source": [
    "9. Escriba un programa que lea los números enteros desde teclado, hasta que el usuario ingrese el 0. \n",
    "Finalmente, mostrar la cantidad de todos los números positivos ingresados."
   ]
  },
  {
   "cell_type": "code",
   "execution_count": 9,
   "metadata": {},
   "outputs": [
    {
     "name": "stdout",
     "output_type": "stream",
     "text": [
      "Introduce su número entero, para terminar presione 0: \n",
      "los numeros positivos son: 3\n"
     ]
    }
   ],
   "source": [
    "cantidad_positivo = 0\n",
    "print('Introduce su número entero, para terminar presione 0: ')\n",
    "\n",
    "while True:\n",
    "    numero = int(input(\"ingresa un número: \"))\n",
    "    if numero == 0:\n",
    "       break\n",
    "    if numero > 0:\n",
    "        cantidad_positivo += 1\n",
    "print (\"los numeros positivos son:\", cantidad_positivo )"
   ]
  },
  {
   "cell_type": "markdown",
   "metadata": {},
   "source": [
    "10. Escriba un programa que lea los números enteros positivos de teclado, hasta que el usuario \n",
    "ingrese el 0. Informar cuál fue el mayor número ingresado"
   ]
  },
  {
   "cell_type": "code",
   "execution_count": 10,
   "metadata": {},
   "outputs": [
    {
     "name": "stdout",
     "output_type": "stream",
     "text": [
      "Introduce números enteros positivos. Para finalizar, introduce 0.\n",
      "El mayor número positivo ingresado es: 40\n"
     ]
    }
   ],
   "source": [
    "mayor_numero = -1\n",
    "\n",
    "print(\"Introduce números enteros positivos. Para finalizar, introduce 0.\")\n",
    "\n",
    "numero = int(input(\"Número: \"))\n",
    "while numero != 0:\n",
    "    if numero > mayor_numero:\n",
    "        mayor_numero = numero\n",
    "    numero = int(input(\"Número: \"))\n",
    "\n",
    "if mayor_numero == -1:\n",
    "    print(\"No se ingresaron números positivos.\")\n",
    "else:\n",
    "    print(\"El mayor número positivo ingresado es:\", mayor_numero)"
   ]
  },
  {
   "cell_type": "markdown",
   "metadata": {},
   "source": []
  },
  {
   "cell_type": "markdown",
   "metadata": {},
   "source": []
  }
 ],
 "metadata": {
  "kernelspec": {
   "display_name": "Curso_Python",
   "language": "python",
   "name": "python3"
  },
  "language_info": {
   "codemirror_mode": {
    "name": "ipython",
    "version": 3
   },
   "file_extension": ".py",
   "mimetype": "text/x-python",
   "name": "python",
   "nbconvert_exporter": "python",
   "pygments_lexer": "ipython3",
   "version": "3.11.9"
  }
 },
 "nbformat": 4,
 "nbformat_minor": 2
}

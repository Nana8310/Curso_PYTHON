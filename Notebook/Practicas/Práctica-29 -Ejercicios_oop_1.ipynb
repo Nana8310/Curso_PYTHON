{
 "cells": [
  {
   "cell_type": "markdown",
   "id": "1e77d8e2-2c90-4295-881b-24cef792d61a",
   "metadata": {},
   "source": [
    "# Ejercicios de Introducción a POO. Para los ejemplos resueltos solo debe explicar los códigos añadiendo comentarios. "
   ]
  },
  {
   "cell_type": "markdown",
   "id": "55b131c9-00aa-4526-87f8-691498b680cf",
   "metadata": {},
   "source": [
    "**1 - Escribe una clase llamada Número que mantenga un número entero. Debe tener los siguientes métodos para realizar diversas operaciones en el número entero:**"
   ]
  },
  {
   "cell_type": "markdown",
   "id": "6021058a-f27d-4cd7-bc3b-e1c864e7c6a4",
   "metadata": {},
   "source": [
    "```\n",
    "set_number(self, n) # convierte n en int  \n",
    "get_number(self) # devuelve el valor actual de int  \n",
    "print_number(self) # imprime el int  \n",
    "isnegative(self) # comprueba si int es negativo  \n",
    "isdivisibleby(self, n) # comprueba si int es divisible por n  \n",
    "valor_absoluto(self) # devuelve el valor absoluto de int\n",
    "```"
   ]
  },
  {
   "cell_type": "code",
   "execution_count": 6,
   "id": "a829f616-cb4f-4a26-98f7-b6a2815406f6",
   "metadata": {},
   "outputs": [
    {
     "name": "stdout",
     "output_type": "stream",
     "text": [
      "-1234\n",
      "5 does not divide -1234\n",
      "Absolute Value of -1234 is  1234\n"
     ]
    }
   ],
   "source": [
    "class Number:\n",
    "    # Este método establece el número entero para la instancia de la clase.\n",
    "    def set_number(self,n):\n",
    "        # Se asigna el valor de n a la variable privada __num.\n",
    "        self.__num = n\n",
    "        # Este método devuelve el número entero actual de la instancia.\n",
    "    def get_number(self):\n",
    "        return self.__num\n",
    "    # Este método imprime el número entero actual.\n",
    "    def print_number(self):\n",
    "        print(self.__num)\n",
    "        # Este método verifica si el número entero es negativo.\n",
    "    def isnegative(self): \n",
    "        # Devuelve True si __num es menor que 0, de lo contrario devuelve False.\n",
    "        if self.__num < 0 :\n",
    "            return True\n",
    "        else:\n",
    "            return False \n",
    "\n",
    "    def isdivisibleby(self,n):\n",
    "        if n == 0:\n",
    "            return False\n",
    "        if self.__num % n == 0:\n",
    "            return True\n",
    "        else:\n",
    "            return False\n",
    " # Este método devuelve el valor absoluto del número entero.   \n",
    "    def absolute_value(self): \n",
    "        # Si __num es mayor o igual a 0, devuelve __num.\n",
    "        if self.__num >= 0:\n",
    "            return self.__num \n",
    "         # Si __num es negativo, devuelve su valor positivo.\n",
    "        else:\n",
    "            return-1*self.__num\n",
    "\n",
    "# Creación de una instancia de la clase Number. \n",
    "x = Number()\n",
    "# Establecimiento del número entero -1234 para la instancia x.\n",
    "x.set_number(-1234)\n",
    "# Impresión del número entero actual de la instancia x.\n",
    "x.print_number()\n",
    "# Verificación si el número entero de la instancia x es divisible por 5.\n",
    "if x.isdivisibleby(5) == True:\n",
    "    print(\"5 divides\", x.get_number())\n",
    "else:\n",
    "    print(\"5 does not divide\", x.get_number())\n",
    "# Impresión del valor absoluto del número entero de la instancia x.    \n",
    "print(\"Absolute Value of\", x.get_number(), \"is \", x.absolute_value())"
   ]
  },
  {
   "cell_type": "markdown",
   "id": "6fd92f94-4b58-4558-9492-30d3947924aa",
   "metadata": {},
   "source": [
    "**2 - Escribe un programa para crear una clase llamada Fruta con atributos tamaño y color. Cree múltiples objetos de esta clase. Indique cuántos objetos se han creado a partir de la clase**"
   ]
  },
  {
   "cell_type": "code",
   "execution_count": 7,
   "id": "212d2c55-3405-4ace-b882-8490ede34ee3",
   "metadata": {},
   "outputs": [
    {
     "name": "stdout",
     "output_type": "stream",
     "text": [
      "3\n",
      "3\n"
     ]
    }
   ],
   "source": [
    "class Fruit:\n",
    "    count = 0 # Variable de clase para llevar la cuenta de los objetos Fruit creados.\n",
    "\n",
    "    def __init__(self, name='', size=0, color=''):\n",
    "        # Método inicializador para instanciar un objeto Fruit.\n",
    "        self.__name__ = name # Variable de instancia privada para el nombre.\n",
    "        self.__size = size   # Variable de instancia privada para el tamaño.\n",
    "        self.__color = color # Variable de instancia privada para el color.\n",
    "        Fruit.count+=1 # Incrementa la variable de clase 'count'\n",
    "                       #cada vez que se crea un objeto.\n",
    "        \n",
    "    def display():\n",
    "        # Método de clase para mostrar el valor actual de la variable de clase 'count'.\n",
    "        print(Fruit.count)\n",
    "        \n",
    "# Creación de instancias de la clase Fruit. o objeto\n",
    "f1 = Fruit('Banana', 5, 'Yellow')\n",
    "f2 = Fruit('Orange', 4, 'Orange')\n",
    "f3 = Fruit('Apple', 3, 'Red')\n",
    "# Llamada al método de clase 'display' para mostrar el número de instancias creadas.\n",
    "Fruit.display()  # Esto imprimirá '3' porque se han creado tres instancias de Fruit.\n",
    "# Impresión directa de la variable de clase 'count'.\n",
    "print(Fruit.count)   # Esto también imprimirá '3'.     \n",
    "        "
   ]
  },
  {
   "cell_type": "markdown",
   "id": "5011b3dd-505b-4f53-a8ff-b0255d66d4d1",
   "metadata": {},
   "source": [
    "**Tips:**\n",
    "- **count** es un atributo de clase, no del objeto. Por lo tanto, se comparte entre todos los objetos de Fruit.\n",
    "- Puede inicializarse como `count = 0`, pero debe accederse a él utilizando `Fruit.count`\n"
   ]
  },
  {
   "cell_type": "markdown",
   "id": "94f3b466-79ad-4bfe-ac7c-bfda67f17adf",
   "metadata": {},
   "source": [
    "**3 - Escribe un programa que determine si dos objetos son del mismo tipo, si sus atributos son iguales y si apuntan al mismo objeto**"
   ]
  },
  {
   "cell_type": "code",
   "execution_count": 9,
   "id": "b9d20d65-2ef4-44ae-98f8-840fa7890451",
   "metadata": {},
   "outputs": [
    {
     "name": "stdout",
     "output_type": "stream",
     "text": [
      "Attributes of c1 and c2 are different\n",
      "c1 and c3 are of the same type\n",
      "c1 and c3 are pointing to the same object\n"
     ]
    }
   ],
   "source": [
    "class Complex: # complex representa un número complejo con una parte real \n",
    "    def __init__(self, r = 0.0, i = 0.0):\n",
    "        # Constructor de la clase Complex con valores predeterminados \n",
    "        # para la parte real (r) y la parte imaginaria (i)\n",
    "        self.__real = r # Parte real del número complejo, marcada como privada.\n",
    "        self.__imag = i # Parte imaginaria del número complejo, marcada como privada.\n",
    "    \n",
    "    def __eq__(self, other):\n",
    "        # Método especial para sobrecargar el operador de igualdad (==).\n",
    "        if self.__real == other.__real and self.__imag == other.imag:\n",
    "            # Compara la parte real y la parte imaginaria de dos números complejos.\n",
    "            return True\n",
    "        else:\n",
    "            return False\n",
    "\n",
    "# Creación de instancias de la clase Complex        \n",
    "c1 = Complex(1.1, 0.2) # c1 es un número complejo con parte real 1.1 y parte imaginaria 0.2.\n",
    "c2 = Complex(2.1, 0.4) # c2 es un número complejo con parte real 2.1 y parte imaginaria 0.4.\n",
    "c3 = c1 # c3 es una referencia al mismo objeto que c1.\n",
    "\n",
    "# Comparación de c1 y c2 usando el método __eq__ definido.\n",
    "if c1 == c2:\n",
    "    print('Attributes of c1 and c2 are same')\n",
    "else:\n",
    "    print('Attributes of c1 and c2 are different')\n",
    " # Esto imprimirá 'Attributes of c1 and c2 are different'\n",
    " # porque c1 y c2 tienen diferentes valores.   \n",
    "\n",
    "# Comprobación de si c1 y c3 son del mismo tipo.    \n",
    "if type(c1)==type(c3):\n",
    "    print('c1 and c3 are of the same type')\n",
    "else:\n",
    "    print('c1 and c3 are of different type')\n",
    " # Esto imprimirá 'c1 and c3 are of the same type' \n",
    " # porque ambos son instancias de la clase Complex.\n",
    " \n",
    "# Comprobación de si c1 y c3 apuntan al mismo objeto.\n",
    "if c1 is c3:\n",
    "    print('c1 and c3 are pointing to the same object')\n",
    "else:\n",
    "    print('c1 and c3 are pointing to different objects')"
   ]
  },
  {
   "cell_type": "markdown",
   "id": "107fcc1e-e2f2-47d1-92dc-c33699374d35",
   "metadata": {},
   "source": [
    "**Tips:**  \n",
    "- Para comparar atributos de dos objetos complejos hemos sobrecargado (overloaded) el operador `==`, definiendo la función __eq__(). Para mas información sobre overloading == ve al [siguiente enlace](https://www.pythonmorsels.com/overloading-equality-in-python/).\n",
    "- `type( )` se utiliza para obtener el tipo de un objeto. Los tipos tambien pueden compararse utilizando el operador `==`.\n",
    "- La palabra clave `is` se utiliza para comprobar si c1 y c3 apuntan al mismo objeto.\n"
   ]
  },
  {
   "cell_type": "markdown",
   "id": "bef2bd48-159e-45ee-9e79-fa028667059f",
   "metadata": {},
   "source": [
    "**4 - Escribe un programa para obtener una lista de funciones built-in.**"
   ]
  },
  {
   "cell_type": "code",
   "execution_count": 10,
   "id": "cf98c435-824c-488f-93d4-4bf4d826cdb1",
   "metadata": {},
   "outputs": [
    {
     "name": "stdout",
     "output_type": "stream",
     "text": [
      "['ArithmeticError', 'AssertionError', 'AttributeError', 'BaseException', 'BaseExceptionGroup', 'BlockingIOError', 'BrokenPipeError', 'BufferError', 'BytesWarning', 'ChildProcessError', 'ConnectionAbortedError', 'ConnectionError', 'ConnectionRefusedError', 'ConnectionResetError', 'DeprecationWarning', 'EOFError', 'Ellipsis', 'EncodingWarning', 'EnvironmentError', 'Exception', 'ExceptionGroup', 'False', 'FileExistsError', 'FileNotFoundError', 'FloatingPointError', 'FutureWarning', 'GeneratorExit', 'IOError', 'ImportError', 'ImportWarning', 'IndentationError', 'IndexError', 'InterruptedError', 'IsADirectoryError', 'KeyError', 'KeyboardInterrupt', 'LookupError', 'MemoryError', 'ModuleNotFoundError', 'NameError', 'None', 'NotADirectoryError', 'NotImplemented', 'NotImplementedError', 'OSError', 'OverflowError', 'PendingDeprecationWarning', 'PermissionError', 'ProcessLookupError', 'RecursionError', 'ReferenceError', 'ResourceWarning', 'RuntimeError', 'RuntimeWarning', 'StopAsyncIteration', 'StopIteration', 'SyntaxError', 'SyntaxWarning', 'SystemError', 'SystemExit', 'TabError', 'TimeoutError', 'True', 'TypeError', 'UnboundLocalError', 'UnicodeDecodeError', 'UnicodeEncodeError', 'UnicodeError', 'UnicodeTranslateError', 'UnicodeWarning', 'UserWarning', 'ValueError', 'Warning', 'WindowsError', 'ZeroDivisionError', '__IPYTHON__', '__build_class__', '__debug__', '__doc__', '__import__', '__loader__', '__name__', '__package__', '__spec__', 'abs', 'aiter', 'all', 'anext', 'any', 'ascii', 'bin', 'bool', 'breakpoint', 'bytearray', 'bytes', 'callable', 'chr', 'classmethod', 'compile', 'complex', 'copyright', 'credits', 'delattr', 'dict', 'dir', 'display', 'divmod', 'enumerate', 'eval', 'exec', 'execfile', 'filter', 'float', 'format', 'frozenset', 'get_ipython', 'getattr', 'globals', 'hasattr', 'hash', 'help', 'hex', 'id', 'input', 'int', 'isinstance', 'issubclass', 'iter', 'len', 'license', 'list', 'locals', 'map', 'max', 'memoryview', 'min', 'next', 'object', 'oct', 'open', 'ord', 'pow', 'print', 'property', 'range', 'repr', 'reversed', 'round', 'runfile', 'set', 'setattr', 'slice', 'sorted', 'staticmethod', 'str', 'sum', 'super', 'tuple', 'type', 'vars', 'zip']\n",
      "\n",
      "{'__name__': 'builtins', '__doc__': \"Built-in functions, types, exceptions, and other objects.\\n\\nThis module provides direct access to all 'built-in'\\nidentifiers of Python; for example, builtins.len is\\nthe full name for the built-in function len().\\n\\nThis module is not normally accessed explicitly by most\\napplications, but can be useful in modules that provide\\nobjects with the same name as a built-in value, but in\\nwhich the built-in of that name is also needed.\", '__package__': '', '__loader__': <class '_frozen_importlib.BuiltinImporter'>, '__spec__': ModuleSpec(name='builtins', loader=<class '_frozen_importlib.BuiltinImporter'>, origin='built-in'), '__build_class__': <built-in function __build_class__>, '__import__': <built-in function __import__>, 'abs': <built-in function abs>, 'all': <built-in function all>, 'any': <built-in function any>, 'ascii': <built-in function ascii>, 'bin': <built-in function bin>, 'breakpoint': <built-in function breakpoint>, 'callable': <built-in function callable>, 'chr': <built-in function chr>, 'compile': <built-in function compile>, 'delattr': <built-in function delattr>, 'dir': <built-in function dir>, 'divmod': <built-in function divmod>, 'eval': <built-in function eval>, 'exec': <built-in function exec>, 'format': <built-in function format>, 'getattr': <built-in function getattr>, 'globals': <built-in function globals>, 'hasattr': <built-in function hasattr>, 'hash': <built-in function hash>, 'hex': <built-in function hex>, 'id': <built-in function id>, 'input': <bound method Kernel.raw_input of <ipykernel.ipkernel.IPythonKernel object at 0x0000020EFFB590D0>>, 'isinstance': <built-in function isinstance>, 'issubclass': <built-in function issubclass>, 'iter': <built-in function iter>, 'aiter': <built-in function aiter>, 'len': <built-in function len>, 'locals': <built-in function locals>, 'max': <built-in function max>, 'min': <built-in function min>, 'next': <built-in function next>, 'anext': <built-in function anext>, 'oct': <built-in function oct>, 'ord': <built-in function ord>, 'pow': <built-in function pow>, 'print': <built-in function print>, 'repr': <built-in function repr>, 'round': <built-in function round>, 'setattr': <built-in function setattr>, 'sorted': <built-in function sorted>, 'sum': <built-in function sum>, 'vars': <built-in function vars>, 'None': None, 'Ellipsis': Ellipsis, 'NotImplemented': NotImplemented, 'False': False, 'True': True, 'bool': <class 'bool'>, 'memoryview': <class 'memoryview'>, 'bytearray': <class 'bytearray'>, 'bytes': <class 'bytes'>, 'classmethod': <class 'classmethod'>, 'complex': <class 'complex'>, 'dict': <class 'dict'>, 'enumerate': <class 'enumerate'>, 'filter': <class 'filter'>, 'float': <class 'float'>, 'frozenset': <class 'frozenset'>, 'property': <class 'property'>, 'int': <class 'int'>, 'list': <class 'list'>, 'map': <class 'map'>, 'object': <class 'object'>, 'range': <class 'range'>, 'reversed': <class 'reversed'>, 'set': <class 'set'>, 'slice': <class 'slice'>, 'staticmethod': <class 'staticmethod'>, 'str': <class 'str'>, 'super': <class 'super'>, 'tuple': <class 'tuple'>, 'type': <class 'type'>, 'zip': <class 'zip'>, '__debug__': True, 'BaseException': <class 'BaseException'>, 'BaseExceptionGroup': <class 'BaseExceptionGroup'>, 'Exception': <class 'Exception'>, 'GeneratorExit': <class 'GeneratorExit'>, 'KeyboardInterrupt': <class 'KeyboardInterrupt'>, 'SystemExit': <class 'SystemExit'>, 'ArithmeticError': <class 'ArithmeticError'>, 'AssertionError': <class 'AssertionError'>, 'AttributeError': <class 'AttributeError'>, 'BufferError': <class 'BufferError'>, 'EOFError': <class 'EOFError'>, 'ImportError': <class 'ImportError'>, 'LookupError': <class 'LookupError'>, 'MemoryError': <class 'MemoryError'>, 'NameError': <class 'NameError'>, 'OSError': <class 'OSError'>, 'ReferenceError': <class 'ReferenceError'>, 'RuntimeError': <class 'RuntimeError'>, 'StopAsyncIteration': <class 'StopAsyncIteration'>, 'StopIteration': <class 'StopIteration'>, 'SyntaxError': <class 'SyntaxError'>, 'SystemError': <class 'SystemError'>, 'TypeError': <class 'TypeError'>, 'ValueError': <class 'ValueError'>, 'Warning': <class 'Warning'>, 'FloatingPointError': <class 'FloatingPointError'>, 'OverflowError': <class 'OverflowError'>, 'ZeroDivisionError': <class 'ZeroDivisionError'>, 'BytesWarning': <class 'BytesWarning'>, 'DeprecationWarning': <class 'DeprecationWarning'>, 'EncodingWarning': <class 'EncodingWarning'>, 'FutureWarning': <class 'FutureWarning'>, 'ImportWarning': <class 'ImportWarning'>, 'PendingDeprecationWarning': <class 'PendingDeprecationWarning'>, 'ResourceWarning': <class 'ResourceWarning'>, 'RuntimeWarning': <class 'RuntimeWarning'>, 'SyntaxWarning': <class 'SyntaxWarning'>, 'UnicodeWarning': <class 'UnicodeWarning'>, 'UserWarning': <class 'UserWarning'>, 'BlockingIOError': <class 'BlockingIOError'>, 'ChildProcessError': <class 'ChildProcessError'>, 'ConnectionError': <class 'ConnectionError'>, 'FileExistsError': <class 'FileExistsError'>, 'FileNotFoundError': <class 'FileNotFoundError'>, 'InterruptedError': <class 'InterruptedError'>, 'IsADirectoryError': <class 'IsADirectoryError'>, 'NotADirectoryError': <class 'NotADirectoryError'>, 'PermissionError': <class 'PermissionError'>, 'ProcessLookupError': <class 'ProcessLookupError'>, 'TimeoutError': <class 'TimeoutError'>, 'IndentationError': <class 'IndentationError'>, 'IndexError': <class 'IndexError'>, 'KeyError': <class 'KeyError'>, 'ModuleNotFoundError': <class 'ModuleNotFoundError'>, 'NotImplementedError': <class 'NotImplementedError'>, 'RecursionError': <class 'RecursionError'>, 'UnboundLocalError': <class 'UnboundLocalError'>, 'UnicodeError': <class 'UnicodeError'>, 'BrokenPipeError': <class 'BrokenPipeError'>, 'ConnectionAbortedError': <class 'ConnectionAbortedError'>, 'ConnectionRefusedError': <class 'ConnectionRefusedError'>, 'ConnectionResetError': <class 'ConnectionResetError'>, 'TabError': <class 'TabError'>, 'UnicodeDecodeError': <class 'UnicodeDecodeError'>, 'UnicodeEncodeError': <class 'UnicodeEncodeError'>, 'UnicodeTranslateError': <class 'UnicodeTranslateError'>, 'ExceptionGroup': <class 'ExceptionGroup'>, 'EnvironmentError': <class 'OSError'>, 'IOError': <class 'OSError'>, 'WindowsError': <class 'OSError'>, 'open': <built-in function open>, 'copyright': Copyright (c) 2001-2023 Python Software Foundation.\n",
      "All Rights Reserved.\n",
      "\n",
      "Copyright (c) 2000 BeOpen.com.\n",
      "All Rights Reserved.\n",
      "\n",
      "Copyright (c) 1995-2001 Corporation for National Research Initiatives.\n",
      "All Rights Reserved.\n",
      "\n",
      "Copyright (c) 1991-1995 Stichting Mathematisch Centrum, Amsterdam.\n",
      "All Rights Reserved., 'credits':     Thanks to CWI, CNRI, BeOpen.com, Zope Corporation and a cast of thousands\n",
      "    for supporting Python development.  See www.python.org for more information., 'license': See https://www.python.org/psf/license/, 'help': Type help() for interactive help, or help(object) for help about object., 'execfile': <function execfile at 0x0000020EFE76AC00>, 'runfile': <function runfile at 0x0000020EFE8A6C00>, '__IPYTHON__': True, 'display': <function display at 0x0000020EFD162AC0>, 'get_ipython': <bound method InteractiveShell.get_ipython of <ipykernel.zmqshell.ZMQInteractiveShell object at 0x0000020EFFB59AD0>>}\n"
     ]
    }
   ],
   "source": [
    "import builtins # Esta línea importa el módulo 'builtins' para \n",
    "                #poder acceder a sus atributos y métodos.\n",
    "print(dir(builtins))# 'dir(builtins)' devuelve una lista de todos los nombres en el espacio de nombres del módulo 'builtins'.\n",
    "# 'print()' muestra esta lista en la consola.\n",
    "print( ) \n",
    "# Esto simplemente imprime una línea en blanco para separar las salidas de las dos llamadas a 'print'.\n",
    "print(vars(builtins))\n",
    "# 'vars(builtins)' devuelve el diccionario de atributos del módulo 'builtins'.\n",
    "# Este diccionario contiene pares clave-valor donde las claves son los nombres de los atributos (como funciones y excepciones integradas)\n",
    "# y los valores son los objetos correspondientes a esos nombres.\n",
    "# 'print()' muestra este diccionario en la consola."
   ]
  },
  {
   "cell_type": "markdown",
   "id": "d888a0fe-96ca-4f02-a74e-af0a2e7d20b5",
   "metadata": {},
   "source": [
    "**Tips:**  \n",
    "- En la salida anterior sólo se muestran elementos parciales del diccionario y de la lista. La salida real es mucho más exhaustiva"
   ]
  },
  {
   "cell_type": "markdown",
   "id": "60e17909-77ff-4eac-8901-5977700ac2eb",
   "metadata": {},
   "source": [
    "**5 - Supongamos que hemos definido dos funciones msg1( ) y msg2( ) en el módulo principal. ¿Cuál será la salida de vars( ) y dir( ) en el módulo actual? ¿Cómo se obtendrá la lista de nombres que están presentes en ambas salidas, los que son únicos en cualquiera de las listas?**"
   ]
  },
  {
   "cell_type": "code",
   "execution_count": 12,
   "id": "a01b6dc4-0364-4d13-9b0d-f7a41d65a2c5",
   "metadata": {},
   "outputs": [
    {
     "name": "stdout",
     "output_type": "stream",
     "text": [
      "['Complex', 'Fruit', 'In', 'Number', 'Out', '_', '__', '___', '__builtin__', '__builtins__', '__doc__', '__loader__', '__name__', '__package__', '__session__', '__spec__', '_dh', '_i', '_i1', '_i10', '_i11', '_i12', '_i2', '_i3', '_i4', '_i5', '_i6', '_i7', '_i8', '_i9', '_ih', '_ii', '_iii', '_oh', 'builtins', 'c1', 'c2', 'c3', 'd', 'exit', 'f1', 'f2', 'f3', 'get_ipython', 'l', 'msg1', 'msg2', 'open', 'quit', 'x']\n",
      "['Complex', 'Fruit', 'In', 'Number', 'Out', '_', '__', '___', '__builtin__', '__builtins__', '__doc__', '__loader__', '__name__', '__package__', '__session__', '__spec__', '_dh', '_i', '_i1', '_i10', '_i11', '_i12', '_i2', '_i3', '_i4', '_i5', '_i6', '_i7', '_i8', '_i9', '_ih', '_ii', '_iii', '_oh', 'builtins', 'c1', 'c2', 'c3', 'd', 'exit', 'f1', 'f2', 'f3', 'get_ipython', 'msg1', 'msg2', 'open', 'quit', 'x']\n",
      "{'l'}\n",
      "set()\n"
     ]
    }
   ],
   "source": [
    "def msg1( ) :\n",
    "    # Esta es la definición de la función 'msg1'. \n",
    "    # Cuando se llama, imprimirá el mensaje proporcionado.\n",
    "    \n",
    "    print('Wright Brothers are responsible for 9/11 too')\n",
    "def msg2( ) :\n",
    "    # Esta es la definición de la función 'msg2'. \n",
    "    # Cuando se llama, imprimirá el mensaje proporcionado.\n",
    "    print('Cells divide to multiply')\n",
    "\n",
    "d = vars( )\n",
    "# 'vars()' devuelve un diccionario que representa la tabla de símbolos local, \n",
    "# que contiene información sobre todas las variables y funciones definidas en el espacio de nombres local.\n",
    "\n",
    "l = dir( )\n",
    "# 'dir()' devuelve una lista de nombres en el espacio de nombres actual.\n",
    "\n",
    "print(sorted(d.keys()))\n",
    "# Esto imprimirá una lista ordenada de las claves del diccionario 'd', \n",
    "# que son los nombres de las variables y funciones definidas localmente.\n",
    "\n",
    "print(l) # Esto imprimirá la lista 'l', que contiene los nombres en\n",
    "#el espacio de nombres actual.\n",
    "\n",
    "print(d.keys( ) - l)\n",
    "\n",
    "# Esto imprimirá un conjunto que es la diferencia entre las claves del diccionario 'd' y la lista 'l'.\n",
    "# Normalmente, esto debería estar vacío ya que 'dir()' y 'vars()' deberían contener la\n",
    "# misma información en este contexto\n",
    "print(l - d.keys( ))\n",
    "# Esto intentará imprimir un conjunto que es la diferencia entre la lista 'l' y las claves del diccionario 'd'.\n",
    "# Sin embargo, esto causará un error porque no se puede restar un conjunto de una lista directamente."
   ]
  },
  {
   "cell_type": "markdown",
   "id": "c9f9a470-7162-4d9a-9391-e29c753f7496",
   "metadata": {},
   "source": [
    "**Tips:**  \n",
    "- `set()` mostrado en la salida significa un conjunto vacío. Significa que no hay nada en l que no esté presente en d"
   ]
  },
  {
   "cell_type": "markdown",
   "id": "567e073e-ec42-45e1-9398-37b036d6a1e3",
   "metadata": {},
   "source": [
    "**6 - ¿Hay alguna diferencia en los valores devueltos por las funciones `dir()` y `vars(..).keys( )`? En caso afirmativo, escriba un programa para obtener esa diferencia?**"
   ]
  },
  {
   "cell_type": "code",
   "execution_count": 13,
   "id": "129f243f-0628-469b-8a45-54e9d77e2903",
   "metadata": {},
   "outputs": [
    {
     "name": "stdout",
     "output_type": "stream",
     "text": [
      "{'__dir__', '__setattr__', '__str__', '__reduce__', '__format__', '__class__', '__reduce_ex__', '__subclasshook__', '__init_subclass__', '__delattr__', '__getstate__'}\n"
     ]
    }
   ],
   "source": [
    "s = set(dir(list)).difference(vars(list).keys( ))\n",
    "# 'dir(list)' devuelve una lista de todos los nombres de métodos y atributos válidos para la clase 'list'.\n",
    "# 'vars(list)' devuelve el diccionario de atributos para un objeto de la clase 'list'.\n",
    "# '.keys()' devuelve una lista de todas las claves en el diccionario devuelto por 'vars(list)'.\n",
    "# 'set(dir(list))' convierte la lista devuelta por 'dir(list)' en un conjunto.\n",
    "# '.difference()' calcula la diferencia entre dos conjuntos, es decir, los elementos que están en el primer conjunto pero no en el segundo.\n",
    "# 's' es un conjunto que contiene los nombres que son métodos y atributos de la clase 'list' pero no son claves en el diccionario de atributos del objeto 'list'.\n",
    "print(s)\n",
    "# Esto imprimirá el conjunto 's', que contiene los nombres que son exclusivos de la clase 'list' y no se encuentran como claves en el diccionario de atributos del objeto 'list'."
   ]
  },
  {
   "cell_type": "markdown",
   "id": "b29d1b03-d418-4a05-b390-5a2d8167dadc",
   "metadata": {},
   "source": [
    "**Tips:**  \n",
    "- `dir(list)` devolverá una lista de atributos de tipo lista.\n",
    "- `vars(list).keys( )` devuelve una lista de claves del diccionario devuelto por vars() para el tipo de lista.\n",
    "- `difference( )` devuelve la diferencia entre las dos listas"
   ]
  },
  {
   "cell_type": "markdown",
   "id": "77c699b7-9889-4e4b-a722-582d3a7dad59",
   "metadata": {},
   "source": [
    "Preguntas de teoría:"
   ]
  },
  {
   "cell_type": "markdown",
   "id": "be6ae7d3-8dd0-41b5-b65f-3e27efb7077f",
   "metadata": {},
   "source": [
    "**[A] Diga si las siguientes afirmaciones son Verdaderas o Falsas:**  \n",
    "\n",
    "(a) Los atributos de clase y los atributos de objeto son iguales."
   ]
  },
  {
   "cell_type": "markdown",
   "id": "93ce7de0",
   "metadata": {},
   "source": [
    "Falso - Los atributos de clase son variables que se comparten entre todas las instancias de una clase, mientras que los atributos de objeto (también conocidos como atributos de instancia) son variables que son específicas para cada instancia de una clase."
   ]
  },
  {
   "cell_type": "markdown",
   "id": "ea9b1879-c83b-49f2-b231-3085ff40a70c",
   "metadata": {},
   "source": [
    "(b) Un miembro de datos de clase es útil cuando todos los objetos de la misma clase deben compartir una información común."
   ]
  },
  {
   "cell_type": "markdown",
   "id": "f2351257",
   "metadata": {},
   "source": [
    "Verdadero - Un miembro de datos de clase es útil para compartir información común entre todas las instancias de esa clase. Por ejemplo, si todas las instancias deben conocer el número total de instancias creadas, ese sería un miembro de datos de clase."
   ]
  },
  {
   "cell_type": "markdown",
   "id": "a19061e9-8e28-41c6-83ff-1532f124e75d",
   "metadata": {},
   "source": [
    "(c) Si una clase tiene un miembro de datos y se crean tres objetos a partir de esta clase, cada objeto tendrá su propio miembro de datos."
   ]
  },
  {
   "cell_type": "markdown",
   "id": "e09a4231",
   "metadata": {},
   "source": [
    "Falso - Si una clase tiene un miembro de datos y se crean tres objetos a partir de esta clase, cada objeto tendrá su propia copia del miembro de datos si es un atributo de instancia. Sin embargo, si es un miembro de datos de clase, entonces los tres objetos compartirán el mismo miembro de datos."
   ]
  },
  {
   "cell_type": "markdown",
   "id": "317d05a9-e4f8-4ea1-b144-6589de5970d1",
   "metadata": {},
   "source": [
    "(d) Una clase puede tener datos de clase y métodos de clase."
   ]
  },
  {
   "cell_type": "markdown",
   "id": "8c2c18a3",
   "metadata": {},
   "source": [
    " Verdadero - Una clase puede tener tanto datos de clase como métodos de clase. Los datos de clase son compartidos por todas las instancias de la clase, mientras que los métodos de clase son aquellos que tienen un impacto en el nivel de la clase en lugar de en las instancias individuales."
   ]
  },
  {
   "cell_type": "markdown",
   "id": "ea710ea5-b5af-4b5d-b4b5-b4723b2fd37f",
   "metadata": {},
   "source": [
    "(e) Por lo general, los datos de una clase se mantienen privados y se accede a ellos / se manipulan a través de los métodos del objeto de la clase."
   ]
  },
  {
   "cell_type": "markdown",
   "id": "0607a209",
   "metadata": {},
   "source": [
    "Verdadero - Por lo general, los datos de una clase se mantienen privados (encapsulación) para proteger el estado interno de la clase y se accede a ellos o se manipulan a través de métodos públicos (accesores y mutadores), lo que permite una interfaz controlada para la interacción con los datos de la clase."
   ]
  },
  {
   "cell_type": "markdown",
   "id": "42f75425-8b96-4daf-9f87-1e68ef00239d",
   "metadata": {},
   "source": [
    "(f) Las funciones miembro de un objeto deben llamarse explícitamente, mientras que el método init () se llama automáticamente.\n"
   ]
  },
  {
   "cell_type": "markdown",
   "id": "97a36c6a",
   "metadata": {},
   "source": [
    "Verdadero - Las funciones miembro de un objeto generalmente deben llamarse explícitamente para realizar sus tareas. Por otro lado, el método __init__() es un constructor en Python y se llama automáticamente cuando se crea una nueva instancia de una clase."
   ]
  },
  {
   "cell_type": "markdown",
   "id": "cbde6da8-ff22-42e2-b8b1-1191968d9bac",
   "metadata": {},
   "source": [
    "(g) Un constructor es llamado cada vez que un objeto es instanciado."
   ]
  },
  {
   "cell_type": "markdown",
   "id": "64a8b3e8",
   "metadata": {},
   "source": [
    "Verdadero - Un constructor es un método especial que se llama automáticamente en el momento de la creación de una instancia de una clase. En Python, el método __init__() actúa como el constructor de la clase"
   ]
  },
  {
   "cell_type": "markdown",
   "id": "8185638b-cfd7-4eda-a40a-099628456985",
   "metadata": {},
   "source": [
    "(h) El método init ( ) nunca devuelve un valor."
   ]
  },
  {
   "cell_type": "markdown",
   "id": "b354e660",
   "metadata": {},
   "source": [
    "Verdadero - El método __init__() es el constructor de una clase en Python y se utiliza para inicializar los atributos del objeto. Por convención, no devuelve ningún valor; su propósito es configurar el estado inicial del objeto."
   ]
  },
  {
   "cell_type": "markdown",
   "id": "ce797e2d-bdb2-40a3-b5a3-eb7a49b4cd43",
   "metadata": {},
   "source": [
    "(i) Cuando un objeto sale del ámbito, su método del ( ) es llamado automáticamente."
   ]
  },
  {
   "cell_type": "markdown",
   "id": "08fd23ad",
   "metadata": {},
   "source": [
    "Verdadero - El método __del__() es un destructor y se llama automáticamente cuando un objeto está a punto de ser destruido, es decir, cuando ya no hay referencias al objeto y Python decide recuperar la memoria. Sin embargo, no es recomendable depender de este comportamiento para la gestión de recursos, ya que el momento exacto de la llamada no está garantizado."
   ]
  },
  {
   "cell_type": "markdown",
   "id": "5bd5de74-4f97-48dd-8874-23e18f8d2a71",
   "metadata": {},
   "source": [
    "(j) La variable self siempre contiene la dirección del objeto mediante el cual se accede al método/datos."
   ]
  },
  {
   "cell_type": "markdown",
   "id": "50a9b8bc",
   "metadata": {},
   "source": [
    "Verdadero - La variable self en Python es una referencia al objeto actual. No contiene la dirección del objeto en el sentido tradicional de C/C++, pero sí se refiere al objeto mismo y se utiliza para acceder a sus métodos y atributos."
   ]
  },
  {
   "cell_type": "markdown",
   "id": "8ee9ad82-d5b6-4b7d-b36c-0f7cd4d2c5d3",
   "metadata": {},
   "source": [
    "(k) La variable self puede ser utilizada incluso fuera de la clase."
   ]
  },
  {
   "cell_type": "markdown",
   "id": "8d215ece",
   "metadata": {},
   "source": [
    "Falso - La variable self es una convención en Python que se utiliza dentro de las definiciones de métodos de una clase para referirse al objeto que está llamando al método. No está diseñada para ser utilizada fuera de la clase."
   ]
  },
  {
   "cell_type": "markdown",
   "id": "fcd7681f-2f8d-4777-bfcd-cad245923437",
   "metadata": {},
   "source": [
    "(l) El método init ( ) sólo se llama una vez durante la vida de un objeto."
   ]
  },
  {
   "cell_type": "markdown",
   "id": "586d4fee",
   "metadata": {},
   "source": [
    "Verdadero - El método __init__() se llama una vez para cada objeto cuando se crea. No se vuelve a llamar a menos que se cree explícitamente una nueva instancia del objeto."
   ]
  },
  {
   "cell_type": "markdown",
   "id": "4299c8a5-2a65-4a77-b94f-df2134938ddb",
   "metadata": {},
   "source": [
    "**[B] Responde las siguientes preguntas:**"
   ]
  },
  {
   "cell_type": "markdown",
   "id": "e6cdf297-fb79-4278-bf2f-75feed603a2d",
   "metadata": {},
   "source": [
    "(a) ¿Qué métodos de una clase actúan como constructores?"
   ]
  },
  {
   "cell_type": "markdown",
   "id": "dd328aad",
   "metadata": {},
   "source": [
    "En Python, el método que actúa como constructor de una clase es __init__(). Este método se llama automáticamente cuando se crea una nueva instancia de la clase."
   ]
  },
  {
   "cell_type": "markdown",
   "id": "a96dfc61-fce7-486d-bd67-1dd6cccb57a2",
   "metadata": {},
   "source": [
    "(b) ¿Cuántos objetos se crean en el siguiente fragmento de código?  \n",
    "```\n",
    "a = 10\n",
    "b = a\n",
    "c = b\n",
    "```"
   ]
  },
  {
   "cell_type": "markdown",
   "id": "f9813e66",
   "metadata": {},
   "source": [
    "En el fragmento de código proporcionado, no se crean objetos en el sentido de instancias de una clase. Las variables a, b y c son simplemente referencias al mismo objeto entero 10. Por lo tanto, solo hay un objeto, el entero 10, con tres referencias a él."
   ]
  },
  {
   "cell_type": "markdown",
   "id": "ca61920c-0558-40a9-9701-8bfc7091a32c",
   "metadata": {},
   "source": [
    "(c) ¿Cuál es la diferencia entre variables, edad y __edad?"
   ]
  },
  {
   "cell_type": "markdown",
   "id": "0206bd44",
   "metadata": {},
   "source": [
    "La diferencia entre las variables edad y __edad es una convención de nomenclatura en Python que afecta la visibilidad de la variable dentro de una clase. edad sería una variable de instancia normal accesible desde fuera de la clase (a menos que se defina de otra manera), mientras que __edad es una convención para indicar que la variable es privada y no debe ser accesible directamente desde fuera de la clase. "
   ]
  },
  {
   "cell_type": "markdown",
   "id": "a5519f24-af14-4f83-ab14-61dd7d6ddb1b",
   "metadata": {},
   "source": [
    "(d) ¿Cuál es la diferencia entre la función `vars( )` y `dir( )`?"
   ]
  },
  {
   "cell_type": "markdown",
   "id": "7cbba4c7",
   "metadata": {},
   "source": [
    "La función vars() devuelve el diccionario __dict__ de un objeto, módulo o clase, que es un mapeo de sus atributos y valores. Por otro lado, dir() intenta devolver una lista de nombres válidos en el ámbito local o global (o de cualquier objeto que se le pase). Mientras que vars() es para obtener atributos y valores, dir() es más para obtener una lista de nombres (que pueden ser atributos, métodos, etc.)."
   ]
  },
  {
   "cell_type": "markdown",
   "id": "282500df-9d59-4578-b037-6bc9d25de9b9",
   "metadata": {},
   "source": [
    "(e) En el siguiente fragmento de código, ¿cuál es la diferencia entre `display( )` y `show( )`?  \n",
    "```\n",
    "class Message:\n",
    "    def display(self, msg):\n",
    "        pass\n",
    "    def show(msg):\n",
    "        pass\n",
    "```"
   ]
  },
  {
   "cell_type": "markdown",
   "id": "d4a06a57",
   "metadata": {},
   "source": [
    "La diferencia principal entre los métodos display() y show() en el fragmento de código proporcionado radica en cómo están definidos dentro de la clase Message:\n",
    "\n",
    "display(self, msg) es un método de instancia. Esto significa que está diseñado para ser llamado en una instancia de la clase Message. El primer parámetro, self, es una convención en Python que se refiere a la instancia sobre la cual se llama al método. Por lo tanto, puedes llamar a display() en un objeto de la clase Message y pasarle un mensaje como argumento.\n",
    "show(msg) está definido sin el parámetro self, lo que generalmente indica un método estático o un método de clase. Sin embargo, como no tiene decoradores @staticmethod o @classmethod, este código causará un error si intentas llamar a show() en una instancia de la clase Message. Para que show() funcione como se espera, necesitarías agregar uno de estos decoradores:"
   ]
  },
  {
   "cell_type": "markdown",
   "id": "4de68996-60f7-4d2a-962e-57957365d735",
   "metadata": {},
   "source": [
    "(f) En el siguiente fragmento de código, ¿cuál es la diferencia entre display( ) y show()?  \n",
    "\n",
    "```\n",
    "m = Message( )\n",
    "m.display('Hi and Bye' )\n",
    "Message.show('Hi and Bye' )\n",
    "```"
   ]
  },
  {
   "cell_type": "markdown",
   "id": "6a4a2785",
   "metadata": {},
   "source": [
    "La diferencia entre display() y show() en el contexto del fragmento de código proporcionado se relaciona con cómo se espera que sean llamados estos métodos:\n",
    "\n",
    "m.display('Hi and Bye'): Aquí, display() se llama como un método de instancia. Esto significa que se espera que display() sea definido con el primer parámetro self, que representa la instancia de la clase Message. El método display() actúa sobre el objeto m que es una instancia de Message.\n",
    "Message.show('Hi and Bye'): Por otro lado, show() se llama como si fuera un método estático o método de clase. Esto significa que se espera que show() sea definido dentro de la clase Message con el decorador @staticmethod o @classmethod, lo que le permite ser llamado directamente en la clase Message en lugar de en una instancia específica.\n",
    "En resumen, display() es un método de instancia que necesita un objeto para ser llamado, mientras que show() se trata como un método que pertenece a la clase en general y no a una instancia específica. Para que el código funcione correctamente, show() debe ser definido correctamente con el decorador adecuado dentro de la clase Message."
   ]
  },
  {
   "cell_type": "markdown",
   "id": "9920318b-65c7-4adc-9c6a-33e68e13ea67",
   "metadata": {},
   "source": [
    "(g) ¿Cuántos parámetros se pasan a `display()` en el siguiente fragmento de código?  \n",
    "```\n",
    "m = Sample( )\n",
    "m.display(10, 20, 30)\n",
    "```"
   ]
  },
  {
   "cell_type": "markdown",
   "id": "8058ff3a",
   "metadata": {},
   "source": [
    "En el fragmento de código proporcionado, se pasan tres parámetros al método display(). Los valores de los parámetros son 10, 20 y 30. Aquí está el desglose:\n",
    "m = Sample()\n",
    "# Se crea una instancia 'm' de la clase 'Sample'.\n",
    "\n",
    "m.display(10, 20, 30)\n",
    "# Se llama al método 'display()' en la instancia 'm', pasando tres argumentos: 10, 20 y 30.\n"
   ]
  },
  {
   "cell_type": "markdown",
   "id": "0065dab3-7235-4237-89d7-6292b92244f2",
   "metadata": {},
   "source": [
    "**(Opcional) De los cinco ejercicios dados responder solo 2.** "
   ]
  },
  {
   "cell_type": "markdown",
   "id": "156c7a87-56dc-455a-99e5-97f539f88854",
   "metadata": {},
   "source": [
    "O-1 - Escriba un programa para crear una clase que represente Números complejos que contengan partes reales e imaginarias y, a continuación, utilícelo para realizar sumas, restas, multiplicaciones y divisiones de números complejos."
   ]
  },
  {
   "cell_type": "code",
   "execution_count": null,
   "id": "1e0d13a1",
   "metadata": {},
   "outputs": [],
   "source": []
  },
  {
   "cell_type": "markdown",
   "id": "fc6701cd-5409-422c-beb7-963dcab2c19c",
   "metadata": {},
   "source": [
    "O-2 - Escribe un programa que implemente una clase Matriz y realice operaciones de suma, multiplicación y transpuesta en matrices de 3 x 3."
   ]
  },
  {
   "cell_type": "code",
   "execution_count": 6,
   "id": "23d83bc9-3f23-497d-b8f9-2f04f84e62bd",
   "metadata": {},
   "outputs": [
    {
     "name": "stdout",
     "output_type": "stream",
     "text": [
      "Suma de matrices:\n",
      "10 10 10\n",
      "10 10 10\n",
      "10 10 10\n",
      "\n",
      "Multiplicación de matrices:\n",
      "30 24 18\n",
      "84 69 54\n",
      "138 114 90\n",
      "\n",
      "Transpuesta de la matriz:\n"
     ]
    }
   ],
   "source": [
    "class Matriz:\n",
    "    def __init__(self, elementos):\n",
    "        self.elementos = elementos\n",
    "\n",
    "    def __add__(self, otra):\n",
    "        resultado = [[self.elementos[i][j] + otra.elementos[i][j] for j in range(3)] for i in range(3)]\n",
    "        return Matriz(resultado)\n",
    "\n",
    "    def __mul__(self, otra):\n",
    "        resultado = [[sum(self.elementos[i][k] * otra.elementos[k][j] for k in range(3)) for j in range(3)] for i in range(3)]\n",
    "        return Matriz(resultado)\n",
    "\n",
    "    def transpuesta(self):\n",
    "        resultado = [[self.elementos[j][i] for j in range(3)] for i in range(3)]\n",
    "        return Matriz(resultado)\n",
    "\n",
    "    def __str__(self):\n",
    "        return '\\n'.join([' '.join(map(str, fila)) for fila in self.elementos])\n",
    "\n",
    "# Ejemplo de uso:\n",
    "m1 = Matriz([[1, 2, 3], [4, 5, 6], [7, 8, 9]])\n",
    "m2 = Matriz([[9, 8, 7], [6, 5, 4], [3, 2, 1]])\n",
    "\n",
    "suma = m1 + m2\n",
    "multiplicacion = m1 * m2\n",
    "transpuesta = m1.transpuesta()\n",
    "\n",
    "print(\"Suma de matrices:\")\n",
    "print(suma)\n",
    "print(\"\\nMultiplicación de matrices:\")\n",
    "print(multiplicacion)\n",
    "print(\"\\nTranspuesta de la matriz:\")"
   ]
  },
  {
   "cell_type": "markdown",
   "id": "d99927e8-d1dd-487a-8444-b6d42fa4170d",
   "metadata": {},
   "source": [
    "O-3 - Escribe un programa para crear una clase que pueda calcular la superficie y el volumen de un sólido. La clase también debe tener una disposición para aceptar los datos relevantes para el sólido."
   ]
  },
  {
   "cell_type": "code",
   "execution_count": null,
   "id": "006641de-0467-42f9-8b8d-fbeacbc9253e",
   "metadata": {},
   "outputs": [],
   "source": []
  },
  {
   "cell_type": "markdown",
   "id": "aef6d95e-6bf2-493c-a172-242c3008017d",
   "metadata": {},
   "source": [
    "O-4 - Escribe un programa para crear una clase que pueda calcular el perímetro y el área de una forma regular. La clase también debe tener una disposición para aceptar los datos pertinentes a la forma."
   ]
  },
  {
   "cell_type": "code",
   "execution_count": null,
   "id": "cfb599be-c795-44e2-97a8-95e56a2ac81a",
   "metadata": {},
   "outputs": [],
   "source": []
  },
  {
   "cell_type": "markdown",
   "id": "7b20b1ca-074d-4546-93ff-1ac9b0ebb875",
   "metadata": {},
   "source": [
    "O-5 -  Escribe un programa que cree y utilice una clase Time para realizar varias operaciones aritméticas de tiempo."
   ]
  },
  {
   "cell_type": "code",
   "execution_count": null,
   "id": "a4b3c060-a464-42c6-a35c-84e3379b77fd",
   "metadata": {},
   "outputs": [],
   "source": []
  }
 ],
 "metadata": {
  "kernelspec": {
   "display_name": "Python 3 (ipykernel)",
   "language": "python",
   "name": "python3"
  },
  "language_info": {
   "codemirror_mode": {
    "name": "ipython",
    "version": 3
   },
   "file_extension": ".py",
   "mimetype": "text/x-python",
   "name": "python",
   "nbconvert_exporter": "python",
   "pygments_lexer": "ipython3",
   "version": "3.11.9"
  }
 },
 "nbformat": 4,
 "nbformat_minor": 5
}

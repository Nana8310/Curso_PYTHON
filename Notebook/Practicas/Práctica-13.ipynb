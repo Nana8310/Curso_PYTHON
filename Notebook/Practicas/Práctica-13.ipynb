{
 "cells": [
  {
   "cell_type": "markdown",
   "id": "c9ca3c7b",
   "metadata": {},
   "source": [
    "Practica-13"
   ]
  },
  {
   "cell_type": "markdown",
   "id": "06b1cd94",
   "metadata": {},
   "source": [
    "1: Escribe un programa que pregunte el nombre del usuario en la consola y después de que el usuario lo introduzca, muestre por pantalla la cadena ¡Hola<nombre>! donde  <nombre> letras, donde <nombre> es el nombre que el usuario ha introducido.”"
   ]
  },
  {
   "cell_type": "code",
   "execution_count": 9,
   "id": "eebd1cfe",
   "metadata": {},
   "outputs": [
    {
     "name": "stdout",
     "output_type": "stream",
     "text": [
      "¡Hola Olga! \n"
     ]
    }
   ],
   "source": [
    "saludo= '¡Hola' \n",
    "nombre = input(\"Ingresa tu nombre: \")\n",
    "print(saludo + \" \" + nombre + \"! \" ) "
   ]
  },
  {
   "cell_type": "markdown",
   "id": "c8d5dbb3",
   "metadata": {},
   "source": []
  },
  {
   "cell_type": "code",
   "execution_count": 12,
   "id": "86c913ef",
   "metadata": {},
   "outputs": [
    {
     "name": "stdout",
     "output_type": "stream",
     "text": [
      "¡Hola Angelica!\n"
     ]
    }
   ],
   "source": [
    "nombre = input(\"Ingresa tu nombre: \")\n",
    "print(f\"¡Hola {nombre}!\")"
   ]
  },
  {
   "cell_type": "markdown",
   "id": "5cbf2d4c",
   "metadata": {},
   "source": [
    "2: Escribir un programa que muestre por pantalla el resultado de la siguiente operación aritmética (3+2/2*5)^2"
   ]
  },
  {
   "cell_type": "code",
   "execution_count": 16,
   "id": "faa683b8",
   "metadata": {},
   "outputs": [
    {
     "name": "stdout",
     "output_type": "stream",
     "text": [
      "El resultado es: 0.25\n"
     ]
    }
   ],
   "source": [
    "# Calcula la operación ((3+2)/ (2*5)) ^2\n",
    "resultado = ((3 + 2) / (2 * 5 ))**2\n",
    "print(\"El resultado es:\", resultado)"
   ]
  },
  {
   "cell_type": "markdown",
   "id": "8c4c09d2",
   "metadata": {},
   "source": [
    "3:Escribe un programa que pregunte al usuario por el número de horas trabajadas y el coste por hora. Después debe mostrar por pantalla la paga que le corresponde.\n",
    " "
   ]
  },
  {
   "cell_type": "code",
   "execution_count": 1,
   "id": "5e79e599",
   "metadata": {},
   "outputs": [
    {
     "name": "stdout",
     "output_type": "stream",
     "text": [
      "la paga correspondiente es: 20000.0\n"
     ]
    }
   ],
   "source": [
    "# solicita al usuario las horas trabajadas y la tarifa por hora\n",
    "Horas_trabajadas = float(input(\"Ingrese las horas trabajas: \"))\n",
    "Tarifa_por_hora = float(input(\"Ingrese la tarifa por hora: \"))\n",
    "\n",
    "# Calcula la paga multiplicando las horas trabajadas por la tarifa por hora\n",
    "Paga = Horas_trabajadas * Tarifa_por_hora\n",
    "\n",
    "# Muestra la paga al usuario\n",
    "print(\"la paga correspondiente es:\", Paga)\n",
    "  "
   ]
  },
  {
   "cell_type": "markdown",
   "id": "0737b2b5",
   "metadata": {},
   "source": [
    "4: Escribir un programa que pida al usuario dos números enteros y muestre por pantalla <n> entre <m> da un conciente <c> y un resto <r> donde n y m son los numeros introducidos por el usuario , y <c> y son el conciente y el resto da la division entera respectivamente."
   ]
  },
  {
   "cell_type": "code",
   "execution_count": null,
   "id": "49d6bcbb",
   "metadata": {},
   "outputs": [],
   "source": []
  }
 ],
 "metadata": {
  "kernelspec": {
   "display_name": "Python 3 (ipykernel)",
   "language": "python",
   "name": "python3"
  },
  "language_info": {
   "codemirror_mode": {
    "name": "ipython",
    "version": 3
   },
   "file_extension": ".py",
   "mimetype": "text/x-python",
   "name": "python",
   "nbconvert_exporter": "python",
   "pygments_lexer": "ipython3",
   "version": "3.11.9"
  }
 },
 "nbformat": 4,
 "nbformat_minor": 5
}

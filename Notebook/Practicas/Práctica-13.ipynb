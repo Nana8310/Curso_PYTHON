{
 "cells": [
  {
   "cell_type": "markdown",
   "id": "c9ca3c7b",
   "metadata": {},
   "source": [
    "Practica-13"
   ]
  },
  {
   "cell_type": "markdown",
   "id": "06b1cd94",
   "metadata": {},
   "source": [
    "1: Escribe un programa que pregunte el nombre del usuario en la consola y después de que el usuario lo introduzca, muestre por pantalla la cadena ¡Hola<nombre>! donde  <nombre> letras, donde <nombre> es el nombre que el usuario ha introducido.”"
   ]
  },
  {
   "cell_type": "code",
   "execution_count": 9,
   "id": "eebd1cfe",
   "metadata": {},
   "outputs": [
    {
     "name": "stdout",
     "output_type": "stream",
     "text": [
      "¡Hola Olga! \n"
     ]
    }
   ],
   "source": [
    "saludo= '¡Hola' \n",
    "nombre = input(\"Ingresa tu nombre: \")\n",
    "print(saludo + \" \" + nombre + \"! \" ) "
   ]
  },
  {
   "cell_type": "markdown",
   "id": "c8d5dbb3",
   "metadata": {},
   "source": []
  },
  {
   "cell_type": "code",
   "execution_count": 12,
   "id": "86c913ef",
   "metadata": {},
   "outputs": [
    {
     "name": "stdout",
     "output_type": "stream",
     "text": [
      "¡Hola Angelica!\n"
     ]
    }
   ],
   "source": [
    "nombre = input(\"Ingresa tu nombre: \")\n",
    "print(f\"¡Hola {nombre}!\")"
   ]
  },
  {
   "cell_type": "markdown",
   "id": "5cbf2d4c",
   "metadata": {},
   "source": [
    "2: Escribir un programa que muestre por pantalla el resultado de la siguiente operación aritmética (3+2/2*5)^2"
   ]
  },
  {
   "cell_type": "code",
   "execution_count": 16,
   "id": "faa683b8",
   "metadata": {},
   "outputs": [
    {
     "name": "stdout",
     "output_type": "stream",
     "text": [
      "El resultado es: 0.25\n"
     ]
    }
   ],
   "source": [
    "# Calcula la operación ((3+2)/ (2*5)) ^2\n",
    "resultado = ((3 + 2) / (2 * 5 ))**2\n",
    "print(\"El resultado es:\", resultado)"
   ]
  },
  {
   "cell_type": "markdown",
   "id": "8c4c09d2",
   "metadata": {},
   "source": [
    "3:Escribe un programa que pregunte al usuario por el número de horas trabajadas y el coste por hora. Después debe mostrar por pantalla la paga que le corresponde.\n",
    " "
   ]
  },
  {
   "cell_type": "code",
   "execution_count": 1,
   "id": "5e79e599",
   "metadata": {},
   "outputs": [
    {
     "name": "stdout",
     "output_type": "stream",
     "text": [
      "la paga correspondiente es: 20000.0\n"
     ]
    }
   ],
   "source": [
    "# solicita al usuario las horas trabajadas y la tarifa por hora\n",
    "Horas_trabajadas = float(input(\"Ingrese las horas trabajas: \"))\n",
    "Tarifa_por_hora = float(input(\"Ingrese la tarifa por hora: \"))\n",
    "\n",
    "# Calcula la paga multiplicando las horas trabajadas por la tarifa por hora\n",
    "Paga = Horas_trabajadas * Tarifa_por_hora\n",
    "\n",
    "# Muestra la paga al usuario\n",
    "print(\"la paga correspondiente es:\", Paga)\n",
    "  "
   ]
  },
  {
   "cell_type": "markdown",
   "id": "0737b2b5",
   "metadata": {},
   "source": [
    "4: Escribir un programa que pida al usuario dos números enteros y muestre por pantalla <n> entre <m> da un conciente <c> y un resto <r> donde n y m son los numeros introducidos por el usuario , y <c> y son el conciente y el resto da la division entera respectivamente."
   ]
  },
  {
   "cell_type": "code",
   "execution_count": 3,
   "id": "49d6bcbb",
   "metadata": {},
   "outputs": [
    {
     "name": "stdout",
     "output_type": "stream",
     "text": [
      "12 entre 5 da un conciente 2 y un resto de ¨2. \n"
     ]
    }
   ],
   "source": [
    "# Solicitar al usuario que introduzca dos números enteros\n",
    "n = int(input(\"introduzca el primer número entero (n): \"))\n",
    "m = int(input(\"Introduzca el segundo número entero (m): \"))\n",
    "\n",
    "# Calcular conciente y resto de la división\n",
    "cociente = n // m\n",
    "resto = n % m\n",
    "\n",
    "#Mostrar los resultados\n",
    "print(f\"{n} entre {m} da un conciente {cociente} y un resto de ¨{resto}. \")"
   ]
  },
  {
   "cell_type": "markdown",
   "id": "e8c870d7",
   "metadata": {},
   "source": [
    "5:Escribir un programa que pregunte al usuario una cantidad a invertir,el interes porcentual anual y el número de años, y muestre por pantalla el capital obtenido en inversión redondeando con dos decimas.\n"
   ]
  },
  {
   "cell_type": "code",
   "execution_count": 6,
   "id": "d70c815a",
   "metadata": {},
   "outputs": [
    {
     "name": "stdout",
     "output_type": "stream",
     "text": [
      "El capital obtenido después de 1 años es: $1010000.00 \n"
     ]
    }
   ],
   "source": [
    "# Preguntas al usuario\n",
    "inversión = float(input(\"Ingrese la cantidad a invertir: \"))\n",
    "interes = float(input(\"Ingrese el interes anual (en porcentaje): \")) \n",
    "anios  = int(input(\"Ingrese el número de años: \"))\n",
    "\n",
    "# Calcular el capital obtenido en la inversión\n",
    "capital = inversión * (1 + interes / 100) ** anios\n",
    "\n",
    "# Mostrar el resultado redondeado con dos decimales\n",
    "print(f\"El capital obtenido después de {anios} años es: ${capital:.2f} \")\n",
    "\n",
    "\n"
   ]
  },
  {
   "cell_type": "markdown",
   "id": "385b5bcf",
   "metadata": {},
   "source": [
    "6:Una jugueteria tiene exito en dos de sus productos: payasos y muñecas. Suele hacer venta por correo y la empresa de losgistica les cobra por peso cada paquete asi que deben calcular el peso de los payasos y las muñecas que saldrán en cada paquete a demanda.Cada payaso pesa 112g y cada muñeca 75g. Escribir un programa que lea el nùmero de payasos y muñecas vendidos en el último pedido y calcule el peso total del paquete que sera enviado."
   ]
  },
  {
   "cell_type": "code",
   "execution_count": 5,
   "id": "c19ac409",
   "metadata": {},
   "outputs": [
    {
     "name": "stdout",
     "output_type": "stream",
     "text": [
      "Peso total del paquete sera 950 gramos. \n"
     ]
    }
   ],
   "source": [
    "# Lee la cantidad de payasos y muñecas  vendidos \n",
    "num_muñecas = int(input(\"ingresa la cantidad de muñecas vendidas: \"))\n",
    "num_payasos =  int(input(\"ingresa la cantidad de payasos vendidas: \")) \n",
    "\n",
    "#Calcula el peso total\n",
    "peso_muñecas = 75 # g por muñeca\n",
    "peso_payasos = 115 # g por payaso\n",
    "peso_total= (num_muñecas * peso_muñecas) + (num_payasos * peso_payasos)\n",
    "\n",
    "# Muestre el resultado \n",
    "print (f'Peso total del paquete sera {peso_total} gramos. ')"
   ]
  },
  {
   "cell_type": "markdown",
   "id": "c2bd2ae6",
   "metadata": {},
   "source": [
    "7: Una panaderia vende barras de pan a 3.49€ cada una. El pan que no es el día tiene un descuento  del 60%. Escribir un programa que comience leyendo el número  de barras vendidas que no son del día. Déspues el programa debe mostrar el precio habitual de una barra de pan, el descuento que se le hace por no ser fresca y el coste final total.\n",
    "\n"
   ]
  },
  {
   "cell_type": "code",
   "execution_count": 13,
   "id": "068cc187",
   "metadata": {},
   "outputs": [
    {
     "name": "stdout",
     "output_type": "stream",
     "text": [
      "El precio habitual de una barra de pan es 3.49€.\n",
      "El descuento por no ser fresca es 2.09€.\n",
      "El coste final total es 1.40€.\n"
     ]
    }
   ],
   "source": [
    "# Barras de pan vencidas\n",
    "barras_vencidas = int(input(\"Ingrese la cantidad de barras vencidas vendidas: \"))\n",
    "\n",
    "# Precio habitual de una barra de pan\n",
    "vlr_normal = 3.49\n",
    "\n",
    "# Calcula el descuento\n",
    "descuento = 0.6 * vlr_normal\n",
    "\n",
    "# Calcula el coste final total\n",
    "coste_final = (vlr_normal - descuento) * barras_vencidas\n",
    "\n",
    "# Muestra los resultados\n",
    "print(f\"El precio habitual de una barra de pan es {vlr_normal:.2f}€.\")\n",
    "print(f\"El descuento por no ser fresca es {descuento:.2f}€.\")\n",
    "print(f\"El coste final total es {coste_final:.2f}€.\")\n",
    "\n",
    "\n",
    "\n"
   ]
  },
  {
   "cell_type": "markdown",
   "id": "42c57cbe",
   "metadata": {},
   "source": [
    "8: Suponga un valor adecuado para la temperatura de una ciudad en grados Fahrenheit. Escriba un programa para convertir esta temperatura en grados centigrados e imprima ambas temperaturas.\n",
    "C=(F-32)*5/9"
   ]
  },
  {
   "cell_type": "code",
   "execution_count": 15,
   "id": "6afb646d",
   "metadata": {},
   "outputs": [
    {
     "name": "stdout",
     "output_type": "stream",
     "text": [
      "40.00 grados Fahrenheit son equivalentes a 4.44 grados Celsius.\n"
     ]
    }
   ],
   "source": [
    "# Lee la temperatura en grados Fahrenheit\n",
    "fahrenheit = float(input(\"Introduce la temperatura en grados Fahrenheit: \"))\n",
    "\n",
    "# Calcula la temperatura en grados Celsius\n",
    "celsius = (fahrenheit - 32) * 5 / 9\n",
    "\n",
    "# Muestra ambas temperaturas\n",
    "print(f\"{fahrenheit:.2f} grados Fahrenheit son equivalentes a {celsius:.2f} grados Celsius.\")"
   ]
  },
  {
   "cell_type": "markdown",
   "id": "d652e57d",
   "metadata": {},
   "source": [
    "9:Suponga un valor adecuado para la temperatura de una ciudad en grados centígrados. Escriba un programa para convertir esta temperatura en escala Kelvin e imprima ambas temperaturas.\n",
    "K = C + 273.15"
   ]
  },
  {
   "cell_type": "code",
   "execution_count": 19,
   "id": "82a25b73",
   "metadata": {},
   "outputs": [
    {
     "name": "stdout",
     "output_type": "stream",
     "text": [
      " 10.0 centigrados de temperatura  y 283.15 en escala Kelvin. \n"
     ]
    }
   ],
   "source": [
    "#Lee la temperatura en grados centígrados\n",
    "centigrados = float(input(\"Temperatura en grados centigrados: \"))\n",
    "\n",
    "#Calcula la temperatura a escala de kelvin\n",
    "Kelvin = centigrados + 273.15\n",
    "\n",
    "#Resultado de temperaturas\n",
    "print(f\" {centigrados} centigrados de temperatura  y {Kelvin} en escala Kelvin. \")\n"
   ]
  }
 ],
 "metadata": {
  "kernelspec": {
   "display_name": "Python 3 (ipykernel)",
   "language": "python",
   "name": "python3"
  },
  "language_info": {
   "codemirror_mode": {
    "name": "ipython",
    "version": 3
   },
   "file_extension": ".py",
   "mimetype": "text/x-python",
   "name": "python",
   "nbconvert_exporter": "python",
   "pygments_lexer": "ipython3",
   "version": "3.11.9"
  }
 },
 "nbformat": 4,
 "nbformat_minor": 5
}

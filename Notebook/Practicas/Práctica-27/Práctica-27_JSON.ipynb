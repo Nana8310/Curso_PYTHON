{
 "cells": [
  {
   "cell_type": "markdown",
   "metadata": {},
   "source": [
    "# JSON\n",
    "¿Cómo  manejar  JSON  en  Python?\n",
    " En  este  artículo,  aprenderemos  y  comprenderemos  cómo  analizar,  leer  y  escribir  JSON  en Python.  Veremos  diferentes  conversiones  de  JSON  en  diferentes  objetos  Python junto  con  un  bono."
   ]
  },
  {
   "cell_type": "markdown",
   "metadata": {},
   "source": [
    "# Introducción\n",
    "\n",
    "# Definición\n",
    "JSON  es  la  abreviatura  de  JavaScript  Object  Notation:  uno  de  los  formatos  de  datos  más  fáciles  de  leer  y  escribir  para  humanos  como  tú  y  como  yo.  JSON  a  menudo  se  declara  como  un  formato  de  texto completamente  independiente  del  idioma.  Se  basa  en  un  subconjunto  del  estándar  del  lenguaje  de  programación  JavaScript  ECMA262,  tercera  edición,  diciembre."
   ]
  },
  {
   "cell_type": "markdown",
   "metadata": {},
   "source": [
    " # Estructura\n",
    " El  JSON  se  basa  en  dos  estructuras:\n",
    " 1.  Una  colección  de  pares  de  nombre/valor.  En  muchos  lenguajes  de  programación,  a  menudo refiérase  a  esto  como  un  objeto,  registro,  estructura,  diccionario,  tabla  hash,  etc.\n",
    " 2.  Una  lista  ordenada  de  valores.  En  muchos  lenguajes  de  programación,  nos  referimos  a  esto  como  un\n",
    " matriz,  vector,  lista  o  secuencia"
   ]
  },
  {
   "cell_type": "markdown",
   "metadata": {},
   "source": [
    "# Sintaxis\n",
    " Un  objeto  es  un  conjunto  desordenado  de  pares  nombre/valor.  Cada  vez  que  un  objeto  comienza  con  {}  (llave  \n",
    "están  separados  por  un\n",
    " izquierda  y  termina  con  llave  derecha).  Cada  nombre  va  seguido  de :  dos  puntos  y  los  pares  nombre/valor están separados por una , coma.\n",
    "\n",
    " Por ejemplo :\n",
    "  ejemplo  =  '{\"nombre\":  \"Jake\",  \"lenguajes  de  programación\":  [\"Python\",\n",
    " \"Kotlin\"]}"
   ]
  },
  {
   "cell_type": "markdown",
   "metadata": {},
   "source": [
    "A  lo  largo  de  este  artículo,  nos  limitaremos  a  un  único  conjunto  de  datos  para  mantener  la  coherencia.  Recomiendo  \n",
    "marcar,  bifurcar  o  destacar  este  repositorio  porque  este  repositorio  tiene  uno  de  los  conjuntos  de  datos  en  formato  JSON  alucinantes.\n",
    "De  la  lista  anterior  de  conjuntos  de  datos  JSON,  elegí  el  conjunto  de  datos  JSON  más  pequeño.\n",
    "# Detalles  del  conjunto  de  datos\n",
    " Los  detalles  del  conjunto  de  datos  hasta  cierto  punto  se  detallan  a  continuación"
   ]
  },
  {
   "cell_type": "markdown",
   "metadata": {},
   "source": [
    "Solo  tomé  algunas  instancias  del  conjunto  de  datos  debido  a  su  tamaño"
   ]
  },
  {
   "cell_type": "code",
   "execution_count": 2,
   "metadata": {},
   "outputs": [
    {
     "data": {
      "text/plain": [
       "[{'id': 'NC04', 'name': 'City Centre'},\n",
       " {'id': 'NC66', 'name': 'Cultural Quarter'},\n",
       " {'id': 'NC67', 'name': 'Riverside'},\n",
       " {'id': 'NC68', 'name': 'Clarendon Park'},\n",
       " {'id': 'NE09', 'name': 'Belgrave South'},\n",
       " {'id': 'NE10', 'name': 'Belgrave North'}]"
      ]
     },
     "execution_count": 2,
     "metadata": {},
     "output_type": "execute_result"
    }
   ],
   "source": [
    "[\n",
    "  {\"id\": \"NC04\", \"name\": \"City Centre\"},\n",
    "  {\"id\": \"NC66\", \"name\": \"Cultural Quarter\"},\n",
    "  {\"id\": \"NC67\", \"name\": \"Riverside\"},\n",
    "  {\"id\": \"NC68\", \"name\": \"Clarendon Park\"},\n",
    "  {\"id\": \"NE09\", \"name\": \"Belgrave South\"},\n",
    "  {\"id\": \"NE10\", \"name\": \"Belgrave North\"}\n",
    "]"
   ]
  },
  {
   "cell_type": "code",
   "execution_count": 3,
   "metadata": {},
   "outputs": [],
   "source": [
    "#Ahora  almacenemos  el  conjunto  de  datos  JSON  anterior  en  una  variable  llamada  json_data .  \n",
    "json_data = '[{\"id\": \"NC04\", \"name\": \"City Centre\"},{\"id\": \"NC66\", \"name\": \"Cultural Quarter\"}, {\"id\": \"NC67\", \"name\": \"Riverside\"}, {\"id\": \"NC68\", \"name\": \"Clarendon Park\"}, {\"id\": \"NE09\", \"name\": \"Belgrave South\"}, {\"id\": \"NE10\", \"name\": \"Belgrave North\"}]'"
   ]
  },
  {
   "cell_type": "code",
   "execution_count": 5,
   "metadata": {},
   "outputs": [
    {
     "name": "stdout",
     "output_type": "stream",
     "text": [
      "[{'id': 'NC04', 'name': 'City Centre'}, {'id': 'NC66', 'name': 'Cultural Quarter'}, {'id': 'NC67', 'name': 'Riverside'}, {'id': 'NC68', 'name': 'Clarendon Park'}, {'id': 'NE09', 'name': 'Belgrave South'}, {'id': 'NE10', 'name': 'Belgrave North'}]\n",
      "-----------------------------------------------------\n",
      "<class 'list'>\n",
      "-----------------------------------------------------\n",
      "{'id': 'NC04', 'name': 'City Centre'}\n"
     ]
    }
   ],
   "source": [
    " # Importing json module\n",
    " import json\n",
    " # Passing the json data to the loads method\n",
    " neighbourhood = json.loads(json_data)\n",
    " # Printing the result - list\n",
    " print(neighbourhood)\n",
    " print(\"-----------------------------------------------------\")\n",
    " # Checking the type of the variable\n",
    " print(type(neighbourhood))\n",
    " print(\"-----------------------------------------------------\")\n",
    " # Accessing the first element in the list - Using index\n",
    " print(neighbourhood[0])"
   ]
  },
  {
   "cell_type": "code",
   "execution_count": 7,
   "metadata": {},
   "outputs": [
    {
     "name": "stdout",
     "output_type": "stream",
     "text": [
      "<class 'str'>\n",
      "-----------------------------------------------------\n",
      "[{\"id\": \"NC04\", \"name\": \"City Centre\"}, {\"id\": \"NC66\", \"name\": \"Cultural Quarter\"}, {\"id\": \"NC67\", \"name\": \"Riverside\"}, {\"id\": \"NC68\", \"name\": \"Clarendon Park\"}, {\"id\": \"NE09\", \"name\": \"Belgrave South\"}, {\"id\": \"NE10\", \"name\": \"Belgrave North\"}]\n"
     ]
    }
   ],
   "source": [
    " variable = json.dumps(neighbourhood)\n",
    "  # Importing json module\n",
    " import json\n",
    " # Passing the python data to the dumps method\n",
    " neighbourhood_list = json.dumps(neighbourhood)\n",
    " # Checking the type of the variable\n",
    " print(type(neighbourhood_list))\n",
    " print(\"-----------------------------------------------------\")\n",
    " # Printing the result - string\n",
    " print(neighbourhood_list)"
   ]
  },
  {
   "cell_type": "markdown",
   "metadata": {},
   "source": [
    " Primero,  creemos  cuatro  tipos  diferentes  de  variables  que  puedan  contener  los  datos  de  Python  \n",
    "anteriores\n",
    "\n",
    " Ahora  introduzcamos  estos  valores  en  los  volcados()  y  luego  veamos  la  conversión  a  una  cadena  JSON."
   ]
  },
  {
   "cell_type": "code",
   "execution_count": 9,
   "metadata": {},
   "outputs": [
    {
     "name": "stdout",
     "output_type": "stream",
     "text": [
      "Diccionario convertido a JSON: {\"nombre\": \"John\", \"edad\": 30}\n",
      "Tipo: <class 'str'>\n",
      "------------------------------------\n",
      "Lista convertida a JSON: [\"manzana\", \"banana\", 10]\n",
      "Tipo: <class 'str'>\n",
      "------------------------------------\n",
      "Tupla convertida a JSON: [\"manzana\", \"banana\", 10]\n",
      "Tipo: <class 'str'>\n",
      "------------------------------------\n",
      "Entero convertido a JSON: 20\n",
      "Tipo: <class 'str'>\n"
     ]
    }
   ],
   "source": [
    "import json\n",
    "\n",
    "# Definimos diferentes objetos de Python\n",
    "dict_objeto = {\"nombre\": \"John\", \"edad\": 30}\n",
    "lista_objeto = [\"manzana\", \"banana\", 10]\n",
    "tupla_objeto = (\"manzana\", \"banana\", 10)\n",
    "int_objeto = 20\n",
    "\n",
    "# Convertimos los objetos de Python a cadenas JSON\n",
    "json_dict = json.dumps(dict_objeto)\n",
    "json_lista = json.dumps(lista_objeto)\n",
    "json_tupla = json.dumps(tupla_objeto)\n",
    "json_int = json.dumps(int_objeto)\n",
    "\n",
    "# Imprimimos las cadenas JSON y sus tipos\n",
    "print(\"Diccionario convertido a JSON:\", json_dict)\n",
    "print(\"Tipo:\", type(json_dict))\n",
    "print(\"------------------------------------\")\n",
    "print(\"Lista convertida a JSON:\", json_lista)\n",
    "print(\"Tipo:\", type(json_lista))\n",
    "print(\"------------------------------------\")\n",
    "print(\"Tupla convertida a JSON:\", json_tupla)\n",
    "print(\"Tipo:\", type(json_tupla))\n",
    "print(\"------------------------------------\")\n",
    "print(\"Entero convertido a JSON:\", json_int)\n",
    "print(\"Tipo:\", type(json_int))"
   ]
  }
 ],
 "metadata": {
  "kernelspec": {
   "display_name": "Curso_Python",
   "language": "python",
   "name": "python3"
  },
  "language_info": {
   "codemirror_mode": {
    "name": "ipython",
    "version": 3
   },
   "file_extension": ".py",
   "mimetype": "text/x-python",
   "name": "python",
   "nbconvert_exporter": "python",
   "pygments_lexer": "ipython3",
   "version": "3.11.9"
  }
 },
 "nbformat": 4,
 "nbformat_minor": 2
}

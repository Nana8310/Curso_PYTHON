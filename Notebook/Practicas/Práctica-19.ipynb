{
 "cells": [
  {
   "cell_type": "markdown",
   "metadata": {},
   "source": [
    "Practica # 19. Bucles o ciclo for"
   ]
  },
  {
   "cell_type": "markdown",
   "metadata": {},
   "source": [
    "1. Escriba un programa que le pida al usuario un número entero mayor que cero y que luego \n",
    "imprima en pantalla sus divisores."
   ]
  },
  {
   "cell_type": "code",
   "execution_count": 4,
   "metadata": {},
   "outputs": [
    {
     "name": "stdout",
     "output_type": "stream",
     "text": [
      "Los divisores de 30 son:\n",
      "1\n",
      "2\n",
      "3\n",
      "5\n",
      "6\n",
      "10\n",
      "15\n",
      "30\n"
     ]
    }
   ],
   "source": [
    "numero = int(input(\"Escribe un número entero mayor que cero: \"))\n",
    "if numero > 0:\n",
    "    print(f\"Los divisores de {numero} son:\")\n",
    "    for divisor in range(1, numero + 1):\n",
    "        if numero % divisor == 0:\n",
    "            print(divisor)\n",
    "else:\n",
    "    print(\"El número introducido debe ser un entero mayor de cero.\")\n",
    "\n"
   ]
  },
  {
   "cell_type": "markdown",
   "metadata": {},
   "source": [
    "2. Escriba un programa que pregunte al usuario cuántos números se van a introducir, pida \n",
    "esos números y escriba cuántos negativos ha introducido"
   ]
  },
  {
   "cell_type": "code",
   "execution_count": 3,
   "metadata": {},
   "outputs": [
    {
     "name": "stdout",
     "output_type": "stream",
     "text": [
      "Has introducido 2 números negativos\n"
     ]
    }
   ],
   "source": [
    "cantidad = int(input('¿Cuántos números se van a introducir? ')) # preguntar al usuario \n",
    "negativos = 0 # contador de números negativos \n",
    "\n",
    "for i in range(cantidad): # Bucle para pedir los números y contar el negativos\n",
    "    numero = float(input(f\"Introduce el número {i+1} \"))\n",
    "    if numero < 0: \n",
    "        negativos +=1\n",
    "        \n",
    "print(f\"Has introducido {negativos} números negativos\")    # escribe cuantos negativos a introducido    "
   ]
  },
  {
   "cell_type": "markdown",
   "metadata": {},
   "source": [
    "3. Escriba un programa que pida dos números enteros y escriba qué números son pares y \n",
    "cuáles impares desde el primero hasta el segundo."
   ]
  },
  {
   "cell_type": "code",
   "execution_count": 22,
   "metadata": {},
   "outputs": [
    {
     "name": "stdout",
     "output_type": "stream",
     "text": [
      "El número ingresado 30 es par.\n",
      "El número ingresado 153 es impar.\n",
      "¡Programa finalizado!\n"
     ]
    }
   ],
   "source": [
    "numero1 = int(input(\"Introduce el primer número entero: \"))\n",
    "numero2 = int(input(\"Introduce el segundo número entero: \"))\n",
    "\n",
    "# Verificar si el primer número es par o impar.\n",
    "if numero1 % 2 == 0:\n",
    "    print(f\"El número ingresado {numero1} es par.\")\n",
    "\n",
    "else:\n",
    "    print(f\"El número ingresado {numero1} es impar.\")\n",
    "\n",
    "# Verificar si el segundo número es par o impar.\n",
    "if numero2 % 2 == 0:\n",
    "    print(f\"El número ingresado {numero2} es par.\")\n",
    "else:\n",
    "    print(f\"El número ingresado {numero2} es impar.\")\n",
    "\n",
    "print(\"¡Programa finalizado!\")   "
   ]
  },
  {
   "cell_type": "markdown",
   "metadata": {},
   "source": [
    "4. Escriba un programa que pregunte cuántos números se van a introducir, pida esos \n",
    "números, y diga al final cuántos han sido pares y cuántos impares."
   ]
  },
  {
   "cell_type": "code",
   "execution_count": 9,
   "metadata": {},
   "outputs": [
    {
     "name": "stdout",
     "output_type": "stream",
     "text": [
      "Haz introducido 2 números pares y 1 números impares. \n"
     ]
    }
   ],
   "source": [
    "cantidad = int(input('¿Cuántos números van a introducir? ')) # pregunta al usuario\n",
    "par = 0 # contador de numeros\n",
    "impar = 0\n",
    "\n",
    "for i in range(cantidad): # Bucle para pedir los números \n",
    "    numero = int(input(f\"Introduce el numero {i+1}: \"))\n",
    "    if numero % 2 == 0:\n",
    "       par += 1\n",
    "    else:\n",
    "       impar += 1    \n",
    "          \n",
    "print(f\"Haz introducido {par} números pares y {impar} números impares. \")\n",
    "\n"
   ]
  },
  {
   "cell_type": "markdown",
   "metadata": {},
   "source": [
    "5. Escriba un programa que pregunte cuantos números se van a introducir, pida esos \n",
    "números (que puedan ser decimales) y calcule su suma"
   ]
  },
  {
   "cell_type": "code",
   "execution_count": 12,
   "metadata": {},
   "outputs": [
    {
     "name": "stdout",
     "output_type": "stream",
     "text": [
      "La suma de los números introducidos en 6.0\n",
      "La suma de los números introducidos en 14.0\n",
      "La suma de los números introducidos en 28.5\n",
      "La suma de los números introducidos en 33.5\n",
      "La suma de los números introducidos en 49.5\n"
     ]
    }
   ],
   "source": [
    "cantidad = int(input('¿Cuántos números van a introducir? ')) # pregunta al usuario\n",
    "suma = 0.0  # Inicializa la suma de los números\n",
    "\n",
    "for i in range(cantidad): # Bucle para pedir los números\n",
    "    numero = float(input(f\"Introduce el numero {i+1}: \"))\n",
    "    suma += numero # la suma de los números introducidos\n",
    "    print(f\"La suma de los números introducidos en {suma}\")"
   ]
  },
  {
   "cell_type": "markdown",
   "metadata": {},
   "source": [
    "6. Imprimir todos los dígitos decimales, del 0 al 9, utilizando una repetición."
   ]
  },
  {
   "cell_type": "code",
   "execution_count": 13,
   "metadata": {},
   "outputs": [
    {
     "name": "stdout",
     "output_type": "stream",
     "text": [
      "0\n",
      "1\n",
      "2\n",
      "3\n",
      "4\n",
      "5\n",
      "6\n",
      "7\n",
      "8\n",
      "9\n"
     ]
    }
   ],
   "source": [
    "# Bucle para imprimir los dígitos decimales del 0 al 9\n",
    "for digito in range(10):\n",
    "    print(digito)"
   ]
  },
  {
   "cell_type": "markdown",
   "metadata": {},
   "source": [
    "7. Imprimir todos los números entre el 100 y el 199."
   ]
  },
  {
   "cell_type": "code",
   "execution_count": 2,
   "metadata": {},
   "outputs": [
    {
     "name": "stdout",
     "output_type": "stream",
     "text": [
      "100\n",
      "101\n",
      "102\n",
      "103\n",
      "104\n",
      "105\n",
      "106\n",
      "107\n",
      "108\n",
      "109\n",
      "110\n",
      "111\n",
      "112\n",
      "113\n",
      "114\n",
      "115\n",
      "116\n",
      "117\n",
      "118\n",
      "119\n",
      "120\n",
      "121\n",
      "122\n",
      "123\n",
      "124\n",
      "125\n",
      "126\n",
      "127\n",
      "128\n",
      "129\n",
      "130\n",
      "131\n",
      "132\n",
      "133\n",
      "134\n",
      "135\n",
      "136\n",
      "137\n",
      "138\n",
      "139\n",
      "140\n",
      "141\n",
      "142\n",
      "143\n",
      "144\n",
      "145\n",
      "146\n",
      "147\n",
      "148\n",
      "149\n",
      "150\n",
      "151\n",
      "152\n",
      "153\n",
      "154\n",
      "155\n",
      "156\n",
      "157\n",
      "158\n",
      "159\n",
      "160\n",
      "161\n",
      "162\n",
      "163\n",
      "164\n",
      "165\n",
      "166\n",
      "167\n",
      "168\n",
      "169\n",
      "170\n",
      "171\n",
      "172\n",
      "173\n",
      "174\n",
      "175\n",
      "176\n",
      "177\n",
      "178\n",
      "179\n",
      "180\n",
      "181\n",
      "182\n",
      "183\n",
      "184\n",
      "185\n",
      "186\n",
      "187\n",
      "188\n",
      "189\n",
      "190\n",
      "191\n",
      "192\n",
      "193\n",
      "194\n",
      "195\n",
      "196\n",
      "197\n",
      "198\n",
      "199\n"
     ]
    }
   ],
   "source": [
    "# Bucle para imprimir todos los números entre el 100 y el 199\n",
    "for numero in range(100, 200):\n",
    "    print(numero)"
   ]
  },
  {
   "cell_type": "markdown",
   "metadata": {},
   "source": [
    "8. Imprimir los números entre el 5 y el 20, saltando de tres en tres."
   ]
  },
  {
   "cell_type": "code",
   "execution_count": 2,
   "metadata": {},
   "outputs": [
    {
     "name": "stdout",
     "output_type": "stream",
     "text": [
      "5\n",
      "8\n",
      "11\n",
      "14\n",
      "17\n"
     ]
    }
   ],
   "source": [
    "# Bucle para imprimir todos los números entre el 5 y el 20\n",
    "for numero in range(5, 20, 3):\n",
    "    print(numero)"
   ]
  },
  {
   "cell_type": "markdown",
   "metadata": {},
   "source": [
    "9. Solicitar al usuario que ingrese una frase y luego imprimir un listado de las vocales que \n",
    "aparecen en esa frase (sin repetirlas)."
   ]
  },
  {
   "cell_type": "code",
   "execution_count": 26,
   "metadata": {},
   "outputs": [
    {
     "name": "stdout",
     "output_type": "stream",
     "text": [
      "Estas son las vocales  encontradas ['u', 'i', 'a'] \n"
     ]
    }
   ],
   "source": [
    "VOCALES = ['a','e','i','o','u'] # lista de vocales \n",
    "frase = input('Introduzca una frase: ') # Frase dada por el usuario\n",
    "\n",
    "vocales_encontradas = [] # Esta es un alista vacía, la cual se utiliza para almacenar las vocales encontradas en la frase\n",
    "\n",
    "for letra in frase:   #for: Itera en cada letra en la frase\n",
    "   if  letra.lower() in VOCALES and letra.lower() not in vocales_encontradas:   # letra.lower es para convertir la letra en minúscula\n",
    "    vocales_encontradas.append(letra.lower())   # si es una vocal se agrega a la lista vocales_encontradas, append:agrga elementos al final de la lista\n",
    "print(f'Estas son las vocales  encontradas {vocales_encontradas} ') \n",
    "\n"
   ]
  },
  {
   "cell_type": "markdown",
   "metadata": {},
   "source": [
    "10. Solicitar al usuario que ingrese una frase y luego imprimir la cantidad de vocales que se \n",
    "encuentran en dicha frase"
   ]
  },
  {
   "cell_type": "code",
   "execution_count": 30,
   "metadata": {},
   "outputs": [
    {
     "name": "stdout",
     "output_type": "stream",
     "text": [
      "Estas son las vocales  encontradas ['e', 'o'] \n",
      "El número de vocales contadas es 2\n"
     ]
    }
   ],
   "source": [
    "VOCALES = ['a','e','i','o','u'] # lista de vocales \n",
    "frase = input('Introduzca una frase: ') # Frase dada por el usuario\n",
    "vocales_encontradas = []\n",
    "nro_vocales = 0 #Este es un contador \n",
    " \n",
    "\n",
    "for letra in frase:   \n",
    "   if  letra.lower() in VOCALES and letra.lower() not in vocales_encontradas:   \n",
    "    nro_vocales += 1\n",
    "    vocales_encontradas.append(letra.lower())\n",
    "       \n",
    "print(f'Estas son las vocales  encontradas {vocales_encontradas} ')\n",
    "print(f'El número de vocales contadas es {nro_vocales}') \n"
   ]
  },
  {
   "cell_type": "markdown",
   "metadata": {},
   "source": [
    "11. Escribir un programa que muestre la sumatoria de todos los números entre el 0 y el 100"
   ]
  },
  {
   "cell_type": "code",
   "execution_count": 34,
   "metadata": {},
   "outputs": [
    {
     "name": "stdout",
     "output_type": "stream",
     "text": [
      "Número: 0, Suma parcial: 0\n",
      "Número: 1, Suma parcial: 1\n",
      "Número: 2, Suma parcial: 3\n",
      "Número: 3, Suma parcial: 6\n",
      "Número: 4, Suma parcial: 10\n",
      "Número: 5, Suma parcial: 15\n",
      "Número: 6, Suma parcial: 21\n",
      "Número: 7, Suma parcial: 28\n",
      "Número: 8, Suma parcial: 36\n",
      "Número: 9, Suma parcial: 45\n",
      "Número: 10, Suma parcial: 55\n",
      "Número: 11, Suma parcial: 66\n",
      "Número: 12, Suma parcial: 78\n",
      "Número: 13, Suma parcial: 91\n",
      "Número: 14, Suma parcial: 105\n",
      "Número: 15, Suma parcial: 120\n",
      "Número: 16, Suma parcial: 136\n",
      "Número: 17, Suma parcial: 153\n",
      "Número: 18, Suma parcial: 171\n",
      "Número: 19, Suma parcial: 190\n",
      "Número: 20, Suma parcial: 210\n",
      "Número: 21, Suma parcial: 231\n",
      "Número: 22, Suma parcial: 253\n",
      "Número: 23, Suma parcial: 276\n",
      "Número: 24, Suma parcial: 300\n",
      "Número: 25, Suma parcial: 325\n",
      "Número: 26, Suma parcial: 351\n",
      "Número: 27, Suma parcial: 378\n",
      "Número: 28, Suma parcial: 406\n",
      "Número: 29, Suma parcial: 435\n",
      "Número: 30, Suma parcial: 465\n",
      "Número: 31, Suma parcial: 496\n",
      "Número: 32, Suma parcial: 528\n",
      "Número: 33, Suma parcial: 561\n",
      "Número: 34, Suma parcial: 595\n",
      "Número: 35, Suma parcial: 630\n",
      "Número: 36, Suma parcial: 666\n",
      "Número: 37, Suma parcial: 703\n",
      "Número: 38, Suma parcial: 741\n",
      "Número: 39, Suma parcial: 780\n",
      "Número: 40, Suma parcial: 820\n",
      "Número: 41, Suma parcial: 861\n",
      "Número: 42, Suma parcial: 903\n",
      "Número: 43, Suma parcial: 946\n",
      "Número: 44, Suma parcial: 990\n",
      "Número: 45, Suma parcial: 1035\n",
      "Número: 46, Suma parcial: 1081\n",
      "Número: 47, Suma parcial: 1128\n",
      "Número: 48, Suma parcial: 1176\n",
      "Número: 49, Suma parcial: 1225\n",
      "Número: 50, Suma parcial: 1275\n",
      "Número: 51, Suma parcial: 1326\n",
      "Número: 52, Suma parcial: 1378\n",
      "Número: 53, Suma parcial: 1431\n",
      "Número: 54, Suma parcial: 1485\n",
      "Número: 55, Suma parcial: 1540\n",
      "Número: 56, Suma parcial: 1596\n",
      "Número: 57, Suma parcial: 1653\n",
      "Número: 58, Suma parcial: 1711\n",
      "Número: 59, Suma parcial: 1770\n",
      "Número: 60, Suma parcial: 1830\n",
      "Número: 61, Suma parcial: 1891\n",
      "Número: 62, Suma parcial: 1953\n",
      "Número: 63, Suma parcial: 2016\n",
      "Número: 64, Suma parcial: 2080\n",
      "Número: 65, Suma parcial: 2145\n",
      "Número: 66, Suma parcial: 2211\n",
      "Número: 67, Suma parcial: 2278\n",
      "Número: 68, Suma parcial: 2346\n",
      "Número: 69, Suma parcial: 2415\n",
      "Número: 70, Suma parcial: 2485\n",
      "Número: 71, Suma parcial: 2556\n",
      "Número: 72, Suma parcial: 2628\n",
      "Número: 73, Suma parcial: 2701\n",
      "Número: 74, Suma parcial: 2775\n",
      "Número: 75, Suma parcial: 2850\n",
      "Número: 76, Suma parcial: 2926\n",
      "Número: 77, Suma parcial: 3003\n",
      "Número: 78, Suma parcial: 3081\n",
      "Número: 79, Suma parcial: 3160\n",
      "Número: 80, Suma parcial: 3240\n",
      "Número: 81, Suma parcial: 3321\n",
      "Número: 82, Suma parcial: 3403\n",
      "Número: 83, Suma parcial: 3486\n",
      "Número: 84, Suma parcial: 3570\n",
      "Número: 85, Suma parcial: 3655\n",
      "Número: 86, Suma parcial: 3741\n",
      "Número: 87, Suma parcial: 3828\n",
      "Número: 88, Suma parcial: 3916\n",
      "Número: 89, Suma parcial: 4005\n",
      "Número: 90, Suma parcial: 4095\n",
      "Número: 91, Suma parcial: 4186\n",
      "Número: 92, Suma parcial: 4278\n",
      "Número: 93, Suma parcial: 4371\n",
      "Número: 94, Suma parcial: 4465\n",
      "Número: 95, Suma parcial: 4560\n",
      "Número: 96, Suma parcial: 4656\n",
      "Número: 97, Suma parcial: 4753\n",
      "Número: 98, Suma parcial: 4851\n",
      "Número: 99, Suma parcial: 4950\n",
      "Número: 100, Suma parcial: 5050\n",
      "La suma total de los números entre 0 y 100 es: 5050\n"
     ]
    }
   ],
   "source": [
    "# Inicializar la suma total\n",
    "total = 0\n",
    "\n",
    "# Iterar sobre cada número del 0 al 100\n",
    "for i in range(101):\n",
    "    # Agregar el número actual al total\n",
    "    total += i\n",
    "    # Imprimir el número actual y la suma parcial\n",
    "    print(f\"Número: {i}, Suma parcial: {total}\")  \n",
    "\n",
    "# Imprimir la suma total\n",
    "\n",
    "print(f\"La suma total de los números entre 0 y 100 es: {total}\")"
   ]
  },
  {
   "cell_type": "markdown",
   "metadata": {},
   "source": [
    "12. Escribir un programa que muestre la sumatoria de todos los múltiplos de 3 encontrados \n",
    "entre el 0 y el 100"
   ]
  },
  {
   "cell_type": "code",
   "execution_count": 35,
   "metadata": {},
   "outputs": [
    {
     "name": "stdout",
     "output_type": "stream",
     "text": [
      "Múltiplo de 3 encontrado: 0 (Suma parcial: 0)\n",
      "Múltiplo de 3 encontrado: 3 (Suma parcial: 3)\n",
      "Múltiplo de 3 encontrado: 6 (Suma parcial: 9)\n",
      "Múltiplo de 3 encontrado: 9 (Suma parcial: 18)\n",
      "Múltiplo de 3 encontrado: 12 (Suma parcial: 30)\n",
      "Múltiplo de 3 encontrado: 15 (Suma parcial: 45)\n",
      "Múltiplo de 3 encontrado: 18 (Suma parcial: 63)\n",
      "Múltiplo de 3 encontrado: 21 (Suma parcial: 84)\n",
      "Múltiplo de 3 encontrado: 24 (Suma parcial: 108)\n",
      "Múltiplo de 3 encontrado: 27 (Suma parcial: 135)\n",
      "Múltiplo de 3 encontrado: 30 (Suma parcial: 165)\n",
      "Múltiplo de 3 encontrado: 33 (Suma parcial: 198)\n",
      "Múltiplo de 3 encontrado: 36 (Suma parcial: 234)\n",
      "Múltiplo de 3 encontrado: 39 (Suma parcial: 273)\n",
      "Múltiplo de 3 encontrado: 42 (Suma parcial: 315)\n",
      "Múltiplo de 3 encontrado: 45 (Suma parcial: 360)\n",
      "Múltiplo de 3 encontrado: 48 (Suma parcial: 408)\n",
      "Múltiplo de 3 encontrado: 51 (Suma parcial: 459)\n",
      "Múltiplo de 3 encontrado: 54 (Suma parcial: 513)\n",
      "Múltiplo de 3 encontrado: 57 (Suma parcial: 570)\n",
      "Múltiplo de 3 encontrado: 60 (Suma parcial: 630)\n",
      "Múltiplo de 3 encontrado: 63 (Suma parcial: 693)\n",
      "Múltiplo de 3 encontrado: 66 (Suma parcial: 759)\n",
      "Múltiplo de 3 encontrado: 69 (Suma parcial: 828)\n",
      "Múltiplo de 3 encontrado: 72 (Suma parcial: 900)\n",
      "Múltiplo de 3 encontrado: 75 (Suma parcial: 975)\n",
      "Múltiplo de 3 encontrado: 78 (Suma parcial: 1053)\n",
      "Múltiplo de 3 encontrado: 81 (Suma parcial: 1134)\n",
      "Múltiplo de 3 encontrado: 84 (Suma parcial: 1218)\n",
      "Múltiplo de 3 encontrado: 87 (Suma parcial: 1305)\n",
      "Múltiplo de 3 encontrado: 90 (Suma parcial: 1395)\n",
      "Múltiplo de 3 encontrado: 93 (Suma parcial: 1488)\n",
      "Múltiplo de 3 encontrado: 96 (Suma parcial: 1584)\n",
      "Múltiplo de 3 encontrado: 99 (Suma parcial: 1683)\n",
      "La suma total de los múltiplos de 3 entre 0 y 100 es: 1683\n"
     ]
    }
   ],
   "source": [
    "suma_multiplos = 0\n",
    "\n",
    "for numero in range(101):\n",
    "    if numero % 3 == 0:\n",
    "        suma_multiplos += numero\n",
    "        print(f\"Múltiplo de 3 encontrado: {numero} (Suma parcial: {suma_multiplos})\")\n",
    "\n",
    "print(f\"La suma total de los múltiplos de 3 entre 0 y 100 es: {suma_multiplos}\")"
   ]
  },
  {
   "cell_type": "markdown",
   "metadata": {},
   "source": [
    "13. Escribir un programa que permita al usuario ingresar 6 números enteros, que pueden ser \n",
    "positivos o negativos. Al finalizar, mostrar la sumatoria de los números negativos y el promedio \n",
    "de los positivos. No olvides que no es posible dividir por cero, por lo que es necesario evitar \n",
    "que el programa arroje un error si no se ingresaron números positivos"
   ]
  },
  {
   "cell_type": "code",
   "execution_count": 37,
   "metadata": {},
   "outputs": [
    {
     "name": "stdout",
     "output_type": "stream",
     "text": [
      "Sumatoria de los números negativos: -12\n",
      "Promedio de los números positivos: -6.00\n"
     ]
    }
   ],
   "source": [
    "# Inicializamos las variables para la sumatoria de negativos y el contador de positivos\n",
    "sumatoria_negativos = 0\n",
    "contador_positivos = 0\n",
    "\n",
    "# Solicitamos los 6 números al usuario\n",
    "for i in range(6):\n",
    "    numero = int(input(f\"Ingrese el número {i + 1}: \"))\n",
    "    \n",
    "    # Verificamos si el número es positivo o negativo\n",
    "    if numero < 0:\n",
    "        sumatoria_negativos += numero\n",
    "    elif numero > 0:\n",
    "        contador_positivos += 1\n",
    "\n",
    "# Calculamos el promedio de los positivos (evitando la división por cero)\n",
    "if contador_positivos > 0:\n",
    "    promedio_positivos = sumatoria_negativos / contador_positivos\n",
    "else:\n",
    "    promedio_positivos = 0\n",
    "\n",
    "# Mostramos los resultados\n",
    "print(f\"Sumatoria de los números negativos: {sumatoria_negativos}\")\n",
    "print(f\"Promedio de los números positivos: {promedio_positivos:.2f}\")"
   ]
  },
  {
   "cell_type": "markdown",
   "metadata": {},
   "source": [
    "14. Dado un número entero positivo, mostrar su factorial. El factorial de un número se obtiene \n",
    "multiplicando todos los números enteros positivos que hay entre el 1 y ese número."
   ]
  },
  {
   "cell_type": "code",
   "execution_count": 39,
   "metadata": {},
   "outputs": [
    {
     "name": "stdout",
     "output_type": "stream",
     "text": [
      "El factorial de 3 es: 6\n"
     ]
    }
   ],
   "source": [
    "def calcular_factorial(numero):\n",
    "    factorial = 1\n",
    "    for i in range(1, numero + 1):\n",
    "        factorial *= i\n",
    "    return factorial\n",
    "\n",
    "# Solicitamos el número al usuario\n",
    "numero_entero = int(input(\"Ingrese un número entero positivo: \"))\n",
    "if numero_entero < 0:\n",
    "    print(\"El número debe ser positivo.\")\n",
    "else:\n",
    "    resultado = calcular_factorial(numero_entero)\n",
    "    print(f\"El factorial de {numero_entero} es: {resultado}\")"
   ]
  },
  {
   "cell_type": "markdown",
   "metadata": {},
   "source": [
    " 15. Escribir un programa que pida al usuario una palabra y luego muestre por pantalla una a \n",
    "una las letras de la palabra introducida empezando por la última"
   ]
  },
  {
   "cell_type": "code",
   "execution_count": 46,
   "metadata": {},
   "outputs": [
    {
     "name": "stdout",
     "output_type": "stream",
     "text": [
      "l\n",
      "u\n",
      "z\n",
      "a\n"
     ]
    }
   ],
   "source": [
    "# Solicitamos la palabra al usuario\n",
    "palabra = input(\"Ingrese una palabra: \")\n",
    "\n",
    "# Mostramos las letras de la palabra empezando por la última\n",
    "for letra in palabra[::-1]:\n",
    "    print(letra)"
   ]
  }
 ],
 "metadata": {
  "kernelspec": {
   "display_name": "Curso_Python",
   "language": "python",
   "name": "python3"
  },
  "language_info": {
   "codemirror_mode": {
    "name": "ipython",
    "version": 3
   },
   "file_extension": ".py",
   "mimetype": "text/x-python",
   "name": "python",
   "nbconvert_exporter": "python",
   "pygments_lexer": "ipython3",
   "version": "3.11.9"
  }
 },
 "nbformat": 4,
 "nbformat_minor": 2
}

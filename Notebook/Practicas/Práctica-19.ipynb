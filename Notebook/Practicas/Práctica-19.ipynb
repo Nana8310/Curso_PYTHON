{
 "cells": [
  {
   "cell_type": "markdown",
   "metadata": {},
   "source": [
    "Practica # 19. Bucles o ciclo for"
   ]
  },
  {
   "cell_type": "markdown",
   "metadata": {},
   "source": [
    "1. Escriba un programa que le pida al usuario un número entero mayor que cero y que luego \n",
    "imprima en pantalla sus divisores."
   ]
  },
  {
   "cell_type": "code",
   "execution_count": 4,
   "metadata": {},
   "outputs": [
    {
     "name": "stdout",
     "output_type": "stream",
     "text": [
      "Los divisores de 30 son:\n",
      "1\n",
      "2\n",
      "3\n",
      "5\n",
      "6\n",
      "10\n",
      "15\n",
      "30\n"
     ]
    }
   ],
   "source": [
    "numero = int(input(\"Escribe un número entero mayor que cero: \"))\n",
    "if numero > 0:\n",
    "    print(f\"Los divisores de {numero} son:\")\n",
    "    for divisor in range(1, numero + 1):\n",
    "        if numero % divisor == 0:\n",
    "            print(divisor)\n",
    "else:\n",
    "    print(\"El número introducido debe ser un entero mayor de cero.\")\n",
    "\n"
   ]
  },
  {
   "cell_type": "markdown",
   "metadata": {},
   "source": [
    "2. Escriba un programa que pregunte al usuario cuántos números se van a introducir, pida \n",
    "esos números y escriba cuántos negativos ha introducido"
   ]
  },
  {
   "cell_type": "code",
   "execution_count": 3,
   "metadata": {},
   "outputs": [
    {
     "name": "stdout",
     "output_type": "stream",
     "text": [
      "Has introducido 2 números negativos\n"
     ]
    }
   ],
   "source": [
    "cantidad = int(input('¿Cuántos números se van a introducir? ')) # preguntar al usuario \n",
    "negativos = 0 # contador de números negativos \n",
    "\n",
    "for i in range(cantidad): # Bucle para pedir los números y contar el negativos\n",
    "    numero = float(input(f\"Introduce el número {i+1} \"))\n",
    "    if numero < 0: \n",
    "        negativos +=1\n",
    "        \n",
    "print(f\"Has introducido {negativos} números negativos\")    # escribe cuantos negativos a introducido    "
   ]
  },
  {
   "cell_type": "markdown",
   "metadata": {},
   "source": [
    "3. Escriba un programa que pida dos números enteros y escriba qué números son pares y \n",
    "cuáles impares desde el primero hasta el segundo."
   ]
  },
  {
   "cell_type": "code",
   "execution_count": 22,
   "metadata": {},
   "outputs": [
    {
     "name": "stdout",
     "output_type": "stream",
     "text": [
      "El número ingresado 30 es par.\n",
      "El número ingresado 153 es impar.\n",
      "¡Programa finalizado!\n"
     ]
    }
   ],
   "source": [
    "numero1 = int(input(\"Introduce el primer número entero: \"))\n",
    "numero2 = int(input(\"Introduce el segundo número entero: \"))\n",
    "\n",
    "# Verificar si el primer número es par o impar.\n",
    "if numero1 % 2 == 0:\n",
    "    print(f\"El número ingresado {numero1} es par.\")\n",
    "\n",
    "else:\n",
    "    print(f\"El número ingresado {numero1} es impar.\")\n",
    "\n",
    "# Verificar si el segundo número es par o impar.\n",
    "if numero2 % 2 == 0:\n",
    "    print(f\"El número ingresado {numero2} es par.\")\n",
    "else:\n",
    "    print(f\"El número ingresado {numero2} es impar.\")\n",
    "\n",
    "print(\"¡Programa finalizado!\")   "
   ]
  },
  {
   "cell_type": "markdown",
   "metadata": {},
   "source": [
    "4. Escriba un programa que pregunte cuántos números se van a introducir, pida esos \n",
    "números, y diga al final cuántos han sido pares y cuántos impares."
   ]
  },
  {
   "cell_type": "markdown",
   "metadata": {},
   "source": [
    "5. Escriba un programa que pregunte cuantos números se van a introducir, pida esos \n",
    "números (que puedan ser decimales) y calcule su suma"
   ]
  },
  {
   "cell_type": "markdown",
   "metadata": {},
   "source": [
    "6. Imprimir todos los dígitos decimales, del 0 al 9, utilizando una repetición."
   ]
  },
  {
   "cell_type": "markdown",
   "metadata": {},
   "source": [
    "7. Imprimir todos los números entre el 100 y el 199."
   ]
  },
  {
   "cell_type": "markdown",
   "metadata": {},
   "source": [
    "8. Imprimir los números entre el 5 y el 20, saltando de tres en tres."
   ]
  },
  {
   "cell_type": "markdown",
   "metadata": {},
   "source": [
    "9. Solicitar al usuario que ingrese una frase y luego imprimir un listado de las vocales que \n",
    "aparecen en esa frase (sin repetirlas)."
   ]
  },
  {
   "cell_type": "markdown",
   "metadata": {},
   "source": []
  }
 ],
 "metadata": {
  "kernelspec": {
   "display_name": "Curso_Python",
   "language": "python",
   "name": "python3"
  },
  "language_info": {
   "codemirror_mode": {
    "name": "ipython",
    "version": 3
   },
   "file_extension": ".py",
   "mimetype": "text/x-python",
   "name": "python",
   "nbconvert_exporter": "python",
   "pygments_lexer": "ipython3",
   "version": "3.11.9"
  }
 },
 "nbformat": 4,
 "nbformat_minor": 2
}

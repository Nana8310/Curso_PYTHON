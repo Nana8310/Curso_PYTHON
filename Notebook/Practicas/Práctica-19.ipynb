{
 "cells": [
  {
   "cell_type": "markdown",
   "metadata": {},
   "source": [
    "Practica # 19. Bucles o ciclo for"
   ]
  },
  {
   "cell_type": "markdown",
   "metadata": {},
   "source": [
    "1. Escriba un programa que le pida al usuario un número entero mayor que cero y que luego \n",
    "imprima en pantalla sus divisores."
   ]
  },
  {
   "cell_type": "code",
   "execution_count": 4,
   "metadata": {},
   "outputs": [
    {
     "name": "stdout",
     "output_type": "stream",
     "text": [
      "Los divisores de 30 son:\n",
      "1\n",
      "2\n",
      "3\n",
      "5\n",
      "6\n",
      "10\n",
      "15\n",
      "30\n"
     ]
    }
   ],
   "source": [
    "numero = int(input(\"Escribe un número entero mayor que cero: \"))\n",
    "if numero > 0:\n",
    "    print(f\"Los divisores de {numero} son:\")\n",
    "    for divisor in range(1, numero + 1):\n",
    "        if numero % divisor == 0:\n",
    "            print(divisor)\n",
    "else:\n",
    "    print(\"El número introducido debe ser un entero mayor de cero.\")\n",
    "\n"
   ]
  },
  {
   "cell_type": "markdown",
   "metadata": {},
   "source": [
    "2. Escriba un programa que pregunte al usuario cuántos números se van a introducir, pida \n",
    "esos números y escriba cuántos negativos ha introducido"
   ]
  },
  {
   "cell_type": "code",
   "execution_count": 3,
   "metadata": {},
   "outputs": [
    {
     "name": "stdout",
     "output_type": "stream",
     "text": [
      "Has introducido 2 números negativos\n"
     ]
    }
   ],
   "source": [
    "cantidad = int(input('¿Cuántos números se van a introducir? ')) # preguntar al usuario \n",
    "negativos = 0 # contador de números negativos \n",
    "\n",
    "for i in range(cantidad): # Bucle para pedir los números y contar el negativos\n",
    "    numero = float(input(f\"Introduce el número {i+1} \"))\n",
    "    if numero < 0: \n",
    "        negativos +=1\n",
    "        \n",
    "print(f\"Has introducido {negativos} números negativos\")    # escribe cuantos negativos a introducido    "
   ]
  },
  {
   "cell_type": "markdown",
   "metadata": {},
   "source": [
    "3. Escriba un programa que pida dos números enteros y escriba qué números son pares y \n",
    "cuáles impares desde el primero hasta el segundo."
   ]
  },
  {
   "cell_type": "code",
   "execution_count": 22,
   "metadata": {},
   "outputs": [
    {
     "name": "stdout",
     "output_type": "stream",
     "text": [
      "El número ingresado 30 es par.\n",
      "El número ingresado 153 es impar.\n",
      "¡Programa finalizado!\n"
     ]
    }
   ],
   "source": [
    "numero1 = int(input(\"Introduce el primer número entero: \"))\n",
    "numero2 = int(input(\"Introduce el segundo número entero: \"))\n",
    "\n",
    "# Verificar si el primer número es par o impar.\n",
    "if numero1 % 2 == 0:\n",
    "    print(f\"El número ingresado {numero1} es par.\")\n",
    "\n",
    "else:\n",
    "    print(f\"El número ingresado {numero1} es impar.\")\n",
    "\n",
    "# Verificar si el segundo número es par o impar.\n",
    "if numero2 % 2 == 0:\n",
    "    print(f\"El número ingresado {numero2} es par.\")\n",
    "else:\n",
    "    print(f\"El número ingresado {numero2} es impar.\")\n",
    "\n",
    "print(\"¡Programa finalizado!\")   "
   ]
  },
  {
   "cell_type": "markdown",
   "metadata": {},
   "source": [
    "4. Escriba un programa que pregunte cuántos números se van a introducir, pida esos \n",
    "números, y diga al final cuántos han sido pares y cuántos impares."
   ]
  },
  {
   "cell_type": "code",
   "execution_count": 9,
   "metadata": {},
   "outputs": [
    {
     "name": "stdout",
     "output_type": "stream",
     "text": [
      "Haz introducido 2 números pares y 1 números impares. \n"
     ]
    }
   ],
   "source": [
    "cantidad = int(input('¿Cuántos números van a introducir? ')) # pregunta al usuario\n",
    "par = 0 # contador de numeros\n",
    "impar = 0\n",
    "\n",
    "for i in range(cantidad): # Bucle para pedir los números \n",
    "    numero = int(input(f\"Introduce el numero {i+1}: \"))\n",
    "    if numero % 2 == 0:\n",
    "       par += 1\n",
    "    else:\n",
    "       impar += 1    \n",
    "          \n",
    "print(f\"Haz introducido {par} números pares y {impar} números impares. \")\n",
    "\n"
   ]
  },
  {
   "cell_type": "markdown",
   "metadata": {},
   "source": [
    "5. Escriba un programa que pregunte cuantos números se van a introducir, pida esos \n",
    "números (que puedan ser decimales) y calcule su suma"
   ]
  },
  {
   "cell_type": "code",
   "execution_count": 12,
   "metadata": {},
   "outputs": [
    {
     "name": "stdout",
     "output_type": "stream",
     "text": [
      "La suma de los números introducidos en 6.0\n",
      "La suma de los números introducidos en 14.0\n",
      "La suma de los números introducidos en 28.5\n",
      "La suma de los números introducidos en 33.5\n",
      "La suma de los números introducidos en 49.5\n"
     ]
    }
   ],
   "source": [
    "cantidad = int(input('¿Cuántos números van a introducir? ')) # pregunta al usuario\n",
    "suma = 0.0  # Inicializa la suma de los números\n",
    "\n",
    "for i in range(cantidad): # Bucle para pedir los números\n",
    "    numero = float(input(f\"Introduce el numero {i+1}: \"))\n",
    "    suma += numero # la suma de los números introducidos\n",
    "    print(f\"La suma de los números introducidos en {suma}\")"
   ]
  },
  {
   "cell_type": "markdown",
   "metadata": {},
   "source": [
    "6. Imprimir todos los dígitos decimales, del 0 al 9, utilizando una repetición."
   ]
  },
  {
   "cell_type": "code",
   "execution_count": 13,
   "metadata": {},
   "outputs": [
    {
     "name": "stdout",
     "output_type": "stream",
     "text": [
      "0\n",
      "1\n",
      "2\n",
      "3\n",
      "4\n",
      "5\n",
      "6\n",
      "7\n",
      "8\n",
      "9\n"
     ]
    }
   ],
   "source": [
    "# Bucle para imprimir los dígitos decimales del 0 al 9\n",
    "for digito in range(10):\n",
    "    print(digito)"
   ]
  },
  {
   "cell_type": "markdown",
   "metadata": {},
   "source": [
    "7. Imprimir todos los números entre el 100 y el 199."
   ]
  },
  {
   "cell_type": "code",
   "execution_count": 2,
   "metadata": {},
   "outputs": [
    {
     "name": "stdout",
     "output_type": "stream",
     "text": [
      "100\n",
      "101\n",
      "102\n",
      "103\n",
      "104\n",
      "105\n",
      "106\n",
      "107\n",
      "108\n",
      "109\n",
      "110\n",
      "111\n",
      "112\n",
      "113\n",
      "114\n",
      "115\n",
      "116\n",
      "117\n",
      "118\n",
      "119\n",
      "120\n",
      "121\n",
      "122\n",
      "123\n",
      "124\n",
      "125\n",
      "126\n",
      "127\n",
      "128\n",
      "129\n",
      "130\n",
      "131\n",
      "132\n",
      "133\n",
      "134\n",
      "135\n",
      "136\n",
      "137\n",
      "138\n",
      "139\n",
      "140\n",
      "141\n",
      "142\n",
      "143\n",
      "144\n",
      "145\n",
      "146\n",
      "147\n",
      "148\n",
      "149\n",
      "150\n",
      "151\n",
      "152\n",
      "153\n",
      "154\n",
      "155\n",
      "156\n",
      "157\n",
      "158\n",
      "159\n",
      "160\n",
      "161\n",
      "162\n",
      "163\n",
      "164\n",
      "165\n",
      "166\n",
      "167\n",
      "168\n",
      "169\n",
      "170\n",
      "171\n",
      "172\n",
      "173\n",
      "174\n",
      "175\n",
      "176\n",
      "177\n",
      "178\n",
      "179\n",
      "180\n",
      "181\n",
      "182\n",
      "183\n",
      "184\n",
      "185\n",
      "186\n",
      "187\n",
      "188\n",
      "189\n",
      "190\n",
      "191\n",
      "192\n",
      "193\n",
      "194\n",
      "195\n",
      "196\n",
      "197\n",
      "198\n",
      "199\n"
     ]
    }
   ],
   "source": [
    "# Bucle para imprimir todos los números entre el 100 y el 199\n",
    "for numero in range(100, 200):\n",
    "    print(numero)"
   ]
  },
  {
   "cell_type": "markdown",
   "metadata": {},
   "source": [
    "8. Imprimir los números entre el 5 y el 20, saltando de tres en tres."
   ]
  },
  {
   "cell_type": "markdown",
   "metadata": {},
   "source": [
    "9. Solicitar al usuario que ingrese una frase y luego imprimir un listado de las vocales que \n",
    "aparecen en esa frase (sin repetirlas)."
   ]
  },
  {
   "cell_type": "markdown",
   "metadata": {},
   "source": []
  }
 ],
 "metadata": {
  "kernelspec": {
   "display_name": "Curso_Python",
   "language": "python",
   "name": "python3"
  },
  "language_info": {
   "codemirror_mode": {
    "name": "ipython",
    "version": 3
   },
   "file_extension": ".py",
   "mimetype": "text/x-python",
   "name": "python",
   "nbconvert_exporter": "python",
   "pygments_lexer": "ipython3",
   "version": "3.11.9"
  }
 },
 "nbformat": 4,
 "nbformat_minor": 2
}

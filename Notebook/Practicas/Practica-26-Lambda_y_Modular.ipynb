{
 "cells": [
  {
   "cell_type": "markdown",
   "id": "80d07ad6-3e6b-4a2a-856c-33953fecc7db",
   "metadata": {},
   "source": []
  },
  {
   "cell_type": "markdown",
   "id": "967c6e08-e365-43af-a16e-a8b7cde7c419",
   "metadata": {
    "jp-MarkdownHeadingCollapsed": true
   },
   "source": [
    "# Parte 1 - Funciones de orden superior. Lambda(), map(), filter() y reduce()"
   ]
  },
  {
   "cell_type": "markdown",
   "id": "aca85ac7-18f9-4651-b2c7-c15d8b34c569",
   "metadata": {
    "jp-MarkdownHeadingCollapsed": true
   },
   "source": [
    "### Usando lambda, map(), filter() y reduce() o una combinación de ellos para realizar las siguientes tareas:"
   ]
  },
  {
   "cell_type": "markdown",
   "metadata": {},
   "source": [
    "1 - Supongamos que un diccionario contiene el tipo de mascota (gato, perro, etc.), el nombre de la mascota y la edad de la mascota. Escribe un programa que obtenga la suma de las edades de todos los perros."
   ]
  },
  {
   "cell_type": "code",
   "execution_count": 7,
   "id": "2efd4b97-195d-406a-b6e7-0e7bf457aa84",
   "metadata": {},
   "outputs": [
    {
     "name": "stdout",
     "output_type": "stream",
     "text": [
      "12\n"
     ]
    }
   ],
   "source": [
    "from functools import reduce \n",
    "\n",
    "# diccionario de mascotas:\n",
    "mascotas = [\n",
    " {'tipo':'gato','nombre':'pepe','edad':3},    \n",
    " {'tipo':'perro','nombre':'Malu','edad':4},\n",
    " {'tipo':'loro','nombre':'Cacao','edad':2},\n",
    " {'tipo':'perro','nombre':'Macarena','edad':8},\n",
    " {'tipo':'gato','nombre':'Italo','edad':10}   \n",
    "]\n",
    "# Filtrar para obtener solo los perros    \n",
    "perros = filter(lambda x: x['tipo']=='perro',mascotas)\n",
    "\n",
    "# Usar reduce () para sumar las edades de los perros\n",
    "suma_edades_perros = reduce(lambda acumulador,mascota:acumulador + mascota['edad'],perros,0 )\n",
    "\n",
    "print(suma_edades_perros)\n",
    "\n"
   ]
  },
  {
   "cell_type": "markdown",
   "id": "bf1ba130-4ff6-4d87-84df-212dd2b26124",
   "metadata": {},
   "source": [
    "2 - Considere la siguiente lista:  \n",
    "lst = [1.25, 3.22, 4.68, 10.95, 32.55, 12.54]  \n",
    "Los números de la lista representan radios de circunferencias. Escribe un programa para obtener una lista de áreas de estos círculos redondeada a dos decimales."
   ]
  },
  {
   "cell_type": "code",
   "execution_count": 8,
   "id": "98a8456a-cf2a-4e21-96df-a96b13fe9c84",
   "metadata": {},
   "outputs": [
    {
     "name": "stdout",
     "output_type": "stream",
     "text": [
      "[4.91, 32.57, 68.81, 376.68, 3328.53, 494.02]\n"
     ]
    }
   ],
   "source": [
    "import math\n",
    "lst = [1.25, 3.22, 4.68, 10.95, 32.55, 12.54]\n",
    "\n",
    "# calcular el érea de un circulo y dedondear a dos decimales \n",
    "def calcular_area(radio):\n",
    "    return round(math.pi * radio ** 2, 2)\n",
    "\n",
    "# Usar el map() para aplicar la función de cálculo de área acada radio\n",
    "areas = list(map(calcular_area,lst))\n",
    "\n",
    "print(areas)    "
   ]
  },
  {
   "cell_type": "markdown",
   "id": "e476c7d4-2399-4eec-b8f1-b37e5488282b",
   "metadata": {},
   "source": [
    "3 - Considere las siguientes listas:  \n",
    "nums = [10, 20, 30, 40, 50, 60, 70, 80]  \n",
    "strs = ['A', 'B', 'C', 'D', 'E', 'F', 'G', 'H']  \n",
    "Escribe un programa para obtener una lista de tuplas, donde cada tupla contenga un número de una lista y una cadena de otra, en el mismo orden en que aparecen en las listas originales."
   ]
  },
  {
   "cell_type": "code",
   "execution_count": 10,
   "id": "2cfc9465-40eb-4f53-adc3-b6c57b47788c",
   "metadata": {},
   "outputs": [
    {
     "name": "stdout",
     "output_type": "stream",
     "text": [
      "[(10, 'A'), (20, 'B'), (30, 'C'), (40, 'D'), (50, 'E'), (60, 'F'), (70, 'G'), (80, 'H')]\n"
     ]
    }
   ],
   "source": [
    "# listas\n",
    "nums = [10, 20, 30, 40, 50, 60, 70, 80]  \n",
    "strs = ['A', 'B', 'C', 'D', 'E', 'F', 'G', 'H'] \n",
    "\n",
    "# Usar zip() para combinar las listas en una lista en una lista de tuplas\n",
    "tuplas_combinadas = list(zip(nums,strs))\n",
    "\n",
    "print(tuplas_combinadas) "
   ]
  },
  {
   "cell_type": "markdown",
   "id": "2f5a2236-8003-45c7-93e9-429fc5c65761",
   "metadata": {},
   "source": [
    "4 - Considere la siguiente lista:  \n",
    "lst = ['Malayalam', 'Drawing', 'madamIamadam', '1234321']  \n",
    "Escribe un programa que imprima las cadenas que son palíndromos."
   ]
  },
  {
   "cell_type": "code",
   "execution_count": 11,
   "id": "4b5216d4-3da9-46cb-ab66-3c92d6713625",
   "metadata": {},
   "outputs": [
    {
     "name": "stdout",
     "output_type": "stream",
     "text": [
      "malayalam\n",
      "1234321\n",
      "\n"
     ]
    }
   ],
   "source": [
    "from functools import reduce\n",
    "\n",
    "# Lista de cadenas para verificar\n",
    "lst = ['Malayalam', 'Drawing', 'madamIamadam', '1234321']\n",
    "\n",
    "# Función auxiliar para limpiar y preparar las cadenas para la comprobación\n",
    "preparar_cadena = lambda cadena: cadena.replace(\" \", \"\").lower()\n",
    "\n",
    "# Función para verificar si una cadena es un palíndromo\n",
    "es_palindromo = lambda cadena: cadena == cadena[::-1]\n",
    "\n",
    "# Preparar las cadenas usando map()\n",
    "cadenas_preparadas = map(preparar_cadena, lst)\n",
    "\n",
    "# Filtrar las cadenas que son palíndromos usando filter()\n",
    "palindromos = filter(es_palindromo, cadenas_preparadas)\n",
    "\n",
    "# Reducir la lista de palíndromos a una cadena de texto para imprimir\n",
    "resultado = reduce(lambda acumulador, cadena: acumulador + cadena + \"\\n\", palindromos, \"\")\n",
    "\n",
    "print(resultado)"
   ]
  },
  {
   "cell_type": "markdown",
   "id": "ae61e557-4188-4c03-bc22-be53a4097266",
   "metadata": {},
   "source": [
    "5 - Una lista contiene nombres de empleados. Escribe un programa para filtrar aquellos nombres cuya longitud sea superior a 8 caracteres."
   ]
  },
  {
   "cell_type": "code",
   "execution_count": 12,
   "id": "5bbc6b37-c1cc-4431-8e7a-4090252dc319",
   "metadata": {},
   "outputs": [
    {
     "name": "stdout",
     "output_type": "stream",
     "text": [
      "['Alejandro']\n"
     ]
    }
   ],
   "source": [
    "# Lista de empleados\n",
    "empleados = ['Juan','Angelica','Alejandro','Sofia', 'Roberto','Gabriela']\n",
    "\n",
    "# Usar filter() para obtener nombres con más de 8 caracteres\n",
    "nombres_largos = filter(lambda nombre: len(nombre)>8,empleados)\n",
    "# Convertir el resultado de filter() a una lista\n",
    "nombres_largos_lista = list(nombres_largos)\n",
    "\n",
    "print(nombres_largos_lista)  # Esto imprimirá la lista de nombres filtrados"
   ]
  },
  {
   "cell_type": "markdown",
   "id": "2066ad6a-f374-4adf-87a0-d40cceccadf3",
   "metadata": {},
   "source": [
    "6 - Utilizando la función de filter(), encuentre los valores comunes a las dos listas siguientes.   \n",
    "a = [1,2,3,5,7,9]  \n",
    "\n",
    "b = [2,3,5,6,7,8]  \n",
    "\n",
    "El resultado debe estar guardado en otra lista.\n"
   ]
  },
  {
   "cell_type": "code",
   "execution_count": 13,
   "id": "25c5a8b8-be97-4414-9989-e8ccd98ccc5f",
   "metadata": {},
   "outputs": [
    {
     "name": "stdout",
     "output_type": "stream",
     "text": [
      "[2, 3, 5, 7]\n"
     ]
    }
   ],
   "source": [
    "# Lista de valores\n",
    "a = [1,2,3,5,7,9]  \n",
    "b = [2,3,5,6,7,8] \n",
    "\n",
    "# Utilizar filter() para encontrar los valores comunes \n",
    "valores_comunes = filter(lambda x: x in b,a)\n",
    "\n",
    "# Convertir el resultado en una lista \n",
    "lista_valores_comunes = list(valores_comunes)\n",
    "\n",
    "print(lista_valores_comunes)  \n",
    "    \n"
   ]
  },
  {
   "cell_type": "markdown",
   "id": "6f95561f-c3f2-48d8-a08a-e7b59c152bcc",
   "metadata": {},
   "source": [
    "6 - Teniendo en cuenta el rango de valores de abajo, utilice filter() para devolver una lista que contenga sólo números negativos.  \n",
    "range(-17, 17)"
   ]
  },
  {
   "cell_type": "code",
   "execution_count": 16,
   "id": "81f29282-28db-4255-95d3-5d759168cfca",
   "metadata": {},
   "outputs": [
    {
     "name": "stdout",
     "output_type": "stream",
     "text": [
      "[-17, -16, -15, -14, -13, -12, -11, -10, -9, -8, -7, -6, -5, -4, -3, -2, -1]\n"
     ]
    }
   ],
   "source": [
    "# rango de valores\n",
    "rango_valores = range(-17, 17)\n",
    "\n",
    "#Usar filter () para obtener solo los números negativos\n",
    "numeros_negativos = filter(lambda x: x < 0, rango_valores)\n",
    "\n",
    "# convertir el resultado en una lista\n",
    "lista_numeros_negativos = list(numeros_negativos)\n",
    "\n",
    "print(lista_numeros_negativos)\n",
    "\n"
   ]
  },
  {
   "cell_type": "markdown",
   "id": "6b522fee-3b2e-4e2d-88c3-29a6261e5645",
   "metadata": {},
   "source": [
    "7 - Basado en la cadena de texto de abajo, utilice map() y lambda para imprimir una lista de listas que contenga cada palabra en mayúsculas, otra en minúsculas y el número de caracteres de la palabra.  \n",
    "words = 'Data Science Academy offers the best data analysis courses in Spain'"
   ]
  },
  {
   "cell_type": "markdown",
   "id": "dd8819c8-a454-4d5b-a4bb-31bdb42974d3",
   "metadata": {},
   "source": [
    "Ejemplo de salida:  \n",
    "[['DATA', 'data', 4], []...]"
   ]
  },
  {
   "cell_type": "code",
   "execution_count": 17,
   "id": "001d830a-0d12-486a-8d63-b01ea0ad1626",
   "metadata": {},
   "outputs": [
    {
     "name": "stdout",
     "output_type": "stream",
     "text": [
      "[['DATA', 'data', 4], ['SCIENCE', 'science', 7], ['ACADEMY', 'academy', 7], ['OFFERS', 'offers', 6], ['THE', 'the', 3], ['BEST', 'best', 4], ['DATA', 'data', 4], ['ANALYSIS', 'analysis', 8], ['COURSES', 'courses', 7], ['IN', 'in', 2], ['SPAIN', 'spain', 5]]\n"
     ]
    }
   ],
   "source": [
    "# Cadena de texto\n",
    "words = 'Data Science Academy offers the best data analysis courses in Spain'\n",
    "\n",
    "# Usar map() con lambda para crear la lista de listas solicitadas\n",
    "resultado=map(lambda palabra:[palabra.upper(), palabra.lower(), len(palabra)], words.split())\n",
    "\n",
    "# Convertir el resultado de map a una lista\n",
    "lista_resultado = list(resultado)\n",
    "\n",
    "print(lista_resultado) "
   ]
  },
  {
   "cell_type": "markdown",
   "id": "f2802ee8-3011-450b-bdca-86dc6ef76a15",
   "metadata": {},
   "source": [
    "8 - Considere la siguiente lista:  \n",
    "lst = ['Benevolent', 'Dictator', 'For', 'Life']  \n",
    "Escriba un programa para obtener la cadena: 'Benevolent Dictator For Life'"
   ]
  },
  {
   "cell_type": "code",
   "execution_count": 19,
   "id": "23787d45-ded5-4c96-96e4-197ed3e0e346",
   "metadata": {},
   "outputs": [
    {
     "name": "stdout",
     "output_type": "stream",
     "text": [
      "Benevolent Dictator For Life\n"
     ]
    }
   ],
   "source": [
    "from functools import reduce\n",
    "\n",
    "# Lista de palabras proporcionadas\n",
    "lst = ['Benevolent', 'Dictator', 'For', 'Life']\n",
    "\n",
    "# Usar reduce() para unir las palabras en una cadena\n",
    "cadena_unida = reduce(lambda x,y: x +' '+ y,lst)\n",
    "\n",
    "print(cadena_unida)"
   ]
  },
  {
   "cell_type": "markdown",
   "id": "60ea0aff-5952-43b5-97ff-9addcf5da29c",
   "metadata": {},
   "source": [
    "9 - Considere la siguiente lista de estudiantes de una clase:  \n",
    "lst = ['Miguel', 'Francisco', 'Julia', 'Margarita', 'Elizabeth']  \n",
    "Escribe un programa que muestre una lista que contenga los nombres anteriores en mayúsculas.  \n"
   ]
  },
  {
   "cell_type": "code",
   "execution_count": 20,
   "id": "51842f24-a2b6-480e-b893-90216d1bc589",
   "metadata": {},
   "outputs": [
    {
     "name": "stdout",
     "output_type": "stream",
     "text": [
      "['MIGUEL', 'FRANCISCO', 'JULIA', 'MARGARITA', 'ELIZABETH']\n"
     ]
    }
   ],
   "source": [
    "# lista de estuciantes\n",
    "lst = ['Miguel', 'Francisco', 'Julia', 'Margarita', 'Elizabeth']\n",
    "\n",
    "# utilizamos map() con un afunción lambda para convertir cada nombre a mayúscula\n",
    "lst_mayusculas = list(map(lambda nombre: nombre.upper(), lst))\n",
    "\n",
    "# Mostramos la lista con los nombres en mayúsculas.\n",
    "print(lst_mayusculas) \n"
   ]
  },
  {
   "cell_type": "markdown",
   "id": "e3a04ec6-47ea-4efd-af8d-09eaf11c8729",
   "metadata": {
    "jp-MarkdownHeadingCollapsed": true
   },
   "source": [
    "### Parte 2 - Programación modular"
   ]
  },
  {
   "cell_type": "markdown",
   "id": "dc38834c-a662-4dd1-bf6c-ae1b7305b665",
   "metadata": {},
   "source": [
    "10 - Escribe un programa que contenga las funciones fun1( ), fun2( ), fun3( ) y algunas sentencias. Añade código adecuado al programa para poder utilizarlo como módulo o como script."
   ]
  },
  {
   "cell_type": "code",
   "execution_count": 1,
   "id": "073cf156-05de-4b83-8435-61578bea24cf",
   "metadata": {},
   "outputs": [
    {
     "name": "stdout",
     "output_type": "stream",
     "text": [
      "Este es un módulo con funciones que utilizan lambda, map(), filter(), y reduce().\n",
      "Cuadrados: [1, 4, 9, 16, 25]\n",
      "Pares: [2, 4]\n",
      "Suma total: 15\n"
     ]
    }
   ],
   "source": [
    "from functools import reduce\n",
    "\n",
    "# fun1() utiliza map() para elevar al cuadrado todos los elementos de una lista\n",
    "def fun1(numeros):\n",
    "    return list(map(lambda x: x**2, numeros))\n",
    "\n",
    "# fun2() utiliza filter() para obtener solo los números pares de la lista\n",
    "def fun2(numeros):\n",
    "    return list(filter(lambda x: x % 2 == 0, numeros))\n",
    "\n",
    "# fun3() utiliza reduce() para sumar todos los elementos de la lista\n",
    "def fun3(numeros):\n",
    "    return reduce(lambda x, y: x + y, numeros)\n",
    "\n",
    "# Sentencias adicionales\n",
    "print(\"Este es un módulo con funciones que utilizan lambda, map(), filter(), y reduce().\")\n",
    "\n",
    "# Código para hacer el archivo utilizable como script\n",
    "if __name__ == \"__main__\":\n",
    "    nums = [1, 2, 3, 4, 5]\n",
    "    print(\"Cuadrados:\", fun1(nums))\n",
    "    print(\"Pares:\", fun2(nums))\n",
    "    print(\"Suma total:\", fun3(nums))"
   ]
  },
  {
   "cell_type": "markdown",
   "id": "fef0f3c0-222b-400d-905a-9b17b85381bc",
   "metadata": {},
   "source": [
    "11 - Supongamos que existen tres módulos mod1.py, mod2.py, mod3.py, que contienen las funciones f1( ), f2( ) y f3( ) respectivamente. ¿Cómo utilizarías o ejecutarías esas funciones en tu programa?"
   ]
  },
  {
   "cell_type": "markdown",
   "id": "4f9924e3",
   "metadata": {},
   "source": [
    "Para utilizar las funciones f1(), f2() y f3() de los módulos mod1.py, mod2.py y mod3.py respectivamente en tu programa, primero debes asegurarte de que los módulos estén en el mismo directorio que tu script principal o en la ruta de Python. Luego, puedes importar y ejecutar las funciones de la siguiente manera:"
   ]
  },
  {
   "cell_type": "code",
   "execution_count": null,
   "id": "7d633d0f-c63e-4886-85b5-4e51b5931cef",
   "metadata": {},
   "outputs": [],
   "source": [
    "# Importar las funciones especificas  de cada módulo\n",
    "from mod1 import f1\n",
    "from mod2 import f1\n",
    "from mod3 import f1\n",
    "\n",
    "# Ahora puedes llamar a las funciones directamente en tu código\n",
    "resultado1 = f1()\n",
    "resultado2 = f2()\n",
    "resultado3 = f(3)\n",
    "\n",
    "# Si necesitas usar las funciones con argumentos, asegurate de pasar los argumentos correctos\n",
    "#por ejemplo:\n",
    "# resultado1 = f1(arg1, arg2)\n",
    "# resultado2 = f2(arg1)\n",
    "# resultado3 = f3(arg1, arg2, arg3)\n"
   ]
  },
  {
   "cell_type": "markdown",
   "id": "776a7abf",
   "metadata": {},
   "source": [
    "Recuerda que si los módulos no están en el mismo directorio, tendrás que modificar el sys.path para incluir el directorio donde se encuentran los módulos o instalarlos como paquetes si es necesario. Además, si hay conflictos de nombres entre las funciones, puedes importar el módulo completo y usar un alias para diferenciar:\n",
    "\n",
    "import mod1 as m1\n",
    "import mod2 as m2\n",
    "import mod3 as m3\n",
    "\n",
    "resultado1 = m1.f1()\n",
    "resultado2 = m2.f2()\n",
    "resultado3 = m3.f3()"
   ]
  },
  {
   "cell_type": "markdown",
   "id": "4a90d281-fea3-46c0-9b50-045a01017bf9",
   "metadata": {},
   "source": [
    "12 - Indicar si las siguientes afirmaciones son Verdaderas o Falsas. Explicar las falsas."
   ]
  },
  {
   "cell_type": "markdown",
   "id": "5270edf5-ff4c-477d-8ed3-bc86655e1ebb",
   "metadata": {},
   "source": [
    "(a) Una función puede pertenecer a un módulo y el módulo puede pertenecer a un paquete."
   ]
  },
  {
   "cell_type": "markdown",
   "id": "9d1764a9",
   "metadata": {},
   "source": [
    "La afirmación es Verdadera. En el contexto de la programación, especialmente en lenguajes como Python, una función es una unidad de código reutilizable que realiza una tarea específica y puede ser definida dentro de un módulo. Un módulo es un archivo de Python que contiene definiciones de funciones, clases y variables, así como código ejecutable.\n",
    "\n",
    "Por otro lado, un paquete es una forma de organizar módulos relacionados utilizando una estructura de directorios jerárquica. Un paquete contiene un archivo especial llamado __init__.py (que puede estar vacío) y puede incluir uno o más módulos. Por lo tanto, es correcto decir que una función puede pertenecer a un módulo y ese módulo puede ser parte de un paquete.\n",
    "\n",
    "Aquí tienes un ejemplo de cómo se vería esta estructura:\n",
    "paquete/\n",
    "│\n",
    "├── __init__.py\n",
    "├── modulo1.py (contiene la función f1())\n",
    "├── modulo2.py (contiene la función f2())\n",
    "└── modulo3.py (contiene la función f3())\n",
    "\n",
    "En este caso, modulo1.py, modulo2.py y modulo3.py son módulos que pertenecen al paquete, y f1(), f2() y f3() son funciones que pertenecen a sus respectivos módulos."
   ]
  },
  {
   "cell_type": "markdown",
   "id": "6fc09887-96dc-49e0-89c5-618a498d4ae9",
   "metadata": {},
   "source": [
    "(b) Un paquete puede contener uno o varios módulos."
   ]
  },
  {
   "cell_type": "markdown",
   "id": "3044b086",
   "metadata": {},
   "source": [
    "Es verdadera: Explicación: En programación, un paquete es una colección de módulos que están organizados bajo un mismo directorio. Cada paquete en Python, por ejemplo, incluye un archivo especial llamado __init__.py, que puede estar vacío o contener código para inicializar el paquete. Los paquetes permiten estructurar el espacio de nombres de los módulos de Python mediante el uso de “nombres de módulos punteados”. Por lo tanto, un paquete actúa como un contenedor para varios módulos, permitiendo una mejor organización y reutilización del código.\n",
    "\n",
    "Aquí tienes un ejemplo de la estructura de un paquete con varios módulos:\n",
    "mi_paquete/\n",
    "│\n",
    "├── __init__.py\n",
    "├── modulo1.py\n",
    "├── modulo2.py\n",
    "└── subpaquete/\n",
    "    ├── __init__.py\n",
    "    └── modulo3.py\n",
    "\n",
    "En este ejemplo, mi_paquete es un paquete que contiene dos módulos, modulo1.py y modulo2.py, y un subpaquete llamado subpaquete, que a su vez contiene otro módulo, modulo3.py. Esto demuestra que un paquete puede contener uno o más módulos."
   ]
  },
  {
   "cell_type": "markdown",
   "id": "b9949a49-4ac5-430c-9529-6baddec23962",
   "metadata": {},
   "source": [
    "(c) Se permiten los paquetes anidados"
   ]
  },
  {
   "cell_type": "markdown",
   "id": "49e507ff",
   "metadata": {},
   "source": [
    "Los paquetes anidados son permitidos y son una característica común en muchos lenguajes de programación, como Python. Esto permite una mejor organización del código y la posibilidad de agrupar módulos relacionados dentro de una estructura jerárquica más grande. Aquí tienes un ejemplo de cómo se vería una estructura de paquetes anidados:\n",
    "paquete_principal/\n",
    "│\n",
    "├── __init__.py\n",
    "├── modulo1.py\n",
    "├── subpaquete1/\n",
    "│   ├── __init__.py\n",
    "│   └── modulo2.py\n",
    "└── subpaquete2/\n",
    "    ├── __init__.py\n",
    "    └── modulo3.py\n",
    "\n",
    " En este ejemplo, paquete_principal es un paquete que contiene un módulo (modulo1.py) y dos subpaquetes (subpaquete1 y subpaquete2). Cada subpaquete tiene su propio archivo __init__.py y uno o más módulos. Esta estructura es útil para organizar módulos complejos y grandes bibliotecas de código.   "
   ]
  },
  {
   "cell_type": "markdown",
   "id": "9c9ad380-266d-492f-a591-86faa95b0e9a",
   "metadata": {},
   "source": [
    "(d) En la declaración:  \n",
    "`import a.b.c`  \n",
    "'c' no puede ser una función"
   ]
  },
  {
   "cell_type": "markdown",
   "id": "0d4ef90d",
   "metadata": {},
   "source": [
    "Falso.\n",
    "\n",
    "En la declaración import a.b.c, ‘c’ puede ser un módulo, un paquete o un objeto dentro del módulo (como una función, una clase o una variable). Sin embargo, generalmente, ‘c’ se refiere a un módulo o paquete. Para importar una función específica de un módulo, se utilizaría una sintaxis diferente, como:\n",
    "\n",
    "from a.b import c\n",
    "Aquí, c sería la función que deseas importar del módulo b, que a su vez es parte del paquete a. La declaración import a.b.c por sí sola no ejecutaría la función c, solo la haría accesible como parte del espacio de nombres a.b."
   ]
  },
  {
   "cell_type": "markdown",
   "id": "ee522aaf-bd22-46d5-a849-a1c6ba015a46",
   "metadata": {},
   "source": [
    "(e) Es una buena idea utilizar * para importar todas las funciones/clases definidas en un módulo."
   ]
  },
  {
   "cell_type": "markdown",
   "id": "476849dc",
   "metadata": {},
   "source": [
    "Falso.\n",
    "\n",
    "Utilizar * para importar todas las funciones, clases y variables definidas en un módulo (from modulo import *) no es considerado una buena práctica en programación por varias razones:\n",
    "\n",
    "Espacio de nombres: Puede llevar a la contaminación del espacio de nombres local, ya que importa todos los nombres definidos en el módulo, lo que puede causar conflictos con nombres ya existentes en el archivo actual.\n",
    "Legibilidad: Hace más difícil saber qué funciones o clases se están utilizando en el código, y de dónde provienen, lo que reduce la legibilidad del código.\n",
    "Mantenimiento: Puede complicar el mantenimiento del código, ya que los cambios en los módulos importados pueden tener efectos secundarios inesperados si se utilizan nombres que no se esperaba que estuvieran presentes.\n",
    "Rendimiento: Aunque no siempre es significativo, importar todo puede tener un impacto en el rendimiento si el módulo es grande y solo se necesitan unas pocas funciones o clases.\n",
    "Por estas razones, es mejor importar solo los elementos específicos que necesitas o importar el módulo completo y usar su nombre para acceder a los elementos, lo que mejora la claridad y mantenimiento del código:\n",
    "\n",
    "\n",
    "from modulo import funcion_especifica, ClaseEspecifica\n",
    "# o\n",
    "import modulo\n",
    "resultado = modulo.funcion_especifica()"
   ]
  },
  {
   "cell_type": "code",
   "execution_count": null,
   "id": "19c0440f-9d75-45a0-b874-52ffed72c257",
   "metadata": {},
   "outputs": [],
   "source": []
  }
 ],
 "metadata": {
  "kernelspec": {
   "display_name": "Python 3 (ipykernel)",
   "language": "python",
   "name": "python3"
  },
  "language_info": {
   "codemirror_mode": {
    "name": "ipython",
    "version": 3
   },
   "file_extension": ".py",
   "mimetype": "text/x-python",
   "name": "python",
   "nbconvert_exporter": "python",
   "pygments_lexer": "ipython3",
   "version": "3.11.9"
  }
 },
 "nbformat": 4,
 "nbformat_minor": 5
}

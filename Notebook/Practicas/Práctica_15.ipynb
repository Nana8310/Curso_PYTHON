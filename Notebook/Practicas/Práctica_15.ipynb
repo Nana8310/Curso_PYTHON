{
 "cells": [
  {
   "cell_type": "markdown",
   "metadata": {},
   "source": [
    "Práctica 15\n",
    "\n",
    "1  Escriba un programa que genere el siguiente resultado a partir del ‘string’: Shenanigan\n",
    "- Sh                :     print(a[:2])              \n",
    "- an                :     print(a[4:6])          \n",
    "- enanigan          :     print(a[2:10])\n",
    "- Shenan            :     print(a[:6])\n",
    "- Saa               :     print(a[0:10:4])\n",
    "- Shenanigan        :     print(a[:10])\n",
    "- Seaia             :     print(a[0:11:2])\n",
    "- Snin              :     print(a[0:11:3])\n",
    "- ShenaniganType    :\n",
    "- ShenanWabbite     :"
   ]
  },
  {
   "cell_type": "code",
   "execution_count": 2,
   "metadata": {},
   "outputs": [
    {
     "name": "stdout",
     "output_type": "stream",
     "text": [
      "Sh\n"
     ]
    }
   ],
   "source": [
    "a = 'Shenanigan'\n",
    "print(a[:2])"
   ]
  },
  {
   "cell_type": "code",
   "execution_count": 4,
   "metadata": {},
   "outputs": [
    {
     "name": "stdout",
     "output_type": "stream",
     "text": [
      "an\n"
     ]
    }
   ],
   "source": [
    "print(a[4:6])"
   ]
  },
  {
   "cell_type": "code",
   "execution_count": 5,
   "metadata": {},
   "outputs": [
    {
     "name": "stdout",
     "output_type": "stream",
     "text": [
      "enanigan\n"
     ]
    }
   ],
   "source": [
    "print(a[2:10])"
   ]
  },
  {
   "cell_type": "code",
   "execution_count": 6,
   "metadata": {},
   "outputs": [
    {
     "name": "stdout",
     "output_type": "stream",
     "text": [
      "Shenan\n"
     ]
    }
   ],
   "source": [
    "print(a[:6])"
   ]
  },
  {
   "cell_type": "code",
   "execution_count": 8,
   "metadata": {},
   "outputs": [
    {
     "name": "stdout",
     "output_type": "stream",
     "text": [
      "Saa\n"
     ]
    }
   ],
   "source": [
    "print(a[0:10:4])"
   ]
  },
  {
   "cell_type": "code",
   "execution_count": 10,
   "metadata": {},
   "outputs": [
    {
     "name": "stdout",
     "output_type": "stream",
     "text": [
      "Seaia\n"
     ]
    }
   ],
   "source": [
    "print(a[0:11:2])"
   ]
  },
  {
   "cell_type": "code",
   "execution_count": 11,
   "metadata": {},
   "outputs": [
    {
     "name": "stdout",
     "output_type": "stream",
     "text": [
      "Snin\n"
     ]
    }
   ],
   "source": [
    "print(a[0:11:3])"
   ]
  },
  {
   "cell_type": "code",
   "execution_count": 13,
   "metadata": {},
   "outputs": [
    {
     "name": "stdout",
     "output_type": "stream",
     "text": [
      "Shenanigan\n"
     ]
    }
   ],
   "source": [
    "print(a[:10])"
   ]
  },
  {
   "cell_type": "code",
   "execution_count": 14,
   "metadata": {},
   "outputs": [
    {
     "data": {
      "text/plain": [
       "'ShenaniganType'"
      ]
     },
     "execution_count": 14,
     "metadata": {},
     "output_type": "execute_result"
    }
   ],
   "source": [
    "b = 'Shenanigan'\n",
    "c = 'Type'\n",
    "b + c"
   ]
  },
  {
   "cell_type": "code",
   "execution_count": 15,
   "metadata": {},
   "outputs": [
    {
     "data": {
      "text/plain": [
       "'ShenanWabbite'"
      ]
     },
     "execution_count": 15,
     "metadata": {},
     "output_type": "execute_result"
    }
   ],
   "source": [
    "d = 'Shenan'\n",
    "e = 'Wabbite'\n",
    "d + e"
   ]
  },
  {
   "cell_type": "markdown",
   "metadata": {},
   "source": [
    "2  Escriba un programa para convertir la siguiente cadena: ‘Visita la web noexiste.com para mayor información sobre programación’\n",
    " En esta: ‘Visita La Web Noexiste.com Para Mayor Información Sobre Programación’"
   ]
  },
  {
   "cell_type": "code",
   "execution_count": 16,
   "metadata": {},
   "outputs": [
    {
     "data": {
      "text/plain": [
       "'Visita La Web Noexiste.Com Para Mayor Información Sobre Programación'"
      ]
     },
     "execution_count": 16,
     "metadata": {},
     "output_type": "execute_result"
    }
   ],
   "source": [
    "proverb = 'Visita la web noexiste.com para mayor información sobre programación'\n",
    "proverb.title() "
   ]
  },
  {
   "cell_type": "markdown",
   "metadata": {},
   "source": [
    "3  Escriba un programa para convertir la siguiente cadena:‘Light travels faster than sound. This is why some people appear bright until you hear them speak’\n",
    " En esta: ‘LIGHT travels faster than SOUND. This is why some people appear bright until you hear them speak ’"
   ]
  },
  {
   "cell_type": "code",
   "execution_count": 17,
   "metadata": {},
   "outputs": [
    {
     "data": {
      "text/plain": [
       "'LIGHT travels faster than SOUND. This is why some people appear bright until you hear them speak'"
      ]
     },
     "execution_count": 17,
     "metadata": {},
     "output_type": "execute_result"
    }
   ],
   "source": [
    "proverb = 'Light travels faster than sound. This is why some people appear bright until you hear them speak'\n",
    "proverb.replace('Light', 'LIGHT' ).replace('sound', 'SOUND')"
   ]
  },
  {
   "cell_type": "markdown",
   "metadata": {},
   "source": [
    "4 ¿Cuál será la salida del siguiente programa? s = 'HumptyDumpty'\n",
    "- print('s =', s)       =  HumptyDumpty  \n",
    "- print(s.isalpha())    =  True    porque todos los caracteres son alfabéticos.\n",
    "- print(s.isdigit())    =  False   porque la cadena contiene letras además de números\n",
    "- print(s.isalnum())    =  True    porque la cadena contiene solo caracteres alfanuméricos.\n",
    "- print(s.islower())    =  False   porque la cadena contiene letras mayúsculas.\n",
    "- print(s.isupper())    =  False   porque la cadena no contiene caracteres en mayúsculas.\n",
    "- print(s.startswith('Hump')) = True   porque la cadena comienza con ‘Hump’.\n",
    "- print(s.endswith('Dump'))   = False  porque la cadena no termina con ‘Dump’.\n",
    "-\n"
   ]
  },
  {
   "cell_type": "code",
   "execution_count": 18,
   "metadata": {},
   "outputs": [
    {
     "name": "stdout",
     "output_type": "stream",
     "text": [
      "s = HumptyDumpty\n"
     ]
    }
   ],
   "source": [
    "s = 'HumptyDumpty'  # Asignamos la cadena a la variable s\n",
    "print('s =', s)     # Verifica si todos los caracteres son dígitos"
   ]
  },
  {
   "cell_type": "code",
   "execution_count": 19,
   "metadata": {},
   "outputs": [
    {
     "name": "stdout",
     "output_type": "stream",
     "text": [
      "True\n"
     ]
    }
   ],
   "source": [
    "print(s.isalpha())  # Verifica si todos los caracteres son alfabéticos"
   ]
  },
  {
   "cell_type": "code",
   "execution_count": 20,
   "metadata": {},
   "outputs": [
    {
     "name": "stdout",
     "output_type": "stream",
     "text": [
      "True\n"
     ]
    }
   ],
   "source": [
    "print(a.isalnum()) # Verifica si todos los caracteres son alfanuméricos"
   ]
  },
  {
   "cell_type": "code",
   "execution_count": 21,
   "metadata": {},
   "outputs": [
    {
     "name": "stdout",
     "output_type": "stream",
     "text": [
      "False\n"
     ]
    }
   ],
   "source": [
    "print(a.islower()) # Verifica si todos los caracteres están en minúsculas"
   ]
  },
  {
   "cell_type": "code",
   "execution_count": 24,
   "metadata": {},
   "outputs": [
    {
     "name": "stdout",
     "output_type": "stream",
     "text": [
      "False\n"
     ]
    }
   ],
   "source": [
    "print(a.isupper()) # Verifica si todos los caracteres están en mayúsculas"
   ]
  },
  {
   "cell_type": "code",
   "execution_count": 22,
   "metadata": {},
   "outputs": [
    {
     "name": "stdout",
     "output_type": "stream",
     "text": [
      "True\n"
     ]
    }
   ],
   "source": [
    "print(s.startswith('Hump')) # Verifica si la cadena comienza con 'Hump'"
   ]
  },
  {
   "cell_type": "code",
   "execution_count": 23,
   "metadata": {},
   "outputs": [
    {
     "name": "stdout",
     "output_type": "stream",
     "text": [
      "False\n"
     ]
    }
   ],
   "source": [
    "print(s.endswith('Dump')) # Verifica si la cadena termina con 'Dump'"
   ]
  },
  {
   "cell_type": "markdown",
   "metadata": {},
   "source": [
    " 5 Extraiga la subcadena:  'TraPoete' de la cadena 'ThreadProperties'"
   ]
  },
  {
   "cell_type": "code",
   "execution_count": 33,
   "metadata": {},
   "outputs": [
    {
     "name": "stdout",
     "output_type": "stream",
     "text": [
      "TraPoete\n"
     ]
    }
   ],
   "source": [
    "cadena_original = 'ThreadProperties'\n",
    "subcadena = cadena_original[0:15:2]  \n",
    "print(subcadena)"
   ]
  }
 ],
 "metadata": {
  "kernelspec": {
   "display_name": "Curso_Python",
   "language": "python",
   "name": "python3"
  },
  "language_info": {
   "codemirror_mode": {
    "name": "ipython",
    "version": 3
   },
   "file_extension": ".py",
   "mimetype": "text/x-python",
   "name": "python",
   "nbconvert_exporter": "python",
   "pygments_lexer": "ipython3",
   "version": "3.11.9"
  }
 },
 "nbformat": 4,
 "nbformat_minor": 2
}

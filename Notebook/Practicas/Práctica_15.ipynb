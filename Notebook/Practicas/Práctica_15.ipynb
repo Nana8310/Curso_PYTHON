{
 "cells": [
  {
   "cell_type": "markdown",
   "metadata": {},
   "source": [
    "Práctica 15\n",
    "\n",
    "1  Escriba un programa que genere el siguiente resultado a partir del ‘string’: Shenanigan\n",
    "- Sh                :     print(a[:2])              \n",
    "- an                :     print(a[4:6])          \n",
    "- enanigan          :     print(a[2:10])\n",
    "- Shenan            :     print(a[:6])\n",
    "- Saa               :     print(a[0:10:4])\n",
    "- Shenanigan        :     print(a[:10])\n",
    "- Seaia             :     print(a[0:11:2])\n",
    "- Snin              :     print(a[0:11:3])\n",
    "- ShenaniganType    :\n",
    "- ShenanWabbite     :"
   ]
  },
  {
   "cell_type": "code",
   "execution_count": 2,
   "metadata": {},
   "outputs": [
    {
     "name": "stdout",
     "output_type": "stream",
     "text": [
      "Sh\n"
     ]
    }
   ],
   "source": [
    "a = 'Shenanigan'\n",
    "print(a[:2])"
   ]
  },
  {
   "cell_type": "code",
   "execution_count": 4,
   "metadata": {},
   "outputs": [
    {
     "name": "stdout",
     "output_type": "stream",
     "text": [
      "an\n"
     ]
    }
   ],
   "source": [
    "print(a[4:6])"
   ]
  },
  {
   "cell_type": "code",
   "execution_count": 5,
   "metadata": {},
   "outputs": [
    {
     "name": "stdout",
     "output_type": "stream",
     "text": [
      "enanigan\n"
     ]
    }
   ],
   "source": [
    "print(a[2:10])"
   ]
  },
  {
   "cell_type": "code",
   "execution_count": 6,
   "metadata": {},
   "outputs": [
    {
     "name": "stdout",
     "output_type": "stream",
     "text": [
      "Shenan\n"
     ]
    }
   ],
   "source": [
    "print(a[:6])"
   ]
  },
  {
   "cell_type": "code",
   "execution_count": 8,
   "metadata": {},
   "outputs": [
    {
     "name": "stdout",
     "output_type": "stream",
     "text": [
      "Saa\n"
     ]
    }
   ],
   "source": [
    "print(a[0:10:4])"
   ]
  },
  {
   "cell_type": "code",
   "execution_count": 10,
   "metadata": {},
   "outputs": [
    {
     "name": "stdout",
     "output_type": "stream",
     "text": [
      "Seaia\n"
     ]
    }
   ],
   "source": [
    "print(a[0:11:2])"
   ]
  },
  {
   "cell_type": "code",
   "execution_count": 11,
   "metadata": {},
   "outputs": [
    {
     "name": "stdout",
     "output_type": "stream",
     "text": [
      "Snin\n"
     ]
    }
   ],
   "source": [
    "print(a[0:11:3])"
   ]
  },
  {
   "cell_type": "code",
   "execution_count": 13,
   "metadata": {},
   "outputs": [
    {
     "name": "stdout",
     "output_type": "stream",
     "text": [
      "Shenanigan\n"
     ]
    }
   ],
   "source": [
    "print(a[:10])"
   ]
  },
  {
   "cell_type": "code",
   "execution_count": 14,
   "metadata": {},
   "outputs": [
    {
     "data": {
      "text/plain": [
       "'ShenaniganType'"
      ]
     },
     "execution_count": 14,
     "metadata": {},
     "output_type": "execute_result"
    }
   ],
   "source": [
    "b = 'Shenanigan'\n",
    "c = 'Type'\n",
    "b + c"
   ]
  },
  {
   "cell_type": "code",
   "execution_count": 15,
   "metadata": {},
   "outputs": [
    {
     "data": {
      "text/plain": [
       "'ShenanWabbite'"
      ]
     },
     "execution_count": 15,
     "metadata": {},
     "output_type": "execute_result"
    }
   ],
   "source": [
    "d = 'Shenan'\n",
    "e = 'Wabbite'\n",
    "d + e"
   ]
  }
 ],
 "metadata": {
  "kernelspec": {
   "display_name": "Curso_Python",
   "language": "python",
   "name": "python3"
  },
  "language_info": {
   "codemirror_mode": {
    "name": "ipython",
    "version": 3
   },
   "file_extension": ".py",
   "mimetype": "text/x-python",
   "name": "python",
   "nbconvert_exporter": "python",
   "pygments_lexer": "ipython3",
   "version": "3.11.9"
  }
 },
 "nbformat": 4,
 "nbformat_minor": 2
}

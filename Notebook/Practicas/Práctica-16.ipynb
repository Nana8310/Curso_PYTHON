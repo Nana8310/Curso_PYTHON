{
 "cells": [
  {
   "cell_type": "code",
   "execution_count": null,
   "metadata": {},
   "outputs": [],
   "source": [
    "1 Desarrolle un programa que le pregunte al usuario por la edad y que luego imprima en pantalla si dicho usuario es menor  o mayor de edad."
   ]
  },
  {
   "cell_type": "code",
   "execution_count": 13,
   "metadata": {},
   "outputs": [
    {
     "name": "stdout",
     "output_type": "stream",
     "text": [
      "Mi edad es:20 \n",
      "Es mayor de edad\n",
      "Gracias\n"
     ]
    }
   ],
   "source": [
    "edad = int(input('¿Cual es tu edad?'))\n",
    "print(f'Mi edad es:{edad} ') \n",
    "if edad >= 18:\n",
    "     print('Es mayor de edad') \n",
    "else: \n",
    "     print('Es menor de edad')\n",
    "print('Gracias')       "
   ]
  },
  {
   "cell_type": "markdown",
   "metadata": {},
   "source": [
    "2 Escribir un programa que pida al usuario un número entero y que luego imprima en pantalla si dicho número es o no divisible entre 2."
   ]
  },
  {
   "cell_type": "code",
   "execution_count": 17,
   "metadata": {},
   "outputs": [
    {
     "name": "stdout",
     "output_type": "stream",
     "text": [
      "El número 3 no es divisible entre 2.\n",
      "¡Gracias por usar el programa!\n"
     ]
    }
   ],
   "source": [
    "numero = int(input('Ingresa un número entero: '))\n",
    "\n",
    "if numero % 2 == 0:\n",
    "    print(f'El número {numero} es divisible entre 2.')\n",
    "else:\n",
    "    print(f'El número {numero} no es divisible entre 2.')\n",
    "\n",
    "print('¡Gracias por usar el programa!')"
   ]
  },
  {
   "cell_type": "markdown",
   "metadata": {},
   "source": [
    "3 Escriba un programa que pida al usuario dos números enteros y que calcule su división, indicando si la división es exacta o no.\n"
   ]
  },
  {
   "cell_type": "code",
   "execution_count": 19,
   "metadata": {},
   "outputs": [
    {
     "name": "stdout",
     "output_type": "stream",
     "text": [
      "La división entre 7 y 6 no es exacta.\n",
      "¡Gracias por usar el programa!\n"
     ]
    }
   ],
   "source": [
    "# Solicitar al usuario dos números enteros\n",
    "numero1 = int(input('Ingresa el primer número entero: '))\n",
    "numero2 = int(input('Ingresa el segundo número entero: '))\n",
    "\n",
    "# Calcular la división\n",
    "resultado = numero1 / numero2\n",
    "\n",
    "if resultado.is_integer():\n",
    "    print(f'La división entre {numero1} y {numero2} es exacta.')\n",
    "else:\n",
    "    print(f'La división entre {numero1} y {numero2} no es exacta.')\n",
    "\n",
    "print('¡Gracias por usar el programa!')  \n",
    "   \n",
    "    "
   ]
  },
  {
   "cell_type": "markdown",
   "metadata": {},
   "source": []
  }
 ],
 "metadata": {
  "kernelspec": {
   "display_name": "Curso_Python",
   "language": "python",
   "name": "python3"
  },
  "language_info": {
   "codemirror_mode": {
    "name": "ipython",
    "version": 3
   },
   "file_extension": ".py",
   "mimetype": "text/x-python",
   "name": "python",
   "nbconvert_exporter": "python",
   "pygments_lexer": "ipython3",
   "version": "3.11.9"
  }
 },
 "nbformat": 4,
 "nbformat_minor": 2
}

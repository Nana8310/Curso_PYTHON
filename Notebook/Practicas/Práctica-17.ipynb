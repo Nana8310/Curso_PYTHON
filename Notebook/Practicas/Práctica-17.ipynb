{
 "cells": [
  {
   "cell_type": "markdown",
   "metadata": {},
   "source": [
    "1. Escribe expresiones condicionales para\n",
    "- If a < 10 b = 20, else b = 30\n",
    "- Print 'Morning' if time < 12, otherwise print 'Afternnon'\n",
    "- If mark >= 70. set remarks to True, otherwise False"
   ]
  },
  {
   "cell_type": "markdown",
   "metadata": {},
   "source": [
    "If a < 10 b = 20, else b = 30"
   ]
  },
  {
   "cell_type": "code",
   "execution_count": 34,
   "metadata": {},
   "outputs": [
    {
     "name": "stdout",
     "output_type": "stream",
     "text": [
      "El valor de b es: 30\n",
      "Gracias\n"
     ]
    }
   ],
   "source": [
    "a = int(input('introduce un número'))\n",
    "b = 20 \n",
    "\n",
    "if a < 10:\n",
    "    print(b) \n",
    "else: \n",
    "   b = 30\n",
    "   print(f\"El valor de b es: {b}\")\n",
    "print (f'Gracias')   "
   ]
  },
  {
   "cell_type": "markdown",
   "metadata": {},
   "source": [
    "Print 'Morning' if time < 12, otherwise print 'Afternnon'"
   ]
  },
  {
   "cell_type": "code",
   "execution_count": 3,
   "metadata": {},
   "outputs": [
    {
     "name": "stdout",
     "output_type": "stream",
     "text": [
      "Afternoon\n"
     ]
    }
   ],
   "source": [
    "hora = float(input('introduce una hora'))\n",
    "\n",
    "if hora < 12:\n",
    "    print(\"Morning\")\n",
    "else:\n",
    "    print(\"Afternoon\")"
   ]
  },
  {
   "cell_type": "markdown",
   "metadata": {},
   "source": [
    "If mark >= 70. set remarks to True, otherwise False"
   ]
  },
  {
   "cell_type": "code",
   "execution_count": 16,
   "metadata": {},
   "outputs": [
    {
     "name": "stdout",
     "output_type": "stream",
     "text": [
      "TRUE\n",
      "VERY GOOD\n"
     ]
    }
   ],
   "source": [
    "mark = int(input('Introduzca valor de la marca'))\n",
    "\n",
    "if mark >= 70:\n",
    "    print('TRUE')\n",
    "    print('VERY GOOD')\n",
    "else:\n",
    "    print('FALSE')\n",
    "    print('TOO BAD')     \n",
    "              \n",
    "        \n",
    "   "
   ]
  },
  {
   "cell_type": "markdown",
   "metadata": {},
   "source": [
    "2. Vuelva a escribir el siguiente fragmento de código en 2 líneas:\n",
    "  x = 3\n",
    "  y = 3.0\n",
    "  if x == y\n",
    "     print('x and y are aqual')\n",
    "  else:\n",
    "     print (x and y are not aqual')     \n",
    "\n",
    "RTA : \n",
    "x, y = 3, 3.0\n",
    "print('x and y are equal' if x == y else 'x and y are not equal')"
   ]
  },
  {
   "cell_type": "code",
   "execution_count": 22,
   "metadata": {},
   "outputs": [
    {
     "name": "stdout",
     "output_type": "stream",
     "text": [
      "x and y are equal\n"
     ]
    }
   ],
   "source": [
    "x, y = 3, 3.0\n",
    "print('x and y are equal' if x == y else 'x and y are not equal')"
   ]
  },
  {
   "cell_type": "markdown",
   "metadata": {},
   "source": [
    "3. ¿Cuál será el resultado de los siguientes programas?. Explicar en una celda de texto o en \n",
    "comentario que hace cada código:\n",
    "i, j, k = 4, -1, 0\n",
    "w = i or j or k     = 4\n",
    "x = i and j and k   = 0\n",
    "y = i or j and k    = 4\n",
    "z = i and j or k    = -1\n",
    "print(w,x,y,z)      = 404-1"
   ]
  },
  {
   "cell_type": "markdown",
   "metadata": {},
   "source": [
    "Se evalúa la expresión\n",
    "w = i or j or k\n",
    "\n",
    "Primero, evalúa i. Si i es verdadero (es decir, no es cero), devuelve el valor de i. En este caso, i es 4, que es verdadero, por lo que w se establece en 4.\n",
    "Si i es falso (es decir, es cero), evalúa j. Si j es verdadero, devuelve el valor de j. En este caso, j es -1, que también es verdadero, por lo que w permanece en 4.\n",
    "Si tanto i como j son falsos, evalúa k. Como k es 0, que es falso, no se cambia el valor de w.\n",
    "En resumen, w se establece en 4 porque i es verdadero. El operador “or” devuelve el primer valor verdadero que encuentra en la cadena de condiciones. ¡Así que en este caso, w es igual a 4"
   ]
  },
  {
   "cell_type": "code",
   "execution_count": 48,
   "metadata": {},
   "outputs": [
    {
     "name": "stdout",
     "output_type": "stream",
     "text": [
      "4\n"
     ]
    }
   ],
   "source": [
    "i =  4\n",
    "j = -1 \n",
    "k =  0\n",
    "\n",
    "w = i or j or k\n",
    "print(w)\n"
   ]
  },
  {
   "cell_type": "markdown",
   "metadata": {},
   "source": [
    "Se evalúa la expresión \n",
    "x = i and j and k:\n",
    "\n",
    "and (y en español) se utiliza para verificar si todos los valores son verdaderos.\n",
    "i and j se evalúa primero. Como ambos valores son diferentes de cero, esta parte es verdadera y devuelve el valor de j (que es -1).\n",
    "Luego, se evalúa -1 and k. Como uno de los valores es cero, esta parte es falsa y devuelve el valor de k (que es 0).\n",
    "Por lo tanto, x se establece en el valor de k, que es 0."
   ]
  },
  {
   "cell_type": "code",
   "execution_count": 46,
   "metadata": {},
   "outputs": [
    {
     "name": "stdout",
     "output_type": "stream",
     "text": [
      "0\n"
     ]
    }
   ],
   "source": [
    "x = i and j and k\n",
    "print(x)"
   ]
  },
  {
   "cell_type": "markdown",
   "metadata": {},
   "source": [
    "Se evalúa la expresión\n",
    "x = i and j and k\n",
    "\n",
    "Precedencia de Operadores: En Python, el operador “and” tiene mayor precedencia que “or”. Esto significa que primero se evalúa j and k, y luego el resultado se evalúa con i usando el operador “or”.\n",
    "Evaluación de j and k:\n",
    "j es -1, que es un valor verdadero.\n",
    "k es 0, que es un valor falso.\n",
    "j and k devuelve el primer valor falso que encuentra o el último valor si todos son verdaderos. En este caso, devuelve 0 porque k es falso.\n",
    "Evaluación de i or (j and k):\n",
    "Ahora se evalúa i or 0.\n",
    "i es 4, que es un valor verdadero.\n",
    "El operador “or” devuelve el primer valor verdadero que encuentra. Por lo tanto, devuelve 4.\n",
    "Por lo tanto, y se establece en 4 porque i es verdadero y se evalúa antes que j and k debido a la precedencia de operadores. ¡Así que y es igual a 4!"
   ]
  },
  {
   "cell_type": "code",
   "execution_count": 47,
   "metadata": {},
   "outputs": [
    {
     "name": "stdout",
     "output_type": "stream",
     "text": [
      "4\n"
     ]
    }
   ],
   "source": [
    "y = i or j and k    \n",
    "print(y)"
   ]
  },
  {
   "cell_type": "markdown",
   "metadata": {},
   "source": [
    "Se evalúa la expresión\n",
    "z = i and j or k\n",
    "\n",
    "i and j: La operación and verifica si ambos valores son verdaderos. En Python, cualquier número que no sea cero se considera verdadero. Por lo tanto, tanto i (que es 4) como j (que es -1) son verdaderos. Cuando usamos and, si el primer valor es verdadero, Python evalúa y devuelve el segundo valor. Así que i and j devuelve -1.\n",
    "-1 or k: Ahora tenemos el resultado de la operación anterior, que es -1, y lo comparamos con k usando el operador or. El operador or devuelve el primer valor verdadero que encuentra. Como -1 es verdadero (porque no es cero), no necesita evaluar k; devuelve -1 directamente.\n",
    "Por lo tanto, la expresión completa i and j or k devuelve -1 porque la primera parte (i and j) es verdadera y devuelve -1, y luego -1 or k también devuelve -1 ya que -1 es verdadero."
   ]
  },
  {
   "cell_type": "code",
   "execution_count": 44,
   "metadata": {},
   "outputs": [
    {
     "name": "stdout",
     "output_type": "stream",
     "text": [
      "-1\n"
     ]
    }
   ],
   "source": [
    "z = i and j or k\n",
    "print(z)"
   ]
  },
  {
   "cell_type": "markdown",
   "metadata": {},
   "source": [
    "Es el resumen, los valores obtenidos anteriormente"
   ]
  },
  {
   "cell_type": "code",
   "execution_count": 39,
   "metadata": {},
   "outputs": [
    {
     "name": "stdout",
     "output_type": "stream",
     "text": [
      "0 0 4 -1\n"
     ]
    }
   ],
   "source": [
    "print(w,x,y,z)"
   ]
  },
  {
   "cell_type": "markdown",
   "metadata": {},
   "source": [
    "Parte b del ejercicio\n",
    "\n",
    "a = 10\n",
    "a = not not a\n",
    "print(a)"
   ]
  },
  {
   "cell_type": "markdown",
   "metadata": {},
   "source": [
    "Primer “not”: Imagina que a es como un interruptor de luz. Si el interruptor está encendido (representado por 10, que es verdadero), aplicar not sería como apagarlo. Entonces, not a sería apagar el interruptor, lo que nos da False.\n",
    "Segundo “not”: Ahora, imagina que tenemos otro interruptor llamado “not not”. Si aplicamos este interruptor a False, sería como encenderlo dos veces. Al hacerlo, volvemos al estado original, que es encendido o True.\n",
    "En resumen, not not a es como encender y apagar el interruptor dos veces, y eso nos da True. Así que, en Python, not not a es igual a True."
   ]
  },
  {
   "cell_type": "code",
   "execution_count": 49,
   "metadata": {},
   "outputs": [
    {
     "name": "stdout",
     "output_type": "stream",
     "text": [
      "True\n"
     ]
    }
   ],
   "source": [
    "a = 10\n",
    "a = not not a\n",
    "print(a) "
   ]
  },
  {
   "cell_type": "markdown",
   "metadata": {},
   "source": [
    "Parte c\n",
    "\n",
    "x,y,z =20,40,45\n",
    "if x > y and x > z:\n",
    "  print ('biggest = '+ str(x))\n",
    "elif y > x and y > z:\n",
    "  print ('biggest = '+ str(y))\n",
    "elif z > x and z > y :\n",
    "  print ('biggest = 'str(z))    "
   ]
  },
  {
   "cell_type": "code",
   "execution_count": 51,
   "metadata": {},
   "outputs": [
    {
     "name": "stdout",
     "output_type": "stream",
     "text": [
      "biggest = 45\n"
     ]
    }
   ],
   "source": [
    "x,y,z =20,40,45\n",
    "if x > y and x > z:\n",
    "  print ('biggest = '+ str(x))\n",
    "elif y > x and y > z:\n",
    "  print ('biggest = '+ str(y))\n",
    "elif z > x and z > y :\n",
    "  print ('biggest = '+ str(z))    "
   ]
  },
  {
   "cell_type": "code",
   "execution_count": 52,
   "metadata": {},
   "outputs": [
    {
     "name": "stdout",
     "output_type": "stream",
     "text": [
      "500\n"
     ]
    }
   ],
   "source": [
    "num = 30\n",
    "k = 100 if num <= 10 else 500\n",
    "print(k)"
   ]
  },
  {
   "cell_type": "code",
   "execution_count": 57,
   "metadata": {},
   "outputs": [
    {
     "name": "stdout",
     "output_type": "stream",
     "text": [
      "Hello\n"
     ]
    }
   ],
   "source": [
    "a = 10\n",
    "b = 21\n",
    "if a and b > 20:\n",
    "   print('Hello')\n",
    "else:\n",
    "    print('Hi')    \n"
   ]
  },
  {
   "cell_type": "code",
   "execution_count": 64,
   "metadata": {},
   "outputs": [
    {
     "name": "stdout",
     "output_type": "stream",
     "text": [
      "Hi\n"
     ]
    }
   ],
   "source": [
    "a = 25\n",
    "\n",
    "if a == 30 or a == 40 or a == 60:\n",
    "    print('Hello')\n",
    "else:\n",
    "    print('Hi')\n"
   ]
  },
  {
   "cell_type": "code",
   "execution_count": 68,
   "metadata": {},
   "outputs": [
    {
     "name": "stdout",
     "output_type": "stream",
     "text": [
      "Hi\n"
     ]
    }
   ],
   "source": [
    "a = 10\n",
    "\n",
    "if a in (30, 40, 50) :\n",
    "     print('Hello')\n",
    "else:\n",
    "    print('Hi')"
   ]
  },
  {
   "cell_type": "markdown",
   "metadata": {},
   "source": [
    "4. Señala los errores, si los hay, en los siguientes programas:\n",
    "\n",
    "\n"
   ]
  },
  {
   "cell_type": "code",
   "execution_count": 72,
   "metadata": {},
   "outputs": [],
   "source": [
    "a = 12.25\n",
    "b = 12.52\n",
    "\n",
    "if a = b :\n",
    "   print('a and b are equal')    "
   ]
  },
  {
   "cell_type": "markdown",
   "metadata": {},
   "source": [
    "falta otro igual para realizar la comparacion debe ser dos iguales == de lo contrario con uno solo esta dando asignación "
   ]
  },
  {
   "cell_type": "code",
   "execution_count": null,
   "metadata": {},
   "outputs": [],
   "source": [
    "if ord(x) < ord ('x')\n",
    "  print('Unicode value of X is smaller than that of x ') "
   ]
  },
  {
   "cell_type": "markdown",
   "metadata": {},
   "source": [
    "errores \n",
    "\n",
    "Asignación de ‘x’: Necesitas asignar un valor a la variable x antes de poder usarla en la función ord(). En este caso, he asignado el carácter 'X' a x.\n",
    "Indentación: Python utiliza la indentación para definir bloques de código. La línea que sigue a la declaración if debe estar indentada para indicar que es parte del bloque de código que se ejecuta si la condición es verdadera.\n",
    "Función ord(): La función ord() devuelve el valor Unicode de un carácter. Por ejemplo, ord('X') devuelve 88 y ord('x') devuelve 120."
   ]
  },
  {
   "cell_type": "code",
   "execution_count": null,
   "metadata": {},
   "outputs": [],
   "source": [
    "x = 10\n",
    "if x> =2 then\n",
    "   print('x')"
   ]
  },
  {
   "cell_type": "markdown",
   "metadata": {},
   "source": [
    "Uso de “then”: En Python, no se utiliza la palabra “then” después de una condición if"
   ]
  },
  {
   "cell_type": "code",
   "execution_count": null,
   "metadata": {},
   "outputs": [],
   "source": [
    "x = 10 ; y = 15\n",
    "if x % 2 = y % 3\n",
    "  print('Carpathians\\n')    "
   ]
  },
  {
   "cell_type": "markdown",
   "metadata": {},
   "source": [
    "Comparación con el operador ==: Para verificar si dos valores son iguales, debemos usar el operador de comparación ==, no el operador de asignación ="
   ]
  },
  {
   "cell_type": "code",
   "execution_count": null,
   "metadata": {},
   "outputs": [],
   "source": [
    "x, y = 30, 40\n",
    "if x == y\n",
    "  print('x is equal to y')\n",
    "elseif x > y :\n",
    "  print('x is greater than y')\n",
    "elseif x<y:\n",
    "  print('x is less than y')   "
   ]
  },
  {
   "cell_type": "markdown",
   "metadata": {},
   "source": [
    "utilizando la palabra incorrecta para la declaración de “else if”. En Python, la sintaxis correcta para manejar múltiples condiciones es usar elif en lugar de elseif"
   ]
  },
  {
   "cell_type": "markdown",
   "metadata": {},
   "source": [
    "5. If a = 10, b = 12, c = 0, encuentra los valores de las siguientes expresiones : \n"
   ]
  },
  {
   "cell_type": "code",
   "execution_count": 76,
   "metadata": {},
   "outputs": [
    {
     "data": {
      "text/plain": [
       "True"
      ]
     },
     "execution_count": 76,
     "metadata": {},
     "output_type": "execute_result"
    }
   ],
   "source": [
    "a = 10 \n",
    "b = 12 \n",
    "c = 0  \n",
    "\n",
    "a != 6 and b > 5"
   ]
  },
  {
   "cell_type": "code",
   "execution_count": 77,
   "metadata": {},
   "outputs": [
    {
     "data": {
      "text/plain": [
       "False"
      ]
     },
     "execution_count": 77,
     "metadata": {},
     "output_type": "execute_result"
    }
   ],
   "source": [
    "a == 9 or b < 3"
   ]
  },
  {
   "cell_type": "code",
   "execution_count": 78,
   "metadata": {},
   "outputs": [
    {
     "data": {
      "text/plain": [
       "True"
      ]
     },
     "execution_count": 78,
     "metadata": {},
     "output_type": "execute_result"
    }
   ],
   "source": [
    "not ( a < 10)"
   ]
  },
  {
   "cell_type": "code",
   "execution_count": 79,
   "metadata": {},
   "outputs": [
    {
     "data": {
      "text/plain": [
       "True"
      ]
     },
     "execution_count": 79,
     "metadata": {},
     "output_type": "execute_result"
    }
   ],
   "source": [
    "not(a > 5 and c)"
   ]
  },
  {
   "cell_type": "code",
   "execution_count": 80,
   "metadata": {},
   "outputs": [
    {
     "data": {
      "text/plain": [
       "True"
      ]
     },
     "execution_count": 80,
     "metadata": {},
     "output_type": "execute_result"
    }
   ],
   "source": [
    "5 and c != 8 or c"
   ]
  },
  {
   "cell_type": "markdown",
   "metadata": {},
   "source": [
    "6. Programe lo siguiente:"
   ]
  },
  {
   "cell_type": "code",
   "execution_count": null,
   "metadata": {},
   "outputs": [],
   "source": [
    " a. Cualquier número entero se ingresa a través del teclado. Escribe un programa para averiguar si es un \n",
    "número par o impar"
   ]
  },
  {
   "cell_type": "code",
   "execution_count": 82,
   "metadata": {},
   "outputs": [
    {
     "name": "stdout",
     "output_type": "stream",
     "text": [
      "El número 5 es impar.\n"
     ]
    }
   ],
   "source": [
    "numero = int(input(\"Ingresa un número entero: \"))\n",
    "if numero % 2 == 0:\n",
    "    print(f\"El número {numero} es par.\")\n",
    "else:\n",
    "    print(f\"El número {numero} es impar.\")\n"
   ]
  },
  {
   "cell_type": "markdown",
   "metadata": {},
   "source": [
    "b. Si las edades de Sara, Sofía y Ana se ingresan a través del teclado, escriba un programa para determinar \n",
    "el más joven de las tres."
   ]
  },
  {
   "cell_type": "code",
   "execution_count": 83,
   "metadata": {},
   "outputs": [
    {
     "name": "stdout",
     "output_type": "stream",
     "text": [
      "Ana es la más joven.\n"
     ]
    }
   ],
   "source": [
    "sara = int(input(\"Ingresa la edad de Sara: \"))\n",
    "sofia = int(input(\"Ingresa la edad de Sofía: \"))\n",
    "ana = int(input(\"Ingresa la edad de Ana: \"))\n",
    "\n",
    "if sara < sofia and sara < ana:\n",
    "    print(\"Sara es la más joven.\")\n",
    "elif sofia < sara and sofia < ana:\n",
    "    print(\"Sofía es la más joven.\")\n",
    "else:\n",
    "    print(\"Ana es la más joven.\")"
   ]
  },
  {
   "cell_type": "markdown",
   "metadata": {},
   "source": [
    "c. Dado un punto (x, y), escriba un programa para averiguar si se encuentra en el eje X, el eje Y o en el origen del plano\n",
    " caretsiano"
   ]
  },
  {
   "cell_type": "code",
   "execution_count": 86,
   "metadata": {},
   "outputs": [
    {
     "name": "stdout",
     "output_type": "stream",
     "text": [
      "El punto está en el eje Y (0, 4.0).\n"
     ]
    }
   ],
   "source": [
    "# Solicitar al usuario que ingrese las coordenadas (x, y)\n",
    "x = float(input(\"Ingresa la coordenada x: \"))\n",
    "y = float(input(\"Ingresa la coordenada y: \"))\n",
    "\n",
    "# Verificar la posición del punto\n",
    "if x == 0 and y == 0:\n",
    "    print(\"El punto está en el origen (0, 0).\")\n",
    "elif x == 0:\n",
    "    print(f\"El punto está en el eje Y (0, {y}).\")\n",
    "elif y == 0:\n",
    "    print(f\"El punto está en el eje X ({x}, 0).\")\n",
    "else:\n",
    "    print(f\"El punto ({x}, {y}) no está en ningún eje.\")"
   ]
  },
  {
   "cell_type": "markdown",
   "metadata": {},
   "source": [
    "7. Años de perro\n",
    "Comúnmente se dice que un año humano equivale a 7 años caninos. Escriba un programa que \n",
    "implemente la conversión de años humanos a años caninos"
   ]
  },
  {
   "cell_type": "code",
   "execution_count": 87,
   "metadata": {},
   "outputs": [
    {
     "name": "stdout",
     "output_type": "stream",
     "text": [
      "2 años humanos equivalen a 14 años caninos.\n"
     ]
    }
   ],
   "source": [
    "edad_humanos = int(input(\"Ingresa la edad en años humanos: \"))\n",
    "edad_caninos = edad_humanos * 7\n",
    "print(f\"{edad_humanos} años humanos equivalen a {edad_caninos} años caninos.\")"
   ]
  },
  {
   "attachments": {
    "image.png": {
     "image/png": "[encoded data removed]"
    }
   },
   "cell_type": "markdown",
   "metadata": {},
   "source": [
    "8. Niveles de sonido\n",
    "La siguiente tabla enumera el nivel de sonido en decibelios para varios ruidos comunes.\n",
    " Escriba un programa que lea un nivel de sonido en decibelios del usuario. Si el usuario ingresa un nivel de decibelios que \n",
    "coincide con uno de los ruidos en la tabla, entonces su programa debería mostrar un mensaje que contenga solo ese \n",
    "ruido. Si el usuario ingresa una cantidad de decibelios entre los ruidos enumerados, su programa debería mostrar un \n",
    "mensaje que indique entre qué ruidos se encuentra el valor. Asegúrese de que su programa también genere una salida \n",
    "razonable para un valor menor que el ruido más bajo de la tabla y para un valor mayor que el ruido más alto de la tabla.\n",
    "\n",
    "\n",
    "\n",
    "![image.png](attachment:image.png)\n"
   ]
  },
  {
   "cell_type": "code",
   "execution_count": 89,
   "metadata": {},
   "outputs": [
    {
     "name": "stdout",
     "output_type": "stream",
     "text": [
      "Estás en un nivel más bajo que el ruido más suave (Quiet Room).\n"
     ]
    }
   ],
   "source": [
    "nivel_decibelios = float(input(\"Ingresa un nivel de sonido en decibelios: \"))\n",
    "if nivel_decibelios == 130:\n",
    "    print(\"Estás en el nivel de un Jackhammer.\")\n",
    "elif nivel_decibelios == 106:\n",
    "    print(\"Estás en el nivel de un Gas Lawnmower.\")\n",
    "elif nivel_decibelios == 70:\n",
    "    print(\"Estás en el nivel de un Alarm Clock.\")\n",
    "elif nivel_decibelios == 40:\n",
    "    print(\"Estás en el nivel de una Quiet Room.\")\n",
    "elif nivel_decibelios < 40:\n",
    "    print(\"Estás en un nivel más bajo que el ruido más suave (Quiet Room).\")\n",
    "else:\n",
    "    print(\"Estás en un nivel más alto que el ruido más fuerte (Jackhammer).\")"
   ]
  }
 ],
 "metadata": {
  "kernelspec": {
   "display_name": "Curso_Python",
   "language": "python",
   "name": "python3"
  },
  "language_info": {
   "codemirror_mode": {
    "name": "ipython",
    "version": 3
   },
   "file_extension": ".py",
   "mimetype": "text/x-python",
   "name": "python",
   "nbconvert_exporter": "python",
   "pygments_lexer": "ipython3",
   "version": "3.11.9"
  }
 },
 "nbformat": 4,
 "nbformat_minor": 2
}

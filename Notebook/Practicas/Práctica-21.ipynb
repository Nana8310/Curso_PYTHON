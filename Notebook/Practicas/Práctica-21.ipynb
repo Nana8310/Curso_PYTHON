{
 "cells": [
  {
   "cell_type": "markdown",
   "metadata": {},
   "source": [
    "Práctica 21 : Tuplas\n",
    "\n",
    "1. crea una tupla con números enteros con algunos de ellos repetidos, pide un número por teclado e indica cuantas veces se repite si estuvise en al tupla. "
   ]
  },
  {
   "cell_type": "code",
   "execution_count": 2,
   "metadata": {},
   "outputs": [
    {
     "name": "stdout",
     "output_type": "stream",
     "text": [
      " El número 5 se repite 2 veces en la tupla. \n"
     ]
    }
   ],
   "source": [
    "tupla_numeros = (1, 2, 3, 4, 5, 6, 7, 5, 7, 4) # se crea la tupla  \n",
    "\n",
    "numero_ingresado = int(input(\"Ingrese el numero entero\")) #Pedimos al usuario un número entero\n",
    "\n",
    "repeticiones = tupla_numeros.count(numero_ingresado) # Contamos cuántas veces se repite el número de la tupla\n",
    "\n",
    "if repeticiones > 0 :\n",
    "    print(f\" El número {numero_ingresado} se repite {repeticiones} veces en la tupla. \")\n",
    "else:\n",
    "    print(f\"El {numero_ingresado}no esta en la tupla\")\n",
    "\n"
   ]
  },
  {
   "cell_type": "markdown",
   "metadata": {},
   "source": [
    "2. Crea una tupla con número e indica e indica el número con mayor valor y el que menor tenga"
   ]
  },
  {
   "cell_type": "code",
   "execution_count": 5,
   "metadata": {},
   "outputs": [
    {
     "name": "stdout",
     "output_type": "stream",
     "text": [
      "El número mayor de la dupla es: 55 \n",
      "El número menor de la dupla es: 2 \n"
     ]
    }
   ],
   "source": [
    "tupla_numeros = (15, 2, 7, 10, 8, 55 ) # Se crea tupla\n",
    "numero_mayor =  max(tupla_numeros)\n",
    "numero_menor =  min(tupla_numeros)\n",
    "\n",
    "print(f\"El número mayor de la dupla es: { numero_mayor } \")\n",
    "print(f\"El número menor de la dupla es: { numero_menor } \")\n"
   ]
  },
  {
   "cell_type": "markdown",
   "metadata": {},
   "source": [
    "3. Crea una tupla con valores ya predefinidos del 1 al 10, pide un indice por teclado y muetsra los valores de la tupla"
   ]
  },
  {
   "cell_type": "code",
   "execution_count": 14,
   "metadata": {},
   "outputs": [
    {
     "name": "stdout",
     "output_type": "stream",
     "text": [
      "El valor en el índice 5 es: 6\n"
     ]
    }
   ],
   "source": [
    "tupla_numeros = (1, 2, 3, 4, 5, 6, 7, 8, 9,10) # Creamos un tupla del 1 al 10\n",
    "\n",
    "indice = int(input(\"Introduce un indice del 0  y  9: \")) # pedimos al usuario que ingrese un indice\n",
    "\n",
    "if 0 <= indice <= 9:  #verificamos que el indice este dentro del rango \n",
    "    \n",
    "    print(f\"El valor en el índice {indice} es: {tupla_numeros[indice]}\")   #mostramos del valor del indice en la tupla\n",
    "else:\n",
    "    print(\"Índice fuera de rango.\")\n",
    "\n",
    "\n",
    "\n"
   ]
  },
  {
   "cell_type": "markdown",
   "metadata": {},
   "source": [
    "4. Escribir un codigo donde se pida al usuario almacenar en una tupla el día. mes y el año(todos en formato entero) y luego que imprima dicha fecha en el formato  \"03/07/2023\". "
   ]
  },
  {
   "cell_type": "code",
   "execution_count": 1,
   "metadata": {},
   "outputs": [
    {
     "name": "stdout",
     "output_type": "stream",
     "text": [
      "La fecha es: 12/06/2024\n"
     ]
    }
   ],
   "source": [
    "# Pedimos al usuario que ingrese el día, mes y año\n",
    "dia = int(input(\"Ingresa el día (formato entero): \"))\n",
    "mes = int(input(\"Ingresa el mes (formato entero): \"))\n",
    "año = int(input(\"Ingresa el año (formato entero): \"))\n",
    "\n",
    "# Almacenamos los valores en una tupla\n",
    "fecha_tupla = (dia, mes, año)\n",
    "\n",
    "# Imprimimos la fecha en el formato deseado\n",
    "print(\"La fecha es: {:02d}/{:02d}/{:04d}\".format(fecha_tupla[0], fecha_tupla[1], fecha_tupla[2]))"
   ]
  },
  {
   "cell_type": "markdown",
   "metadata": {},
   "source": [
    "5. Definir una tupla con tres valores enteros. Convertir el contenido de la tupla a tipo lista y luego convertir la lista en tupla  "
   ]
  },
  {
   "cell_type": "code",
   "execution_count": 7,
   "metadata": {},
   "outputs": [
    {
     "name": "stdout",
     "output_type": "stream",
     "text": [
      "Contenido de la tupla convertido a lista: [1, 10, 20]\n",
      "Contenido de la lista convertido de nuevo a tupla: (1, 10, 20)\n"
     ]
    }
   ],
   "source": [
    "tupla_enteros = (1,10,20) # Definimos una tupla con tres valores enteros\n",
    "\n",
    "lista_enteros = list(tupla_enteros)\n",
    "print(f\"Contenido de la tupla convertido a lista: {lista_enteros}\") # Convertimos la tupla en una lista\n",
    "\n",
    "tupla_convertida = tuple(lista_enteros)                      # Convertimos la lista de vuelta en una tupla\n",
    "print(f\"Contenido de la lista convertido de nuevo a tupla: {tupla_convertida}\")"
   ]
  },
  {
   "cell_type": "markdown",
   "metadata": {},
   "source": [
    "6. Crear una tupla y luego imprimirla en orden inverso en otra variable o en otra tupla"
   ]
  },
  {
   "cell_type": "code",
   "execution_count": 11,
   "metadata": {},
   "outputs": [
    {
     "name": "stdout",
     "output_type": "stream",
     "text": [
      "('pepe', 'carlos', 'ana')\n"
     ]
    }
   ],
   "source": [
    "# Creamos una tupla con los nombres\n",
    "tupla = ('ana', 'carlos', 'pepe')\n",
    "\n",
    "# Imprimimos la tupla en orden inverso\n",
    "tupla_inversa = tupla[::-1]\n",
    "print(tupla_inversa)"
   ]
  },
  {
   "cell_type": "markdown",
   "metadata": {},
   "source": [
    "7. Dada la tupla\n",
    "   tuple1 = (\"orange,[10,20,30],(5,15,25))\n",
    "   Accede al valor 20 e imprime una nueva variable "
   ]
  },
  {
   "cell_type": "code",
   "execution_count": 12,
   "metadata": {},
   "outputs": [
    {
     "name": "stdout",
     "output_type": "stream",
     "text": [
      "20\n"
     ]
    }
   ],
   "source": [
    "# Dada la tupla\n",
    "tuple1 = (\"orange\", [10, 20, 30], (5, 15, 25))\n",
    "\n",
    "# Accedemos al valor 20, que está en la lista en la posición 1 de la tupla,\n",
    "# y en la posición 1 de la lista\n",
    "valor_20 = tuple1[1][1]\n",
    "\n",
    "# Imprimimos el valor\n",
    "print(valor_20)"
   ]
  },
  {
   "cell_type": "markdown",
   "metadata": {},
   "source": [
    "8. Escriba un programa para descomprimir la siguiente tupla en cuatro variables e imprimir cada variable \n",
    "tuple1 = (10, 20, 30, 40) "
   ]
  },
  {
   "cell_type": "code",
   "execution_count": 16,
   "metadata": {},
   "outputs": [
    {
     "name": "stdout",
     "output_type": "stream",
     "text": [
      "Variable a: 10\n",
      "Variable b: 20\n",
      "Variable c: 30\n",
      "Variable d: 40\n"
     ]
    }
   ],
   "source": [
    "# Definimos la tupla\n",
    "tuple1 = (10, 20, 30, 40)\n",
    "\n",
    "# Descomprimimos la tupla en cuatro variables\n",
    "a, b, c, d = tuple1\n",
    "\n",
    "# Imprimimos cada variable\n",
    "print(\"Variable a:\", a)\n",
    "print(\"Variable b:\", b)\n",
    "print(\"Variable c:\", c)\n",
    "print(\"Variable d:\", d)"
   ]
  },
  {
   "cell_type": "code",
   "execution_count": 17,
   "metadata": {},
   "outputs": [
    {
     "name": "stdout",
     "output_type": "stream",
     "text": [
      "Primer elemento: 10\n",
      "Segundo elemento: 20\n",
      "Tercer elemento: 30\n",
      "Cuarto elemento: 40\n"
     ]
    }
   ],
   "source": [
    "# Creamos una tupla con algunos valores\n",
    "mi_tupla = (10, 20, 30, 40)\n",
    "\n",
    "# Accedemos a los elementos de la tupla\n",
    "primer_elemento = mi_tupla[0]\n",
    "segundo_elemento = mi_tupla[1]\n",
    "tercer_elemento = mi_tupla[2]\n",
    "cuarto_elemento = mi_tupla[3]\n",
    "\n",
    "# Imprimimos los valores\n",
    "print(f\"Primer elemento: {primer_elemento}\")\n",
    "print(f\"Segundo elemento: {segundo_elemento}\")\n",
    "print(f\"Tercer elemento: {tercer_elemento}\")\n",
    "print(f\"Cuarto elemento: {cuarto_elemento}\")"
   ]
  },
  {
   "cell_type": "markdown",
   "metadata": {},
   "source": [
    "9.Intercambiar dos tuplas en PYTHON\n",
    "tuple1 = (11, 22)\n",
    "tuple2 = (99, 88)"
   ]
  },
  {
   "cell_type": "code",
   "execution_count": 18,
   "metadata": {},
   "outputs": [
    {
     "name": "stdout",
     "output_type": "stream",
     "text": [
      "tuple1: (99, 88)\n",
      "tuple2: (11, 22)\n"
     ]
    }
   ],
   "source": [
    "\n",
    "# Definimos las tuplas originales\n",
    "tuple1 = (11, 22)\n",
    "tuple2 = (99, 88)\n",
    "\n",
    "# Intercambiamos los valores de las tuplas\n",
    "tuple1, tuple2 = tuple2, tuple1\n",
    "\n",
    "# Imprimimos las tuplas intercambiadas\n",
    "print(\"tuple1:\", tuple1)\n",
    "print(\"tuple2:\", tuple2)"
   ]
  },
  {
   "cell_type": "markdown",
   "metadata": {},
   "source": [
    "10. ¿Cuantas veces aparece el 777  en la siguiente tupla? escribe el codigo\n",
    "tt = (55, 6, 777, 54, 6, 76, 7777, 1, 777, 2, 6)"
   ]
  },
  {
   "cell_type": "code",
   "execution_count": 21,
   "metadata": {},
   "outputs": [
    {
     "data": {
      "text/plain": [
       "2"
      ]
     },
     "execution_count": 21,
     "metadata": {},
     "output_type": "execute_result"
    }
   ],
   "source": [
    "tt = (55, 6, 777, 54, 6, 76, 7777, 1, 777, 2, 6)\n",
    "tt.count(777)"
   ]
  },
  {
   "cell_type": "markdown",
   "metadata": {},
   "source": [
    "11. ¿Cuál es la suma de todos los numero de la siguiente tupla?\n",
    "escribir código\n",
    "tt = (42, 1092,11,88,65, 2, 6) "
   ]
  },
  {
   "cell_type": "code",
   "execution_count": 22,
   "metadata": {},
   "outputs": [
    {
     "name": "stdout",
     "output_type": "stream",
     "text": [
      "La suma de todos los números en la tupla es: 1306\n"
     ]
    }
   ],
   "source": [
    "# Definimos la tupla\n",
    "tt = (42, 1092, 11, 88, 65, 2, 6)\n",
    "\n",
    "# Calculamos la suma de los números\n",
    "suma_total = sum(tt)\n",
    "\n",
    "# Imprimimos el resultado\n",
    "print(f\"La suma de todos los números en la tupla es: {suma_total}\")"
   ]
  },
  {
   "cell_type": "markdown",
   "metadata": {},
   "source": [
    "12. ¿Cuáles son los valores minimos  y maximos de la siguiente tupla ?\n",
    "Escribir código\n",
    "               tt=(42, 1092, 11, 88, 65, 2, 6 )"
   ]
  },
  {
   "cell_type": "code",
   "execution_count": 3,
   "metadata": {},
   "outputs": [
    {
     "name": "stdout",
     "output_type": "stream",
     "text": [
      "El valor máximo es 2 \n",
      "El valor minimo es 1092 \n"
     ]
    }
   ],
   "source": [
    "tt = (42, 1092, 11, 88, 65, 2, 6 )\n",
    "valores_minimos = min(tt)\n",
    "valores_maximos = max(tt)\n",
    "print(f'El valor máximo es {valores_minimos} ')\n",
    "print(f'El valor minimo es {valores_maximos} ')"
   ]
  },
  {
   "cell_type": "markdown",
   "metadata": {},
   "source": []
  },
  {
   "cell_type": "markdown",
   "metadata": {},
   "source": [
    "13. Escriba un programa para aceptar el nombre de cinco frutas por parte del usuario,almacenarlo en una dupla y luego imprimir. "
   ]
  },
  {
   "cell_type": "code",
   "execution_count": 12,
   "metadata": {},
   "outputs": [
    {
     "name": "stdout",
     "output_type": "stream",
     "text": [
      "las frutas son('manzana', 'pera', 'mango', 'piña', 'melon')\n"
     ]
    }
   ],
   "source": [
    "nombres_de_frutas = []             # Inicio con una lista vacía para almacenar el nombre de las frutas\n",
    "\n",
    "# se pide al usuario el nombre de cinco frutas\n",
    "for i in range(5):                \n",
    "    frutas = input(f'Ingrese nobre de la fruta {i+1}: ') # Solicitud al usuario\n",
    "    nombres_de_frutas.append(frutas)    #append: agrega elementos al final de la lista existente\n",
    "        \n",
    "tupla_de_frutas = tuple(nombres_de_frutas)\n",
    "\n",
    "print(f'las frutas son{tupla_de_frutas}')\n"
   ]
  },
  {
   "cell_type": "markdown",
   "metadata": {},
   "source": [
    "14. Considere la siguiente tupla y escriba el código para las siguientes declaraciones:\n",
    "T1 = (12, 3, 45, 'Hockey', 'Anil', (a,b))\n",
    "a. Imprimir el primer elemento de T1\n",
    "b. imprimir el ultimo elemento de T1\n",
    "c. Imprimir T1 en orden inverso\n",
    "d. Imprimir 'Anil' desde la tupla T1\n",
    "e. Imprimir 'b' desde la tupla T1 "
   ]
  },
  {
   "cell_type": "code",
   "execution_count": 31,
   "metadata": {},
   "outputs": [
    {
     "name": "stdout",
     "output_type": "stream",
     "text": [
      "12\n"
     ]
    }
   ],
   "source": [
    "T1 = (12, 3, 45, 'Hockey', 'Anil', ('a','b'))\n",
    "primer_elemento = T1[0]\n",
    "print(primer_elemento)"
   ]
  },
  {
   "cell_type": "code",
   "execution_count": 29,
   "metadata": {},
   "outputs": [
    {
     "name": "stdout",
     "output_type": "stream",
     "text": [
      "('a', 'b')\n"
     ]
    }
   ],
   "source": [
    "T1 = (12, 3, 45, 'Hockey', 'Anil', ('a','b'))\n",
    "ultimo_elemento = T1[-1]\n",
    "print(ultimo_elemento)"
   ]
  },
  {
   "cell_type": "code",
   "execution_count": 16,
   "metadata": {},
   "outputs": [
    {
     "name": "stdout",
     "output_type": "stream",
     "text": [
      "(('a', 'b'), 'Anil', 'Hockey', 45, 3, 12)\n"
     ]
    }
   ],
   "source": [
    "T1 = (12, 3, 45, 'Hockey', 'Anil', ('a','b'))\n",
    "inverso = T1[::-1]\n",
    "print(inverso)"
   ]
  },
  {
   "cell_type": "code",
   "execution_count": 24,
   "metadata": {},
   "outputs": [
    {
     "name": "stdout",
     "output_type": "stream",
     "text": [
      "Anil\n"
     ]
    }
   ],
   "source": [
    "T1 = (12, 3, 45, 'Hockey', 'Anil', ('a','b'))\n",
    "elemento_Anil = T1[4]\n",
    "print(elemento_Anil)"
   ]
  },
  {
   "cell_type": "code",
   "execution_count": 22,
   "metadata": {},
   "outputs": [
    {
     "name": "stdout",
     "output_type": "stream",
     "text": [
      "b\n"
     ]
    }
   ],
   "source": [
    "T1 = (12, 3, 45, 'Hockey', 'Anil', ('a','b'))\n",
    "elemento_b = T1[-1][1]\n",
    "print(elemento_b)"
   ]
  },
  {
   "cell_type": "markdown",
   "metadata": {},
   "source": [
    "15. Escriba un programa que le pida a un usuario una cadena (string), luego convertirlo a una tupla"
   ]
  },
  {
   "cell_type": "code",
   "execution_count": 32,
   "metadata": {},
   "outputs": [
    {
     "name": "stdout",
     "output_type": "stream",
     "text": [
      "La tupla creada a partir de la cadena es: ('a', 'n', 'a')\n"
     ]
    }
   ],
   "source": [
    "# Pedimos al usuario que ingrese una cadena\n",
    "cadena_usuario = input('Por favor, introduce una cadena: ')\n",
    "\n",
    "# Convertimos la cadena en una tupla utilizando la función tuple()\n",
    "tupla_cadena = tuple(cadena_usuario)\n",
    "\n",
    "# Imprimimos la tupla resultante\n",
    "print('La tupla creada a partir de la cadena es:', tupla_cadena)"
   ]
  }
 ],
 "metadata": {
  "kernelspec": {
   "display_name": "Curso_Python",
   "language": "python",
   "name": "python3"
  },
  "language_info": {
   "codemirror_mode": {
    "name": "ipython",
    "version": 3
   },
   "file_extension": ".py",
   "mimetype": "text/x-python",
   "name": "python",
   "nbconvert_exporter": "python",
   "pygments_lexer": "ipython3",
   "version": "3.11.9"
  }
 },
 "nbformat": 4,
 "nbformat_minor": 2
}

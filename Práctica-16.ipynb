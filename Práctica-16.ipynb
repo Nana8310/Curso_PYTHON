{
 "cells": [
  {
   "cell_type": "code",
   "execution_count": null,
   "metadata": {},
   "outputs": [],
   "source": [
    "1 Desarrolle un programa que le pregunte al usuario por la edad y que luego imprima en pantalla si dicho usuario es menor  o mayor de edad."
   ]
  },
  {
   "cell_type": "markdown",
   "metadata": {},
   "source": [
    "2 Escribir un programa que pida al usuario un número entero y que luego imprima en pantalla si dicho número es o no divisible entre 2."
   ]
  },
  {
   "cell_type": "markdown",
   "metadata": {},
   "source": [
    "3 Escriba un programa que pida al usuario dos números enteros y que calcule su división, indicando si la división es exacta o no.\n"
   ]
  },
  {
   "cell_type": "markdown",
   "metadata": {},
   "source": []
  }
 ],
 "metadata": {
  "language_info": {
   "name": "python"
  }
 },
 "nbformat": 4,
 "nbformat_minor": 2
}
